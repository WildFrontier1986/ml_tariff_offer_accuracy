{
 "cells": [
  {
   "cell_type": "markdown",
   "metadata": {
    "toc": true
   },
   "source": [
    "<h1>Содержание<span class=\"tocSkip\"></span></h1>\n",
    "<div class=\"toc\"><ul class=\"toc-item\"><li><span><a href=\"#Подключение-необходимых-библиотек-и-модулей\" data-toc-modified-id=\"Подключение-необходимых-библиотек-и-модулей-1\"><span class=\"toc-item-num\">1&nbsp;&nbsp;</span>Подключение необходимых библиотек и модулей</a></span></li><li><span><a href=\"#Открытие-и-изучение-данных-из-файла\" data-toc-modified-id=\"Открытие-и-изучение-данных-из-файла-2\"><span class=\"toc-item-num\">2&nbsp;&nbsp;</span>Открытие и изучение данных из файла</a></span><ul class=\"toc-item\"><li><span><a href=\"#Создание-и-изучение-датафрейма\" data-toc-modified-id=\"Создание-и-изучение-датафрейма-2.1\"><span class=\"toc-item-num\">2.1&nbsp;&nbsp;</span>Создание и изучение датафрейма</a></span></li><li><span><a href=\"#Вывод\" data-toc-modified-id=\"Вывод-2.2\"><span class=\"toc-item-num\">2.2&nbsp;&nbsp;</span>Вывод</a></span></li></ul></li><li><span><a href=\"#Декомпозиция-данных-из-датафрейма-df-на-выборки\" data-toc-modified-id=\"Декомпозиция-данных-из-датафрейма-df-на-выборки-3\"><span class=\"toc-item-num\">3&nbsp;&nbsp;</span>Декомпозиция данных из датафрейма df на выборки</a></span><ul class=\"toc-item\"><li><span><a href=\"#Формирование-базовых-таблиц-с-признаками-и-целевыми-признаками\" data-toc-modified-id=\"Формирование-базовых-таблиц-с-признаками-и-целевыми-признаками-3.1\"><span class=\"toc-item-num\">3.1&nbsp;&nbsp;</span>Формирование базовых таблиц с признаками и целевыми признаками</a></span></li><li><span><a href=\"#Формирование-обучающей-выборки-(базы-знаний)\" data-toc-modified-id=\"Формирование-обучающей-выборки-(базы-знаний)-3.2\"><span class=\"toc-item-num\">3.2&nbsp;&nbsp;</span>Формирование обучающей выборки (базы знаний)</a></span></li><li><span><a href=\"#Формирование-валидационной-и-тестовой-выборок\" data-toc-modified-id=\"Формирование-валидационной-и-тестовой-выборок-3.3\"><span class=\"toc-item-num\">3.3&nbsp;&nbsp;</span>Формирование валидационной и тестовой выборок</a></span></li><li><span><a href=\"#Вывод\" data-toc-modified-id=\"Вывод-3.4\"><span class=\"toc-item-num\">3.4&nbsp;&nbsp;</span>Вывод</a></span></li></ul></li><li><span><a href=\"#Исследование-моделей\" data-toc-modified-id=\"Исследование-моделей-4\"><span class=\"toc-item-num\">4&nbsp;&nbsp;</span>Исследование моделей</a></span><ul class=\"toc-item\"><li><span><a href=\"#Создание-функции,-формирующей-обученные-модели\" data-toc-modified-id=\"Создание-функции,-формирующей-обученные-модели-4.1\"><span class=\"toc-item-num\">4.1&nbsp;&nbsp;</span>Создание функции, формирующей обученные модели</a></span></li><li><span><a href=\"#Исследование-решающего-дерева---DecisionTreeClassifier\" data-toc-modified-id=\"Исследование-решающего-дерева---DecisionTreeClassifier-4.2\"><span class=\"toc-item-num\">4.2&nbsp;&nbsp;</span>Исследование решающего дерева - DecisionTreeClassifier</a></span></li><li><span><a href=\"#Исследование-случайного-леса---RandomForestClassifier\" data-toc-modified-id=\"Исследование-случайного-леса---RandomForestClassifier-4.3\"><span class=\"toc-item-num\">4.3&nbsp;&nbsp;</span>Исследование случайного леса - RandomForestClassifier</a></span></li><li><span><a href=\"#Исследование-логистической-регрессии---LogisticRegression\" data-toc-modified-id=\"Исследование-логистической-регрессии---LogisticRegression-4.4\"><span class=\"toc-item-num\">4.4&nbsp;&nbsp;</span>Исследование логистической регрессии - LogisticRegression</a></span></li><li><span><a href=\"#Вывод\" data-toc-modified-id=\"Вывод-4.5\"><span class=\"toc-item-num\">4.5&nbsp;&nbsp;</span>Вывод</a></span></li></ul></li><li><span><a href=\"#Проверка-моделей-на-тестовой-выборке\" data-toc-modified-id=\"Проверка-моделей-на-тестовой-выборке-5\"><span class=\"toc-item-num\">5&nbsp;&nbsp;</span>Проверка моделей на тестовой выборке</a></span><ul class=\"toc-item\"><li><span><a href=\"#Проверка-решающего-дерева---DecisionTreeClassifier\" data-toc-modified-id=\"Проверка-решающего-дерева---DecisionTreeClassifier-5.1\"><span class=\"toc-item-num\">5.1&nbsp;&nbsp;</span>Проверка решающего дерева - DecisionTreeClassifier</a></span></li><li><span><a href=\"#Проверка-случайного-леса---RandomForestClassifier\" data-toc-modified-id=\"Проверка-случайного-леса---RandomForestClassifier-5.2\"><span class=\"toc-item-num\">5.2&nbsp;&nbsp;</span>Проверка случайного леса - RandomForestClassifier</a></span></li><li><span><a href=\"#Исследование-логистической-регрессии---LogisticRegression\" data-toc-modified-id=\"Исследование-логистической-регрессии---LogisticRegression-5.3\"><span class=\"toc-item-num\">5.3&nbsp;&nbsp;</span>Исследование логистической регрессии - LogisticRegression</a></span></li><li><span><a href=\"#Вывод\" data-toc-modified-id=\"Вывод-5.4\"><span class=\"toc-item-num\">5.4&nbsp;&nbsp;</span>Вывод</a></span></li></ul></li><li><span><a href=\"#(бонус)-Проверка-модели-на-адекватность\" data-toc-modified-id=\"(бонус)-Проверка-модели-на-адекватность-6\"><span class=\"toc-item-num\">6&nbsp;&nbsp;</span>(бонус) Проверка модели на адекватность</a></span><ul class=\"toc-item\"><li><span><a href=\"#Проверка-модели-model_random_forest\" data-toc-modified-id=\"Проверка-модели-model_random_forest-6.1\"><span class=\"toc-item-num\">6.1&nbsp;&nbsp;</span>Проверка модели model_random_forest</a></span></li><li><span><a href=\"#Создание-и-проверка-модели-DummyClassifier\" data-toc-modified-id=\"Создание-и-проверка-модели-DummyClassifier-6.2\"><span class=\"toc-item-num\">6.2&nbsp;&nbsp;</span>Создание и проверка модели DummyClassifier</a></span></li><li><span><a href=\"#Создание-синтетических-выборок-SMOTENC\" data-toc-modified-id=\"Создание-синтетических-выборок-SMOTENC-6.3\"><span class=\"toc-item-num\">6.3&nbsp;&nbsp;</span>Создание синтетических выборок SMOTENC</a></span></li><li><span><a href=\"#Создание-модели-model_random_forest_sm-и-проверка\" data-toc-modified-id=\"Создание-модели-model_random_forest_sm-и-проверка-6.4\"><span class=\"toc-item-num\">6.4&nbsp;&nbsp;</span>Создание модели model_random_forest_sm и проверка</a></span></li><li><span><a href=\"#Создание-модели-model_dummy_sm-и-проверка\" data-toc-modified-id=\"Создание-модели-model_dummy_sm-и-проверка-6.5\"><span class=\"toc-item-num\">6.5&nbsp;&nbsp;</span>Создание модели model_dummy_sm и проверка</a></span></li><li><span><a href=\"#Анализ-метрик-качества-Precision-и-Recall\" data-toc-modified-id=\"Анализ-метрик-качества-Precision-и-Recall-6.6\"><span class=\"toc-item-num\">6.6&nbsp;&nbsp;</span>Анализ метрик качества Precision и Recall</a></span></li><li><span><a href=\"#Вывод\" data-toc-modified-id=\"Вывод-6.7\"><span class=\"toc-item-num\">6.7&nbsp;&nbsp;</span>Вывод</a></span></li></ul></li><li><span><a href=\"#Общий-вывод\" data-toc-modified-id=\"Общий-вывод-7\"><span class=\"toc-item-num\">7&nbsp;&nbsp;</span>Общий вывод</a></span></li></ul></div>"
   ]
  },
  {
   "cell_type": "markdown",
   "metadata": {},
   "source": [
    "# Построение модели машинного обучения для рекомендации тарифов мобильного оператора \"Мегалайн\""
   ]
  },
  {
   "cell_type": "markdown",
   "metadata": {},
   "source": [
    "**На основании данных о поведении клиентов, которые уже перешли на новые тарифы «Смарт» и «Ультра», нужно построить модель для задачи классификации, которая выберет подходящий тариф.\\\n",
    "\\\n",
    "Необходимо построить модель с максимально большим значением *accuracy*. Довести долю правильных ответов по крайней мере до 0.75. Проверить *accuracy* на тестовой выборке.**"
   ]
  },
  {
   "cell_type": "markdown",
   "metadata": {},
   "source": [
    "## Подключение необходимых библиотек и модулей"
   ]
  },
  {
   "cell_type": "code",
   "execution_count": 226,
   "metadata": {},
   "outputs": [],
   "source": [
    "# 1. Подключение модуля pathlib\n",
    "import pathlib\n",
    "# Подключение класса Path модуля pathlib\n",
    "from pathlib import Path\n",
    "# 2. Подключение модуля warnings\n",
    "import warnings\n",
    "\n",
    "# 3. Подключение библиотеки Pandas\n",
    "import pandas as pd\n",
    "# 4. Подключение библиотеки scikit-learn\n",
    "import sklearn\n",
    "# 5. одключение библиотеки imbalanced-learn\n",
    "import imblearn\n",
    "\n",
    "# 6. Подключение модуля matplotlib.pyplot \n",
    "# библиотеки matplotlib\n",
    "import matplotlib.pyplot as plt\n",
    "# 7. Подключение модуля tree библиотеки sklearn\n",
    "from sklearn import tree\n",
    "# 8. Подключение модели DecisionTreeClassifier из\n",
    "# модуля sklearn.tree\n",
    "from sklearn.tree import DecisionTreeClassifier\n",
    "# 9. Подключение модели RandomForestClassifier из\n",
    "# модуля sklearn.ensemble\n",
    "from sklearn.ensemble import RandomForestClassifier\n",
    "# 10. Подключение модели LogisticRegression из\n",
    "# модуля sklearn.linear_model\n",
    "from sklearn.linear_model import LogisticRegression\n",
    "# 11. Подключение функции train_test_split() из\n",
    "# модуля sklearn.model_selection\n",
    "from sklearn.model_selection import train_test_split\n",
    "# 12. Подключение функции accuracy_score() из\n",
    "# модуля sklearn.metrics\n",
    "from sklearn.metrics import (\n",
    "    accuracy_score,\n",
    "    classification_report,\n",
    "    confusion_matrix,\n",
    "    ConfusionMatrixDisplay\n",
    ")\n",
    "# 13. Подключение модели DummyClassifier из\n",
    "# модуля sklearn.dummy\n",
    "from sklearn.dummy import DummyClassifier\n",
    "# 14. Подключение классов SMOTE и SMOTENC из\n",
    "# модуля imblearn.over_sampling\n",
    "from imblearn.over_sampling import SMOTE, SMOTENC"
   ]
  },
  {
   "cell_type": "code",
   "execution_count": 229,
   "metadata": {},
   "outputs": [],
   "source": [
    "# Снятие ограничения на количество выводимых строк\n",
    "# pd.set_option('display.max_rows', None)"
   ]
  },
  {
   "cell_type": "markdown",
   "metadata": {},
   "source": [
    "## Открытие и изучение данных из файла"
   ]
  },
  {
   "cell_type": "markdown",
   "metadata": {},
   "source": [
    "### Создание и изучение датафрейма"
   ]
  },
  {
   "cell_type": "code",
   "execution_count": 230,
   "metadata": {
    "scrolled": false
   },
   "outputs": [
    {
     "data": {
      "text/html": [
       "<div>\n",
       "<style scoped>\n",
       "    .dataframe tbody tr th:only-of-type {\n",
       "        vertical-align: middle;\n",
       "    }\n",
       "\n",
       "    .dataframe tbody tr th {\n",
       "        vertical-align: top;\n",
       "    }\n",
       "\n",
       "    .dataframe thead th {\n",
       "        text-align: right;\n",
       "    }\n",
       "</style>\n",
       "<table border=\"1\" class=\"dataframe\">\n",
       "  <thead>\n",
       "    <tr style=\"text-align: right;\">\n",
       "      <th></th>\n",
       "      <th>calls</th>\n",
       "      <th>minutes</th>\n",
       "      <th>messages</th>\n",
       "      <th>mb_used</th>\n",
       "      <th>is_ultra</th>\n",
       "    </tr>\n",
       "  </thead>\n",
       "  <tbody>\n",
       "    <tr>\n",
       "      <th>0</th>\n",
       "      <td>40.0</td>\n",
       "      <td>311.90</td>\n",
       "      <td>83.0</td>\n",
       "      <td>19915.42</td>\n",
       "      <td>0</td>\n",
       "    </tr>\n",
       "    <tr>\n",
       "      <th>1</th>\n",
       "      <td>85.0</td>\n",
       "      <td>516.75</td>\n",
       "      <td>56.0</td>\n",
       "      <td>22696.96</td>\n",
       "      <td>0</td>\n",
       "    </tr>\n",
       "    <tr>\n",
       "      <th>2</th>\n",
       "      <td>77.0</td>\n",
       "      <td>467.66</td>\n",
       "      <td>86.0</td>\n",
       "      <td>21060.45</td>\n",
       "      <td>0</td>\n",
       "    </tr>\n",
       "    <tr>\n",
       "      <th>3</th>\n",
       "      <td>106.0</td>\n",
       "      <td>745.53</td>\n",
       "      <td>81.0</td>\n",
       "      <td>8437.39</td>\n",
       "      <td>1</td>\n",
       "    </tr>\n",
       "    <tr>\n",
       "      <th>4</th>\n",
       "      <td>66.0</td>\n",
       "      <td>418.74</td>\n",
       "      <td>1.0</td>\n",
       "      <td>14502.75</td>\n",
       "      <td>0</td>\n",
       "    </tr>\n",
       "    <tr>\n",
       "      <th>...</th>\n",
       "      <td>...</td>\n",
       "      <td>...</td>\n",
       "      <td>...</td>\n",
       "      <td>...</td>\n",
       "      <td>...</td>\n",
       "    </tr>\n",
       "    <tr>\n",
       "      <th>3209</th>\n",
       "      <td>122.0</td>\n",
       "      <td>910.98</td>\n",
       "      <td>20.0</td>\n",
       "      <td>35124.90</td>\n",
       "      <td>1</td>\n",
       "    </tr>\n",
       "    <tr>\n",
       "      <th>3210</th>\n",
       "      <td>25.0</td>\n",
       "      <td>190.36</td>\n",
       "      <td>0.0</td>\n",
       "      <td>3275.61</td>\n",
       "      <td>0</td>\n",
       "    </tr>\n",
       "    <tr>\n",
       "      <th>3211</th>\n",
       "      <td>97.0</td>\n",
       "      <td>634.44</td>\n",
       "      <td>70.0</td>\n",
       "      <td>13974.06</td>\n",
       "      <td>0</td>\n",
       "    </tr>\n",
       "    <tr>\n",
       "      <th>3212</th>\n",
       "      <td>64.0</td>\n",
       "      <td>462.32</td>\n",
       "      <td>90.0</td>\n",
       "      <td>31239.78</td>\n",
       "      <td>0</td>\n",
       "    </tr>\n",
       "    <tr>\n",
       "      <th>3213</th>\n",
       "      <td>80.0</td>\n",
       "      <td>566.09</td>\n",
       "      <td>6.0</td>\n",
       "      <td>29480.52</td>\n",
       "      <td>1</td>\n",
       "    </tr>\n",
       "  </tbody>\n",
       "</table>\n",
       "<p>3214 rows × 5 columns</p>\n",
       "</div>"
      ],
      "text/plain": [
       "      calls  minutes  messages   mb_used  is_ultra\n",
       "0      40.0   311.90      83.0  19915.42         0\n",
       "1      85.0   516.75      56.0  22696.96         0\n",
       "2      77.0   467.66      86.0  21060.45         0\n",
       "3     106.0   745.53      81.0   8437.39         1\n",
       "4      66.0   418.74       1.0  14502.75         0\n",
       "...     ...      ...       ...       ...       ...\n",
       "3209  122.0   910.98      20.0  35124.90         1\n",
       "3210   25.0   190.36       0.0   3275.61         0\n",
       "3211   97.0   634.44      70.0  13974.06         0\n",
       "3212   64.0   462.32      90.0  31239.78         0\n",
       "3213   80.0   566.09       6.0  29480.52         1\n",
       "\n",
       "[3214 rows x 5 columns]"
      ]
     },
     "metadata": {},
     "output_type": "display_data"
    }
   ],
   "source": [
    "# Формирование датафрейма df из датасета users_behavior.csv\n",
    "# с выводом на экран\n",
    "try:\n",
    "    df = pd.read_csv('/datasets/users_behavior.csv')\n",
    "    display(df)\n",
    "except:\n",
    "    df = pd.read_csv(\n",
    "        Path(\n",
    "            pathlib.Path.cwd(),\n",
    "            'datasets',\n",
    "            'users_behavior.csv'\n",
    "        )\n",
    "    )\n",
    "    display(df)"
   ]
  },
  {
   "cell_type": "code",
   "execution_count": 231,
   "metadata": {},
   "outputs": [
    {
     "name": "stdout",
     "output_type": "stream",
     "text": [
      "<class 'pandas.core.frame.DataFrame'>\n",
      "RangeIndex: 3214 entries, 0 to 3213\n",
      "Data columns (total 5 columns):\n",
      " #   Column    Non-Null Count  Dtype  \n",
      "---  ------    --------------  -----  \n",
      " 0   calls     3214 non-null   float64\n",
      " 1   minutes   3214 non-null   float64\n",
      " 2   messages  3214 non-null   float64\n",
      " 3   mb_used   3214 non-null   float64\n",
      " 4   is_ultra  3214 non-null   int64  \n",
      "dtypes: float64(4), int64(1)\n",
      "memory usage: 125.7 KB\n"
     ]
    }
   ],
   "source": [
    "# Вывод общей информации по датафрейму df\n",
    "df.info()"
   ]
  },
  {
   "cell_type": "code",
   "execution_count": 232,
   "metadata": {
    "scrolled": true
   },
   "outputs": [
    {
     "data": {
      "text/html": [
       "<div>\n",
       "<style scoped>\n",
       "    .dataframe tbody tr th:only-of-type {\n",
       "        vertical-align: middle;\n",
       "    }\n",
       "\n",
       "    .dataframe tbody tr th {\n",
       "        vertical-align: top;\n",
       "    }\n",
       "\n",
       "    .dataframe thead th {\n",
       "        text-align: right;\n",
       "    }\n",
       "</style>\n",
       "<table border=\"1\" class=\"dataframe\">\n",
       "  <thead>\n",
       "    <tr style=\"text-align: right;\">\n",
       "      <th></th>\n",
       "      <th>calls</th>\n",
       "      <th>minutes</th>\n",
       "      <th>messages</th>\n",
       "      <th>mb_used</th>\n",
       "      <th>is_ultra</th>\n",
       "    </tr>\n",
       "  </thead>\n",
       "  <tbody>\n",
       "    <tr>\n",
       "      <th>count</th>\n",
       "      <td>3214.000000</td>\n",
       "      <td>3214.000000</td>\n",
       "      <td>3214.000000</td>\n",
       "      <td>3214.000000</td>\n",
       "      <td>3214.000000</td>\n",
       "    </tr>\n",
       "    <tr>\n",
       "      <th>mean</th>\n",
       "      <td>63.038892</td>\n",
       "      <td>438.208787</td>\n",
       "      <td>38.281269</td>\n",
       "      <td>17207.673836</td>\n",
       "      <td>0.306472</td>\n",
       "    </tr>\n",
       "    <tr>\n",
       "      <th>std</th>\n",
       "      <td>33.236368</td>\n",
       "      <td>234.569872</td>\n",
       "      <td>36.148326</td>\n",
       "      <td>7570.968246</td>\n",
       "      <td>0.461100</td>\n",
       "    </tr>\n",
       "    <tr>\n",
       "      <th>min</th>\n",
       "      <td>0.000000</td>\n",
       "      <td>0.000000</td>\n",
       "      <td>0.000000</td>\n",
       "      <td>0.000000</td>\n",
       "      <td>0.000000</td>\n",
       "    </tr>\n",
       "    <tr>\n",
       "      <th>25%</th>\n",
       "      <td>40.000000</td>\n",
       "      <td>274.575000</td>\n",
       "      <td>9.000000</td>\n",
       "      <td>12491.902500</td>\n",
       "      <td>0.000000</td>\n",
       "    </tr>\n",
       "    <tr>\n",
       "      <th>50%</th>\n",
       "      <td>62.000000</td>\n",
       "      <td>430.600000</td>\n",
       "      <td>30.000000</td>\n",
       "      <td>16943.235000</td>\n",
       "      <td>0.000000</td>\n",
       "    </tr>\n",
       "    <tr>\n",
       "      <th>75%</th>\n",
       "      <td>82.000000</td>\n",
       "      <td>571.927500</td>\n",
       "      <td>57.000000</td>\n",
       "      <td>21424.700000</td>\n",
       "      <td>1.000000</td>\n",
       "    </tr>\n",
       "    <tr>\n",
       "      <th>max</th>\n",
       "      <td>244.000000</td>\n",
       "      <td>1632.060000</td>\n",
       "      <td>224.000000</td>\n",
       "      <td>49745.730000</td>\n",
       "      <td>1.000000</td>\n",
       "    </tr>\n",
       "  </tbody>\n",
       "</table>\n",
       "</div>"
      ],
      "text/plain": [
       "             calls      minutes     messages       mb_used     is_ultra\n",
       "count  3214.000000  3214.000000  3214.000000   3214.000000  3214.000000\n",
       "mean     63.038892   438.208787    38.281269  17207.673836     0.306472\n",
       "std      33.236368   234.569872    36.148326   7570.968246     0.461100\n",
       "min       0.000000     0.000000     0.000000      0.000000     0.000000\n",
       "25%      40.000000   274.575000     9.000000  12491.902500     0.000000\n",
       "50%      62.000000   430.600000    30.000000  16943.235000     0.000000\n",
       "75%      82.000000   571.927500    57.000000  21424.700000     1.000000\n",
       "max     244.000000  1632.060000   224.000000  49745.730000     1.000000"
      ]
     },
     "execution_count": 232,
     "metadata": {},
     "output_type": "execute_result"
    }
   ],
   "source": [
    "# Вывод списка характерных значений\n",
    "# в колонках датафрейма df\n",
    "df.describe()"
   ]
  },
  {
   "cell_type": "code",
   "execution_count": 233,
   "metadata": {},
   "outputs": [
    {
     "data": {
      "text/plain": [
       "0"
      ]
     },
     "execution_count": 233,
     "metadata": {},
     "output_type": "execute_result"
    }
   ],
   "source": [
    "# Поиск явных дубликатов\n",
    "df.duplicated().sum()"
   ]
  },
  {
   "cell_type": "markdown",
   "metadata": {},
   "source": [
    "### Вывод"
   ]
  },
  {
   "cell_type": "markdown",
   "metadata": {},
   "source": [
    "<div class=\"alert alert-block alert-warning\">\n",
    "    \n",
    "<span style=\"color:steelblue\"><font size=\"3\" face=\"Courier\"><b>1. Датафрейм содержит 3214 строк и 5 колонок.\\\n",
    "    2. Названия колонок написаны с соблюдением змеиного стиля.\\\n",
    "    3. Пропуски, аномалии и явные дубликаты не обнаружены.\\\n",
    "    4. В колонке 'is_ultra' содержатся два значения 0 (ноль - нет) и 1 (единица - да), показывающие принадлежность пользователя к тарифу 'Ultra'.\\\n",
    "    Так как целевой признак категориальный, а самих признаков два, то решается задача бинарной классификации.</b></span></div>"
   ]
  },
  {
   "cell_type": "markdown",
   "metadata": {},
   "source": [
    "## Декомпозиция данных из датафрейма df на выборки"
   ]
  },
  {
   "cell_type": "markdown",
   "metadata": {},
   "source": [
    "### Формирование базовых таблиц с признаками и целевыми признаками"
   ]
  },
  {
   "cell_type": "code",
   "execution_count": 234,
   "metadata": {},
   "outputs": [],
   "source": [
    "# Формирование общего датафрейма с признаками features\n",
    "features = df.drop('is_ultra', axis=1)"
   ]
  },
  {
   "cell_type": "code",
   "execution_count": 235,
   "metadata": {},
   "outputs": [
    {
     "data": {
      "text/html": [
       "<div>\n",
       "<style scoped>\n",
       "    .dataframe tbody tr th:only-of-type {\n",
       "        vertical-align: middle;\n",
       "    }\n",
       "\n",
       "    .dataframe tbody tr th {\n",
       "        vertical-align: top;\n",
       "    }\n",
       "\n",
       "    .dataframe thead th {\n",
       "        text-align: right;\n",
       "    }\n",
       "</style>\n",
       "<table border=\"1\" class=\"dataframe\">\n",
       "  <thead>\n",
       "    <tr style=\"text-align: right;\">\n",
       "      <th></th>\n",
       "      <th>calls</th>\n",
       "      <th>minutes</th>\n",
       "      <th>messages</th>\n",
       "      <th>mb_used</th>\n",
       "    </tr>\n",
       "  </thead>\n",
       "  <tbody>\n",
       "    <tr>\n",
       "      <th>0</th>\n",
       "      <td>40.0</td>\n",
       "      <td>311.90</td>\n",
       "      <td>83.0</td>\n",
       "      <td>19915.42</td>\n",
       "    </tr>\n",
       "    <tr>\n",
       "      <th>1</th>\n",
       "      <td>85.0</td>\n",
       "      <td>516.75</td>\n",
       "      <td>56.0</td>\n",
       "      <td>22696.96</td>\n",
       "    </tr>\n",
       "    <tr>\n",
       "      <th>2</th>\n",
       "      <td>77.0</td>\n",
       "      <td>467.66</td>\n",
       "      <td>86.0</td>\n",
       "      <td>21060.45</td>\n",
       "    </tr>\n",
       "    <tr>\n",
       "      <th>3</th>\n",
       "      <td>106.0</td>\n",
       "      <td>745.53</td>\n",
       "      <td>81.0</td>\n",
       "      <td>8437.39</td>\n",
       "    </tr>\n",
       "    <tr>\n",
       "      <th>4</th>\n",
       "      <td>66.0</td>\n",
       "      <td>418.74</td>\n",
       "      <td>1.0</td>\n",
       "      <td>14502.75</td>\n",
       "    </tr>\n",
       "  </tbody>\n",
       "</table>\n",
       "</div>"
      ],
      "text/plain": [
       "   calls  minutes  messages   mb_used\n",
       "0   40.0   311.90      83.0  19915.42\n",
       "1   85.0   516.75      56.0  22696.96\n",
       "2   77.0   467.66      86.0  21060.45\n",
       "3  106.0   745.53      81.0   8437.39\n",
       "4   66.0   418.74       1.0  14502.75"
      ]
     },
     "execution_count": 235,
     "metadata": {},
     "output_type": "execute_result"
    }
   ],
   "source": [
    "# Вывод первых пяти строк features\n",
    "features.head()"
   ]
  },
  {
   "cell_type": "code",
   "execution_count": 236,
   "metadata": {},
   "outputs": [],
   "source": [
    "# Формирование Series с целевыми признаками target\n",
    "target = df['is_ultra'].astype('float64')"
   ]
  },
  {
   "cell_type": "code",
   "execution_count": 237,
   "metadata": {},
   "outputs": [
    {
     "data": {
      "text/plain": [
       "0    0.0\n",
       "1    0.0\n",
       "2    0.0\n",
       "3    1.0\n",
       "4    0.0\n",
       "Name: is_ultra, dtype: float64"
      ]
     },
     "execution_count": 237,
     "metadata": {},
     "output_type": "execute_result"
    }
   ],
   "source": [
    "# Вывод первых пяти строк target\n",
    "target.head()"
   ]
  },
  {
   "cell_type": "markdown",
   "metadata": {},
   "source": [
    "<div class=\"alert alert-block alert-warning\"><span style=\"color:green\"><font size=\"3\" face=\"Arial\"><b>Промежуточные выводы 3.1:<b/></span>\n",
    "    \n",
    "<span style=\"color:steelblue\"><font size=\"3\" face=\"Courier\"><b>Декомпозиция выполнена успешно.\\\n",
    "    Можно формировать обучающую, валидационную и тестовую выборки.</b></span></div>"
   ]
  },
  {
   "cell_type": "markdown",
   "metadata": {},
   "source": [
    "### Формирование обучающей выборки (базы знаний)"
   ]
  },
  {
   "cell_type": "markdown",
   "metadata": {},
   "source": [
    "**Так как функция `train_test_split()` разбивает исходный датафрейм на две выборки, а для заверщающего контроля нужна тестовая выборка, то разбиваю базы данных `features` и `target` с запасом 40% под валидационную и тестовую выборки в пропорции 60%-40%.**"
   ]
  },
  {
   "cell_type": "code",
   "execution_count": 238,
   "metadata": {},
   "outputs": [],
   "source": [
    "# Формирование обучающей выборки признаков/вопросов features_train\n",
    "# и выборки целевых признаков/ответов target_train\n",
    "features_train, features_add, target_train, target_add = train_test_split(\n",
    "    features,\n",
    "    target,\n",
    "    test_size=.4,\n",
    "    random_state=777\n",
    ")"
   ]
  },
  {
   "cell_type": "code",
   "execution_count": 239,
   "metadata": {},
   "outputs": [
    {
     "data": {
      "text/html": [
       "<div>\n",
       "<style scoped>\n",
       "    .dataframe tbody tr th:only-of-type {\n",
       "        vertical-align: middle;\n",
       "    }\n",
       "\n",
       "    .dataframe tbody tr th {\n",
       "        vertical-align: top;\n",
       "    }\n",
       "\n",
       "    .dataframe thead th {\n",
       "        text-align: right;\n",
       "    }\n",
       "</style>\n",
       "<table border=\"1\" class=\"dataframe\">\n",
       "  <thead>\n",
       "    <tr style=\"text-align: right;\">\n",
       "      <th></th>\n",
       "      <th>calls</th>\n",
       "      <th>minutes</th>\n",
       "      <th>messages</th>\n",
       "      <th>mb_used</th>\n",
       "    </tr>\n",
       "  </thead>\n",
       "  <tbody>\n",
       "    <tr>\n",
       "      <th>506</th>\n",
       "      <td>46.0</td>\n",
       "      <td>338.60</td>\n",
       "      <td>35.0</td>\n",
       "      <td>11428.54</td>\n",
       "    </tr>\n",
       "    <tr>\n",
       "      <th>1660</th>\n",
       "      <td>61.0</td>\n",
       "      <td>420.18</td>\n",
       "      <td>40.0</td>\n",
       "      <td>17969.47</td>\n",
       "    </tr>\n",
       "    <tr>\n",
       "      <th>1090</th>\n",
       "      <td>105.0</td>\n",
       "      <td>710.88</td>\n",
       "      <td>0.0</td>\n",
       "      <td>21114.47</td>\n",
       "    </tr>\n",
       "    <tr>\n",
       "      <th>1666</th>\n",
       "      <td>81.0</td>\n",
       "      <td>435.42</td>\n",
       "      <td>7.0</td>\n",
       "      <td>18305.77</td>\n",
       "    </tr>\n",
       "    <tr>\n",
       "      <th>1770</th>\n",
       "      <td>122.0</td>\n",
       "      <td>818.13</td>\n",
       "      <td>67.0</td>\n",
       "      <td>19921.11</td>\n",
       "    </tr>\n",
       "  </tbody>\n",
       "</table>\n",
       "</div>"
      ],
      "text/plain": [
       "      calls  minutes  messages   mb_used\n",
       "506    46.0   338.60      35.0  11428.54\n",
       "1660   61.0   420.18      40.0  17969.47\n",
       "1090  105.0   710.88       0.0  21114.47\n",
       "1666   81.0   435.42       7.0  18305.77\n",
       "1770  122.0   818.13      67.0  19921.11"
      ]
     },
     "execution_count": 239,
     "metadata": {},
     "output_type": "execute_result"
    }
   ],
   "source": [
    "# Вывод первых пяти строк features_train\n",
    "features_train.head()"
   ]
  },
  {
   "cell_type": "code",
   "execution_count": 240,
   "metadata": {
    "scrolled": true
   },
   "outputs": [
    {
     "data": {
      "text/plain": [
       "506     0.0\n",
       "1660    0.0\n",
       "1090    1.0\n",
       "1666    0.0\n",
       "1770    0.0\n",
       "Name: is_ultra, dtype: float64"
      ]
     },
     "execution_count": 240,
     "metadata": {},
     "output_type": "execute_result"
    }
   ],
   "source": [
    "# Вывод первых пяти строк target_train\n",
    "target_train.head()"
   ]
  },
  {
   "cell_type": "markdown",
   "metadata": {},
   "source": [
    "<div class=\"alert alert-block alert-warning\"><span style=\"color:green\"><font size=\"3\" face=\"Arial\"><b>Промежуточные выводы 3.2:<b/></span>\n",
    "    \n",
    "<span style=\"color:steelblue\"><font size=\"3\" face=\"Courier\"><b>Обучающие выборки сформированы.</b></span></div>"
   ]
  },
  {
   "cell_type": "markdown",
   "metadata": {},
   "source": [
    "### Формирование валидационной и тестовой выборок"
   ]
  },
  {
   "cell_type": "code",
   "execution_count": 241,
   "metadata": {},
   "outputs": [],
   "source": [
    "# Формирование валидационной и тестовой выборок\n",
    "# признаков/вопросов features_valid и features_test\n",
    "# и валидационной и тестовой выборок целевых\n",
    "# признаков/ответов target_valid и target_test\n",
    "features_valid, features_test, target_valid, target_test = train_test_split(\n",
    "    features_add, \n",
    "    target_add, \n",
    "    test_size=.5, \n",
    "    random_state=777\n",
    ")"
   ]
  },
  {
   "cell_type": "code",
   "execution_count": 242,
   "metadata": {},
   "outputs": [
    {
     "data": {
      "text/html": [
       "<div>\n",
       "<style scoped>\n",
       "    .dataframe tbody tr th:only-of-type {\n",
       "        vertical-align: middle;\n",
       "    }\n",
       "\n",
       "    .dataframe tbody tr th {\n",
       "        vertical-align: top;\n",
       "    }\n",
       "\n",
       "    .dataframe thead th {\n",
       "        text-align: right;\n",
       "    }\n",
       "</style>\n",
       "<table border=\"1\" class=\"dataframe\">\n",
       "  <thead>\n",
       "    <tr style=\"text-align: right;\">\n",
       "      <th></th>\n",
       "      <th>calls</th>\n",
       "      <th>minutes</th>\n",
       "      <th>messages</th>\n",
       "      <th>mb_used</th>\n",
       "    </tr>\n",
       "  </thead>\n",
       "  <tbody>\n",
       "    <tr>\n",
       "      <th>1237</th>\n",
       "      <td>62.0</td>\n",
       "      <td>437.35</td>\n",
       "      <td>15.0</td>\n",
       "      <td>14804.65</td>\n",
       "    </tr>\n",
       "    <tr>\n",
       "      <th>3086</th>\n",
       "      <td>57.0</td>\n",
       "      <td>341.45</td>\n",
       "      <td>73.0</td>\n",
       "      <td>14702.49</td>\n",
       "    </tr>\n",
       "    <tr>\n",
       "      <th>958</th>\n",
       "      <td>2.0</td>\n",
       "      <td>16.29</td>\n",
       "      <td>2.0</td>\n",
       "      <td>1160.41</td>\n",
       "    </tr>\n",
       "    <tr>\n",
       "      <th>932</th>\n",
       "      <td>47.0</td>\n",
       "      <td>411.65</td>\n",
       "      <td>145.0</td>\n",
       "      <td>18603.32</td>\n",
       "    </tr>\n",
       "    <tr>\n",
       "      <th>261</th>\n",
       "      <td>58.0</td>\n",
       "      <td>414.18</td>\n",
       "      <td>27.0</td>\n",
       "      <td>23854.76</td>\n",
       "    </tr>\n",
       "  </tbody>\n",
       "</table>\n",
       "</div>"
      ],
      "text/plain": [
       "      calls  minutes  messages   mb_used\n",
       "1237   62.0   437.35      15.0  14804.65\n",
       "3086   57.0   341.45      73.0  14702.49\n",
       "958     2.0    16.29       2.0   1160.41\n",
       "932    47.0   411.65     145.0  18603.32\n",
       "261    58.0   414.18      27.0  23854.76"
      ]
     },
     "execution_count": 242,
     "metadata": {},
     "output_type": "execute_result"
    }
   ],
   "source": [
    "# Вывод первых пяти строк features_valid\n",
    "features_valid.head()"
   ]
  },
  {
   "cell_type": "code",
   "execution_count": 243,
   "metadata": {},
   "outputs": [
    {
     "data": {
      "text/plain": [
       "1237    0.0\n",
       "3086    1.0\n",
       "958     0.0\n",
       "932     1.0\n",
       "261     0.0\n",
       "Name: is_ultra, dtype: float64"
      ]
     },
     "execution_count": 243,
     "metadata": {},
     "output_type": "execute_result"
    }
   ],
   "source": [
    "# Вывод первых пяти строк target_valid\n",
    "target_valid.head()"
   ]
  },
  {
   "cell_type": "markdown",
   "metadata": {},
   "source": [
    "<div class=\"alert alert-block alert-warning\"><span style=\"color:green\"><font size=\"3\" face=\"Arial\"><b>Промежуточные выводы 3.3:<b/></span>\n",
    "    \n",
    "<span style=\"color:steelblue\"><font size=\"3\" face=\"Courier\"><b>Валидационная и тестовая выборки сформированы.</b></span></div>"
   ]
  },
  {
   "cell_type": "markdown",
   "metadata": {},
   "source": [
    "### Вывод"
   ]
  },
  {
   "cell_type": "markdown",
   "metadata": {},
   "source": [
    "<div class=\"alert alert-block alert-warning\">\n",
    "    \n",
    "<span style=\"color:steelblue\"><font size=\"3\" face=\"Courier\"><b>После декомпозиции исходного датафрейма и формирования базовых таблиц успешно сформированы обучающая, валидационная и тестовая выборки.\\\n",
    "    Можно приступать к исследованию моделей машинного обучения.</b></span></div>"
   ]
  },
  {
   "cell_type": "markdown",
   "metadata": {},
   "source": [
    "## Исследование моделей"
   ]
  },
  {
   "cell_type": "markdown",
   "metadata": {},
   "source": [
    "### Создание функции, формирующей обученные модели"
   ]
  },
  {
   "cell_type": "code",
   "execution_count": 244,
   "metadata": {},
   "outputs": [],
   "source": [
    "# Создание функции model_selection(), обучающей модели\n",
    "# для задач классификации с перебором параметров и\n",
    "# лучшим значением правильности (accuracy)\n",
    "# 1. Объявление функции model_selection() и задание\n",
    "# параметров данной функции\n",
    "def model_selection(\n",
    "    model_name,\n",
    "    features_train_income,\n",
    "    target_train_income,\n",
    "    features_valid_income,\n",
    "    target_valid_income,\n",
    "    depth_treshold=None,\n",
    "    estimators_treshold=None,\n",
    "    estimators_step=None,\n",
    "    iter_start=None,\n",
    "    iter_treshold=None,\n",
    "    solver_used='lbfgs',\n",
    "    best_accuracy=.75\n",
    "):  \n",
    "    # A.2.1. Логическое условие для отбора и обучения\n",
    "    # модели решающего дерева\n",
    "    if model_name == DecisionTreeClassifier:\n",
    "        # A.2.2 Создание переменной, содержащей список списков для\n",
    "        # заполнения значениями максимальной глубины дерева,\n",
    "        # минимального количества выборок в листьях, метрик\n",
    "        # качества из списка в переменной data_value_disposable\n",
    "        data_value_full = []\n",
    "        # A.2.3. Создание переменной со списком названий колонок\n",
    "        columns_name = ['depth_value', 'leaf_value', 'accuracy_train', 'accuracy_valid']\n",
    "        # A.2.4. Создание переменной с дублирующим\n",
    "        # значением порога правильности (accuracy)\n",
    "        best_accuracy_train = best_accuracy\n",
    "        # A.3.1. Цикл перебора значений максимальной глубины дерева\n",
    "        for depth in range(1, depth_treshold):\n",
    "            # A.3.2. Цикл перебора значений минимального\n",
    "            # количества выборок в листьях\n",
    "            for leaf in range(1, depth_treshold):\n",
    "                # A.3.3. Создание объекта структуры данных\n",
    "                model = model_name(\n",
    "                    max_depth=depth,\n",
    "                    min_samples_leaf=leaf,\n",
    "                    random_state=777\n",
    "                )\n",
    "                # A.3.4. Запуск обучения модели на обучающей выборке\n",
    "                model.fit(features_train_income, target_train_income)\n",
    "                # A.3.5. Создание переменной с предсказаниями\n",
    "                # по обучающей выборке признаков\n",
    "                predictions_train = model.predict(features_train_income)\n",
    "                # A.3.6. Создание переменной со значением правильности (accuracy)\n",
    "                # обученной модели на обучающих целевых признаках\n",
    "                accuracy_train = accuracy_score(target_train_income, predictions_train)\n",
    "                # A.3.7. Создание переменной с предсказаниями\n",
    "                # по валидационной выборке признаков\n",
    "                predictions_valid = model.predict(features_valid_income)\n",
    "                # A.3.8. Создание переменной со значением правильности (accuracy)\n",
    "                # обученной модели на валидационных целевых признаках\n",
    "                accuracy_valid = accuracy_score(target_valid_income, predictions_valid)\n",
    "                # A.3.9. Создание переменной, содержащей список для\n",
    "                # заполнения значениями максимальной глубины дерева,\n",
    "                # минимального количества выборок в листьях, метрик\n",
    "                # качества\n",
    "                data_value_disposable = []\n",
    "                # A.3.10. Заполнение списка в переменной data_value_disposable\n",
    "                data_value_disposable.append(depth)\n",
    "                data_value_disposable.append(leaf)\n",
    "                data_value_disposable.append(accuracy_train)\n",
    "                data_value_disposable.append(accuracy_valid)\n",
    "                # A.3.11. Заполнение списка в переменной data_value\n",
    "                data_value_full.append(data_value_disposable)\n",
    "                # A.4.1. Логическое условие сохранения параметров модели\n",
    "                # с лучшим значением правильности (accuracy) на обучающей\n",
    "                # выборке\n",
    "                if accuracy_train > best_accuracy_train:\n",
    "                    # A.4.2. Сохранение лучшего значения правильности (accuracy)\n",
    "                    best_accuracy_train = accuracy_train\n",
    "                    # A.4.3. Сохранение лучшего значения глубины дерева\n",
    "                    best_depth_train = depth\n",
    "                    # A.4.4. Сохранение лучшего значения минимального\n",
    "                    # количества выборок в листьях\n",
    "                    best_leaf_train = leaf\n",
    "                # A.5.1. Логическое условие сохранения параметров модели\n",
    "                # с лучшим значением правильности (accuracy) на валидационной\n",
    "                # выборке\n",
    "                if accuracy_valid > best_accuracy:\n",
    "                    # A.5.2. Сохранение лучшего значения правильности (accuracy)\n",
    "                    # на валидационной выборке\n",
    "                    best_accuracy = accuracy_valid\n",
    "                    # A.5.3. Сохранение текущего значения правильности (accuracy)\n",
    "                    # на обучающей выборке\n",
    "                    accuracy_train_current = accuracy_train\n",
    "                    # A.5.4. Сохранение лучшего значения глубины дерева\n",
    "                    best_depth_valid = depth\n",
    "                    # A.5.5. Сохранение лучшего значения минимального\n",
    "                    # количества выборок в листьях\n",
    "                    best_leaf_valid = leaf\n",
    "                    # A.5.6. Сохранение лучшей обученной модели\n",
    "                    best_model = model\n",
    "        # A.6. Формирование датафрейма с комбинациями максимальной глубины\n",
    "        # дерева и минимального количества выборок в листьях, полученными\n",
    "        # значениями правильности (accuracy)\n",
    "        new_data = pd.DataFrame(data=data_value_full, columns=columns_name)\n",
    "        # A.7.1. Вывод на экран лучшего значения правильности\n",
    "        # и значений параметров обучения модели\n",
    "        print()\n",
    "        print(\n",
    "            'Лучшее значение правильности (accuracy) на обучающей выборке: ', best_accuracy_train, ' при значениях параметров:', '\\n',\n",
    "            '- максимальная глубина дерева: ', best_depth_train, '\\n',\n",
    "            '- минимальное количество выборок в листе: ', best_leaf_train,\n",
    "            sep=''\n",
    "        )\n",
    "        print('--------------------------------------------------------------------------------------------------------------')\n",
    "        # A.7.2. Вывод на экран лучшего значения правильности\n",
    "        # и значений параметров обученной модели\n",
    "        print(\n",
    "            'Лучшее значение правильности (accuracy) на валидационной выборке: ', best_accuracy, ' при значениях параметров:', '\\n',\n",
    "            '- максимальная глубина дерева: ', best_depth_valid, '\\n',\n",
    "            '- минимальное количество выборок в листе: ', best_leaf_valid, '\\n',\n",
    "            '- правильность (accuracy) на обучающей выборке: ', accuracy_train_current,\n",
    "            sep=''\n",
    "        )\n",
    "        print()\n",
    "        # A.8. Вывод сформированного датафрейма new_data на экран\n",
    "        display(new_data)\n",
    "        print()\n",
    "        # A.9. Вывод модели решающего дерева на экран\n",
    "        plt.figure(figsize=(30, 30))\n",
    "        tree.plot_tree(best_model)\n",
    "        plt.show()\n",
    "        # A.10. Возвращение функции\n",
    "        return best_model\n",
    "# --------------------------------------------------------------------------------------------------------\n",
    "    # B.2.1. Логическое условие для отбора и обучения\n",
    "    # модели случайного леса\n",
    "    if model_name == RandomForestClassifier:\n",
    "        # B.2.2 Создание переменной, содержащей список списков для\n",
    "        # заполнения значениями количества деревьев в лесу, \n",
    "        # максимальной глубины дерева, минимального количества\n",
    "        # выборок в листьях, метрик качества из списка в\n",
    "        # переменной data_value_disposable\n",
    "        data_value_full = []\n",
    "        # B.2.3. Создание переменной со списком названий колонок\n",
    "        columns_name = ['number_tree', 'depth_value', 'leaf_value', 'accuracy_train', 'accuracy_valid']\n",
    "        # B.2.4. Создание переменной с дублирующим\n",
    "        # значением порога правильности (accuracy)\n",
    "        best_accuracy_train = best_accuracy\n",
    "        # B.3.1. Цикл перебора значений максимальной глубины дерева\n",
    "        for estim in range(1, estimators_treshold, estimators_step):\n",
    "            # B.3.2. Цикл перебора значений максимальной глубины дерева\n",
    "            for depth in range(1, depth_treshold):\n",
    "                # B.3.3. Цикл перебора значений минимального\n",
    "                # количества выборок в листьях\n",
    "                for leaf in range(1, depth_treshold):\n",
    "                    # B.3.4. Создание объекта структуры данных\n",
    "                    model = model_name(\n",
    "                        n_estimators=estim,\n",
    "                        max_depth=depth,\n",
    "                        min_samples_leaf=leaf,\n",
    "                        random_state=777\n",
    "                    )\n",
    "                    # B.3.5. Запуск обучения модели на обучающей выборке\n",
    "                    model.fit(features_train_income, target_train_income)\n",
    "                    # B.3.6. Создание переменной с предсказаниями\n",
    "                    # по обучающей выборке признаков\n",
    "                    predictions_train = model.predict(features_train_income)\n",
    "                    # B.3.7. Создание переменной со значением правильности (accuracy)\n",
    "                    # обученной модели на обучающих целевых признаках\n",
    "                    accuracy_train = accuracy_score(target_train_income, predictions_train)\n",
    "                    # B.3.8. Создание переменной с предсказаниями\n",
    "                    # по валидационной выборке признаков\n",
    "                    predictions_valid = model.predict(features_valid_income)\n",
    "                    # B.3.9. Создание переменной со значением правильности (accuracy)\n",
    "                    # обученной модели на валидационных целевых признаках\n",
    "                    accuracy_valid = accuracy_score(target_valid_income, predictions_valid)\n",
    "                    # B.3.10. Создание переменной, содержащей список для\n",
    "                    # заполнения значениями количества деревьев в лесу,\n",
    "                    # максимальной глубины дерева, минимального количества\n",
    "                    # выборок в листьях, метрик качества\n",
    "                    data_value_disposable = []\n",
    "                    # B.3.11. Заполнение списка в переменной data_value_disposable\n",
    "                    data_value_disposable.append(estim)\n",
    "                    data_value_disposable.append(depth)\n",
    "                    data_value_disposable.append(leaf)\n",
    "                    data_value_disposable.append(accuracy_train)\n",
    "                    data_value_disposable.append(accuracy_valid)\n",
    "                    # B.3.12. Заполнение списка в переменной data_value\n",
    "                    data_value_full.append(data_value_disposable)\n",
    "                    # B.4.1. Логическое условие сохранения параметров модели\n",
    "                    # с лучшим значением правильности (accuracy) на обучающей\n",
    "                    # выборке\n",
    "                    if accuracy_train > best_accuracy_train:\n",
    "                        # B.4.2. Сохранение лучшего значения правильности (accuracy)\n",
    "                        best_accuracy_train = accuracy_train\n",
    "                        # B.4.3. Сохранение лучшего значения количества деревьев\n",
    "                        best_estim_train = estim\n",
    "                        # B.4.4. Сохранение лучшего значения глубины дерева\n",
    "                        best_depth_train = depth\n",
    "                        # B.4.5. Сохранение лучшего значения минимального\n",
    "                        # количества выборок в листьях\n",
    "                        best_leaf_train = leaf\n",
    "                    # B.5.1. Логическое условие сохранения параметров модели\n",
    "                    # с лучшим значением правильности (accuracy) на валидационной\n",
    "                    # выборке\n",
    "                    if accuracy_valid > best_accuracy:\n",
    "                        # B.5.2. Сохранение лучшего значения правильности (accuracy)\n",
    "                        best_accuracy = accuracy_valid\n",
    "                        # B.5.3. Сохранение текущего значения правильности (accuracy)\n",
    "                        # на обучающей выборке\n",
    "                        accuracy_train_current = accuracy_train\n",
    "                        # B.5.4. Сохранение лучшего значения количества деревьев\n",
    "                        best_estim_valid = estim\n",
    "                        # B.5.5. Сохранение лучшего значения глубины дерева\n",
    "                        best_depth_valid = depth\n",
    "                        # B.5.6. Сохранение лучшего значения минимального\n",
    "                        # количества выборок в листьях\n",
    "                        best_leaf_valid = leaf\n",
    "                        # B.5.7. Сохранение лучшей обученной модели\n",
    "                        best_model = model\n",
    "        # B.6. Формирование датафрейма с комбинациями количества деревьев в лесу,\n",
    "        # максимальной глубины дерева и минимального количества выборок в листьях,\n",
    "        # полученными значениями правильности (accuracy)\n",
    "        new_data = pd.DataFrame(data=data_value_full, columns=columns_name)\n",
    "        # B.7.1. Вывод на экран лучшего значения правильности\n",
    "        # и значений параметров обучения модели\n",
    "        print()\n",
    "        print(\n",
    "            'Лучшее значение правильности (accuracy) на обучающей выборке: ', best_accuracy_train, ' при значениях параметров:', '\\n',\n",
    "            '- количество деревьев в лесу: ', best_estim_train, '\\n',\n",
    "            '- максимальная глубина дерева: ', best_depth_train, '\\n',\n",
    "            '- минимальное количество выборок в листе: ', best_leaf_train,\n",
    "            sep=''\n",
    "        )\n",
    "        print('--------------------------------------------------------------------------------------------------------------')\n",
    "        # B.7.2. Вывод на экран лучшего значения правильности\n",
    "        # и значений параметров обученной модели\n",
    "        print(\n",
    "            'Лучшее значение правильности (accuracy) на валидационной выборке: ', best_accuracy, ' при значениях параметров:', '\\n',\n",
    "            '- количество деревьев в лесу: ', best_estim_valid, '\\n',\n",
    "            '- максимальная глубина дерева: ', best_depth_valid, '\\n',\n",
    "            '- минимальное количество выборок в листе: ', best_leaf_valid, '\\n',\n",
    "            '- правильность (accuracy) на обучающей выборке: ', accuracy_train_current,\n",
    "            sep=''\n",
    "        )\n",
    "        print()\n",
    "        # B.8. Вывод сформированного датафрейма new_data на экран\n",
    "        display(new_data)\n",
    "        print()\n",
    "        # B.9. Возвращение функции\n",
    "        return best_model\n",
    "# --------------------------------------------------------------------------------------------------------\n",
    "    # C.2.1. Логическое условие для отбора и обучения\n",
    "    # модели логистической ргрессии\n",
    "    if model_name == LogisticRegression:\n",
    "        # С.2.2 Создание переменной, содержащей список списков для\n",
    "        # заполнения значениями максимального количества итераций,\n",
    "        # метрик качества из списка в переменной data_value_disposable\n",
    "        data_value_full = []\n",
    "        # С.2.3. Создание переменной со списком названий колонок\n",
    "        columns_name = ['iter_value', 'accuracy_train', 'accuracy_valid']\n",
    "        # B.2.4. Создание переменной с резервным\n",
    "        # значением порога правильности (accuracy)\n",
    "        accuracy_valid_spare = .6\n",
    "        # С.3.1. Цикл перебора значений количества итераций\n",
    "        for num_iter in range(iter_start, iter_treshold):\n",
    "            # C.3.3. Создание объекта структуры данных\n",
    "            model = model_name(\n",
    "                solver=solver_used,\n",
    "                max_iter=num_iter,\n",
    "                random_state=777\n",
    "            )\n",
    "            # C.3.4. Запуск обучения модели на обучающей выборке\n",
    "            model.fit(features_train_income, target_train_income)\n",
    "            # C.3.5. Создание переменной с предсказаниями\n",
    "            # по обучающей выборке признаков\n",
    "            predictions_train = model.predict(features_train_income)\n",
    "            # C.3.6. Создание переменной со значением правильности (accuracy)\n",
    "            # обученной модели на обучающих целевых признаках\n",
    "            accuracy_train = accuracy_score(target_train_income, predictions_train)\n",
    "            # C.3.7. Создание переменной с предсказаниями\n",
    "            # по валидационной выборке признаков\n",
    "            predictions_valid = model.predict(features_valid_income)\n",
    "            # C.3.8. Создание переменной со значением правильности (accuracy)\n",
    "            # обученной модели на валидационных целевых признаках\n",
    "            accuracy_valid = accuracy_score(target_valid_income, predictions_valid)\n",
    "            # C.3.9. Создание переменной, содержащей список для\n",
    "            # заполнения значениями количества итераций и\n",
    "            # метрик качества\n",
    "            data_value_disposable = []\n",
    "            # C.3.10. Заполнение списка в переменной data_value_disposable\n",
    "            data_value_disposable.append(num_iter)\n",
    "            data_value_disposable.append(accuracy_train)\n",
    "            data_value_disposable.append(accuracy_valid)\n",
    "            # C.3.11. Заполнение списка в переменной data_value\n",
    "            data_value_full.append(data_value_disposable)\n",
    "            # C.4.1. Логическое условие сохранения параметров модели\n",
    "            # с лучшим значением правильности (accuracy) на валидационной\n",
    "            # выборке\n",
    "            if accuracy_valid > best_accuracy:\n",
    "                # C.4.2. Сохранение лучшего значения правильности (accuracy)\n",
    "                best_accuracy = accuracy_valid\n",
    "                # C.4.3. Сохранение текущего значения правильности (accuracy)\n",
    "                # на обучающей выборке\n",
    "                accuracy_train_current = accuracy_train\n",
    "                # C.4.5. Сохранение лучшего значения количества итераций\n",
    "                best_iter_valid = num_iter\n",
    "                # C.4.6. Сохранение лучшей обученной модели\n",
    "                best_model = model\n",
    "            elif accuracy_valid > accuracy_valid_spare:\n",
    "                # C.4.7. Сохранение лучшего значения правильности (accuracy)\n",
    "                accuracy_valid_spare = accuracy_valid\n",
    "                # C.4.8. Сохранение текущего значения правильности (accuracy)\n",
    "                # на обучающей выборке\n",
    "                accuracy_train_current = accuracy_train\n",
    "                # C.4.9. Сохранение лучшего значения количества итераций\n",
    "                best_iter_valid = num_iter\n",
    "                # C.4.10. Сохранение лучшей обученной модели\n",
    "                best_model = model\n",
    "        # C.5.1. Формирование датафрейма с комбинациями количества итераций\n",
    "        # и полученными значениями правильности (accuracy)\n",
    "        new_data = pd.DataFrame(data=data_value_full, columns=columns_name)\n",
    "        # C.5.2. Формирование датафрейма с количеством итераций для лучшего\n",
    "        # значения правильности (accuracy) на обучающей выборке\n",
    "        best_train = new_data.loc[\n",
    "            new_data['accuracy_train'] == new_data['accuracy_train'].max()\n",
    "        ].reset_index(drop=True)\n",
    "        # C.5.3. Формирование датафрейма с количеством итераций для лучшего\n",
    "        # значения правильности (accuracy) на валидационной выборке\n",
    "        best_valid = new_data.loc[\n",
    "            new_data['accuracy_valid'] == new_data['accuracy_valid'].max()\n",
    "        ].reset_index(drop=True)\n",
    "        # С.6.1. Вывод на экран лучшего значения правильности\n",
    "        # и значений параметров обучения модели\n",
    "        print()\n",
    "        print(\n",
    "            'Лучшее значение правильности (accuracy) на обучающей выборке: ', best_train['accuracy_train'][0], ' при значениях параметров:', '\\n',\n",
    "            '- максимальное количество итераций: ', best_train['iter_value'][0],\n",
    "            sep=''\n",
    "        )\n",
    "        print('--------------------------------------------------------------------------------------------------------------')               \n",
    "        # C.6.2. Вывод на экран лучшего значения правильности\n",
    "        # и значений параметров обученной модели\n",
    "        print(\n",
    "            'Лучшее значение правильности (accuracy) на валидационной выборке: ', best_valid['accuracy_valid'][0], ' при значениях параметров:', '\\n',\n",
    "            '- максимальное количество итераций: ', best_valid['iter_value'][0], '\\n',\n",
    "            '- правильность (accuracy) на обучающей выборке: ', best_valid['accuracy_train'][0],\n",
    "            sep=''\n",
    "        )\n",
    "        print()\n",
    "        # C.7. Вывод сформированного датафрейма new_data на экран\n",
    "        display(new_data)\n",
    "        print()\n",
    "        # C.8. Возвращение функции\n",
    "        return best_model"
   ]
  },
  {
   "cell_type": "markdown",
   "metadata": {},
   "source": [
    "### Исследование решающего дерева - DecisionTreeClassifier"
   ]
  },
  {
   "cell_type": "code",
   "execution_count": 245,
   "metadata": {
    "scrolled": false
   },
   "outputs": [
    {
     "name": "stdout",
     "output_type": "stream",
     "text": [
      "\n",
      "Лучшее значение правильности (accuracy) на обучающей выборке: 1.0 при значениях параметров:\n",
      "- максимальная глубина дерева: 25\n",
      "- минимальное количество выборок в листе: 1\n",
      "--------------------------------------------------------------------------------------------------------------\n",
      "Лучшее значение правильности (accuracy) на валидационной выборке: 0.7916018662519441 при значениях параметров:\n",
      "- максимальная глубина дерева: 5\n",
      "- минимальное количество выборок в листе: 23\n",
      "- правильность (accuracy) на обучающей выборке: 0.8226141078838174\n",
      "\n"
     ]
    },
    {
     "data": {
      "text/html": [
       "<div>\n",
       "<style scoped>\n",
       "    .dataframe tbody tr th:only-of-type {\n",
       "        vertical-align: middle;\n",
       "    }\n",
       "\n",
       "    .dataframe tbody tr th {\n",
       "        vertical-align: top;\n",
       "    }\n",
       "\n",
       "    .dataframe thead th {\n",
       "        text-align: right;\n",
       "    }\n",
       "</style>\n",
       "<table border=\"1\" class=\"dataframe\">\n",
       "  <thead>\n",
       "    <tr style=\"text-align: right;\">\n",
       "      <th></th>\n",
       "      <th>depth_value</th>\n",
       "      <th>leaf_value</th>\n",
       "      <th>accuracy_train</th>\n",
       "      <th>accuracy_valid</th>\n",
       "    </tr>\n",
       "  </thead>\n",
       "  <tbody>\n",
       "    <tr>\n",
       "      <th>0</th>\n",
       "      <td>1</td>\n",
       "      <td>1</td>\n",
       "      <td>0.767635</td>\n",
       "      <td>0.706065</td>\n",
       "    </tr>\n",
       "    <tr>\n",
       "      <th>1</th>\n",
       "      <td>1</td>\n",
       "      <td>2</td>\n",
       "      <td>0.767635</td>\n",
       "      <td>0.706065</td>\n",
       "    </tr>\n",
       "    <tr>\n",
       "      <th>2</th>\n",
       "      <td>1</td>\n",
       "      <td>3</td>\n",
       "      <td>0.767635</td>\n",
       "      <td>0.706065</td>\n",
       "    </tr>\n",
       "    <tr>\n",
       "      <th>3</th>\n",
       "      <td>1</td>\n",
       "      <td>4</td>\n",
       "      <td>0.767635</td>\n",
       "      <td>0.706065</td>\n",
       "    </tr>\n",
       "    <tr>\n",
       "      <th>4</th>\n",
       "      <td>1</td>\n",
       "      <td>5</td>\n",
       "      <td>0.767635</td>\n",
       "      <td>0.706065</td>\n",
       "    </tr>\n",
       "    <tr>\n",
       "      <th>...</th>\n",
       "      <td>...</td>\n",
       "      <td>...</td>\n",
       "      <td>...</td>\n",
       "      <td>...</td>\n",
       "    </tr>\n",
       "    <tr>\n",
       "      <th>620</th>\n",
       "      <td>25</td>\n",
       "      <td>21</td>\n",
       "      <td>0.830913</td>\n",
       "      <td>0.771384</td>\n",
       "    </tr>\n",
       "    <tr>\n",
       "      <th>621</th>\n",
       "      <td>25</td>\n",
       "      <td>22</td>\n",
       "      <td>0.829876</td>\n",
       "      <td>0.777605</td>\n",
       "    </tr>\n",
       "    <tr>\n",
       "      <th>622</th>\n",
       "      <td>25</td>\n",
       "      <td>23</td>\n",
       "      <td>0.828838</td>\n",
       "      <td>0.780715</td>\n",
       "    </tr>\n",
       "    <tr>\n",
       "      <th>623</th>\n",
       "      <td>25</td>\n",
       "      <td>24</td>\n",
       "      <td>0.823133</td>\n",
       "      <td>0.786936</td>\n",
       "    </tr>\n",
       "    <tr>\n",
       "      <th>624</th>\n",
       "      <td>25</td>\n",
       "      <td>25</td>\n",
       "      <td>0.823133</td>\n",
       "      <td>0.788491</td>\n",
       "    </tr>\n",
       "  </tbody>\n",
       "</table>\n",
       "<p>625 rows × 4 columns</p>\n",
       "</div>"
      ],
      "text/plain": [
       "     depth_value  leaf_value  accuracy_train  accuracy_valid\n",
       "0              1           1        0.767635        0.706065\n",
       "1              1           2        0.767635        0.706065\n",
       "2              1           3        0.767635        0.706065\n",
       "3              1           4        0.767635        0.706065\n",
       "4              1           5        0.767635        0.706065\n",
       "..           ...         ...             ...             ...\n",
       "620           25          21        0.830913        0.771384\n",
       "621           25          22        0.829876        0.777605\n",
       "622           25          23        0.828838        0.780715\n",
       "623           25          24        0.823133        0.786936\n",
       "624           25          25        0.823133        0.788491\n",
       "\n",
       "[625 rows x 4 columns]"
      ]
     },
     "metadata": {},
     "output_type": "display_data"
    },
    {
     "name": "stdout",
     "output_type": "stream",
     "text": [
      "\n"
     ]
    },
    {
     "data": {
      "image/png": "[encoded data removed]",
      "text/plain": [
       "<Figure size 2160x2160 with 1 Axes>"
      ]
     },
     "metadata": {
      "needs_background": "light"
     },
     "output_type": "display_data"
    }
   ],
   "source": [
    "# Формирование и обучение модели решающего дерева\n",
    "model_tree = model_selection(\n",
    "    DecisionTreeClassifier,\n",
    "    features_train,\n",
    "    target_train,\n",
    "    features_valid,\n",
    "    target_valid,\n",
    "    26\n",
    ")"
   ]
  },
  {
   "cell_type": "markdown",
   "metadata": {},
   "source": [
    "<div class=\"alert alert-block alert-warning\"><span style=\"color:green\"><font size=\"3\" face=\"Arial\"><b>Промежуточные выводы 4.1:<b/></span>\n",
    "    \n",
    "<span style=\"color:steelblue\"><font size=\"3\" face=\"Courier\"><b>1. Чем глубже решающее дерево, тем дольше оно обучается.\\\n",
    "    2. Оптимально решающее дерево обучается до глубины дерева 5 и количества выборок в листе 23. Значение правильности (accuracy) при этих параметрах на валидационной выборке составляет 0.7916018662519441, а текущая правильность (accuracy) на обучающей выборке 0.8226141078838174 (выше порогового значения 0.75).\\\n",
    "    3. Затем дерево начинает переобучаться до глубины дерева 25 и количества выборок в листе 1 со значением правильности (accuracy) на обучающей выборке 1.0.</b></span></div>"
   ]
  },
  {
   "cell_type": "markdown",
   "metadata": {},
   "source": [
    "### Исследование случайного леса - RandomForestClassifier"
   ]
  },
  {
   "cell_type": "code",
   "execution_count": 246,
   "metadata": {
    "scrolled": false
   },
   "outputs": [
    {
     "name": "stdout",
     "output_type": "stream",
     "text": [
      "\n",
      "Лучшее значение правильности (accuracy) на обучающей выборке: 0.9605809128630706 при значениях параметров:\n",
      "- количество деревьев в лесу: 5\n",
      "- максимальная глубина дерева: 20\n",
      "- минимальное количество выборок в листе: 1\n",
      "--------------------------------------------------------------------------------------------------------------\n",
      "Лучшее значение правильности (accuracy) на валидационной выборке: 0.8009331259720062 при значениях параметров:\n",
      "- количество деревьев в лесу: 5\n",
      "- максимальная глубина дерева: 10\n",
      "- минимальное количество выборок в листе: 5\n",
      "- правильность (accuracy) на обучающей выборке: 0.850103734439834\n",
      "\n"
     ]
    },
    {
     "data": {
      "text/html": [
       "<div>\n",
       "<style scoped>\n",
       "    .dataframe tbody tr th:only-of-type {\n",
       "        vertical-align: middle;\n",
       "    }\n",
       "\n",
       "    .dataframe tbody tr th {\n",
       "        vertical-align: top;\n",
       "    }\n",
       "\n",
       "    .dataframe thead th {\n",
       "        text-align: right;\n",
       "    }\n",
       "</style>\n",
       "<table border=\"1\" class=\"dataframe\">\n",
       "  <thead>\n",
       "    <tr style=\"text-align: right;\">\n",
       "      <th></th>\n",
       "      <th>number_tree</th>\n",
       "      <th>depth_value</th>\n",
       "      <th>leaf_value</th>\n",
       "      <th>accuracy_train</th>\n",
       "      <th>accuracy_valid</th>\n",
       "    </tr>\n",
       "  </thead>\n",
       "  <tbody>\n",
       "    <tr>\n",
       "      <th>0</th>\n",
       "      <td>1</td>\n",
       "      <td>1</td>\n",
       "      <td>1</td>\n",
       "      <td>0.763485</td>\n",
       "      <td>0.715397</td>\n",
       "    </tr>\n",
       "    <tr>\n",
       "      <th>1</th>\n",
       "      <td>1</td>\n",
       "      <td>1</td>\n",
       "      <td>2</td>\n",
       "      <td>0.763485</td>\n",
       "      <td>0.715397</td>\n",
       "    </tr>\n",
       "    <tr>\n",
       "      <th>2</th>\n",
       "      <td>1</td>\n",
       "      <td>1</td>\n",
       "      <td>3</td>\n",
       "      <td>0.763485</td>\n",
       "      <td>0.715397</td>\n",
       "    </tr>\n",
       "    <tr>\n",
       "      <th>3</th>\n",
       "      <td>1</td>\n",
       "      <td>1</td>\n",
       "      <td>4</td>\n",
       "      <td>0.763485</td>\n",
       "      <td>0.715397</td>\n",
       "    </tr>\n",
       "    <tr>\n",
       "      <th>4</th>\n",
       "      <td>1</td>\n",
       "      <td>1</td>\n",
       "      <td>5</td>\n",
       "      <td>0.763485</td>\n",
       "      <td>0.715397</td>\n",
       "    </tr>\n",
       "    <tr>\n",
       "      <th>...</th>\n",
       "      <td>...</td>\n",
       "      <td>...</td>\n",
       "      <td>...</td>\n",
       "      <td>...</td>\n",
       "      <td>...</td>\n",
       "    </tr>\n",
       "    <tr>\n",
       "      <th>1995</th>\n",
       "      <td>5</td>\n",
       "      <td>20</td>\n",
       "      <td>16</td>\n",
       "      <td>0.830913</td>\n",
       "      <td>0.786936</td>\n",
       "    </tr>\n",
       "    <tr>\n",
       "      <th>1996</th>\n",
       "      <td>5</td>\n",
       "      <td>20</td>\n",
       "      <td>17</td>\n",
       "      <td>0.824170</td>\n",
       "      <td>0.782271</td>\n",
       "    </tr>\n",
       "    <tr>\n",
       "      <th>1997</th>\n",
       "      <td>5</td>\n",
       "      <td>20</td>\n",
       "      <td>18</td>\n",
       "      <td>0.826763</td>\n",
       "      <td>0.785381</td>\n",
       "    </tr>\n",
       "    <tr>\n",
       "      <th>1998</th>\n",
       "      <td>5</td>\n",
       "      <td>20</td>\n",
       "      <td>19</td>\n",
       "      <td>0.823133</td>\n",
       "      <td>0.776050</td>\n",
       "    </tr>\n",
       "    <tr>\n",
       "      <th>1999</th>\n",
       "      <td>5</td>\n",
       "      <td>20</td>\n",
       "      <td>20</td>\n",
       "      <td>0.823651</td>\n",
       "      <td>0.782271</td>\n",
       "    </tr>\n",
       "  </tbody>\n",
       "</table>\n",
       "<p>2000 rows × 5 columns</p>\n",
       "</div>"
      ],
      "text/plain": [
       "      number_tree  depth_value  leaf_value  accuracy_train  accuracy_valid\n",
       "0               1            1           1        0.763485        0.715397\n",
       "1               1            1           2        0.763485        0.715397\n",
       "2               1            1           3        0.763485        0.715397\n",
       "3               1            1           4        0.763485        0.715397\n",
       "4               1            1           5        0.763485        0.715397\n",
       "...           ...          ...         ...             ...             ...\n",
       "1995            5           20          16        0.830913        0.786936\n",
       "1996            5           20          17        0.824170        0.782271\n",
       "1997            5           20          18        0.826763        0.785381\n",
       "1998            5           20          19        0.823133        0.776050\n",
       "1999            5           20          20        0.823651        0.782271\n",
       "\n",
       "[2000 rows x 5 columns]"
      ]
     },
     "metadata": {},
     "output_type": "display_data"
    },
    {
     "name": "stdout",
     "output_type": "stream",
     "text": [
      "\n"
     ]
    }
   ],
   "source": [
    "# Формирование и обучение модели случайного леса\n",
    "model_random_forest = model_selection(\n",
    "    RandomForestClassifier,\n",
    "    features_train,\n",
    "    target_train,\n",
    "    features_valid,\n",
    "    target_valid,\n",
    "    21,\n",
    "    6,\n",
    "    1\n",
    ")"
   ]
  },
  {
   "cell_type": "markdown",
   "metadata": {},
   "source": [
    "<div class=\"alert alert-block alert-warning\"><span style=\"color:green\"><font size=\"3\" face=\"Arial\"><b>Промежуточные выводы 4.2:<b/></span>\n",
    "    \n",
    "<span style=\"color:steelblue\"><font size=\"3\" face=\"Courier\"><b>1. Чем больше деревьев и чем глубже деревья, тем дольше случайный лес обучается.\\\n",
    "    2. Оптимально случайный лес обучается до 5 деревьев глубиной дерева 10 с количеством выборок в листе 5. Значение правильности (accuracy) при этих параметрах на валидационной выборке составляет 0.8009331259720062, а текущая правильность (accuracy) на обучающей выборке 0.850103734439834 (выше порогового значения 0.75).\\\n",
    "    3. Затем случайный лес начинает переобучаться до 5 деревьем глубиной дерева 20 с количеством выборок в листе 1 со значением правильности (accuracy) на обучающей выборке 0.9605809128630706.\\\n",
    "    4. Если увеличить число деревьев, то прирост метрик качества будет незначительным, а время обучения модели увеличится в разы.</b></span></div>"
   ]
  },
  {
   "cell_type": "markdown",
   "metadata": {},
   "source": [
    "### Исследование логистической регрессии - LogisticRegression"
   ]
  },
  {
   "cell_type": "code",
   "execution_count": 247,
   "metadata": {},
   "outputs": [],
   "source": [
    "# Отключение предупреждения ConvergenceWarning: lbfgs failed to converge (status=1):\n",
    "# STOP: TOTAL NO. of ITERATIONS REACHED LIMIT.\n",
    "# Increase the number of iterations (max_iter) or scale the data\n",
    "# warnings.filterwarnings(action='ignore', message='lbfgs failed to converge')"
   ]
  },
  {
   "cell_type": "code",
   "execution_count": 248,
   "metadata": {
    "scrolled": true
   },
   "outputs": [
    {
     "name": "stderr",
     "output_type": "stream",
     "text": [
      "C:\\Users\\Елена\\AppData\\Local\\Programs\\Python\\Python310\\lib\\site-packages\\sklearn\\linear_model\\_logistic.py:814: ConvergenceWarning: lbfgs failed to converge (status=1):\n",
      "STOP: TOTAL NO. of ITERATIONS REACHED LIMIT.\n",
      "\n",
      "Increase the number of iterations (max_iter) or scale the data as shown in:\n",
      "    https://scikit-learn.org/stable/modules/preprocessing.html\n",
      "Please also refer to the documentation for alternative solver options:\n",
      "    https://scikit-learn.org/stable/modules/linear_model.html#logistic-regression\n",
      "  n_iter_i = _check_optimize_result(\n",
      "C:\\Users\\Елена\\AppData\\Local\\Programs\\Python\\Python310\\lib\\site-packages\\sklearn\\linear_model\\_logistic.py:814: ConvergenceWarning: lbfgs failed to converge (status=1):\n",
      "STOP: TOTAL NO. of ITERATIONS REACHED LIMIT.\n",
      "\n",
      "Increase the number of iterations (max_iter) or scale the data as shown in:\n",
      "    https://scikit-learn.org/stable/modules/preprocessing.html\n",
      "Please also refer to the documentation for alternative solver options:\n",
      "    https://scikit-learn.org/stable/modules/linear_model.html#logistic-regression\n",
      "  n_iter_i = _check_optimize_result(\n",
      "C:\\Users\\Елена\\AppData\\Local\\Programs\\Python\\Python310\\lib\\site-packages\\sklearn\\linear_model\\_logistic.py:814: ConvergenceWarning: lbfgs failed to converge (status=1):\n",
      "STOP: TOTAL NO. of ITERATIONS REACHED LIMIT.\n",
      "\n",
      "Increase the number of iterations (max_iter) or scale the data as shown in:\n",
      "    https://scikit-learn.org/stable/modules/preprocessing.html\n",
      "Please also refer to the documentation for alternative solver options:\n",
      "    https://scikit-learn.org/stable/modules/linear_model.html#logistic-regression\n",
      "  n_iter_i = _check_optimize_result(\n",
      "C:\\Users\\Елена\\AppData\\Local\\Programs\\Python\\Python310\\lib\\site-packages\\sklearn\\linear_model\\_logistic.py:814: ConvergenceWarning: lbfgs failed to converge (status=1):\n",
      "STOP: TOTAL NO. of ITERATIONS REACHED LIMIT.\n",
      "\n",
      "Increase the number of iterations (max_iter) or scale the data as shown in:\n",
      "    https://scikit-learn.org/stable/modules/preprocessing.html\n",
      "Please also refer to the documentation for alternative solver options:\n",
      "    https://scikit-learn.org/stable/modules/linear_model.html#logistic-regression\n",
      "  n_iter_i = _check_optimize_result(\n",
      "C:\\Users\\Елена\\AppData\\Local\\Programs\\Python\\Python310\\lib\\site-packages\\sklearn\\linear_model\\_logistic.py:814: ConvergenceWarning: lbfgs failed to converge (status=1):\n",
      "STOP: TOTAL NO. of ITERATIONS REACHED LIMIT.\n",
      "\n",
      "Increase the number of iterations (max_iter) or scale the data as shown in:\n",
      "    https://scikit-learn.org/stable/modules/preprocessing.html\n",
      "Please also refer to the documentation for alternative solver options:\n",
      "    https://scikit-learn.org/stable/modules/linear_model.html#logistic-regression\n",
      "  n_iter_i = _check_optimize_result(\n",
      "C:\\Users\\Елена\\AppData\\Local\\Programs\\Python\\Python310\\lib\\site-packages\\sklearn\\linear_model\\_logistic.py:814: ConvergenceWarning: lbfgs failed to converge (status=1):\n",
      "STOP: TOTAL NO. of ITERATIONS REACHED LIMIT.\n",
      "\n",
      "Increase the number of iterations (max_iter) or scale the data as shown in:\n",
      "    https://scikit-learn.org/stable/modules/preprocessing.html\n",
      "Please also refer to the documentation for alternative solver options:\n",
      "    https://scikit-learn.org/stable/modules/linear_model.html#logistic-regression\n",
      "  n_iter_i = _check_optimize_result(\n",
      "C:\\Users\\Елена\\AppData\\Local\\Programs\\Python\\Python310\\lib\\site-packages\\sklearn\\linear_model\\_logistic.py:814: ConvergenceWarning: lbfgs failed to converge (status=1):\n",
      "STOP: TOTAL NO. of ITERATIONS REACHED LIMIT.\n",
      "\n",
      "Increase the number of iterations (max_iter) or scale the data as shown in:\n",
      "    https://scikit-learn.org/stable/modules/preprocessing.html\n",
      "Please also refer to the documentation for alternative solver options:\n",
      "    https://scikit-learn.org/stable/modules/linear_model.html#logistic-regression\n",
      "  n_iter_i = _check_optimize_result(\n",
      "C:\\Users\\Елена\\AppData\\Local\\Programs\\Python\\Python310\\lib\\site-packages\\sklearn\\linear_model\\_logistic.py:814: ConvergenceWarning: lbfgs failed to converge (status=1):\n",
      "STOP: TOTAL NO. of ITERATIONS REACHED LIMIT.\n",
      "\n",
      "Increase the number of iterations (max_iter) or scale the data as shown in:\n",
      "    https://scikit-learn.org/stable/modules/preprocessing.html\n",
      "Please also refer to the documentation for alternative solver options:\n",
      "    https://scikit-learn.org/stable/modules/linear_model.html#logistic-regression\n",
      "  n_iter_i = _check_optimize_result(\n",
      "C:\\Users\\Елена\\AppData\\Local\\Programs\\Python\\Python310\\lib\\site-packages\\sklearn\\linear_model\\_logistic.py:814: ConvergenceWarning: lbfgs failed to converge (status=1):\n",
      "STOP: TOTAL NO. of ITERATIONS REACHED LIMIT.\n",
      "\n",
      "Increase the number of iterations (max_iter) or scale the data as shown in:\n",
      "    https://scikit-learn.org/stable/modules/preprocessing.html\n",
      "Please also refer to the documentation for alternative solver options:\n",
      "    https://scikit-learn.org/stable/modules/linear_model.html#logistic-regression\n",
      "  n_iter_i = _check_optimize_result(\n",
      "C:\\Users\\Елена\\AppData\\Local\\Programs\\Python\\Python310\\lib\\site-packages\\sklearn\\linear_model\\_logistic.py:814: ConvergenceWarning: lbfgs failed to converge (status=1):\n",
      "STOP: TOTAL NO. of ITERATIONS REACHED LIMIT.\n",
      "\n",
      "Increase the number of iterations (max_iter) or scale the data as shown in:\n",
      "    https://scikit-learn.org/stable/modules/preprocessing.html\n",
      "Please also refer to the documentation for alternative solver options:\n",
      "    https://scikit-learn.org/stable/modules/linear_model.html#logistic-regression\n",
      "  n_iter_i = _check_optimize_result(\n",
      "C:\\Users\\Елена\\AppData\\Local\\Programs\\Python\\Python310\\lib\\site-packages\\sklearn\\linear_model\\_logistic.py:814: ConvergenceWarning: lbfgs failed to converge (status=1):\n",
      "STOP: TOTAL NO. of ITERATIONS REACHED LIMIT.\n",
      "\n",
      "Increase the number of iterations (max_iter) or scale the data as shown in:\n",
      "    https://scikit-learn.org/stable/modules/preprocessing.html\n",
      "Please also refer to the documentation for alternative solver options:\n",
      "    https://scikit-learn.org/stable/modules/linear_model.html#logistic-regression\n",
      "  n_iter_i = _check_optimize_result(\n",
      "C:\\Users\\Елена\\AppData\\Local\\Programs\\Python\\Python310\\lib\\site-packages\\sklearn\\linear_model\\_logistic.py:814: ConvergenceWarning: lbfgs failed to converge (status=1):\n",
      "STOP: TOTAL NO. of ITERATIONS REACHED LIMIT.\n",
      "\n",
      "Increase the number of iterations (max_iter) or scale the data as shown in:\n",
      "    https://scikit-learn.org/stable/modules/preprocessing.html\n",
      "Please also refer to the documentation for alternative solver options:\n",
      "    https://scikit-learn.org/stable/modules/linear_model.html#logistic-regression\n",
      "  n_iter_i = _check_optimize_result(\n",
      "C:\\Users\\Елена\\AppData\\Local\\Programs\\Python\\Python310\\lib\\site-packages\\sklearn\\linear_model\\_logistic.py:814: ConvergenceWarning: lbfgs failed to converge (status=1):\n",
      "STOP: TOTAL NO. of ITERATIONS REACHED LIMIT.\n",
      "\n",
      "Increase the number of iterations (max_iter) or scale the data as shown in:\n",
      "    https://scikit-learn.org/stable/modules/preprocessing.html\n",
      "Please also refer to the documentation for alternative solver options:\n",
      "    https://scikit-learn.org/stable/modules/linear_model.html#logistic-regression\n",
      "  n_iter_i = _check_optimize_result(\n",
      "C:\\Users\\Елена\\AppData\\Local\\Programs\\Python\\Python310\\lib\\site-packages\\sklearn\\linear_model\\_logistic.py:814: ConvergenceWarning: lbfgs failed to converge (status=1):\n",
      "STOP: TOTAL NO. of ITERATIONS REACHED LIMIT.\n",
      "\n",
      "Increase the number of iterations (max_iter) or scale the data as shown in:\n",
      "    https://scikit-learn.org/stable/modules/preprocessing.html\n",
      "Please also refer to the documentation for alternative solver options:\n",
      "    https://scikit-learn.org/stable/modules/linear_model.html#logistic-regression\n",
      "  n_iter_i = _check_optimize_result(\n",
      "C:\\Users\\Елена\\AppData\\Local\\Programs\\Python\\Python310\\lib\\site-packages\\sklearn\\linear_model\\_logistic.py:814: ConvergenceWarning: lbfgs failed to converge (status=1):\n",
      "STOP: TOTAL NO. of ITERATIONS REACHED LIMIT.\n",
      "\n",
      "Increase the number of iterations (max_iter) or scale the data as shown in:\n",
      "    https://scikit-learn.org/stable/modules/preprocessing.html\n",
      "Please also refer to the documentation for alternative solver options:\n",
      "    https://scikit-learn.org/stable/modules/linear_model.html#logistic-regression\n",
      "  n_iter_i = _check_optimize_result(\n",
      "C:\\Users\\Елена\\AppData\\Local\\Programs\\Python\\Python310\\lib\\site-packages\\sklearn\\linear_model\\_logistic.py:814: ConvergenceWarning: lbfgs failed to converge (status=1):\n",
      "STOP: TOTAL NO. of ITERATIONS REACHED LIMIT.\n",
      "\n",
      "Increase the number of iterations (max_iter) or scale the data as shown in:\n",
      "    https://scikit-learn.org/stable/modules/preprocessing.html\n",
      "Please also refer to the documentation for alternative solver options:\n",
      "    https://scikit-learn.org/stable/modules/linear_model.html#logistic-regression\n",
      "  n_iter_i = _check_optimize_result(\n",
      "C:\\Users\\Елена\\AppData\\Local\\Programs\\Python\\Python310\\lib\\site-packages\\sklearn\\linear_model\\_logistic.py:814: ConvergenceWarning: lbfgs failed to converge (status=1):\n",
      "STOP: TOTAL NO. of ITERATIONS REACHED LIMIT.\n",
      "\n",
      "Increase the number of iterations (max_iter) or scale the data as shown in:\n",
      "    https://scikit-learn.org/stable/modules/preprocessing.html\n",
      "Please also refer to the documentation for alternative solver options:\n",
      "    https://scikit-learn.org/stable/modules/linear_model.html#logistic-regression\n",
      "  n_iter_i = _check_optimize_result(\n",
      "C:\\Users\\Елена\\AppData\\Local\\Programs\\Python\\Python310\\lib\\site-packages\\sklearn\\linear_model\\_logistic.py:814: ConvergenceWarning: lbfgs failed to converge (status=1):\n",
      "STOP: TOTAL NO. of ITERATIONS REACHED LIMIT.\n",
      "\n",
      "Increase the number of iterations (max_iter) or scale the data as shown in:\n",
      "    https://scikit-learn.org/stable/modules/preprocessing.html\n",
      "Please also refer to the documentation for alternative solver options:\n",
      "    https://scikit-learn.org/stable/modules/linear_model.html#logistic-regression\n",
      "  n_iter_i = _check_optimize_result(\n",
      "C:\\Users\\Елена\\AppData\\Local\\Programs\\Python\\Python310\\lib\\site-packages\\sklearn\\linear_model\\_logistic.py:814: ConvergenceWarning: lbfgs failed to converge (status=1):\n",
      "STOP: TOTAL NO. of ITERATIONS REACHED LIMIT.\n",
      "\n",
      "Increase the number of iterations (max_iter) or scale the data as shown in:\n",
      "    https://scikit-learn.org/stable/modules/preprocessing.html\n",
      "Please also refer to the documentation for alternative solver options:\n",
      "    https://scikit-learn.org/stable/modules/linear_model.html#logistic-regression\n",
      "  n_iter_i = _check_optimize_result(\n",
      "C:\\Users\\Елена\\AppData\\Local\\Programs\\Python\\Python310\\lib\\site-packages\\sklearn\\linear_model\\_logistic.py:814: ConvergenceWarning: lbfgs failed to converge (status=1):\n",
      "STOP: TOTAL NO. of ITERATIONS REACHED LIMIT.\n",
      "\n",
      "Increase the number of iterations (max_iter) or scale the data as shown in:\n",
      "    https://scikit-learn.org/stable/modules/preprocessing.html\n",
      "Please also refer to the documentation for alternative solver options:\n",
      "    https://scikit-learn.org/stable/modules/linear_model.html#logistic-regression\n",
      "  n_iter_i = _check_optimize_result(\n",
      "C:\\Users\\Елена\\AppData\\Local\\Programs\\Python\\Python310\\lib\\site-packages\\sklearn\\linear_model\\_logistic.py:814: ConvergenceWarning: lbfgs failed to converge (status=1):\n",
      "STOP: TOTAL NO. of ITERATIONS REACHED LIMIT.\n",
      "\n",
      "Increase the number of iterations (max_iter) or scale the data as shown in:\n",
      "    https://scikit-learn.org/stable/modules/preprocessing.html\n",
      "Please also refer to the documentation for alternative solver options:\n",
      "    https://scikit-learn.org/stable/modules/linear_model.html#logistic-regression\n",
      "  n_iter_i = _check_optimize_result(\n",
      "C:\\Users\\Елена\\AppData\\Local\\Programs\\Python\\Python310\\lib\\site-packages\\sklearn\\linear_model\\_logistic.py:814: ConvergenceWarning: lbfgs failed to converge (status=1):\n",
      "STOP: TOTAL NO. of ITERATIONS REACHED LIMIT.\n",
      "\n",
      "Increase the number of iterations (max_iter) or scale the data as shown in:\n",
      "    https://scikit-learn.org/stable/modules/preprocessing.html\n",
      "Please also refer to the documentation for alternative solver options:\n",
      "    https://scikit-learn.org/stable/modules/linear_model.html#logistic-regression\n",
      "  n_iter_i = _check_optimize_result(\n",
      "C:\\Users\\Елена\\AppData\\Local\\Programs\\Python\\Python310\\lib\\site-packages\\sklearn\\linear_model\\_logistic.py:814: ConvergenceWarning: lbfgs failed to converge (status=1):\n",
      "STOP: TOTAL NO. of ITERATIONS REACHED LIMIT.\n",
      "\n",
      "Increase the number of iterations (max_iter) or scale the data as shown in:\n",
      "    https://scikit-learn.org/stable/modules/preprocessing.html\n",
      "Please also refer to the documentation for alternative solver options:\n",
      "    https://scikit-learn.org/stable/modules/linear_model.html#logistic-regression\n",
      "  n_iter_i = _check_optimize_result(\n",
      "C:\\Users\\Елена\\AppData\\Local\\Programs\\Python\\Python310\\lib\\site-packages\\sklearn\\linear_model\\_logistic.py:814: ConvergenceWarning: lbfgs failed to converge (status=1):\n",
      "STOP: TOTAL NO. of ITERATIONS REACHED LIMIT.\n",
      "\n",
      "Increase the number of iterations (max_iter) or scale the data as shown in:\n",
      "    https://scikit-learn.org/stable/modules/preprocessing.html\n",
      "Please also refer to the documentation for alternative solver options:\n",
      "    https://scikit-learn.org/stable/modules/linear_model.html#logistic-regression\n",
      "  n_iter_i = _check_optimize_result(\n",
      "C:\\Users\\Елена\\AppData\\Local\\Programs\\Python\\Python310\\lib\\site-packages\\sklearn\\linear_model\\_logistic.py:814: ConvergenceWarning: lbfgs failed to converge (status=1):\n",
      "STOP: TOTAL NO. of ITERATIONS REACHED LIMIT.\n",
      "\n",
      "Increase the number of iterations (max_iter) or scale the data as shown in:\n",
      "    https://scikit-learn.org/stable/modules/preprocessing.html\n",
      "Please also refer to the documentation for alternative solver options:\n",
      "    https://scikit-learn.org/stable/modules/linear_model.html#logistic-regression\n",
      "  n_iter_i = _check_optimize_result(\n",
      "C:\\Users\\Елена\\AppData\\Local\\Programs\\Python\\Python310\\lib\\site-packages\\sklearn\\linear_model\\_logistic.py:814: ConvergenceWarning: lbfgs failed to converge (status=1):\n",
      "STOP: TOTAL NO. of ITERATIONS REACHED LIMIT.\n",
      "\n",
      "Increase the number of iterations (max_iter) or scale the data as shown in:\n",
      "    https://scikit-learn.org/stable/modules/preprocessing.html\n",
      "Please also refer to the documentation for alternative solver options:\n",
      "    https://scikit-learn.org/stable/modules/linear_model.html#logistic-regression\n",
      "  n_iter_i = _check_optimize_result(\n",
      "C:\\Users\\Елена\\AppData\\Local\\Programs\\Python\\Python310\\lib\\site-packages\\sklearn\\linear_model\\_logistic.py:814: ConvergenceWarning: lbfgs failed to converge (status=1):\n",
      "STOP: TOTAL NO. of ITERATIONS REACHED LIMIT.\n",
      "\n",
      "Increase the number of iterations (max_iter) or scale the data as shown in:\n",
      "    https://scikit-learn.org/stable/modules/preprocessing.html\n",
      "Please also refer to the documentation for alternative solver options:\n",
      "    https://scikit-learn.org/stable/modules/linear_model.html#logistic-regression\n",
      "  n_iter_i = _check_optimize_result(\n",
      "C:\\Users\\Елена\\AppData\\Local\\Programs\\Python\\Python310\\lib\\site-packages\\sklearn\\linear_model\\_logistic.py:814: ConvergenceWarning: lbfgs failed to converge (status=1):\n",
      "STOP: TOTAL NO. of ITERATIONS REACHED LIMIT.\n",
      "\n",
      "Increase the number of iterations (max_iter) or scale the data as shown in:\n",
      "    https://scikit-learn.org/stable/modules/preprocessing.html\n",
      "Please also refer to the documentation for alternative solver options:\n",
      "    https://scikit-learn.org/stable/modules/linear_model.html#logistic-regression\n",
      "  n_iter_i = _check_optimize_result(\n"
     ]
    },
    {
     "name": "stderr",
     "output_type": "stream",
     "text": [
      "C:\\Users\\Елена\\AppData\\Local\\Programs\\Python\\Python310\\lib\\site-packages\\sklearn\\linear_model\\_logistic.py:814: ConvergenceWarning: lbfgs failed to converge (status=1):\n",
      "STOP: TOTAL NO. of ITERATIONS REACHED LIMIT.\n",
      "\n",
      "Increase the number of iterations (max_iter) or scale the data as shown in:\n",
      "    https://scikit-learn.org/stable/modules/preprocessing.html\n",
      "Please also refer to the documentation for alternative solver options:\n",
      "    https://scikit-learn.org/stable/modules/linear_model.html#logistic-regression\n",
      "  n_iter_i = _check_optimize_result(\n",
      "C:\\Users\\Елена\\AppData\\Local\\Programs\\Python\\Python310\\lib\\site-packages\\sklearn\\linear_model\\_logistic.py:814: ConvergenceWarning: lbfgs failed to converge (status=1):\n",
      "STOP: TOTAL NO. of ITERATIONS REACHED LIMIT.\n",
      "\n",
      "Increase the number of iterations (max_iter) or scale the data as shown in:\n",
      "    https://scikit-learn.org/stable/modules/preprocessing.html\n",
      "Please also refer to the documentation for alternative solver options:\n",
      "    https://scikit-learn.org/stable/modules/linear_model.html#logistic-regression\n",
      "  n_iter_i = _check_optimize_result(\n",
      "C:\\Users\\Елена\\AppData\\Local\\Programs\\Python\\Python310\\lib\\site-packages\\sklearn\\linear_model\\_logistic.py:814: ConvergenceWarning: lbfgs failed to converge (status=1):\n",
      "STOP: TOTAL NO. of ITERATIONS REACHED LIMIT.\n",
      "\n",
      "Increase the number of iterations (max_iter) or scale the data as shown in:\n",
      "    https://scikit-learn.org/stable/modules/preprocessing.html\n",
      "Please also refer to the documentation for alternative solver options:\n",
      "    https://scikit-learn.org/stable/modules/linear_model.html#logistic-regression\n",
      "  n_iter_i = _check_optimize_result(\n",
      "C:\\Users\\Елена\\AppData\\Local\\Programs\\Python\\Python310\\lib\\site-packages\\sklearn\\linear_model\\_logistic.py:814: ConvergenceWarning: lbfgs failed to converge (status=1):\n",
      "STOP: TOTAL NO. of ITERATIONS REACHED LIMIT.\n",
      "\n",
      "Increase the number of iterations (max_iter) or scale the data as shown in:\n",
      "    https://scikit-learn.org/stable/modules/preprocessing.html\n",
      "Please also refer to the documentation for alternative solver options:\n",
      "    https://scikit-learn.org/stable/modules/linear_model.html#logistic-regression\n",
      "  n_iter_i = _check_optimize_result(\n",
      "C:\\Users\\Елена\\AppData\\Local\\Programs\\Python\\Python310\\lib\\site-packages\\sklearn\\linear_model\\_logistic.py:814: ConvergenceWarning: lbfgs failed to converge (status=1):\n",
      "STOP: TOTAL NO. of ITERATIONS REACHED LIMIT.\n",
      "\n",
      "Increase the number of iterations (max_iter) or scale the data as shown in:\n",
      "    https://scikit-learn.org/stable/modules/preprocessing.html\n",
      "Please also refer to the documentation for alternative solver options:\n",
      "    https://scikit-learn.org/stable/modules/linear_model.html#logistic-regression\n",
      "  n_iter_i = _check_optimize_result(\n",
      "C:\\Users\\Елена\\AppData\\Local\\Programs\\Python\\Python310\\lib\\site-packages\\sklearn\\linear_model\\_logistic.py:814: ConvergenceWarning: lbfgs failed to converge (status=1):\n",
      "STOP: TOTAL NO. of ITERATIONS REACHED LIMIT.\n",
      "\n",
      "Increase the number of iterations (max_iter) or scale the data as shown in:\n",
      "    https://scikit-learn.org/stable/modules/preprocessing.html\n",
      "Please also refer to the documentation for alternative solver options:\n",
      "    https://scikit-learn.org/stable/modules/linear_model.html#logistic-regression\n",
      "  n_iter_i = _check_optimize_result(\n",
      "C:\\Users\\Елена\\AppData\\Local\\Programs\\Python\\Python310\\lib\\site-packages\\sklearn\\linear_model\\_logistic.py:814: ConvergenceWarning: lbfgs failed to converge (status=1):\n",
      "STOP: TOTAL NO. of ITERATIONS REACHED LIMIT.\n",
      "\n",
      "Increase the number of iterations (max_iter) or scale the data as shown in:\n",
      "    https://scikit-learn.org/stable/modules/preprocessing.html\n",
      "Please also refer to the documentation for alternative solver options:\n",
      "    https://scikit-learn.org/stable/modules/linear_model.html#logistic-regression\n",
      "  n_iter_i = _check_optimize_result(\n",
      "C:\\Users\\Елена\\AppData\\Local\\Programs\\Python\\Python310\\lib\\site-packages\\sklearn\\linear_model\\_logistic.py:814: ConvergenceWarning: lbfgs failed to converge (status=1):\n",
      "STOP: TOTAL NO. of ITERATIONS REACHED LIMIT.\n",
      "\n",
      "Increase the number of iterations (max_iter) or scale the data as shown in:\n",
      "    https://scikit-learn.org/stable/modules/preprocessing.html\n",
      "Please also refer to the documentation for alternative solver options:\n",
      "    https://scikit-learn.org/stable/modules/linear_model.html#logistic-regression\n",
      "  n_iter_i = _check_optimize_result(\n",
      "C:\\Users\\Елена\\AppData\\Local\\Programs\\Python\\Python310\\lib\\site-packages\\sklearn\\linear_model\\_logistic.py:814: ConvergenceWarning: lbfgs failed to converge (status=1):\n",
      "STOP: TOTAL NO. of ITERATIONS REACHED LIMIT.\n",
      "\n",
      "Increase the number of iterations (max_iter) or scale the data as shown in:\n",
      "    https://scikit-learn.org/stable/modules/preprocessing.html\n",
      "Please also refer to the documentation for alternative solver options:\n",
      "    https://scikit-learn.org/stable/modules/linear_model.html#logistic-regression\n",
      "  n_iter_i = _check_optimize_result(\n",
      "C:\\Users\\Елена\\AppData\\Local\\Programs\\Python\\Python310\\lib\\site-packages\\sklearn\\linear_model\\_logistic.py:814: ConvergenceWarning: lbfgs failed to converge (status=1):\n",
      "STOP: TOTAL NO. of ITERATIONS REACHED LIMIT.\n",
      "\n",
      "Increase the number of iterations (max_iter) or scale the data as shown in:\n",
      "    https://scikit-learn.org/stable/modules/preprocessing.html\n",
      "Please also refer to the documentation for alternative solver options:\n",
      "    https://scikit-learn.org/stable/modules/linear_model.html#logistic-regression\n",
      "  n_iter_i = _check_optimize_result(\n",
      "C:\\Users\\Елена\\AppData\\Local\\Programs\\Python\\Python310\\lib\\site-packages\\sklearn\\linear_model\\_logistic.py:814: ConvergenceWarning: lbfgs failed to converge (status=1):\n",
      "STOP: TOTAL NO. of ITERATIONS REACHED LIMIT.\n",
      "\n",
      "Increase the number of iterations (max_iter) or scale the data as shown in:\n",
      "    https://scikit-learn.org/stable/modules/preprocessing.html\n",
      "Please also refer to the documentation for alternative solver options:\n",
      "    https://scikit-learn.org/stable/modules/linear_model.html#logistic-regression\n",
      "  n_iter_i = _check_optimize_result(\n",
      "C:\\Users\\Елена\\AppData\\Local\\Programs\\Python\\Python310\\lib\\site-packages\\sklearn\\linear_model\\_logistic.py:814: ConvergenceWarning: lbfgs failed to converge (status=1):\n",
      "STOP: TOTAL NO. of ITERATIONS REACHED LIMIT.\n",
      "\n",
      "Increase the number of iterations (max_iter) or scale the data as shown in:\n",
      "    https://scikit-learn.org/stable/modules/preprocessing.html\n",
      "Please also refer to the documentation for alternative solver options:\n",
      "    https://scikit-learn.org/stable/modules/linear_model.html#logistic-regression\n",
      "  n_iter_i = _check_optimize_result(\n",
      "C:\\Users\\Елена\\AppData\\Local\\Programs\\Python\\Python310\\lib\\site-packages\\sklearn\\linear_model\\_logistic.py:814: ConvergenceWarning: lbfgs failed to converge (status=1):\n",
      "STOP: TOTAL NO. of ITERATIONS REACHED LIMIT.\n",
      "\n",
      "Increase the number of iterations (max_iter) or scale the data as shown in:\n",
      "    https://scikit-learn.org/stable/modules/preprocessing.html\n",
      "Please also refer to the documentation for alternative solver options:\n",
      "    https://scikit-learn.org/stable/modules/linear_model.html#logistic-regression\n",
      "  n_iter_i = _check_optimize_result(\n",
      "C:\\Users\\Елена\\AppData\\Local\\Programs\\Python\\Python310\\lib\\site-packages\\sklearn\\linear_model\\_logistic.py:814: ConvergenceWarning: lbfgs failed to converge (status=1):\n",
      "STOP: TOTAL NO. of ITERATIONS REACHED LIMIT.\n",
      "\n",
      "Increase the number of iterations (max_iter) or scale the data as shown in:\n",
      "    https://scikit-learn.org/stable/modules/preprocessing.html\n",
      "Please also refer to the documentation for alternative solver options:\n",
      "    https://scikit-learn.org/stable/modules/linear_model.html#logistic-regression\n",
      "  n_iter_i = _check_optimize_result(\n",
      "C:\\Users\\Елена\\AppData\\Local\\Programs\\Python\\Python310\\lib\\site-packages\\sklearn\\linear_model\\_logistic.py:814: ConvergenceWarning: lbfgs failed to converge (status=1):\n",
      "STOP: TOTAL NO. of ITERATIONS REACHED LIMIT.\n",
      "\n",
      "Increase the number of iterations (max_iter) or scale the data as shown in:\n",
      "    https://scikit-learn.org/stable/modules/preprocessing.html\n",
      "Please also refer to the documentation for alternative solver options:\n",
      "    https://scikit-learn.org/stable/modules/linear_model.html#logistic-regression\n",
      "  n_iter_i = _check_optimize_result(\n",
      "C:\\Users\\Елена\\AppData\\Local\\Programs\\Python\\Python310\\lib\\site-packages\\sklearn\\linear_model\\_logistic.py:814: ConvergenceWarning: lbfgs failed to converge (status=1):\n",
      "STOP: TOTAL NO. of ITERATIONS REACHED LIMIT.\n",
      "\n",
      "Increase the number of iterations (max_iter) or scale the data as shown in:\n",
      "    https://scikit-learn.org/stable/modules/preprocessing.html\n",
      "Please also refer to the documentation for alternative solver options:\n",
      "    https://scikit-learn.org/stable/modules/linear_model.html#logistic-regression\n",
      "  n_iter_i = _check_optimize_result(\n",
      "C:\\Users\\Елена\\AppData\\Local\\Programs\\Python\\Python310\\lib\\site-packages\\sklearn\\linear_model\\_logistic.py:814: ConvergenceWarning: lbfgs failed to converge (status=1):\n",
      "STOP: TOTAL NO. of ITERATIONS REACHED LIMIT.\n",
      "\n",
      "Increase the number of iterations (max_iter) or scale the data as shown in:\n",
      "    https://scikit-learn.org/stable/modules/preprocessing.html\n",
      "Please also refer to the documentation for alternative solver options:\n",
      "    https://scikit-learn.org/stable/modules/linear_model.html#logistic-regression\n",
      "  n_iter_i = _check_optimize_result(\n",
      "C:\\Users\\Елена\\AppData\\Local\\Programs\\Python\\Python310\\lib\\site-packages\\sklearn\\linear_model\\_logistic.py:814: ConvergenceWarning: lbfgs failed to converge (status=1):\n",
      "STOP: TOTAL NO. of ITERATIONS REACHED LIMIT.\n",
      "\n",
      "Increase the number of iterations (max_iter) or scale the data as shown in:\n",
      "    https://scikit-learn.org/stable/modules/preprocessing.html\n",
      "Please also refer to the documentation for alternative solver options:\n",
      "    https://scikit-learn.org/stable/modules/linear_model.html#logistic-regression\n",
      "  n_iter_i = _check_optimize_result(\n",
      "C:\\Users\\Елена\\AppData\\Local\\Programs\\Python\\Python310\\lib\\site-packages\\sklearn\\linear_model\\_logistic.py:814: ConvergenceWarning: lbfgs failed to converge (status=1):\n",
      "STOP: TOTAL NO. of ITERATIONS REACHED LIMIT.\n",
      "\n",
      "Increase the number of iterations (max_iter) or scale the data as shown in:\n",
      "    https://scikit-learn.org/stable/modules/preprocessing.html\n",
      "Please also refer to the documentation for alternative solver options:\n",
      "    https://scikit-learn.org/stable/modules/linear_model.html#logistic-regression\n",
      "  n_iter_i = _check_optimize_result(\n"
     ]
    },
    {
     "name": "stderr",
     "output_type": "stream",
     "text": [
      "C:\\Users\\Елена\\AppData\\Local\\Programs\\Python\\Python310\\lib\\site-packages\\sklearn\\linear_model\\_logistic.py:814: ConvergenceWarning: lbfgs failed to converge (status=1):\n",
      "STOP: TOTAL NO. of ITERATIONS REACHED LIMIT.\n",
      "\n",
      "Increase the number of iterations (max_iter) or scale the data as shown in:\n",
      "    https://scikit-learn.org/stable/modules/preprocessing.html\n",
      "Please also refer to the documentation for alternative solver options:\n",
      "    https://scikit-learn.org/stable/modules/linear_model.html#logistic-regression\n",
      "  n_iter_i = _check_optimize_result(\n",
      "C:\\Users\\Елена\\AppData\\Local\\Programs\\Python\\Python310\\lib\\site-packages\\sklearn\\linear_model\\_logistic.py:814: ConvergenceWarning: lbfgs failed to converge (status=1):\n",
      "STOP: TOTAL NO. of ITERATIONS REACHED LIMIT.\n",
      "\n",
      "Increase the number of iterations (max_iter) or scale the data as shown in:\n",
      "    https://scikit-learn.org/stable/modules/preprocessing.html\n",
      "Please also refer to the documentation for alternative solver options:\n",
      "    https://scikit-learn.org/stable/modules/linear_model.html#logistic-regression\n",
      "  n_iter_i = _check_optimize_result(\n",
      "C:\\Users\\Елена\\AppData\\Local\\Programs\\Python\\Python310\\lib\\site-packages\\sklearn\\linear_model\\_logistic.py:814: ConvergenceWarning: lbfgs failed to converge (status=1):\n",
      "STOP: TOTAL NO. of ITERATIONS REACHED LIMIT.\n",
      "\n",
      "Increase the number of iterations (max_iter) or scale the data as shown in:\n",
      "    https://scikit-learn.org/stable/modules/preprocessing.html\n",
      "Please also refer to the documentation for alternative solver options:\n",
      "    https://scikit-learn.org/stable/modules/linear_model.html#logistic-regression\n",
      "  n_iter_i = _check_optimize_result(\n",
      "C:\\Users\\Елена\\AppData\\Local\\Programs\\Python\\Python310\\lib\\site-packages\\sklearn\\linear_model\\_logistic.py:814: ConvergenceWarning: lbfgs failed to converge (status=1):\n",
      "STOP: TOTAL NO. of ITERATIONS REACHED LIMIT.\n",
      "\n",
      "Increase the number of iterations (max_iter) or scale the data as shown in:\n",
      "    https://scikit-learn.org/stable/modules/preprocessing.html\n",
      "Please also refer to the documentation for alternative solver options:\n",
      "    https://scikit-learn.org/stable/modules/linear_model.html#logistic-regression\n",
      "  n_iter_i = _check_optimize_result(\n",
      "C:\\Users\\Елена\\AppData\\Local\\Programs\\Python\\Python310\\lib\\site-packages\\sklearn\\linear_model\\_logistic.py:814: ConvergenceWarning: lbfgs failed to converge (status=1):\n",
      "STOP: TOTAL NO. of ITERATIONS REACHED LIMIT.\n",
      "\n",
      "Increase the number of iterations (max_iter) or scale the data as shown in:\n",
      "    https://scikit-learn.org/stable/modules/preprocessing.html\n",
      "Please also refer to the documentation for alternative solver options:\n",
      "    https://scikit-learn.org/stable/modules/linear_model.html#logistic-regression\n",
      "  n_iter_i = _check_optimize_result(\n",
      "C:\\Users\\Елена\\AppData\\Local\\Programs\\Python\\Python310\\lib\\site-packages\\sklearn\\linear_model\\_logistic.py:814: ConvergenceWarning: lbfgs failed to converge (status=1):\n",
      "STOP: TOTAL NO. of ITERATIONS REACHED LIMIT.\n",
      "\n",
      "Increase the number of iterations (max_iter) or scale the data as shown in:\n",
      "    https://scikit-learn.org/stable/modules/preprocessing.html\n",
      "Please also refer to the documentation for alternative solver options:\n",
      "    https://scikit-learn.org/stable/modules/linear_model.html#logistic-regression\n",
      "  n_iter_i = _check_optimize_result(\n",
      "C:\\Users\\Елена\\AppData\\Local\\Programs\\Python\\Python310\\lib\\site-packages\\sklearn\\linear_model\\_logistic.py:814: ConvergenceWarning: lbfgs failed to converge (status=1):\n",
      "STOP: TOTAL NO. of ITERATIONS REACHED LIMIT.\n",
      "\n",
      "Increase the number of iterations (max_iter) or scale the data as shown in:\n",
      "    https://scikit-learn.org/stable/modules/preprocessing.html\n",
      "Please also refer to the documentation for alternative solver options:\n",
      "    https://scikit-learn.org/stable/modules/linear_model.html#logistic-regression\n",
      "  n_iter_i = _check_optimize_result(\n",
      "C:\\Users\\Елена\\AppData\\Local\\Programs\\Python\\Python310\\lib\\site-packages\\sklearn\\linear_model\\_logistic.py:814: ConvergenceWarning: lbfgs failed to converge (status=1):\n",
      "STOP: TOTAL NO. of ITERATIONS REACHED LIMIT.\n",
      "\n",
      "Increase the number of iterations (max_iter) or scale the data as shown in:\n",
      "    https://scikit-learn.org/stable/modules/preprocessing.html\n",
      "Please also refer to the documentation for alternative solver options:\n",
      "    https://scikit-learn.org/stable/modules/linear_model.html#logistic-regression\n",
      "  n_iter_i = _check_optimize_result(\n",
      "C:\\Users\\Елена\\AppData\\Local\\Programs\\Python\\Python310\\lib\\site-packages\\sklearn\\linear_model\\_logistic.py:814: ConvergenceWarning: lbfgs failed to converge (status=1):\n",
      "STOP: TOTAL NO. of ITERATIONS REACHED LIMIT.\n",
      "\n",
      "Increase the number of iterations (max_iter) or scale the data as shown in:\n",
      "    https://scikit-learn.org/stable/modules/preprocessing.html\n",
      "Please also refer to the documentation for alternative solver options:\n",
      "    https://scikit-learn.org/stable/modules/linear_model.html#logistic-regression\n",
      "  n_iter_i = _check_optimize_result(\n",
      "C:\\Users\\Елена\\AppData\\Local\\Programs\\Python\\Python310\\lib\\site-packages\\sklearn\\linear_model\\_logistic.py:814: ConvergenceWarning: lbfgs failed to converge (status=1):\n",
      "STOP: TOTAL NO. of ITERATIONS REACHED LIMIT.\n",
      "\n",
      "Increase the number of iterations (max_iter) or scale the data as shown in:\n",
      "    https://scikit-learn.org/stable/modules/preprocessing.html\n",
      "Please also refer to the documentation for alternative solver options:\n",
      "    https://scikit-learn.org/stable/modules/linear_model.html#logistic-regression\n",
      "  n_iter_i = _check_optimize_result(\n",
      "C:\\Users\\Елена\\AppData\\Local\\Programs\\Python\\Python310\\lib\\site-packages\\sklearn\\linear_model\\_logistic.py:814: ConvergenceWarning: lbfgs failed to converge (status=1):\n",
      "STOP: TOTAL NO. of ITERATIONS REACHED LIMIT.\n",
      "\n",
      "Increase the number of iterations (max_iter) or scale the data as shown in:\n",
      "    https://scikit-learn.org/stable/modules/preprocessing.html\n",
      "Please also refer to the documentation for alternative solver options:\n",
      "    https://scikit-learn.org/stable/modules/linear_model.html#logistic-regression\n",
      "  n_iter_i = _check_optimize_result(\n",
      "C:\\Users\\Елена\\AppData\\Local\\Programs\\Python\\Python310\\lib\\site-packages\\sklearn\\linear_model\\_logistic.py:814: ConvergenceWarning: lbfgs failed to converge (status=1):\n",
      "STOP: TOTAL NO. of ITERATIONS REACHED LIMIT.\n",
      "\n",
      "Increase the number of iterations (max_iter) or scale the data as shown in:\n",
      "    https://scikit-learn.org/stable/modules/preprocessing.html\n",
      "Please also refer to the documentation for alternative solver options:\n",
      "    https://scikit-learn.org/stable/modules/linear_model.html#logistic-regression\n",
      "  n_iter_i = _check_optimize_result(\n",
      "C:\\Users\\Елена\\AppData\\Local\\Programs\\Python\\Python310\\lib\\site-packages\\sklearn\\linear_model\\_logistic.py:814: ConvergenceWarning: lbfgs failed to converge (status=1):\n",
      "STOP: TOTAL NO. of ITERATIONS REACHED LIMIT.\n",
      "\n",
      "Increase the number of iterations (max_iter) or scale the data as shown in:\n",
      "    https://scikit-learn.org/stable/modules/preprocessing.html\n",
      "Please also refer to the documentation for alternative solver options:\n",
      "    https://scikit-learn.org/stable/modules/linear_model.html#logistic-regression\n",
      "  n_iter_i = _check_optimize_result(\n",
      "C:\\Users\\Елена\\AppData\\Local\\Programs\\Python\\Python310\\lib\\site-packages\\sklearn\\linear_model\\_logistic.py:814: ConvergenceWarning: lbfgs failed to converge (status=1):\n",
      "STOP: TOTAL NO. of ITERATIONS REACHED LIMIT.\n",
      "\n",
      "Increase the number of iterations (max_iter) or scale the data as shown in:\n",
      "    https://scikit-learn.org/stable/modules/preprocessing.html\n",
      "Please also refer to the documentation for alternative solver options:\n",
      "    https://scikit-learn.org/stable/modules/linear_model.html#logistic-regression\n",
      "  n_iter_i = _check_optimize_result(\n",
      "C:\\Users\\Елена\\AppData\\Local\\Programs\\Python\\Python310\\lib\\site-packages\\sklearn\\linear_model\\_logistic.py:814: ConvergenceWarning: lbfgs failed to converge (status=1):\n",
      "STOP: TOTAL NO. of ITERATIONS REACHED LIMIT.\n",
      "\n",
      "Increase the number of iterations (max_iter) or scale the data as shown in:\n",
      "    https://scikit-learn.org/stable/modules/preprocessing.html\n",
      "Please also refer to the documentation for alternative solver options:\n",
      "    https://scikit-learn.org/stable/modules/linear_model.html#logistic-regression\n",
      "  n_iter_i = _check_optimize_result(\n",
      "C:\\Users\\Елена\\AppData\\Local\\Programs\\Python\\Python310\\lib\\site-packages\\sklearn\\linear_model\\_logistic.py:814: ConvergenceWarning: lbfgs failed to converge (status=1):\n",
      "STOP: TOTAL NO. of ITERATIONS REACHED LIMIT.\n",
      "\n",
      "Increase the number of iterations (max_iter) or scale the data as shown in:\n",
      "    https://scikit-learn.org/stable/modules/preprocessing.html\n",
      "Please also refer to the documentation for alternative solver options:\n",
      "    https://scikit-learn.org/stable/modules/linear_model.html#logistic-regression\n",
      "  n_iter_i = _check_optimize_result(\n",
      "C:\\Users\\Елена\\AppData\\Local\\Programs\\Python\\Python310\\lib\\site-packages\\sklearn\\linear_model\\_logistic.py:814: ConvergenceWarning: lbfgs failed to converge (status=1):\n",
      "STOP: TOTAL NO. of ITERATIONS REACHED LIMIT.\n",
      "\n",
      "Increase the number of iterations (max_iter) or scale the data as shown in:\n",
      "    https://scikit-learn.org/stable/modules/preprocessing.html\n",
      "Please also refer to the documentation for alternative solver options:\n",
      "    https://scikit-learn.org/stable/modules/linear_model.html#logistic-regression\n",
      "  n_iter_i = _check_optimize_result(\n",
      "C:\\Users\\Елена\\AppData\\Local\\Programs\\Python\\Python310\\lib\\site-packages\\sklearn\\linear_model\\_logistic.py:814: ConvergenceWarning: lbfgs failed to converge (status=1):\n",
      "STOP: TOTAL NO. of ITERATIONS REACHED LIMIT.\n",
      "\n",
      "Increase the number of iterations (max_iter) or scale the data as shown in:\n",
      "    https://scikit-learn.org/stable/modules/preprocessing.html\n",
      "Please also refer to the documentation for alternative solver options:\n",
      "    https://scikit-learn.org/stable/modules/linear_model.html#logistic-regression\n",
      "  n_iter_i = _check_optimize_result(\n",
      "C:\\Users\\Елена\\AppData\\Local\\Programs\\Python\\Python310\\lib\\site-packages\\sklearn\\linear_model\\_logistic.py:814: ConvergenceWarning: lbfgs failed to converge (status=1):\n",
      "STOP: TOTAL NO. of ITERATIONS REACHED LIMIT.\n",
      "\n",
      "Increase the number of iterations (max_iter) or scale the data as shown in:\n",
      "    https://scikit-learn.org/stable/modules/preprocessing.html\n",
      "Please also refer to the documentation for alternative solver options:\n",
      "    https://scikit-learn.org/stable/modules/linear_model.html#logistic-regression\n",
      "  n_iter_i = _check_optimize_result(\n",
      "C:\\Users\\Елена\\AppData\\Local\\Programs\\Python\\Python310\\lib\\site-packages\\sklearn\\linear_model\\_logistic.py:814: ConvergenceWarning: lbfgs failed to converge (status=1):\n",
      "STOP: TOTAL NO. of ITERATIONS REACHED LIMIT.\n",
      "\n",
      "Increase the number of iterations (max_iter) or scale the data as shown in:\n",
      "    https://scikit-learn.org/stable/modules/preprocessing.html\n",
      "Please also refer to the documentation for alternative solver options:\n",
      "    https://scikit-learn.org/stable/modules/linear_model.html#logistic-regression\n",
      "  n_iter_i = _check_optimize_result(\n",
      "C:\\Users\\Елена\\AppData\\Local\\Programs\\Python\\Python310\\lib\\site-packages\\sklearn\\linear_model\\_logistic.py:814: ConvergenceWarning: lbfgs failed to converge (status=1):\n",
      "STOP: TOTAL NO. of ITERATIONS REACHED LIMIT.\n",
      "\n",
      "Increase the number of iterations (max_iter) or scale the data as shown in:\n",
      "    https://scikit-learn.org/stable/modules/preprocessing.html\n",
      "Please also refer to the documentation for alternative solver options:\n",
      "    https://scikit-learn.org/stable/modules/linear_model.html#logistic-regression\n",
      "  n_iter_i = _check_optimize_result(\n",
      "C:\\Users\\Елена\\AppData\\Local\\Programs\\Python\\Python310\\lib\\site-packages\\sklearn\\linear_model\\_logistic.py:814: ConvergenceWarning: lbfgs failed to converge (status=1):\n",
      "STOP: TOTAL NO. of ITERATIONS REACHED LIMIT.\n",
      "\n",
      "Increase the number of iterations (max_iter) or scale the data as shown in:\n",
      "    https://scikit-learn.org/stable/modules/preprocessing.html\n",
      "Please also refer to the documentation for alternative solver options:\n",
      "    https://scikit-learn.org/stable/modules/linear_model.html#logistic-regression\n",
      "  n_iter_i = _check_optimize_result(\n"
     ]
    },
    {
     "name": "stdout",
     "output_type": "stream",
     "text": [
      "\n",
      "Лучшее значение правильности (accuracy) на обучающей выборке: 0.7619294605809128 при значениях параметров:\n",
      "- максимальное количество итераций: 65\n",
      "--------------------------------------------------------------------------------------------------------------\n",
      "Лучшее значение правильности (accuracy) на валидационной выборке: 0.7262830482115086 при значениях параметров:\n",
      "- максимальное количество итераций: 63\n",
      "- правильность (accuracy) на обучающей выборке: 0.7598547717842323\n",
      "\n"
     ]
    },
    {
     "data": {
      "text/html": [
       "<div>\n",
       "<style scoped>\n",
       "    .dataframe tbody tr th:only-of-type {\n",
       "        vertical-align: middle;\n",
       "    }\n",
       "\n",
       "    .dataframe tbody tr th {\n",
       "        vertical-align: top;\n",
       "    }\n",
       "\n",
       "    .dataframe thead th {\n",
       "        text-align: right;\n",
       "    }\n",
       "</style>\n",
       "<table border=\"1\" class=\"dataframe\">\n",
       "  <thead>\n",
       "    <tr style=\"text-align: right;\">\n",
       "      <th></th>\n",
       "      <th>iter_value</th>\n",
       "      <th>accuracy_train</th>\n",
       "      <th>accuracy_valid</th>\n",
       "    </tr>\n",
       "  </thead>\n",
       "  <tbody>\n",
       "    <tr>\n",
       "      <th>0</th>\n",
       "      <td>1</td>\n",
       "      <td>0.706950</td>\n",
       "      <td>0.676516</td>\n",
       "    </tr>\n",
       "    <tr>\n",
       "      <th>1</th>\n",
       "      <td>2</td>\n",
       "      <td>0.706950</td>\n",
       "      <td>0.676516</td>\n",
       "    </tr>\n",
       "    <tr>\n",
       "      <th>2</th>\n",
       "      <td>3</td>\n",
       "      <td>0.706950</td>\n",
       "      <td>0.676516</td>\n",
       "    </tr>\n",
       "    <tr>\n",
       "      <th>3</th>\n",
       "      <td>4</td>\n",
       "      <td>0.706950</td>\n",
       "      <td>0.676516</td>\n",
       "    </tr>\n",
       "    <tr>\n",
       "      <th>4</th>\n",
       "      <td>5</td>\n",
       "      <td>0.706950</td>\n",
       "      <td>0.676516</td>\n",
       "    </tr>\n",
       "    <tr>\n",
       "      <th>...</th>\n",
       "      <td>...</td>\n",
       "      <td>...</td>\n",
       "      <td>...</td>\n",
       "    </tr>\n",
       "    <tr>\n",
       "      <th>94</th>\n",
       "      <td>95</td>\n",
       "      <td>0.761411</td>\n",
       "      <td>0.726283</td>\n",
       "    </tr>\n",
       "    <tr>\n",
       "      <th>95</th>\n",
       "      <td>96</td>\n",
       "      <td>0.761411</td>\n",
       "      <td>0.726283</td>\n",
       "    </tr>\n",
       "    <tr>\n",
       "      <th>96</th>\n",
       "      <td>97</td>\n",
       "      <td>0.761411</td>\n",
       "      <td>0.726283</td>\n",
       "    </tr>\n",
       "    <tr>\n",
       "      <th>97</th>\n",
       "      <td>98</td>\n",
       "      <td>0.761411</td>\n",
       "      <td>0.726283</td>\n",
       "    </tr>\n",
       "    <tr>\n",
       "      <th>98</th>\n",
       "      <td>99</td>\n",
       "      <td>0.761411</td>\n",
       "      <td>0.726283</td>\n",
       "    </tr>\n",
       "  </tbody>\n",
       "</table>\n",
       "<p>99 rows × 3 columns</p>\n",
       "</div>"
      ],
      "text/plain": [
       "    iter_value  accuracy_train  accuracy_valid\n",
       "0            1        0.706950        0.676516\n",
       "1            2        0.706950        0.676516\n",
       "2            3        0.706950        0.676516\n",
       "3            4        0.706950        0.676516\n",
       "4            5        0.706950        0.676516\n",
       "..         ...             ...             ...\n",
       "94          95        0.761411        0.726283\n",
       "95          96        0.761411        0.726283\n",
       "96          97        0.761411        0.726283\n",
       "97          98        0.761411        0.726283\n",
       "98          99        0.761411        0.726283\n",
       "\n",
       "[99 rows x 3 columns]"
      ]
     },
     "metadata": {},
     "output_type": "display_data"
    },
    {
     "name": "stdout",
     "output_type": "stream",
     "text": [
      "\n"
     ]
    }
   ],
   "source": [
    "# Формирование и обучение модели логистической регрессии\n",
    "# с решателем solver='lbfgs'\n",
    "model_logistic1 = model_selection(\n",
    "    LogisticRegression,\n",
    "    features_train,\n",
    "    target_train,\n",
    "    features_valid,\n",
    "    target_valid,\n",
    "    iter_start=1,\n",
    "    iter_treshold=100\n",
    ")"
   ]
  },
  {
   "cell_type": "markdown",
   "metadata": {},
   "source": [
    "<div class=\"alert alert-block alert-warning\"><span style=\"color:green\"><font size=\"3\" face=\"Arial\"><b>Промежуточные выводы 4.3:<b/></span>\n",
    "    \n",
    "<span style=\"color:steelblue\"><font size=\"3\" face=\"Courier\"><b>1. Модель обучается очень быстро в виду малого количества параметров, а также не переобучается.\\\n",
    "    2. Для значений количества итераций от 1 до 69 появляется предупреждение о недостаточном количестве итераций для схождения.\\\n",
    "    Необходимо увеличить минимальное количество итераций до 70 и более для избежания появления предупреждения.\\\n",
    "    3. При этом модель логистической регрессии обучается до количества итераций, равного 63, со значением правильности (accuracy) на валидационной выборке 0.7262830482115086, а текущая правильность (accuracy) на обучающей выборке 0.7598547717842323 (выше порогового значения 0.75).\\\n",
    "    4. Затем начинается незначительное переобучение до количества итераций, равного 65, со значением правильности (accuracy) на обучающей выборке 0.7619294605809128.\\\n",
    "    5. После количества итераций, равного 65, значения правильности (accuracy) на выборках перестают расти.</b></span></div>"
   ]
  },
  {
   "cell_type": "code",
   "execution_count": 249,
   "metadata": {
    "scrolled": false
   },
   "outputs": [
    {
     "name": "stdout",
     "output_type": "stream",
     "text": [
      "\n",
      "Лучшее значение правильности (accuracy) на обучающей выборке: 0.7614107883817427 при значениях параметров:\n",
      "- максимальное количество итераций: 70\n",
      "--------------------------------------------------------------------------------------------------------------\n",
      "Лучшее значение правильности (accuracy) на валидационной выборке: 0.7262830482115086 при значениях параметров:\n",
      "- максимальное количество итераций: 70\n",
      "- правильность (accuracy) на обучающей выборке: 0.7614107883817427\n",
      "\n"
     ]
    },
    {
     "data": {
      "text/html": [
       "<div>\n",
       "<style scoped>\n",
       "    .dataframe tbody tr th:only-of-type {\n",
       "        vertical-align: middle;\n",
       "    }\n",
       "\n",
       "    .dataframe tbody tr th {\n",
       "        vertical-align: top;\n",
       "    }\n",
       "\n",
       "    .dataframe thead th {\n",
       "        text-align: right;\n",
       "    }\n",
       "</style>\n",
       "<table border=\"1\" class=\"dataframe\">\n",
       "  <thead>\n",
       "    <tr style=\"text-align: right;\">\n",
       "      <th></th>\n",
       "      <th>iter_value</th>\n",
       "      <th>accuracy_train</th>\n",
       "      <th>accuracy_valid</th>\n",
       "    </tr>\n",
       "  </thead>\n",
       "  <tbody>\n",
       "    <tr>\n",
       "      <th>0</th>\n",
       "      <td>70</td>\n",
       "      <td>0.761411</td>\n",
       "      <td>0.726283</td>\n",
       "    </tr>\n",
       "    <tr>\n",
       "      <th>1</th>\n",
       "      <td>71</td>\n",
       "      <td>0.761411</td>\n",
       "      <td>0.726283</td>\n",
       "    </tr>\n",
       "    <tr>\n",
       "      <th>2</th>\n",
       "      <td>72</td>\n",
       "      <td>0.761411</td>\n",
       "      <td>0.726283</td>\n",
       "    </tr>\n",
       "    <tr>\n",
       "      <th>3</th>\n",
       "      <td>73</td>\n",
       "      <td>0.761411</td>\n",
       "      <td>0.726283</td>\n",
       "    </tr>\n",
       "    <tr>\n",
       "      <th>4</th>\n",
       "      <td>74</td>\n",
       "      <td>0.761411</td>\n",
       "      <td>0.726283</td>\n",
       "    </tr>\n",
       "    <tr>\n",
       "      <th>5</th>\n",
       "      <td>75</td>\n",
       "      <td>0.761411</td>\n",
       "      <td>0.726283</td>\n",
       "    </tr>\n",
       "    <tr>\n",
       "      <th>6</th>\n",
       "      <td>76</td>\n",
       "      <td>0.761411</td>\n",
       "      <td>0.726283</td>\n",
       "    </tr>\n",
       "    <tr>\n",
       "      <th>7</th>\n",
       "      <td>77</td>\n",
       "      <td>0.761411</td>\n",
       "      <td>0.726283</td>\n",
       "    </tr>\n",
       "    <tr>\n",
       "      <th>8</th>\n",
       "      <td>78</td>\n",
       "      <td>0.761411</td>\n",
       "      <td>0.726283</td>\n",
       "    </tr>\n",
       "    <tr>\n",
       "      <th>9</th>\n",
       "      <td>79</td>\n",
       "      <td>0.761411</td>\n",
       "      <td>0.726283</td>\n",
       "    </tr>\n",
       "    <tr>\n",
       "      <th>10</th>\n",
       "      <td>80</td>\n",
       "      <td>0.761411</td>\n",
       "      <td>0.726283</td>\n",
       "    </tr>\n",
       "    <tr>\n",
       "      <th>11</th>\n",
       "      <td>81</td>\n",
       "      <td>0.761411</td>\n",
       "      <td>0.726283</td>\n",
       "    </tr>\n",
       "    <tr>\n",
       "      <th>12</th>\n",
       "      <td>82</td>\n",
       "      <td>0.761411</td>\n",
       "      <td>0.726283</td>\n",
       "    </tr>\n",
       "    <tr>\n",
       "      <th>13</th>\n",
       "      <td>83</td>\n",
       "      <td>0.761411</td>\n",
       "      <td>0.726283</td>\n",
       "    </tr>\n",
       "    <tr>\n",
       "      <th>14</th>\n",
       "      <td>84</td>\n",
       "      <td>0.761411</td>\n",
       "      <td>0.726283</td>\n",
       "    </tr>\n",
       "    <tr>\n",
       "      <th>15</th>\n",
       "      <td>85</td>\n",
       "      <td>0.761411</td>\n",
       "      <td>0.726283</td>\n",
       "    </tr>\n",
       "    <tr>\n",
       "      <th>16</th>\n",
       "      <td>86</td>\n",
       "      <td>0.761411</td>\n",
       "      <td>0.726283</td>\n",
       "    </tr>\n",
       "    <tr>\n",
       "      <th>17</th>\n",
       "      <td>87</td>\n",
       "      <td>0.761411</td>\n",
       "      <td>0.726283</td>\n",
       "    </tr>\n",
       "    <tr>\n",
       "      <th>18</th>\n",
       "      <td>88</td>\n",
       "      <td>0.761411</td>\n",
       "      <td>0.726283</td>\n",
       "    </tr>\n",
       "    <tr>\n",
       "      <th>19</th>\n",
       "      <td>89</td>\n",
       "      <td>0.761411</td>\n",
       "      <td>0.726283</td>\n",
       "    </tr>\n",
       "    <tr>\n",
       "      <th>20</th>\n",
       "      <td>90</td>\n",
       "      <td>0.761411</td>\n",
       "      <td>0.726283</td>\n",
       "    </tr>\n",
       "    <tr>\n",
       "      <th>21</th>\n",
       "      <td>91</td>\n",
       "      <td>0.761411</td>\n",
       "      <td>0.726283</td>\n",
       "    </tr>\n",
       "    <tr>\n",
       "      <th>22</th>\n",
       "      <td>92</td>\n",
       "      <td>0.761411</td>\n",
       "      <td>0.726283</td>\n",
       "    </tr>\n",
       "    <tr>\n",
       "      <th>23</th>\n",
       "      <td>93</td>\n",
       "      <td>0.761411</td>\n",
       "      <td>0.726283</td>\n",
       "    </tr>\n",
       "    <tr>\n",
       "      <th>24</th>\n",
       "      <td>94</td>\n",
       "      <td>0.761411</td>\n",
       "      <td>0.726283</td>\n",
       "    </tr>\n",
       "    <tr>\n",
       "      <th>25</th>\n",
       "      <td>95</td>\n",
       "      <td>0.761411</td>\n",
       "      <td>0.726283</td>\n",
       "    </tr>\n",
       "    <tr>\n",
       "      <th>26</th>\n",
       "      <td>96</td>\n",
       "      <td>0.761411</td>\n",
       "      <td>0.726283</td>\n",
       "    </tr>\n",
       "    <tr>\n",
       "      <th>27</th>\n",
       "      <td>97</td>\n",
       "      <td>0.761411</td>\n",
       "      <td>0.726283</td>\n",
       "    </tr>\n",
       "    <tr>\n",
       "      <th>28</th>\n",
       "      <td>98</td>\n",
       "      <td>0.761411</td>\n",
       "      <td>0.726283</td>\n",
       "    </tr>\n",
       "    <tr>\n",
       "      <th>29</th>\n",
       "      <td>99</td>\n",
       "      <td>0.761411</td>\n",
       "      <td>0.726283</td>\n",
       "    </tr>\n",
       "  </tbody>\n",
       "</table>\n",
       "</div>"
      ],
      "text/plain": [
       "    iter_value  accuracy_train  accuracy_valid\n",
       "0           70        0.761411        0.726283\n",
       "1           71        0.761411        0.726283\n",
       "2           72        0.761411        0.726283\n",
       "3           73        0.761411        0.726283\n",
       "4           74        0.761411        0.726283\n",
       "5           75        0.761411        0.726283\n",
       "6           76        0.761411        0.726283\n",
       "7           77        0.761411        0.726283\n",
       "8           78        0.761411        0.726283\n",
       "9           79        0.761411        0.726283\n",
       "10          80        0.761411        0.726283\n",
       "11          81        0.761411        0.726283\n",
       "12          82        0.761411        0.726283\n",
       "13          83        0.761411        0.726283\n",
       "14          84        0.761411        0.726283\n",
       "15          85        0.761411        0.726283\n",
       "16          86        0.761411        0.726283\n",
       "17          87        0.761411        0.726283\n",
       "18          88        0.761411        0.726283\n",
       "19          89        0.761411        0.726283\n",
       "20          90        0.761411        0.726283\n",
       "21          91        0.761411        0.726283\n",
       "22          92        0.761411        0.726283\n",
       "23          93        0.761411        0.726283\n",
       "24          94        0.761411        0.726283\n",
       "25          95        0.761411        0.726283\n",
       "26          96        0.761411        0.726283\n",
       "27          97        0.761411        0.726283\n",
       "28          98        0.761411        0.726283\n",
       "29          99        0.761411        0.726283"
      ]
     },
     "metadata": {},
     "output_type": "display_data"
    },
    {
     "name": "stdout",
     "output_type": "stream",
     "text": [
      "\n"
     ]
    }
   ],
   "source": [
    "# Формирование и обучение модели логистической регрессии\n",
    "# с решателем solver='lbfgs'\n",
    "model_logistic2 = model_selection(\n",
    "    LogisticRegression,\n",
    "    features_train,\n",
    "    target_train,\n",
    "    features_valid,\n",
    "    target_valid,\n",
    "    iter_start=70,\n",
    "    iter_treshold=100\n",
    ")"
   ]
  },
  {
   "cell_type": "markdown",
   "metadata": {},
   "source": [
    "<div class=\"alert alert-block alert-warning\"><span style=\"color:green\"><font size=\"3\" face=\"Arial\"><b>Промежуточные выводы 4.4:<b/></span>\n",
    "    \n",
    "<span style=\"color:steelblue\"><font size=\"3\" face=\"Courier\"><b>1. Предупреждение о недостаточном количестве итераций для схождения не появляется.\\\n",
    "    2. При количестве итераций, равном 70, значение правильности (accuracy) на валидационной выборке 0.7262830482115086, а текущая правильность (accuracy) на обучающей выборке 0.7614107883817427 (выше порогового значения 0.75).</b></span></div>"
   ]
  },
  {
   "cell_type": "code",
   "execution_count": 250,
   "metadata": {
    "scrolled": true
   },
   "outputs": [
    {
     "name": "stderr",
     "output_type": "stream",
     "text": [
      "C:\\Users\\Елена\\AppData\\Local\\Programs\\Python\\Python310\\lib\\site-packages\\sklearn\\svm\\_base.py:1206: ConvergenceWarning: Liblinear failed to converge, increase the number of iterations.\n",
      "  warnings.warn(\n",
      "C:\\Users\\Елена\\AppData\\Local\\Programs\\Python\\Python310\\lib\\site-packages\\sklearn\\svm\\_base.py:1206: ConvergenceWarning: Liblinear failed to converge, increase the number of iterations.\n",
      "  warnings.warn(\n",
      "C:\\Users\\Елена\\AppData\\Local\\Programs\\Python\\Python310\\lib\\site-packages\\sklearn\\svm\\_base.py:1206: ConvergenceWarning: Liblinear failed to converge, increase the number of iterations.\n",
      "  warnings.warn(\n",
      "C:\\Users\\Елена\\AppData\\Local\\Programs\\Python\\Python310\\lib\\site-packages\\sklearn\\svm\\_base.py:1206: ConvergenceWarning: Liblinear failed to converge, increase the number of iterations.\n",
      "  warnings.warn(\n",
      "C:\\Users\\Елена\\AppData\\Local\\Programs\\Python\\Python310\\lib\\site-packages\\sklearn\\svm\\_base.py:1206: ConvergenceWarning: Liblinear failed to converge, increase the number of iterations.\n",
      "  warnings.warn(\n",
      "C:\\Users\\Елена\\AppData\\Local\\Programs\\Python\\Python310\\lib\\site-packages\\sklearn\\svm\\_base.py:1206: ConvergenceWarning: Liblinear failed to converge, increase the number of iterations.\n",
      "  warnings.warn(\n",
      "C:\\Users\\Елена\\AppData\\Local\\Programs\\Python\\Python310\\lib\\site-packages\\sklearn\\svm\\_base.py:1206: ConvergenceWarning: Liblinear failed to converge, increase the number of iterations.\n",
      "  warnings.warn(\n",
      "C:\\Users\\Елена\\AppData\\Local\\Programs\\Python\\Python310\\lib\\site-packages\\sklearn\\svm\\_base.py:1206: ConvergenceWarning: Liblinear failed to converge, increase the number of iterations.\n",
      "  warnings.warn(\n",
      "C:\\Users\\Елена\\AppData\\Local\\Programs\\Python\\Python310\\lib\\site-packages\\sklearn\\svm\\_base.py:1206: ConvergenceWarning: Liblinear failed to converge, increase the number of iterations.\n",
      "  warnings.warn(\n",
      "C:\\Users\\Елена\\AppData\\Local\\Programs\\Python\\Python310\\lib\\site-packages\\sklearn\\svm\\_base.py:1206: ConvergenceWarning: Liblinear failed to converge, increase the number of iterations.\n",
      "  warnings.warn(\n",
      "C:\\Users\\Елена\\AppData\\Local\\Programs\\Python\\Python310\\lib\\site-packages\\sklearn\\svm\\_base.py:1206: ConvergenceWarning: Liblinear failed to converge, increase the number of iterations.\n",
      "  warnings.warn(\n",
      "C:\\Users\\Елена\\AppData\\Local\\Programs\\Python\\Python310\\lib\\site-packages\\sklearn\\svm\\_base.py:1206: ConvergenceWarning: Liblinear failed to converge, increase the number of iterations.\n",
      "  warnings.warn(\n",
      "C:\\Users\\Елена\\AppData\\Local\\Programs\\Python\\Python310\\lib\\site-packages\\sklearn\\svm\\_base.py:1206: ConvergenceWarning: Liblinear failed to converge, increase the number of iterations.\n",
      "  warnings.warn(\n",
      "C:\\Users\\Елена\\AppData\\Local\\Programs\\Python\\Python310\\lib\\site-packages\\sklearn\\svm\\_base.py:1206: ConvergenceWarning: Liblinear failed to converge, increase the number of iterations.\n",
      "  warnings.warn(\n",
      "C:\\Users\\Елена\\AppData\\Local\\Programs\\Python\\Python310\\lib\\site-packages\\sklearn\\svm\\_base.py:1206: ConvergenceWarning: Liblinear failed to converge, increase the number of iterations.\n",
      "  warnings.warn(\n",
      "C:\\Users\\Елена\\AppData\\Local\\Programs\\Python\\Python310\\lib\\site-packages\\sklearn\\svm\\_base.py:1206: ConvergenceWarning: Liblinear failed to converge, increase the number of iterations.\n",
      "  warnings.warn(\n",
      "C:\\Users\\Елена\\AppData\\Local\\Programs\\Python\\Python310\\lib\\site-packages\\sklearn\\svm\\_base.py:1206: ConvergenceWarning: Liblinear failed to converge, increase the number of iterations.\n",
      "  warnings.warn(\n",
      "C:\\Users\\Елена\\AppData\\Local\\Programs\\Python\\Python310\\lib\\site-packages\\sklearn\\svm\\_base.py:1206: ConvergenceWarning: Liblinear failed to converge, increase the number of iterations.\n",
      "  warnings.warn(\n",
      "C:\\Users\\Елена\\AppData\\Local\\Programs\\Python\\Python310\\lib\\site-packages\\sklearn\\svm\\_base.py:1206: ConvergenceWarning: Liblinear failed to converge, increase the number of iterations.\n",
      "  warnings.warn(\n",
      "C:\\Users\\Елена\\AppData\\Local\\Programs\\Python\\Python310\\lib\\site-packages\\sklearn\\svm\\_base.py:1206: ConvergenceWarning: Liblinear failed to converge, increase the number of iterations.\n",
      "  warnings.warn(\n",
      "C:\\Users\\Елена\\AppData\\Local\\Programs\\Python\\Python310\\lib\\site-packages\\sklearn\\svm\\_base.py:1206: ConvergenceWarning: Liblinear failed to converge, increase the number of iterations.\n",
      "  warnings.warn(\n"
     ]
    },
    {
     "name": "stdout",
     "output_type": "stream",
     "text": [
      "\n",
      "Лучшее значение правильности (accuracy) на обучающей выборке: 0.7562240663900415 при значениях параметров:\n",
      "- максимальное количество итераций: 19\n",
      "--------------------------------------------------------------------------------------------------------------\n",
      "Лучшее значение правильности (accuracy) на валидационной выборке: 0.7278382581648523 при значениях параметров:\n",
      "- максимальное количество итераций: 19\n",
      "- правильность (accuracy) на обучающей выборке: 0.7562240663900415\n",
      "\n"
     ]
    },
    {
     "data": {
      "text/html": [
       "<div>\n",
       "<style scoped>\n",
       "    .dataframe tbody tr th:only-of-type {\n",
       "        vertical-align: middle;\n",
       "    }\n",
       "\n",
       "    .dataframe tbody tr th {\n",
       "        vertical-align: top;\n",
       "    }\n",
       "\n",
       "    .dataframe thead th {\n",
       "        text-align: right;\n",
       "    }\n",
       "</style>\n",
       "<table border=\"1\" class=\"dataframe\">\n",
       "  <thead>\n",
       "    <tr style=\"text-align: right;\">\n",
       "      <th></th>\n",
       "      <th>iter_value</th>\n",
       "      <th>accuracy_train</th>\n",
       "      <th>accuracy_valid</th>\n",
       "    </tr>\n",
       "  </thead>\n",
       "  <tbody>\n",
       "    <tr>\n",
       "      <th>0</th>\n",
       "      <td>1</td>\n",
       "      <td>0.706950</td>\n",
       "      <td>0.676516</td>\n",
       "    </tr>\n",
       "    <tr>\n",
       "      <th>1</th>\n",
       "      <td>2</td>\n",
       "      <td>0.706950</td>\n",
       "      <td>0.676516</td>\n",
       "    </tr>\n",
       "    <tr>\n",
       "      <th>2</th>\n",
       "      <td>3</td>\n",
       "      <td>0.711100</td>\n",
       "      <td>0.676516</td>\n",
       "    </tr>\n",
       "    <tr>\n",
       "      <th>3</th>\n",
       "      <td>4</td>\n",
       "      <td>0.711100</td>\n",
       "      <td>0.676516</td>\n",
       "    </tr>\n",
       "    <tr>\n",
       "      <th>4</th>\n",
       "      <td>5</td>\n",
       "      <td>0.711100</td>\n",
       "      <td>0.678072</td>\n",
       "    </tr>\n",
       "    <tr>\n",
       "      <th>...</th>\n",
       "      <td>...</td>\n",
       "      <td>...</td>\n",
       "      <td>...</td>\n",
       "    </tr>\n",
       "    <tr>\n",
       "      <th>94</th>\n",
       "      <td>95</td>\n",
       "      <td>0.754668</td>\n",
       "      <td>0.726283</td>\n",
       "    </tr>\n",
       "    <tr>\n",
       "      <th>95</th>\n",
       "      <td>96</td>\n",
       "      <td>0.754668</td>\n",
       "      <td>0.726283</td>\n",
       "    </tr>\n",
       "    <tr>\n",
       "      <th>96</th>\n",
       "      <td>97</td>\n",
       "      <td>0.754668</td>\n",
       "      <td>0.726283</td>\n",
       "    </tr>\n",
       "    <tr>\n",
       "      <th>97</th>\n",
       "      <td>98</td>\n",
       "      <td>0.754668</td>\n",
       "      <td>0.726283</td>\n",
       "    </tr>\n",
       "    <tr>\n",
       "      <th>98</th>\n",
       "      <td>99</td>\n",
       "      <td>0.754668</td>\n",
       "      <td>0.726283</td>\n",
       "    </tr>\n",
       "  </tbody>\n",
       "</table>\n",
       "<p>99 rows × 3 columns</p>\n",
       "</div>"
      ],
      "text/plain": [
       "    iter_value  accuracy_train  accuracy_valid\n",
       "0            1        0.706950        0.676516\n",
       "1            2        0.706950        0.676516\n",
       "2            3        0.711100        0.676516\n",
       "3            4        0.711100        0.676516\n",
       "4            5        0.711100        0.678072\n",
       "..         ...             ...             ...\n",
       "94          95        0.754668        0.726283\n",
       "95          96        0.754668        0.726283\n",
       "96          97        0.754668        0.726283\n",
       "97          98        0.754668        0.726283\n",
       "98          99        0.754668        0.726283\n",
       "\n",
       "[99 rows x 3 columns]"
      ]
     },
     "metadata": {},
     "output_type": "display_data"
    },
    {
     "name": "stdout",
     "output_type": "stream",
     "text": [
      "\n"
     ]
    }
   ],
   "source": [
    "# Формирование и обучение модели логистической регрессии\n",
    "# с решателем solver='liblinear'\n",
    "model_logistic3 = model_selection(\n",
    "    LogisticRegression,\n",
    "    features_train,\n",
    "    target_train,\n",
    "    features_valid,\n",
    "    target_valid,\n",
    "    iter_start=1,\n",
    "    iter_treshold=100,\n",
    "    solver_used='liblinear'\n",
    ")"
   ]
  },
  {
   "cell_type": "markdown",
   "metadata": {},
   "source": [
    "<div class=\"alert alert-block alert-warning\"><span style=\"color:green\"><font size=\"3\" face=\"Arial\"><b>Промежуточные выводы 4.5:<b/></span>\n",
    "    \n",
    "<span style=\"color:steelblue\"><font size=\"3\" face=\"Courier\"><b>1. Модель обучается очень быстро в виду малого количества параметров, а также не переобучается.\\\n",
    "    2. Для значений количества итераций от 1 до 21 появляется предупреждение о недостаточном количестве итераций для схождения.\\\n",
    "    Необходимо увеличить минимальное количество итераций до 22 и более для избежания появления предупреждения.\\\n",
    "    3. При этом модель логистической регрессии обучается до количества итераций, равного 19, со значением правильности (accuracy) на валидационной выборке 0.7278382581648523, а текущая правильность (accuracy) на обучающей выборке 0.7562240663900415 (выше порогового значения 0.75).\\\n",
    "    4. После количества итераций, равного 19, значения правильности (accuracy) на выборках перестают расти.\\\n",
    "    5. Так как с алгоритмом 'lbfgs' оптимальная правильность (accuracy) на обучающей выборке 0.7614107883817427, что больше правильности (accuracy) на обучающей выборке 0.7562240663900415 с алгоритмом 'liblinear', приоритетной будет модель с алгоритмом 'lbfgs'.</b></span></div>"
   ]
  },
  {
   "cell_type": "markdown",
   "metadata": {},
   "source": [
    "### Вывод"
   ]
  },
  {
   "cell_type": "markdown",
   "metadata": {},
   "source": [
    "<div class=\"alert alert-block alert-warning\">\n",
    "    \n",
    "<span style=\"color:steelblue\"><font size=\"3\" face=\"Courier\"><b>1. Созданная функция 'model_selection()' работает, успешно обучает и формирует любую из трёх моделей ML (DecisionTreeClassifier, RandomForestClassifier, LogistisRegression), выводит значения параметров обучения, при которых модель переобучается, и лучшие значения параметров на валидационных выборках.\\\n",
    "    2. Из трёх моделей лучшее значение правильности (accuracy) на валидационной выборке имеет случайный лес (RandomForestClassifier) - 0.8009331259720062 при 5 деревьях глубиной дерева 10 с количеством выборок в листе 5.\\\n",
    "    3. На втором месте решающее дерево (DecisionTreeClassifier) со значением правильности (accuracy) на валидационной выборке 0.7916018662519441 при глубине дерева 5 и количестве выборок в листе 23.\\\n",
    "    4. На третьем месте модель логистической регрессии (LogistisRegression).\\\n",
    "    Так как с алгоритмом 'lbfgs' оптимальная правильность (accuracy) на обучающей выборке 0.7614107883817427, что больше правильности (accuracy) на обучающей выборке 0.7562240663900415 с алгоритмом 'liblinear', приоритетной будет модель с алгоритмом 'lbfgs'.\\\n",
    "    При количестве итераций, равном 70, значение правильности (accuracy) на валидационной выборке 0.7262830482115086, а текущая правильность (accuracy) на обучающей выборке 0.7614107883817427 (выше порогового значения 0.75).</b></span></div>"
   ]
  },
  {
   "cell_type": "markdown",
   "metadata": {},
   "source": [
    "## Проверка моделей на тестовой выборке"
   ]
  },
  {
   "cell_type": "markdown",
   "metadata": {},
   "source": [
    "### Проверка решающего дерева - DecisionTreeClassifier"
   ]
  },
  {
   "cell_type": "code",
   "execution_count": 251,
   "metadata": {
    "scrolled": false
   },
   "outputs": [],
   "source": [
    "# Создание переменной с предсказаниями по тестовой\n",
    "# выборке признаков обученной моделью model_tree\n",
    "predictions_test_tree = model_tree.predict(features_test)"
   ]
  },
  {
   "cell_type": "code",
   "execution_count": 252,
   "metadata": {},
   "outputs": [],
   "source": [
    "# Создание переменной со значением правильности (accuracy) обученной\n",
    "# модели model_tree на тестовых целевых признаках\n",
    "accuracy_test_tree = accuracy_score(target_test, predictions_test_tree)"
   ]
  },
  {
   "cell_type": "code",
   "execution_count": 253,
   "metadata": {
    "scrolled": true
   },
   "outputs": [
    {
     "data": {
      "text/plain": [
       "0.7916018662519441"
      ]
     },
     "execution_count": 253,
     "metadata": {},
     "output_type": "execute_result"
    }
   ],
   "source": [
    "# Вывод на экран accuracy_test_tree\n",
    "accuracy_test_tree"
   ]
  },
  {
   "cell_type": "markdown",
   "metadata": {},
   "source": [
    "<div class=\"alert alert-block alert-warning\"><span style=\"color:green\"><font size=\"3\" face=\"Arial\"><b>Промежуточные выводы 5.1:<b/></span>\n",
    "    \n",
    "<span style=\"color:steelblue\"><font size=\"3\" face=\"Courier\"><b>1. Значение правильности (accuracy) на тестовой выборке составляет 0.7916018662519441 и повторяет значение на валидационной выборке - 0.7916018662519441.\\\n",
    "    2. Правильность обучения довольно хорошая и немного меньше текущей правильности (accuracy) на обучающей выборке - 0.8226141078838174.\\\n",
    "    3. Accuracy обученной модели больше порогового значения 0.75.</b></span></div>"
   ]
  },
  {
   "cell_type": "markdown",
   "metadata": {},
   "source": [
    "### Проверка случайного леса - RandomForestClassifier"
   ]
  },
  {
   "cell_type": "code",
   "execution_count": 254,
   "metadata": {
    "scrolled": false
   },
   "outputs": [],
   "source": [
    "# Создание переменной с предсказаниями по тестовой\n",
    "# выборке признаков обученной моделью model_random_forest\n",
    "predictions_test_forest = model_random_forest.predict(features_test)"
   ]
  },
  {
   "cell_type": "code",
   "execution_count": 255,
   "metadata": {},
   "outputs": [],
   "source": [
    "# Создание переменной со значением правильности (accuracy) обученной\n",
    "# модели model_random_forest на тестовых целевых признаках\n",
    "accuracy_test_forest = accuracy_score(target_test, predictions_test_forest)"
   ]
  },
  {
   "cell_type": "code",
   "execution_count": 256,
   "metadata": {
    "scrolled": true
   },
   "outputs": [
    {
     "data": {
      "text/plain": [
       "0.7962674961119751"
      ]
     },
     "execution_count": 256,
     "metadata": {},
     "output_type": "execute_result"
    }
   ],
   "source": [
    "# Вывод на экран accuracy_test_forest\n",
    "accuracy_test_forest"
   ]
  },
  {
   "cell_type": "markdown",
   "metadata": {},
   "source": [
    "<div class=\"alert alert-block alert-warning\"><span style=\"color:green\"><font size=\"3\" face=\"Arial\"><b>Промежуточные выводы 5.2:<b/></span>\n",
    "    \n",
    "<span style=\"color:steelblue\"><font size=\"3\" face=\"Courier\"><b>1. Значение правильности (accuracy) на тестовой выборке составляет 0.7962674961119751 и немного меньше значения на валидационной выборке - 0.8009331259720062.\\\n",
    "    2. Правильность обучения довольно хорошая. Разница с текущей правильностью (accuracy) на обучающей выборке - 0.850103734439834, незначительная.\\\n",
    "    3. Accuracy обученной модели больше порогового значения 0.75.</b></span></div>"
   ]
  },
  {
   "cell_type": "markdown",
   "metadata": {},
   "source": [
    "### Исследование логистической регрессии - LogisticRegression"
   ]
  },
  {
   "cell_type": "code",
   "execution_count": 257,
   "metadata": {
    "scrolled": false
   },
   "outputs": [],
   "source": [
    "# Создание переменной с предсказаниями по тестовой\n",
    "# выборке признаков обученной моделью model_logistic2\n",
    "predictions_test_logistic = model_logistic2.predict(features_test)"
   ]
  },
  {
   "cell_type": "code",
   "execution_count": 258,
   "metadata": {},
   "outputs": [],
   "source": [
    "# Создание переменной со значением правильности (accuracy) обученной\n",
    "# модели model_logistic2 на тестовых целевых признаках\n",
    "accuracy_test_logistic = accuracy_score(target_test, predictions_test_logistic)"
   ]
  },
  {
   "cell_type": "code",
   "execution_count": 259,
   "metadata": {},
   "outputs": [
    {
     "data": {
      "text/plain": [
       "0.7200622083981337"
      ]
     },
     "execution_count": 259,
     "metadata": {},
     "output_type": "execute_result"
    }
   ],
   "source": [
    "# Вывод на экран accuracy_test_logistic\n",
    "accuracy_test_logistic"
   ]
  },
  {
   "cell_type": "markdown",
   "metadata": {},
   "source": [
    "<div class=\"alert alert-block alert-warning\"><span style=\"color:green\"><font size=\"3\" face=\"Arial\"><b>Промежуточные выводы 5.3:<b/></span>\n",
    "    \n",
    "<span style=\"color:steelblue\"><font size=\"3\" face=\"Courier\"><b>1. Значение правильности (accuracy) на тестовой выборке составляет 0.7200622083981337 и немного меньше значения на валидационной выборке - 0.7262830482115086.\\\n",
    "    2. Правильность обучения довольно хорошая. Разница с текущей правильностью (accuracy) на обучающей выборке - 0.7614107883817427, незначительная.\\\n",
    "    3. Accuracy обученной модели больше порогового значения 0.75.</b></span></div>"
   ]
  },
  {
   "cell_type": "markdown",
   "metadata": {},
   "source": [
    "### Вывод"
   ]
  },
  {
   "cell_type": "markdown",
   "metadata": {},
   "source": [
    "<div class=\"alert alert-block alert-warning\">\n",
    "    \n",
    "<span style=\"color:steelblue\"><font size=\"3\" face=\"Courier\"><b>1. Из трёх моделей лучшее значение правильности (accuracy) на тестовой выборке имеет случайный лес (RandomForestClassifier) - 0.7962674961119751.\\\n",
    "    2. На втором месте решающее дерево (DecisionTreeClassifier) со значением правильности (accuracy) на тестовой выборке 0.7916018662519441.\\\n",
    "    3. На третьем месте модель логистической регрессии (LogistisRegression). Значение правильности (accuracy) на тестовой выборке 0.7200622083981337.\\\n",
    "    4. Все модели хорошо обучены.</b></span></div>"
   ]
  },
  {
   "cell_type": "markdown",
   "metadata": {},
   "source": [
    "## (бонус) Проверка модели на адекватность"
   ]
  },
  {
   "cell_type": "markdown",
   "metadata": {},
   "source": [
    "**На адекватность проверю модель с лучшим значением accuracy - model_random_forest**"
   ]
  },
  {
   "cell_type": "markdown",
   "metadata": {},
   "source": [
    "### Проверка модели model_random_forest"
   ]
  },
  {
   "cell_type": "code",
   "execution_count": 260,
   "metadata": {},
   "outputs": [],
   "source": [
    "# Формирование матрицы ошибок cm_forest\n",
    "cm_forest = confusion_matrix(\n",
    "    y_true=target_test,\n",
    "    y_pred=predictions_test_forest,\n",
    "    labels=model_random_forest.classes_,\n",
    "    normalize='true'\n",
    ")"
   ]
  },
  {
   "cell_type": "code",
   "execution_count": 261,
   "metadata": {
    "scrolled": true
   },
   "outputs": [
    {
     "data": {
      "image/png": "[encoded data removed]",
      "text/plain": [
       "<Figure size 432x288 with 2 Axes>"
      ]
     },
     "metadata": {
      "needs_background": "light"
     },
     "output_type": "display_data"
    }
   ],
   "source": [
    "# Вывод на экран матрицы ошибок cm_forest\n",
    "ConfusionMatrixDisplay(\n",
    "    confusion_matrix=cm_forest,\n",
    "    display_labels=model_random_forest.classes_\n",
    ").plot()\n",
    "plt.show()"
   ]
  },
  {
   "cell_type": "markdown",
   "metadata": {},
   "source": [
    "<div class=\"alert alert-block alert-warning\"><span style=\"color:green\"><font size=\"3\" face=\"Arial\"><b>Промежуточные выводы 6.1:<b/></span>\n",
    "    \n",
    "<span style=\"color:steelblue\"><font size=\"3\" face=\"Courier\"><b>1. Модель правильно предсказала клиентов, не являющихся пользователями тарифа 'Ultra' (TN - True Negative (истинно-отрицательное решение), верхний левый квадрант) в 93% случаев, а прогнозы для пользователей тарифа 'Ultra' (TP - True Positive (истинно-положительное решение), нижний правый квадрант) — в 53%.\\\n",
    "    2. При этом модель предсказала отрицательный результат, но на самом деле он положительный (FN - False Negative (ложноотрицательное решение)) в 47% случаев, и предсказала положительный результат, а на самом деле он отрицательный (FP - False Positive (ложноположительное решение)) - в 7%.\\\n",
    "    3. Составим базовую модель с фиктивными классификаторами (DummyClassifier()), которая делает прогнозы, не пытаясь найти закономерности в данных. Модель по умолчанию по существу рассматривает, какая метка наиболее часто встречается в обучающем наборе данных, и делает прогнозы на основе этой метки.</b></span></div>"
   ]
  },
  {
   "cell_type": "markdown",
   "metadata": {},
   "source": [
    "### Создание и проверка модели DummyClassifier"
   ]
  },
  {
   "cell_type": "code",
   "execution_count": 262,
   "metadata": {},
   "outputs": [],
   "source": [
    "# Создание объекта структуры данных фиктивного\n",
    "# классификатора DummyClassifier\n",
    "model_dummy = DummyClassifier(strategy='stratified', random_state=777)"
   ]
  },
  {
   "cell_type": "code",
   "execution_count": 263,
   "metadata": {},
   "outputs": [
    {
     "data": {
      "text/plain": [
       "DummyClassifier(random_state=777, strategy='stratified')"
      ]
     },
     "execution_count": 263,
     "metadata": {},
     "output_type": "execute_result"
    }
   ],
   "source": [
    "# Запуск обучения модели на обучающей выборке\n",
    "model_dummy.fit(features_train, target_train)"
   ]
  },
  {
   "cell_type": "code",
   "execution_count": 264,
   "metadata": {},
   "outputs": [],
   "source": [
    "# Создание переменной с предсказаниями по тестовой\n",
    "# выборке признаков обученной моделью model_dummy\n",
    "predictions_test_dummy = model_dummy.predict(features_test)"
   ]
  },
  {
   "cell_type": "code",
   "execution_count": 265,
   "metadata": {},
   "outputs": [],
   "source": [
    "# Формирование матрицы ошибок cm_dummy\n",
    "cm_dummy = confusion_matrix(\n",
    "    y_true=target_test,\n",
    "    y_pred=predictions_test_dummy,\n",
    "    labels=model_dummy.classes_,\n",
    "    normalize='true'\n",
    ")"
   ]
  },
  {
   "cell_type": "code",
   "execution_count": 266,
   "metadata": {},
   "outputs": [
    {
     "data": {
      "image/png": "[encoded data removed]",
      "text/plain": [
       "<Figure size 432x288 with 2 Axes>"
      ]
     },
     "metadata": {
      "needs_background": "light"
     },
     "output_type": "display_data"
    }
   ],
   "source": [
    "# Вывод на экран матрицы ошибок cm_dummy\n",
    "ConfusionMatrixDisplay(\n",
    "    confusion_matrix=cm_dummy,\n",
    "    display_labels=model_dummy.classes_\n",
    ").plot()\n",
    "plt.show()"
   ]
  },
  {
   "cell_type": "code",
   "execution_count": 267,
   "metadata": {},
   "outputs": [
    {
     "data": {
      "text/plain": [
       "0.0    0.70695\n",
       "1.0    0.29305\n",
       "Name: is_ultra, dtype: float64"
      ]
     },
     "execution_count": 267,
     "metadata": {},
     "output_type": "execute_result"
    }
   ],
   "source": [
    "# Вывод на экран уникальных значений и их\n",
    "# количества в target_train в пропорциях\n",
    "target_train.value_counts(normalize=True)"
   ]
  },
  {
   "cell_type": "markdown",
   "metadata": {},
   "source": [
    "<div class=\"alert alert-block alert-warning\"><span style=\"color:green\"><font size=\"3\" face=\"Arial\"><b>Промежуточные выводы 6.2:<b/></span>\n",
    "    \n",
    "<span style=\"color:steelblue\"><font size=\"3\" face=\"Courier\"><b>1. Дисбаланс классов - в наборе данных features_train гораздо больше клиентов (71%), не являющихся пользователями тарифа 'Ultra', чем тех, кто является (29%), поэтому фиктивный классификатор предсказывает больше клиентов другого тарифа.\\\n",
    "Из этого следует, что model_random_forest хорошо определяет пользователей другого тарифа, а хуже - пользователей тарифа 'Ultra'.\\\n",
    "    2. Для удаления дисбаланса выполняю передискретизацию. С помощью SMOTENC создаю синтетические выборки, похожие на реальные данные, чтобы уравнять классы.</b></span></div>"
   ]
  },
  {
   "cell_type": "markdown",
   "metadata": {},
   "source": [
    "### Создание синтетических выборок SMOTENC"
   ]
  },
  {
   "cell_type": "code",
   "execution_count": 268,
   "metadata": {},
   "outputs": [],
   "source": [
    "# Создание объекта структуры данных SMOTENC\n",
    "sm = SMOTENC(categorical_features=[0, 1], random_state=777)"
   ]
  },
  {
   "cell_type": "code",
   "execution_count": 269,
   "metadata": {},
   "outputs": [],
   "source": [
    "# Формирование синтетических выборок с признаками features_train_sm\n",
    "# и целевыми признаками target_train_sm\n",
    "features_train_sm, target_train_sm = sm.fit_resample(features_train, target_train)"
   ]
  },
  {
   "cell_type": "code",
   "execution_count": 270,
   "metadata": {
    "scrolled": false
   },
   "outputs": [
    {
     "data": {
      "text/plain": [
       "0.0    0.5\n",
       "1.0    0.5\n",
       "Name: is_ultra, dtype: float64"
      ]
     },
     "execution_count": 270,
     "metadata": {},
     "output_type": "execute_result"
    }
   ],
   "source": [
    "# Вывод на экран уникальных значений и их\n",
    "# количества в target_train_sm в пропорциях\n",
    "target_train_sm.value_counts(normalize=True)"
   ]
  },
  {
   "cell_type": "markdown",
   "metadata": {},
   "source": [
    "<div class=\"alert alert-block alert-warning\"><span style=\"color:green\"><font size=\"3\" face=\"Arial\"><b>Промежуточные выводы 6.3:<b/></span>\n",
    "    \n",
    "<span style=\"color:steelblue\"><font size=\"3\" face=\"Courier\"><b>1. Синтетические выборки созданы. Дисбаланс классов устранён.\\\n",
    "    2. Необходимо обучить обе модели на синтетических выборках и сравнить матрицы ошибок.</b></span></div>"
   ]
  },
  {
   "cell_type": "markdown",
   "metadata": {},
   "source": [
    "### Создание модели model_random_forest_sm и проверка"
   ]
  },
  {
   "cell_type": "code",
   "execution_count": 271,
   "metadata": {
    "scrolled": false
   },
   "outputs": [
    {
     "name": "stdout",
     "output_type": "stream",
     "text": [
      "\n",
      "Лучшее значение правильности (accuracy) на обучающей выборке: 0.9717534849596479 при значениях параметров:\n",
      "- количество деревьев в лесу: 5\n",
      "- максимальная глубина дерева: 20\n",
      "- минимальное количество выборок в листе: 1\n",
      "--------------------------------------------------------------------------------------------------------------\n",
      "Лучшее значение правильности (accuracy) на валидационной выборке: 0.7947122861586314 при значениях параметров:\n",
      "- количество деревьев в лесу: 5\n",
      "- максимальная глубина дерева: 7\n",
      "- минимальное количество выборок в листе: 3\n",
      "- правильность (accuracy) на обучающей выборке: 0.8239178283198826\n",
      "\n"
     ]
    },
    {
     "data": {
      "text/html": [
       "<div>\n",
       "<style scoped>\n",
       "    .dataframe tbody tr th:only-of-type {\n",
       "        vertical-align: middle;\n",
       "    }\n",
       "\n",
       "    .dataframe tbody tr th {\n",
       "        vertical-align: top;\n",
       "    }\n",
       "\n",
       "    .dataframe thead th {\n",
       "        text-align: right;\n",
       "    }\n",
       "</style>\n",
       "<table border=\"1\" class=\"dataframe\">\n",
       "  <thead>\n",
       "    <tr style=\"text-align: right;\">\n",
       "      <th></th>\n",
       "      <th>number_tree</th>\n",
       "      <th>depth_value</th>\n",
       "      <th>leaf_value</th>\n",
       "      <th>accuracy_train</th>\n",
       "      <th>accuracy_valid</th>\n",
       "    </tr>\n",
       "  </thead>\n",
       "  <tbody>\n",
       "    <tr>\n",
       "      <th>0</th>\n",
       "      <td>1</td>\n",
       "      <td>1</td>\n",
       "      <td>1</td>\n",
       "      <td>0.617755</td>\n",
       "      <td>0.712286</td>\n",
       "    </tr>\n",
       "    <tr>\n",
       "      <th>1</th>\n",
       "      <td>1</td>\n",
       "      <td>1</td>\n",
       "      <td>2</td>\n",
       "      <td>0.617755</td>\n",
       "      <td>0.712286</td>\n",
       "    </tr>\n",
       "    <tr>\n",
       "      <th>2</th>\n",
       "      <td>1</td>\n",
       "      <td>1</td>\n",
       "      <td>3</td>\n",
       "      <td>0.617755</td>\n",
       "      <td>0.712286</td>\n",
       "    </tr>\n",
       "    <tr>\n",
       "      <th>3</th>\n",
       "      <td>1</td>\n",
       "      <td>1</td>\n",
       "      <td>4</td>\n",
       "      <td>0.617755</td>\n",
       "      <td>0.712286</td>\n",
       "    </tr>\n",
       "    <tr>\n",
       "      <th>4</th>\n",
       "      <td>1</td>\n",
       "      <td>1</td>\n",
       "      <td>5</td>\n",
       "      <td>0.617755</td>\n",
       "      <td>0.712286</td>\n",
       "    </tr>\n",
       "    <tr>\n",
       "      <th>...</th>\n",
       "      <td>...</td>\n",
       "      <td>...</td>\n",
       "      <td>...</td>\n",
       "      <td>...</td>\n",
       "      <td>...</td>\n",
       "    </tr>\n",
       "    <tr>\n",
       "      <th>1995</th>\n",
       "      <td>5</td>\n",
       "      <td>20</td>\n",
       "      <td>16</td>\n",
       "      <td>0.832355</td>\n",
       "      <td>0.763608</td>\n",
       "    </tr>\n",
       "    <tr>\n",
       "      <th>1996</th>\n",
       "      <td>5</td>\n",
       "      <td>20</td>\n",
       "      <td>17</td>\n",
       "      <td>0.826119</td>\n",
       "      <td>0.762053</td>\n",
       "    </tr>\n",
       "    <tr>\n",
       "      <th>1997</th>\n",
       "      <td>5</td>\n",
       "      <td>20</td>\n",
       "      <td>18</td>\n",
       "      <td>0.829787</td>\n",
       "      <td>0.769829</td>\n",
       "    </tr>\n",
       "    <tr>\n",
       "      <th>1998</th>\n",
       "      <td>5</td>\n",
       "      <td>20</td>\n",
       "      <td>19</td>\n",
       "      <td>0.829054</td>\n",
       "      <td>0.760498</td>\n",
       "    </tr>\n",
       "    <tr>\n",
       "      <th>1999</th>\n",
       "      <td>5</td>\n",
       "      <td>20</td>\n",
       "      <td>20</td>\n",
       "      <td>0.824652</td>\n",
       "      <td>0.766719</td>\n",
       "    </tr>\n",
       "  </tbody>\n",
       "</table>\n",
       "<p>2000 rows × 5 columns</p>\n",
       "</div>"
      ],
      "text/plain": [
       "      number_tree  depth_value  leaf_value  accuracy_train  accuracy_valid\n",
       "0               1            1           1        0.617755        0.712286\n",
       "1               1            1           2        0.617755        0.712286\n",
       "2               1            1           3        0.617755        0.712286\n",
       "3               1            1           4        0.617755        0.712286\n",
       "4               1            1           5        0.617755        0.712286\n",
       "...           ...          ...         ...             ...             ...\n",
       "1995            5           20          16        0.832355        0.763608\n",
       "1996            5           20          17        0.826119        0.762053\n",
       "1997            5           20          18        0.829787        0.769829\n",
       "1998            5           20          19        0.829054        0.760498\n",
       "1999            5           20          20        0.824652        0.766719\n",
       "\n",
       "[2000 rows x 5 columns]"
      ]
     },
     "metadata": {},
     "output_type": "display_data"
    },
    {
     "name": "stdout",
     "output_type": "stream",
     "text": [
      "\n"
     ]
    }
   ],
   "source": [
    "# Формирование и обучение модели случайного леса \n",
    "# на синтетических выборках\n",
    "model_random_forest_sm = model_selection(\n",
    "    RandomForestClassifier,\n",
    "    features_train_sm,\n",
    "    target_train_sm,\n",
    "    features_valid,\n",
    "    target_valid,\n",
    "    21,\n",
    "    6,\n",
    "    1\n",
    ")"
   ]
  },
  {
   "cell_type": "code",
   "execution_count": 272,
   "metadata": {
    "scrolled": false
   },
   "outputs": [],
   "source": [
    "# Создание переменной с предсказаниями по тестовой\n",
    "# выборке признаков обученной моделью model_random_forest_sm\n",
    "predictions_test_forest_sm = model_random_forest_sm.predict(features_test)"
   ]
  },
  {
   "cell_type": "code",
   "execution_count": 273,
   "metadata": {},
   "outputs": [],
   "source": [
    "# Формирование матрицы ошибок cm_forest_sm\n",
    "cm_forest_sm = confusion_matrix(\n",
    "    y_true=target_test,\n",
    "    y_pred=predictions_test_forest_sm,\n",
    "    labels=model_random_forest_sm.classes_,\n",
    "    normalize='true'\n",
    ")"
   ]
  },
  {
   "cell_type": "code",
   "execution_count": 274,
   "metadata": {},
   "outputs": [
    {
     "data": {
      "image/png": "[encoded data removed]",
      "text/plain": [
       "<Figure size 432x288 with 2 Axes>"
      ]
     },
     "metadata": {
      "needs_background": "light"
     },
     "output_type": "display_data"
    }
   ],
   "source": [
    "# Вывод на экран матрицы ошибок cm_forest_sm\n",
    "ConfusionMatrixDisplay(\n",
    "    confusion_matrix=cm_forest_sm,\n",
    "    display_labels=model_random_forest_sm.classes_\n",
    ").plot()\n",
    "plt.show()"
   ]
  },
  {
   "cell_type": "markdown",
   "metadata": {},
   "source": [
    "<div class=\"alert alert-block alert-warning\"><span style=\"color:green\"><font size=\"3\" face=\"Arial\"><b>Промежуточные выводы 6.4:<b/></span>\n",
    "    \n",
    "<span style=\"color:steelblue\"><font size=\"3\" face=\"Courier\"><b>1. Модель правильно предсказала клиентов, не являющихся пользователями тарифа 'Ultra' (TN - True Negative (истинно-отрицательное решение), верхний левый квадрант) в 87% случаев, а прогнозы для пользователей тарифа 'Ultra' (TP - True Positive (истинно-положительное решение), нижний правый квадрант) — в 58%.\\\n",
    "    2. При этом модель предсказала отрицательный результат, но на самом деле он положительный (FN - False Negative (ложноотрицательное решение)) в 42% случаев, и предсказала положительный результат, а на самом деле он отрицательный (FP - False Positive (ложноположительное решение)) - в 13%.</b></span></div>"
   ]
  },
  {
   "cell_type": "markdown",
   "metadata": {},
   "source": [
    "### Создание модели model_dummy_sm и проверка"
   ]
  },
  {
   "cell_type": "code",
   "execution_count": 275,
   "metadata": {},
   "outputs": [],
   "source": [
    "# Создание объекта структуры данных фиктивного\n",
    "# классификатора DummyClassifier\n",
    "model_dummy_sm = DummyClassifier(strategy='stratified', random_state=777)"
   ]
  },
  {
   "cell_type": "code",
   "execution_count": 276,
   "metadata": {},
   "outputs": [
    {
     "data": {
      "text/plain": [
       "DummyClassifier(random_state=777, strategy='stratified')"
      ]
     },
     "execution_count": 276,
     "metadata": {},
     "output_type": "execute_result"
    }
   ],
   "source": [
    "# Запуск обучения модели на обучающей выборке\n",
    "model_dummy_sm.fit(features_train_sm, target_train_sm)"
   ]
  },
  {
   "cell_type": "code",
   "execution_count": 277,
   "metadata": {},
   "outputs": [],
   "source": [
    "# Создание переменной с предсказаниями по тестовой\n",
    "# выборке признаков обученной моделью model_dummy_sm\n",
    "predictions_test_dummy_sm = model_dummy_sm.predict(features_test)"
   ]
  },
  {
   "cell_type": "code",
   "execution_count": 278,
   "metadata": {},
   "outputs": [],
   "source": [
    "# Формирование матрицы ошибок cm_dummy_sm\n",
    "cm_dummy_sm = confusion_matrix(\n",
    "    y_true=target_test,\n",
    "    y_pred=predictions_test_dummy_sm,\n",
    "    labels=model_dummy_sm.classes_,\n",
    "    normalize='true'\n",
    ")"
   ]
  },
  {
   "cell_type": "code",
   "execution_count": 279,
   "metadata": {},
   "outputs": [
    {
     "data": {
      "image/png": "[encoded data removed]",
      "text/plain": [
       "<Figure size 432x288 with 2 Axes>"
      ]
     },
     "metadata": {
      "needs_background": "light"
     },
     "output_type": "display_data"
    }
   ],
   "source": [
    "# Вывод на экран матрицы ошибок cm_dummy_sm\n",
    "ConfusionMatrixDisplay(\n",
    "    confusion_matrix=cm_dummy_sm,\n",
    "    display_labels=model_dummy_sm.classes_\n",
    ").plot()\n",
    "plt.show()"
   ]
  },
  {
   "cell_type": "markdown",
   "metadata": {},
   "source": [
    "<div class=\"alert alert-block alert-warning\"><span style=\"color:green\"><font size=\"3\" face=\"Arial\"><b>Промежуточные выводы 6.5:<b/></span>\n",
    "    \n",
    "<span style=\"color:steelblue\"><font size=\"3\" face=\"Courier\"><b>1. Модель правильно предсказала клиентов, не являющихся пользователями тарифа 'Ultra' (TN - True Negative (истинно-отрицательное решение), верхний левый квадрант) в 51% случаев, а прогнозы для пользователей тарифа 'Ultra' (TP - True Positive (истинно-положительное решение), нижний правый квадрант) — в 54%.\\\n",
    "    2. При этом модель предсказала отрицательный результат, но на самом деле он положительный (FN - False Negative (ложноотрицательное решение)) в 46% случаев, и предсказала положительный результат, а на самом деле он отрицательный (FP - False Positive (ложноположительное решение)) - в 49%.</b></span></div>"
   ]
  },
  {
   "cell_type": "markdown",
   "metadata": {},
   "source": [
    "### Анализ метрик качества Precision и Recall"
   ]
  },
  {
   "cell_type": "code",
   "execution_count": 280,
   "metadata": {},
   "outputs": [
    {
     "name": "stdout",
     "output_type": "stream",
     "text": [
      "              precision    recall  f1-score   support\n",
      "\n",
      "     class 0       0.80      0.93      0.86       431\n",
      "     class 1       0.78      0.53      0.63       212\n",
      "\n",
      "    accuracy                           0.80       643\n",
      "   macro avg       0.79      0.73      0.75       643\n",
      "weighted avg       0.79      0.80      0.78       643\n",
      "\n"
     ]
    }
   ],
   "source": [
    "# Вывод словаря с отчётом по метрикам качества\n",
    "print(classification_report(target_test, predictions_test_forest, target_names=['class 0', 'class 1']))"
   ]
  },
  {
   "cell_type": "markdown",
   "metadata": {},
   "source": [
    "<div class=\"alert alert-block alert-warning\"><span style=\"color:green\"><font size=\"3\" face=\"Arial\"><b>Промежуточные выводы 6.6:<b/></span>\n",
    "    \n",
    "<span style=\"color:steelblue\"><font size=\"3\" face=\"Courier\"><b>1. Метрика качества Recall (полнота) показывает, что модель выявила пользователей тарифа 'Ultra' (класс 1.0) в объёме 53% от общего количества пользователей тарифа 'Ultra'.\\\n",
    "    2. Метрика качества Precision (точность) показывает, что модель выявила пользователей тарифа 'Ultra' (класс 1.0) с точностью 78% - некоторые пользователи ошибочно отнесены к пользователям тарифа 'Ultra', и на самом деле являются пользователями другого тарифа.</b></span></div>"
   ]
  },
  {
   "cell_type": "markdown",
   "metadata": {},
   "source": [
    "### Вывод"
   ]
  },
  {
   "cell_type": "markdown",
   "metadata": {},
   "source": [
    "<div class=\"alert alert-block alert-warning\">\n",
    "    \n",
    "<span style=\"color:steelblue\"><font size=\"3\" face=\"Courier\"><b>1. Модель model_random_forest правильно предсказала клиентов, не являющихся пользователями тарифа 'Ultra' (TN - True Negative (истинно-отрицательное решение), верхний левый квадрант) в 93% случаев, а прогнозы для пользователей тарифа 'Ultra' (TP - True Positive (истинно-положительное решение), нижний правый квадрант) — в 53%.\\\n",
    "    2. При этом модель model_random_forest предсказала отрицательный результат, но на самом деле он положительный (FN - False Negative (ложноотрицательное решение)) в 47% случаев, и предсказала положительный результат, а на самом деле он отрицательный (FP - False Positive (ложноположительное решение)) - в 7%.\\\n",
    "    3. После составления базовой модели с фиктивными классификаторами (DummyClassifier), которая делает прогнозы, не пытаясь найти закономерности в данных, был выявлен дисбаланс классов, связанный с тем, что в наборе данных обучающей базы гораздо больше клиентов (71%), не являющихся пользователями тарифа 'Ultra', чем тех, кто является (29%), поэтому фиктивный классификатор предсказывает больше клиентов другого тарифа.\\\n",
    "Из этого следует, что model_random_forest хорошо определяет пользователей другого тарифа, а хуже - пользователей тарифа 'Ultra'.\\\n",
    "    4. После создания с помощью SMOTENC синтетическихх выборок, похожих на реальные данные, был устранён дисбаланс классов в данных.\\\n",
    "    5. Повторное обучение обеих моделей на синтетических выборках и дальнейшее сравнение матриц ошибок показало, что модель model_random_forest_sm фактически увеличила свои показатели по количеству верных ответов на 5% (с 53% до 58%), превысив показатель базовой модели model_dummy_sm с фиктивными классификаторами на 4%.\\\n",
    "    6. Метрика качества Recall (полнота) показала, что модель model_random_forest выявила пользователей тарифа 'Ultra' (класс 1.0) в объёме 53% от общего количества пользователей тарифа 'Ultra'.\\\n",
    "    7. Метрика качества Precision (точность) показала, что модель model_random_forest выявила пользователей тарифа 'Ultra' (класс 1.0) с точностью 78% - некоторые пользователи ошибочно отнесены к пользователям тарифа 'Ultra', и на самом деле являются пользователями другого тарифа.\\\n",
    "    8. Исходя из выполненной проверки модели на адекватность, делаю вывод, что помимо показателя Accuracy (правильность) необходимо дополнительно изучать и другие метрики качества, такие как Recall (полнота) и Precision (точность), которые показали, что качество обученной модели model_random_forest довольно низкое и её нужно улучшать.\\\n",
    "    Предположу, что для улучшения показателей метрик качества необходимо увеличить в обучающей выборке долю данных, относящихся к целевому классу 1.0 - пользователи тарифа 'Ultra'.</b></span></div>"
   ]
  },
  {
   "cell_type": "markdown",
   "metadata": {},
   "source": [
    "## Общий вывод"
   ]
  },
  {
   "cell_type": "markdown",
   "metadata": {},
   "source": [
    "<div class=\"alert alert-block alert-warning\">\n",
    "    \n",
    "<span style=\"color:steelblue\"><font size=\"3\" face=\"Courier\"><b>В ходе выполнения проекта проанализировал предоставленные данные, на основании которых обучил три модели с изучением метрик качества одной из них.\\\n",
    "    \\\n",
    "    1. Названия колонок датафрейма соответствуют правилам написания.\\\n",
    "    2. Пропуски, аномалии и явные дубликаты не обнаружены.\\\n",
    "    3. Выполнил декомпозицию исходного датафрейма и сформировал обучающую, валидационную и тестовую выборки.\\\n",
    "    4. Создал функцию 'model_selection()', которая обучает и формирует любую из трёх моделей ML (DecisionTreeClassifier, RandomForestClassifier, LogistisRegression), выводит значения параметров обучения, при которых модель переобучается, и лучшие значения параметров на валидационных выборках.\\\n",
    "    \\\n",
    "    5. Результаты исследования созданных моделей:\\\n",
    "    5.1. Из трёх моделей лучшее значение правильности (accuracy) на валидационной выборке имеет случайный лес (RandomForestClassifier) - 0.8009331259720062 при 5 деревьях глубиной дерева 10 с количеством выборок в листе 5.\\\n",
    "    5.2. На втором месте решающее дерево (DecisionTreeClassifier) со значением правильности (accuracy) на валидационной выборке 0.7916018662519441 при глубине дерева 5 и количестве выборок в листе 23.\\\n",
    "    5.3 На третьем месте модель логистической регрессии (LogistisRegression) с алгоритмом 'lbfgs'.\\\n",
    "    При количестве итераций, равном 70, значение правильности (accuracy) на валидационной выборке 0.7262830482115086, а текущая правильность (accuracy) на обучающей выборке 0.7614107883817427 (выше порогового значения 0.75).\\\n",
    "    \\\n",
    "    6. Проверка моделей на тестовой выборке показала следующие результаты:\\\n",
    "    6.1. Из трёх моделей лучшее значение правильности (accuracy) на тестовой выборке имеет случайный лес (RandomForestClassifier) - 0.7962674961119751.\\\n",
    "    6.2. На втором месте решающее дерево (DecisionTreeClassifier) со значением правильности (accuracy) на тестовой выборке 0.79616018662519441.\\\n",
    "    6.3. На третьем месте модель логистической регрессии (LogistisRegression). Значение правильности (accuracy) на тестовой выборке 0.7200622083981337.\\\n",
    "    6.4. Все модели хорошо обучены.\\\n",
    "    \\\n",
    "    7. В ходе проверки моделей на адекватность составлены следующие выводы:\\\n",
    "    7.1. Модель model_random_forest правильно предсказала клиентов, не являющихся пользователями тарифа 'Ultra' (TN - True Negative (истинно-отрицательное решение), верхний левый квадрант) в 93% случаев, а прогнозы для пользователей тарифа 'Ultra' (TP - True Positive (истинно-положительное решение), нижний правый квадрант) — в 53%.\\\n",
    "    7.2. При этом модель model_random_forest предсказала отрицательный результат, но на самом деле он положительный (FN - False Negative (ложноотрицательное решение)) в 47% случаев, и предсказала положительный результат, а на самом деле он отрицательный (FP - False Positive (ложноположительное решение)) - в 7%.\\\n",
    "    7.3. После составления базовой модели с фиктивными классификаторами (DummyClassifier), которая делает прогнозы, не пытаясь найти закономерности в данных, был выявлен дисбаланс классов, связанный с тем, что в наборе данных обучающей базы гораздо больше клиентов (71%), не являющихся пользователями тарифа 'Ultra', чем тех, кто является (29%), поэтому фиктивный классификатор предсказывает больше клиентов другого тарифа.\\\n",
    "Из этого следует, что model_random_forest хорошо определяет пользователей другого тарифа, а хуже - пользователей тарифа 'Ultra'.\\\n",
    "    7.4. После создания с помощью SMOTENC синтетическихх выборок, похожих на реальные данные, был устранён дисбаланс классов в данных.\\\n",
    "    7.5. Повторное обучение обеих моделей на синтетических выборках и дальнейшее сравнение матриц ошибок показало, что модель model_random_forest_sm фактически увеличила свои показатели по количеству верных ответов на 4% (с 54% до 58%), превысив показатель базовой модели model_dummy_sm с фиктивными классификаторами на те же 4%.\\\n",
    "    7.6. Метрика качества Recall (полнота) показала, что модель model_random_forest выявила пользователей тарифа 'Ultra' (класс 1.0) в объёме 53% от общего количества пользователей тарифа 'Ultra'.\\\n",
    "    7.7. Метрика качества Precision (точность) показала, что модель model_random_forest выявила пользователей тарифа 'Ultra' (класс 1.0) с точностью 78% - некоторые пользователи ошибочно отнесены к пользователям тарифа 'Ultra', и на самом деле являются пользователями другого тарифа.\\\n",
    "    \\\n",
    "    8. Исходя из результатов обучения моделей и анализа метрик качества (Accuracy (правильность), Recall (полнота) и Precision (точность)), делаю вывод, что качество обученной модели model_random_forest довольно низкое и её нужно улучшать. Для бизнес-задачи она мало подходит.\\\n",
    "    Для улучшения показателей метрик качества необходимо увеличить в обучающей выборке долю данных, относящихся к целевому классу 1.0 - пользователи тарифа 'Ultra'.</b></span></div>"
   ]
  }
 ],
 "metadata": {
  "ExecuteTimeLog": [
   {
    "duration": 396,
    "start_time": "2022-05-10T08:49:07.240Z"
   },
   {
    "duration": 3,
    "start_time": "2022-05-10T08:49:52.857Z"
   },
   {
    "duration": 2,
    "start_time": "2022-05-10T08:50:35.176Z"
   },
   {
    "duration": 687,
    "start_time": "2022-05-10T08:51:27.864Z"
   },
   {
    "duration": 54,
    "start_time": "2022-05-10T08:59:40.638Z"
   },
   {
    "duration": 10,
    "start_time": "2022-05-10T09:01:48.110Z"
   },
   {
    "duration": 3,
    "start_time": "2022-05-10T09:16:44.093Z"
   },
   {
    "duration": 5,
    "start_time": "2022-05-10T09:20:33.550Z"
   },
   {
    "duration": 159,
    "start_time": "2022-05-10T09:26:02.325Z"
   },
   {
    "duration": 3,
    "start_time": "2022-05-10T09:26:08.628Z"
   },
   {
    "duration": 3,
    "start_time": "2022-05-10T09:28:28.651Z"
   },
   {
    "duration": 2,
    "start_time": "2022-05-10T09:29:38.821Z"
   },
   {
    "duration": 50,
    "start_time": "2022-05-10T09:38:04.113Z"
   },
   {
    "duration": 49,
    "start_time": "2022-05-10T14:06:37.635Z"
   },
   {
    "duration": 459,
    "start_time": "2022-05-10T14:06:42.424Z"
   },
   {
    "duration": 3,
    "start_time": "2022-05-10T14:06:42.885Z"
   },
   {
    "duration": 17,
    "start_time": "2022-05-10T14:06:42.889Z"
   },
   {
    "duration": 984,
    "start_time": "2022-05-10T14:06:42.909Z"
   },
   {
    "duration": 70,
    "start_time": "2022-05-10T14:06:43.896Z"
   },
   {
    "duration": 9,
    "start_time": "2022-05-10T14:06:43.968Z"
   },
   {
    "duration": 4,
    "start_time": "2022-05-10T14:06:43.978Z"
   },
   {
    "duration": 7,
    "start_time": "2022-05-10T14:06:43.983Z"
   },
   {
    "duration": 5,
    "start_time": "2022-05-10T14:06:43.991Z"
   },
   {
    "duration": 30,
    "start_time": "2022-05-10T14:06:44.002Z"
   },
   {
    "duration": 36,
    "start_time": "2022-05-10T14:06:44.033Z"
   },
   {
    "duration": 11,
    "start_time": "2022-05-10T14:06:47.266Z"
   },
   {
    "duration": 29,
    "start_time": "2022-05-10T14:11:48.162Z"
   },
   {
    "duration": 7,
    "start_time": "2022-05-10T14:38:05.558Z"
   },
   {
    "duration": 6,
    "start_time": "2022-05-10T14:38:10.570Z"
   },
   {
    "duration": 6,
    "start_time": "2022-05-10T14:38:16.654Z"
   },
   {
    "duration": 4,
    "start_time": "2022-05-10T14:42:32.852Z"
   },
   {
    "duration": 15,
    "start_time": "2022-05-10T14:42:41.724Z"
   },
   {
    "duration": 3,
    "start_time": "2022-05-10T14:42:55.784Z"
   },
   {
    "duration": 11,
    "start_time": "2022-05-10T14:43:15.001Z"
   },
   {
    "duration": 3,
    "start_time": "2022-05-10T14:45:47.753Z"
   },
   {
    "duration": 4,
    "start_time": "2022-05-10T14:46:20.726Z"
   },
   {
    "duration": 6,
    "start_time": "2022-05-10T15:09:00.710Z"
   },
   {
    "duration": 12,
    "start_time": "2022-05-10T15:10:29.888Z"
   },
   {
    "duration": 6,
    "start_time": "2022-05-10T15:10:40.912Z"
   },
   {
    "duration": 9,
    "start_time": "2022-05-10T15:10:54.481Z"
   },
   {
    "duration": 4,
    "start_time": "2022-05-10T15:10:59.113Z"
   },
   {
    "duration": 5,
    "start_time": "2022-05-10T15:12:17.980Z"
   },
   {
    "duration": 7,
    "start_time": "2022-05-10T15:12:32.724Z"
   },
   {
    "duration": 5,
    "start_time": "2022-05-10T15:17:52.107Z"
   },
   {
    "duration": 11,
    "start_time": "2022-05-10T15:24:26.527Z"
   },
   {
    "duration": 8,
    "start_time": "2022-05-10T15:24:48.007Z"
   },
   {
    "duration": 6,
    "start_time": "2022-05-10T15:30:26.455Z"
   },
   {
    "duration": 8,
    "start_time": "2022-05-10T15:30:28.382Z"
   },
   {
    "duration": 4,
    "start_time": "2022-05-10T15:30:29.606Z"
   },
   {
    "duration": 5,
    "start_time": "2022-05-10T15:30:43.678Z"
   },
   {
    "duration": 10,
    "start_time": "2022-05-10T15:31:05.667Z"
   },
   {
    "duration": 11,
    "start_time": "2022-05-10T15:31:13.467Z"
   },
   {
    "duration": 5,
    "start_time": "2022-05-10T15:31:36.458Z"
   },
   {
    "duration": 4,
    "start_time": "2022-05-10T15:32:21.706Z"
   },
   {
    "duration": 14,
    "start_time": "2022-05-10T15:32:27.690Z"
   },
   {
    "duration": 8,
    "start_time": "2022-05-10T15:45:39.765Z"
   },
   {
    "duration": 4,
    "start_time": "2022-05-10T15:45:41.261Z"
   },
   {
    "duration": 541,
    "start_time": "2022-05-11T06:03:51.163Z"
   },
   {
    "duration": 3,
    "start_time": "2022-05-11T06:03:51.707Z"
   },
   {
    "duration": 7,
    "start_time": "2022-05-11T06:03:51.712Z"
   },
   {
    "duration": 1009,
    "start_time": "2022-05-11T06:03:51.722Z"
   },
   {
    "duration": 93,
    "start_time": "2022-05-11T06:03:52.733Z"
   },
   {
    "duration": 15,
    "start_time": "2022-05-11T06:03:52.828Z"
   },
   {
    "duration": 3,
    "start_time": "2022-05-11T06:03:52.845Z"
   },
   {
    "duration": 7,
    "start_time": "2022-05-11T06:03:52.850Z"
   },
   {
    "duration": 23,
    "start_time": "2022-05-11T06:03:52.859Z"
   },
   {
    "duration": 3,
    "start_time": "2022-05-11T06:03:52.886Z"
   },
   {
    "duration": 91,
    "start_time": "2022-05-11T06:03:52.891Z"
   },
   {
    "duration": 15,
    "start_time": "2022-05-11T06:03:52.985Z"
   },
   {
    "duration": 37,
    "start_time": "2022-05-11T06:03:53.002Z"
   },
   {
    "duration": 7,
    "start_time": "2022-05-11T06:03:53.041Z"
   },
   {
    "duration": 32,
    "start_time": "2022-05-11T06:03:53.050Z"
   },
   {
    "duration": 16,
    "start_time": "2022-05-11T06:03:53.084Z"
   },
   {
    "duration": 10,
    "start_time": "2022-05-11T06:03:53.102Z"
   },
   {
    "duration": 8,
    "start_time": "2022-05-11T06:03:53.114Z"
   },
   {
    "duration": 20,
    "start_time": "2022-05-11T06:03:53.125Z"
   },
   {
    "duration": 15,
    "start_time": "2022-05-11T06:03:53.147Z"
   },
   {
    "duration": 23,
    "start_time": "2022-05-11T06:03:53.164Z"
   },
   {
    "duration": 8,
    "start_time": "2022-05-11T06:03:53.189Z"
   },
   {
    "duration": 16,
    "start_time": "2022-05-11T06:03:53.199Z"
   },
   {
    "duration": 7,
    "start_time": "2022-05-11T06:03:53.217Z"
   },
   {
    "duration": 155,
    "start_time": "2022-05-11T09:21:39.797Z"
   },
   {
    "duration": 20,
    "start_time": "2022-05-11T09:21:52.353Z"
   },
   {
    "duration": 87,
    "start_time": "2022-05-11T09:22:36.101Z"
   },
   {
    "duration": 104,
    "start_time": "2022-05-11T09:22:48.705Z"
   },
   {
    "duration": 182,
    "start_time": "2022-05-11T09:23:38.713Z"
   },
   {
    "duration": 537,
    "start_time": "2022-05-11T09:23:53.385Z"
   },
   {
    "duration": 330,
    "start_time": "2022-05-11T09:24:15.053Z"
   },
   {
    "duration": 213,
    "start_time": "2022-05-11T09:24:26.785Z"
   },
   {
    "duration": 120,
    "start_time": "2022-05-11T10:59:33.899Z"
   },
   {
    "duration": 138,
    "start_time": "2022-05-11T10:59:44.218Z"
   },
   {
    "duration": 116,
    "start_time": "2022-05-11T10:59:46.409Z"
   },
   {
    "duration": 102,
    "start_time": "2022-05-11T10:59:48.629Z"
   },
   {
    "duration": 115,
    "start_time": "2022-05-11T10:59:53.141Z"
   },
   {
    "duration": 125,
    "start_time": "2022-05-11T11:00:41.227Z"
   },
   {
    "duration": 120,
    "start_time": "2022-05-11T11:00:46.099Z"
   },
   {
    "duration": 135,
    "start_time": "2022-05-11T11:00:47.465Z"
   },
   {
    "duration": 116,
    "start_time": "2022-05-11T11:00:48.625Z"
   },
   {
    "duration": 143,
    "start_time": "2022-05-11T11:00:50.561Z"
   },
   {
    "duration": 131,
    "start_time": "2022-05-11T11:00:54.699Z"
   },
   {
    "duration": 137,
    "start_time": "2022-05-11T11:01:02.777Z"
   },
   {
    "duration": 20,
    "start_time": "2022-05-11T11:01:25.801Z"
   },
   {
    "duration": 118,
    "start_time": "2022-05-11T11:01:37.049Z"
   },
   {
    "duration": 169,
    "start_time": "2022-05-11T11:01:45.778Z"
   },
   {
    "duration": 126,
    "start_time": "2022-05-11T11:01:55.906Z"
   },
   {
    "duration": 114,
    "start_time": "2022-05-11T11:02:04.918Z"
   },
   {
    "duration": 115,
    "start_time": "2022-05-11T11:02:06.033Z"
   },
   {
    "duration": 145,
    "start_time": "2022-05-11T11:02:06.946Z"
   },
   {
    "duration": 169,
    "start_time": "2022-05-11T11:02:13.834Z"
   },
   {
    "duration": 145,
    "start_time": "2022-05-11T11:02:32.610Z"
   },
   {
    "duration": 133,
    "start_time": "2022-05-11T11:02:40.773Z"
   },
   {
    "duration": 129,
    "start_time": "2022-05-11T11:02:43.761Z"
   },
   {
    "duration": 128,
    "start_time": "2022-05-11T11:02:49.299Z"
   },
   {
    "duration": 120,
    "start_time": "2022-05-11T11:02:51.938Z"
   },
   {
    "duration": 141,
    "start_time": "2022-05-11T11:02:53.577Z"
   },
   {
    "duration": 133,
    "start_time": "2022-05-11T11:03:40.730Z"
   },
   {
    "duration": 154,
    "start_time": "2022-05-11T11:03:53.350Z"
   },
   {
    "duration": 124,
    "start_time": "2022-05-11T11:03:55.521Z"
   },
   {
    "duration": 11,
    "start_time": "2022-05-11T11:10:04.941Z"
   },
   {
    "duration": 9712,
    "start_time": "2022-05-11T11:10:23.981Z"
   },
   {
    "duration": 65,
    "start_time": "2022-05-11T11:12:01.421Z"
   },
   {
    "duration": 15,
    "start_time": "2022-05-11T11:12:23.028Z"
   },
   {
    "duration": 12,
    "start_time": "2022-05-11T11:13:34.208Z"
   },
   {
    "duration": 332,
    "start_time": "2022-05-11T12:01:15.168Z"
   },
   {
    "duration": 130,
    "start_time": "2022-05-11T12:02:38.853Z"
   },
   {
    "duration": 134,
    "start_time": "2022-05-11T12:02:50.388Z"
   },
   {
    "duration": 191,
    "start_time": "2022-05-11T12:02:53.549Z"
   },
   {
    "duration": 160,
    "start_time": "2022-05-11T12:02:57.501Z"
   },
   {
    "duration": 114,
    "start_time": "2022-05-11T12:02:59.936Z"
   },
   {
    "duration": 12,
    "start_time": "2022-05-11T12:03:18.952Z"
   },
   {
    "duration": 5092,
    "start_time": "2022-05-11T12:03:35.312Z"
   },
   {
    "duration": 5545,
    "start_time": "2022-05-11T12:04:30.765Z"
   },
   {
    "duration": 149,
    "start_time": "2022-05-11T12:06:00.664Z"
   },
   {
    "duration": 7166,
    "start_time": "2022-05-11T12:06:06.528Z"
   },
   {
    "duration": 24,
    "start_time": "2022-05-11T12:07:06.920Z"
   },
   {
    "duration": 24,
    "start_time": "2022-05-11T12:07:08.312Z"
   },
   {
    "duration": 380,
    "start_time": "2022-05-11T12:07:08.720Z"
   },
   {
    "duration": 21,
    "start_time": "2022-05-11T12:07:24.488Z"
   },
   {
    "duration": 134,
    "start_time": "2022-05-11T12:07:24.880Z"
   },
   {
    "duration": 43,
    "start_time": "2022-05-11T12:07:32.184Z"
   },
   {
    "duration": 1686,
    "start_time": "2022-05-11T12:07:34.056Z"
   },
   {
    "duration": 41,
    "start_time": "2022-05-11T12:08:24.440Z"
   },
   {
    "duration": 1155,
    "start_time": "2022-05-11T12:08:24.905Z"
   },
   {
    "duration": 74,
    "start_time": "2022-05-11T12:08:54.680Z"
   },
   {
    "duration": 4415,
    "start_time": "2022-05-11T12:08:57.848Z"
   },
   {
    "duration": 4,
    "start_time": "2022-05-11T12:09:37.427Z"
   },
   {
    "duration": 13124,
    "start_time": "2022-05-11T12:09:49.595Z"
   },
   {
    "duration": 29808,
    "start_time": "2022-05-11T12:12:06.083Z"
   },
   {
    "duration": 52423,
    "start_time": "2022-05-11T12:16:26.787Z"
   },
   {
    "duration": 20451,
    "start_time": "2022-05-11T12:17:22.511Z"
   },
   {
    "duration": 20,
    "start_time": "2022-05-11T12:19:03.871Z"
   },
   {
    "duration": 0,
    "start_time": "2022-05-11T12:20:03.102Z"
   },
   {
    "duration": 32042,
    "start_time": "2022-05-11T12:20:08.795Z"
   },
   {
    "duration": 31402,
    "start_time": "2022-05-11T12:21:10.682Z"
   },
   {
    "duration": 20,
    "start_time": "2022-05-11T12:22:36.491Z"
   },
   {
    "duration": 20,
    "start_time": "2022-05-11T12:22:55.170Z"
   },
   {
    "duration": 736,
    "start_time": "2022-05-11T12:23:02.635Z"
   },
   {
    "duration": 1327,
    "start_time": "2022-05-11T12:23:12.394Z"
   },
   {
    "duration": 1338,
    "start_time": "2022-05-11T12:24:08.142Z"
   },
   {
    "duration": 2619,
    "start_time": "2022-05-11T12:28:28.295Z"
   },
   {
    "duration": 20,
    "start_time": "2022-05-11T12:28:50.431Z"
   },
   {
    "duration": 29,
    "start_time": "2022-05-11T12:29:00.627Z"
   },
   {
    "duration": 20,
    "start_time": "2022-05-11T12:29:05.882Z"
   },
   {
    "duration": 4664,
    "start_time": "2022-05-11T12:30:12.146Z"
   },
   {
    "duration": 1559,
    "start_time": "2022-05-11T12:31:05.667Z"
   },
   {
    "duration": 2022,
    "start_time": "2022-05-11T12:31:19.803Z"
   },
   {
    "duration": 20,
    "start_time": "2022-05-11T12:34:07.518Z"
   },
   {
    "duration": 914,
    "start_time": "2022-05-11T12:34:19.078Z"
   },
   {
    "duration": 2639,
    "start_time": "2022-05-11T12:34:28.654Z"
   },
   {
    "duration": 2654,
    "start_time": "2022-05-11T12:34:49.158Z"
   },
   {
    "duration": 3370,
    "start_time": "2022-05-11T12:34:57.279Z"
   },
   {
    "duration": 2908,
    "start_time": "2022-05-11T12:35:14.646Z"
   },
   {
    "duration": 29555,
    "start_time": "2022-05-11T12:35:24.574Z"
   },
   {
    "duration": 3087,
    "start_time": "2022-05-11T12:36:27.654Z"
   },
   {
    "duration": 2263,
    "start_time": "2022-05-11T12:36:40.885Z"
   },
   {
    "duration": 5567,
    "start_time": "2022-05-11T12:36:51.310Z"
   },
   {
    "duration": 21965,
    "start_time": "2022-05-11T12:37:20.502Z"
   },
   {
    "duration": 22131,
    "start_time": "2022-05-11T12:39:21.946Z"
   },
   {
    "duration": 0,
    "start_time": "2022-05-11T12:40:38.114Z"
   },
   {
    "duration": 26682,
    "start_time": "2022-05-11T12:40:39.554Z"
   },
   {
    "duration": 24325,
    "start_time": "2022-05-11T12:42:21.930Z"
   },
   {
    "duration": 8520,
    "start_time": "2022-05-11T12:48:05.665Z"
   },
   {
    "duration": 1558,
    "start_time": "2022-05-11T12:48:34.392Z"
   },
   {
    "duration": 16893,
    "start_time": "2022-05-11T12:49:33.385Z"
   },
   {
    "duration": 29431,
    "start_time": "2022-05-11T12:50:34.056Z"
   },
   {
    "duration": 125,
    "start_time": "2022-05-11T12:59:18.664Z"
   },
   {
    "duration": 8662,
    "start_time": "2022-05-11T12:59:56.928Z"
   },
   {
    "duration": 4741,
    "start_time": "2022-05-11T13:00:27.956Z"
   },
   {
    "duration": 841,
    "start_time": "2022-05-11T13:01:16.740Z"
   },
   {
    "duration": 2559,
    "start_time": "2022-05-11T13:01:26.028Z"
   },
   {
    "duration": 4895,
    "start_time": "2022-05-11T13:01:39.516Z"
   },
   {
    "duration": 2500,
    "start_time": "2022-05-11T13:04:46.691Z"
   },
   {
    "duration": 7053,
    "start_time": "2022-05-11T13:04:59.589Z"
   },
   {
    "duration": 20,
    "start_time": "2022-05-11T13:06:56.556Z"
   },
   {
    "duration": 8946,
    "start_time": "2022-05-11T13:07:01.351Z"
   },
   {
    "duration": 8817,
    "start_time": "2022-05-11T13:07:14.007Z"
   },
   {
    "duration": 8690,
    "start_time": "2022-05-11T13:09:03.664Z"
   },
   {
    "duration": 11912,
    "start_time": "2022-05-11T13:11:56.039Z"
   },
   {
    "duration": 3449,
    "start_time": "2022-05-11T13:22:17.307Z"
   },
   {
    "duration": 1170,
    "start_time": "2022-05-11T13:22:34.775Z"
   },
   {
    "duration": 1370,
    "start_time": "2022-05-11T13:41:47.549Z"
   },
   {
    "duration": 1182,
    "start_time": "2022-05-11T13:42:00.461Z"
   },
   {
    "duration": 1187,
    "start_time": "2022-05-11T13:42:14.286Z"
   },
   {
    "duration": 1367,
    "start_time": "2022-05-11T13:42:22.613Z"
   },
   {
    "duration": 1291,
    "start_time": "2022-05-11T13:42:34.870Z"
   },
   {
    "duration": 1243,
    "start_time": "2022-05-11T13:42:42.126Z"
   },
   {
    "duration": 1383,
    "start_time": "2022-05-11T13:42:49.701Z"
   },
   {
    "duration": 1176,
    "start_time": "2022-05-11T13:42:59.599Z"
   },
   {
    "duration": 829,
    "start_time": "2022-05-11T13:43:09.156Z"
   },
   {
    "duration": 992,
    "start_time": "2022-05-11T13:43:31.757Z"
   },
   {
    "duration": 895,
    "start_time": "2022-05-11T13:43:40.573Z"
   },
   {
    "duration": 783,
    "start_time": "2022-05-11T13:43:49.165Z"
   },
   {
    "duration": 1089,
    "start_time": "2022-05-11T13:44:04.453Z"
   },
   {
    "duration": 1374,
    "start_time": "2022-05-11T13:44:16.748Z"
   },
   {
    "duration": 808,
    "start_time": "2022-05-11T13:44:31.669Z"
   },
   {
    "duration": 5,
    "start_time": "2022-05-11T14:55:21.667Z"
   },
   {
    "duration": 4,
    "start_time": "2022-05-11T14:55:21.676Z"
   },
   {
    "duration": 17,
    "start_time": "2022-05-11T14:55:21.683Z"
   },
   {
    "duration": 15,
    "start_time": "2022-05-11T14:55:21.705Z"
   },
   {
    "duration": 8,
    "start_time": "2022-05-11T14:55:21.723Z"
   },
   {
    "duration": 6,
    "start_time": "2022-05-11T14:55:21.734Z"
   },
   {
    "duration": 6,
    "start_time": "2022-05-11T14:55:21.743Z"
   },
   {
    "duration": 4,
    "start_time": "2022-05-11T14:55:21.789Z"
   },
   {
    "duration": 16,
    "start_time": "2022-05-11T14:55:21.799Z"
   },
   {
    "duration": 5,
    "start_time": "2022-05-11T14:55:21.818Z"
   },
   {
    "duration": 44,
    "start_time": "2022-05-11T14:55:21.826Z"
   },
   {
    "duration": 42,
    "start_time": "2022-05-11T14:55:21.872Z"
   },
   {
    "duration": 37,
    "start_time": "2022-05-11T14:55:21.917Z"
   },
   {
    "duration": 31,
    "start_time": "2022-05-11T14:55:21.957Z"
   },
   {
    "duration": 6,
    "start_time": "2022-05-11T14:55:21.990Z"
   },
   {
    "duration": 31,
    "start_time": "2022-05-11T14:55:21.999Z"
   },
   {
    "duration": 5,
    "start_time": "2022-05-11T14:55:22.033Z"
   },
   {
    "duration": 10,
    "start_time": "2022-05-11T14:55:22.041Z"
   },
   {
    "duration": 36,
    "start_time": "2022-05-11T14:55:22.053Z"
   },
   {
    "duration": 19,
    "start_time": "2022-05-11T14:55:22.093Z"
   },
   {
    "duration": 10,
    "start_time": "2022-05-11T14:55:22.115Z"
   },
   {
    "duration": 12,
    "start_time": "2022-05-11T14:55:22.128Z"
   },
   {
    "duration": 48,
    "start_time": "2022-05-11T14:55:22.143Z"
   },
   {
    "duration": 16,
    "start_time": "2022-05-11T14:55:22.196Z"
   },
   {
    "duration": 6,
    "start_time": "2022-05-11T14:55:22.215Z"
   },
   {
    "duration": 924,
    "start_time": "2022-05-11T14:55:22.223Z"
   },
   {
    "duration": 5739,
    "start_time": "2022-05-11T14:56:55.072Z"
   },
   {
    "duration": 46078,
    "start_time": "2022-05-11T14:57:21.244Z"
   },
   {
    "duration": 30766,
    "start_time": "2022-05-11T15:00:35.675Z"
   },
   {
    "duration": 37289,
    "start_time": "2022-05-11T15:01:49.118Z"
   },
   {
    "duration": 29097,
    "start_time": "2022-05-11T15:03:01.248Z"
   },
   {
    "duration": 12412,
    "start_time": "2022-05-11T15:04:16.048Z"
   },
   {
    "duration": 7909,
    "start_time": "2022-05-11T15:04:38.856Z"
   },
   {
    "duration": 74,
    "start_time": "2022-05-11T15:16:50.871Z"
   },
   {
    "duration": 176,
    "start_time": "2022-05-11T15:20:53.581Z"
   },
   {
    "duration": 10438,
    "start_time": "2022-05-11T15:21:27.503Z"
   },
   {
    "duration": 10173,
    "start_time": "2022-05-11T15:22:07.999Z"
   },
   {
    "duration": 3970,
    "start_time": "2022-05-11T15:24:43.515Z"
   },
   {
    "duration": 4000,
    "start_time": "2022-05-11T15:24:59.042Z"
   },
   {
    "duration": 3531,
    "start_time": "2022-05-11T15:25:46.386Z"
   },
   {
    "duration": 6057,
    "start_time": "2022-05-11T15:28:03.710Z"
   },
   {
    "duration": 4087,
    "start_time": "2022-05-11T15:34:48.241Z"
   },
   {
    "duration": 4204,
    "start_time": "2022-05-11T15:37:22.593Z"
   },
   {
    "duration": 3243,
    "start_time": "2022-05-11T15:39:12.190Z"
   },
   {
    "duration": 4770,
    "start_time": "2022-05-11T15:41:57.378Z"
   },
   {
    "duration": 8399,
    "start_time": "2022-05-11T15:43:12.822Z"
   },
   {
    "duration": 7216,
    "start_time": "2022-05-11T15:43:50.638Z"
   },
   {
    "duration": 6058,
    "start_time": "2022-05-11T15:44:01.081Z"
   },
   {
    "duration": 4892,
    "start_time": "2022-05-11T15:44:41.012Z"
   },
   {
    "duration": 5433,
    "start_time": "2022-05-11T15:45:42.886Z"
   },
   {
    "duration": 2476,
    "start_time": "2022-05-11T15:45:51.140Z"
   },
   {
    "duration": 2478,
    "start_time": "2022-05-11T15:45:57.132Z"
   },
   {
    "duration": 2610,
    "start_time": "2022-05-11T15:46:03.100Z"
   },
   {
    "duration": 2709,
    "start_time": "2022-05-11T15:46:15.308Z"
   },
   {
    "duration": 2825,
    "start_time": "2022-05-11T15:46:18.940Z"
   },
   {
    "duration": 2711,
    "start_time": "2022-05-11T15:46:22.348Z"
   },
   {
    "duration": 2690,
    "start_time": "2022-05-11T15:46:25.636Z"
   },
   {
    "duration": 2707,
    "start_time": "2022-05-11T15:46:28.532Z"
   },
   {
    "duration": 4302,
    "start_time": "2022-05-11T15:46:48.144Z"
   },
   {
    "duration": 2882,
    "start_time": "2022-05-11T15:47:35.053Z"
   },
   {
    "duration": 5086,
    "start_time": "2022-05-11T15:49:59.020Z"
   },
   {
    "duration": 514,
    "start_time": "2022-05-11T19:12:39.758Z"
   },
   {
    "duration": 3,
    "start_time": "2022-05-11T19:12:40.275Z"
   },
   {
    "duration": 7,
    "start_time": "2022-05-11T19:12:40.280Z"
   },
   {
    "duration": 1057,
    "start_time": "2022-05-11T19:12:40.290Z"
   },
   {
    "duration": 368,
    "start_time": "2022-05-11T19:12:41.349Z"
   },
   {
    "duration": 54,
    "start_time": "2022-05-11T19:12:41.719Z"
   },
   {
    "duration": 3,
    "start_time": "2022-05-11T19:12:41.775Z"
   },
   {
    "duration": 8,
    "start_time": "2022-05-11T19:12:41.780Z"
   },
   {
    "duration": 8,
    "start_time": "2022-05-11T19:12:41.790Z"
   },
   {
    "duration": 4,
    "start_time": "2022-05-11T19:12:41.802Z"
   },
   {
    "duration": 85,
    "start_time": "2022-05-11T19:12:41.808Z"
   },
   {
    "duration": 16,
    "start_time": "2022-05-11T19:12:41.896Z"
   },
   {
    "duration": 43,
    "start_time": "2022-05-11T19:12:41.914Z"
   },
   {
    "duration": 11,
    "start_time": "2022-05-11T19:12:41.960Z"
   },
   {
    "duration": 5,
    "start_time": "2022-05-11T19:12:41.973Z"
   },
   {
    "duration": 15,
    "start_time": "2022-05-11T19:12:41.981Z"
   },
   {
    "duration": 34,
    "start_time": "2022-05-11T19:12:41.998Z"
   },
   {
    "duration": 10,
    "start_time": "2022-05-11T19:12:42.036Z"
   },
   {
    "duration": 8,
    "start_time": "2022-05-11T19:12:42.048Z"
   },
   {
    "duration": 12,
    "start_time": "2022-05-11T19:12:42.059Z"
   },
   {
    "duration": 14,
    "start_time": "2022-05-11T19:12:42.074Z"
   },
   {
    "duration": 47,
    "start_time": "2022-05-11T19:12:42.090Z"
   },
   {
    "duration": 20,
    "start_time": "2022-05-11T19:12:42.139Z"
   },
   {
    "duration": 19,
    "start_time": "2022-05-11T19:12:42.162Z"
   },
   {
    "duration": 668,
    "start_time": "2022-05-11T19:12:42.183Z"
   },
   {
    "duration": 202,
    "start_time": "2022-05-11T19:12:42.853Z"
   },
   {
    "duration": 4,
    "start_time": "2022-05-11T19:13:12.626Z"
   },
   {
    "duration": 4228,
    "start_time": "2022-05-11T19:13:13.153Z"
   },
   {
    "duration": 4404,
    "start_time": "2022-05-11T19:13:21.343Z"
   },
   {
    "duration": 4239,
    "start_time": "2022-05-11T19:14:20.500Z"
   },
   {
    "duration": 4050,
    "start_time": "2022-05-11T19:14:35.455Z"
   },
   {
    "duration": 3963,
    "start_time": "2022-05-11T19:14:46.499Z"
   },
   {
    "duration": 2214,
    "start_time": "2022-05-11T19:14:52.591Z"
   },
   {
    "duration": 2417,
    "start_time": "2022-05-11T19:14:56.240Z"
   },
   {
    "duration": 2513,
    "start_time": "2022-05-11T19:14:59.067Z"
   },
   {
    "duration": 3158,
    "start_time": "2022-05-11T19:15:10.482Z"
   },
   {
    "duration": 3676,
    "start_time": "2022-05-11T19:15:13.840Z"
   },
   {
    "duration": 3897,
    "start_time": "2022-05-11T19:15:23.548Z"
   },
   {
    "duration": 3311,
    "start_time": "2022-05-11T19:15:28.955Z"
   },
   {
    "duration": 4053,
    "start_time": "2022-05-11T19:16:05.539Z"
   },
   {
    "duration": 3990,
    "start_time": "2022-05-11T19:17:42.051Z"
   },
   {
    "duration": 3835,
    "start_time": "2022-05-11T19:17:55.747Z"
   },
   {
    "duration": 3944,
    "start_time": "2022-05-11T19:18:11.459Z"
   },
   {
    "duration": 3297,
    "start_time": "2022-05-11T19:18:33.791Z"
   },
   {
    "duration": 3933,
    "start_time": "2022-05-11T19:18:46.199Z"
   },
   {
    "duration": 3744,
    "start_time": "2022-05-11T19:18:52.115Z"
   },
   {
    "duration": 3515,
    "start_time": "2022-05-11T19:19:36.673Z"
   },
   {
    "duration": 3961,
    "start_time": "2022-05-11T19:19:41.174Z"
   },
   {
    "duration": 4404,
    "start_time": "2022-05-11T19:20:01.782Z"
   },
   {
    "duration": 3729,
    "start_time": "2022-05-11T19:20:11.025Z"
   },
   {
    "duration": 4031,
    "start_time": "2022-05-11T19:20:22.166Z"
   },
   {
    "duration": 69,
    "start_time": "2022-05-11T19:23:02.710Z"
   },
   {
    "duration": 3429,
    "start_time": "2022-05-11T19:23:16.181Z"
   },
   {
    "duration": 3232,
    "start_time": "2022-05-11T19:23:20.757Z"
   },
   {
    "duration": 1332,
    "start_time": "2022-05-11T19:23:30.486Z"
   },
   {
    "duration": 1511,
    "start_time": "2022-05-11T19:23:47.386Z"
   },
   {
    "duration": 1544,
    "start_time": "2022-05-11T19:24:17.698Z"
   },
   {
    "duration": 2947,
    "start_time": "2022-05-11T19:25:00.121Z"
   },
   {
    "duration": 1799,
    "start_time": "2022-05-11T19:25:09.248Z"
   },
   {
    "duration": 2219,
    "start_time": "2022-05-11T19:25:32.825Z"
   },
   {
    "duration": 2306,
    "start_time": "2022-05-11T19:25:43.161Z"
   },
   {
    "duration": 2343,
    "start_time": "2022-05-11T19:25:53.625Z"
   },
   {
    "duration": 2565,
    "start_time": "2022-05-11T19:25:58.184Z"
   },
   {
    "duration": 2594,
    "start_time": "2022-05-11T19:26:02.497Z"
   },
   {
    "duration": 2658,
    "start_time": "2022-05-11T19:26:07.881Z"
   },
   {
    "duration": 2987,
    "start_time": "2022-05-11T19:26:10.912Z"
   },
   {
    "duration": 3307,
    "start_time": "2022-05-11T19:26:19.009Z"
   },
   {
    "duration": 3272,
    "start_time": "2022-05-11T19:26:29.276Z"
   },
   {
    "duration": 3407,
    "start_time": "2022-05-11T19:26:32.977Z"
   },
   {
    "duration": 3154,
    "start_time": "2022-05-11T19:26:50.040Z"
   },
   {
    "duration": 3119,
    "start_time": "2022-05-11T19:26:53.864Z"
   },
   {
    "duration": 3294,
    "start_time": "2022-05-11T19:27:01.176Z"
   },
   {
    "duration": 3106,
    "start_time": "2022-05-11T19:27:17.473Z"
   },
   {
    "duration": 3193,
    "start_time": "2022-05-11T19:27:29.065Z"
   },
   {
    "duration": 3145,
    "start_time": "2022-05-11T19:27:40.648Z"
   },
   {
    "duration": 3064,
    "start_time": "2022-05-11T19:28:00.504Z"
   },
   {
    "duration": 3091,
    "start_time": "2022-05-11T19:28:08.864Z"
   },
   {
    "duration": 3082,
    "start_time": "2022-05-11T19:28:15.200Z"
   },
   {
    "duration": 3484,
    "start_time": "2022-05-11T19:28:19.480Z"
   },
   {
    "duration": 3484,
    "start_time": "2022-05-11T19:28:23.675Z"
   },
   {
    "duration": 3678,
    "start_time": "2022-05-11T19:28:47.101Z"
   },
   {
    "duration": 4234,
    "start_time": "2022-05-11T19:28:50.980Z"
   },
   {
    "duration": 3712,
    "start_time": "2022-05-11T19:29:00.541Z"
   },
   {
    "duration": 3670,
    "start_time": "2022-05-11T19:29:05.592Z"
   },
   {
    "duration": 3641,
    "start_time": "2022-05-11T19:29:22.151Z"
   },
   {
    "duration": 3699,
    "start_time": "2022-05-11T19:29:30.672Z"
   },
   {
    "duration": 3391,
    "start_time": "2022-05-11T19:29:37.789Z"
   },
   {
    "duration": 155,
    "start_time": "2022-05-11T19:29:44.660Z"
   },
   {
    "duration": 171,
    "start_time": "2022-05-11T19:30:32.359Z"
   },
   {
    "duration": 3739,
    "start_time": "2022-05-11T19:30:47.003Z"
   },
   {
    "duration": 3574,
    "start_time": "2022-05-11T19:30:52.989Z"
   },
   {
    "duration": 4143,
    "start_time": "2022-05-11T19:32:50.938Z"
   },
   {
    "duration": 3686,
    "start_time": "2022-05-11T19:33:01.360Z"
   },
   {
    "duration": 14,
    "start_time": "2022-05-11T19:36:49.567Z"
   },
   {
    "duration": 5,
    "start_time": "2022-05-11T19:37:47.711Z"
   },
   {
    "duration": 6,
    "start_time": "2022-05-11T19:37:48.294Z"
   },
   {
    "duration": 4234,
    "start_time": "2022-05-11T19:38:00.274Z"
   },
   {
    "duration": 14,
    "start_time": "2022-05-11T19:38:04.511Z"
   },
   {
    "duration": 9,
    "start_time": "2022-05-11T19:38:04.527Z"
   },
   {
    "duration": 9,
    "start_time": "2022-05-11T19:38:04.539Z"
   },
   {
    "duration": 4890,
    "start_time": "2022-05-11T19:38:24.872Z"
   },
   {
    "duration": 4592,
    "start_time": "2022-05-11T19:39:08.790Z"
   },
   {
    "duration": 4389,
    "start_time": "2022-05-11T19:39:14.519Z"
   },
   {
    "duration": 4759,
    "start_time": "2022-05-11T19:39:23.429Z"
   },
   {
    "duration": 187,
    "start_time": "2022-05-11T19:39:50.408Z"
   },
   {
    "duration": 121,
    "start_time": "2022-05-11T19:40:31.056Z"
   },
   {
    "duration": 26,
    "start_time": "2022-05-11T19:40:35.386Z"
   },
   {
    "duration": 4254,
    "start_time": "2022-05-11T19:40:39.706Z"
   },
   {
    "duration": 2798,
    "start_time": "2022-05-11T19:40:55.343Z"
   },
   {
    "duration": 2137,
    "start_time": "2022-05-11T19:40:58.754Z"
   },
   {
    "duration": 4522,
    "start_time": "2022-05-11T19:41:02.226Z"
   },
   {
    "duration": 3261,
    "start_time": "2022-05-11T19:41:13.270Z"
   },
   {
    "duration": 4456,
    "start_time": "2022-05-11T19:41:30.614Z"
   },
   {
    "duration": 6,
    "start_time": "2022-05-11T19:41:35.390Z"
   },
   {
    "duration": 5,
    "start_time": "2022-05-11T19:41:37.698Z"
   },
   {
    "duration": 6,
    "start_time": "2022-05-11T19:41:38.926Z"
   },
   {
    "duration": 6,
    "start_time": "2022-05-11T19:41:42.326Z"
   },
   {
    "duration": 7,
    "start_time": "2022-05-11T19:41:44.085Z"
   },
   {
    "duration": 5,
    "start_time": "2022-05-11T19:41:44.506Z"
   },
   {
    "duration": 5,
    "start_time": "2022-05-11T19:41:44.910Z"
   },
   {
    "duration": 4403,
    "start_time": "2022-05-11T19:41:58.267Z"
   },
   {
    "duration": 6,
    "start_time": "2022-05-11T19:42:02.673Z"
   },
   {
    "duration": 14,
    "start_time": "2022-05-11T19:42:02.682Z"
   },
   {
    "duration": 27,
    "start_time": "2022-05-11T19:42:02.699Z"
   },
   {
    "duration": 4474,
    "start_time": "2022-05-11T19:42:12.465Z"
   },
   {
    "duration": 8,
    "start_time": "2022-05-11T19:42:16.942Z"
   },
   {
    "duration": 10,
    "start_time": "2022-05-11T19:42:16.953Z"
   },
   {
    "duration": 7,
    "start_time": "2022-05-11T19:42:16.966Z"
   },
   {
    "duration": 4385,
    "start_time": "2022-05-11T19:42:25.318Z"
   },
   {
    "duration": 20,
    "start_time": "2022-05-11T19:42:29.706Z"
   },
   {
    "duration": 16,
    "start_time": "2022-05-11T19:42:29.729Z"
   },
   {
    "duration": 13,
    "start_time": "2022-05-11T19:42:29.748Z"
   },
   {
    "duration": 4404,
    "start_time": "2022-05-11T19:42:36.286Z"
   },
   {
    "duration": 7,
    "start_time": "2022-05-11T19:42:40.693Z"
   },
   {
    "duration": 23,
    "start_time": "2022-05-11T19:42:40.702Z"
   },
   {
    "duration": 6,
    "start_time": "2022-05-11T19:42:40.866Z"
   },
   {
    "duration": 4044,
    "start_time": "2022-05-11T19:42:55.062Z"
   },
   {
    "duration": 16,
    "start_time": "2022-05-11T19:42:59.108Z"
   },
   {
    "duration": 5,
    "start_time": "2022-05-11T19:42:59.126Z"
   },
   {
    "duration": 12,
    "start_time": "2022-05-11T19:42:59.134Z"
   },
   {
    "duration": 6441,
    "start_time": "2022-05-11T19:43:10.845Z"
   },
   {
    "duration": 6,
    "start_time": "2022-05-11T19:43:17.289Z"
   },
   {
    "duration": 28,
    "start_time": "2022-05-11T19:43:17.297Z"
   },
   {
    "duration": 13,
    "start_time": "2022-05-11T19:43:17.328Z"
   },
   {
    "duration": 4389,
    "start_time": "2022-05-11T19:43:25.711Z"
   },
   {
    "duration": 6,
    "start_time": "2022-05-11T19:43:30.103Z"
   },
   {
    "duration": 6,
    "start_time": "2022-05-11T19:43:30.125Z"
   },
   {
    "duration": 24,
    "start_time": "2022-05-11T19:43:30.135Z"
   },
   {
    "duration": 4369,
    "start_time": "2022-05-11T19:43:39.462Z"
   },
   {
    "duration": 6,
    "start_time": "2022-05-11T19:43:43.834Z"
   },
   {
    "duration": 14,
    "start_time": "2022-05-11T19:43:43.842Z"
   },
   {
    "duration": 6,
    "start_time": "2022-05-11T19:43:43.859Z"
   },
   {
    "duration": 4761,
    "start_time": "2022-05-11T19:43:50.102Z"
   },
   {
    "duration": 9,
    "start_time": "2022-05-11T19:43:54.866Z"
   },
   {
    "duration": 7,
    "start_time": "2022-05-11T19:43:54.878Z"
   },
   {
    "duration": 38,
    "start_time": "2022-05-11T19:43:54.888Z"
   },
   {
    "duration": 4376,
    "start_time": "2022-05-11T19:47:06.614Z"
   },
   {
    "duration": 7,
    "start_time": "2022-05-11T19:47:10.993Z"
   },
   {
    "duration": 25,
    "start_time": "2022-05-11T19:47:11.002Z"
   },
   {
    "duration": 13,
    "start_time": "2022-05-11T19:47:11.030Z"
   },
   {
    "duration": 4350,
    "start_time": "2022-05-11T19:47:26.368Z"
   },
   {
    "duration": 6,
    "start_time": "2022-05-11T19:47:30.725Z"
   },
   {
    "duration": 12,
    "start_time": "2022-05-11T19:47:30.734Z"
   },
   {
    "duration": 14,
    "start_time": "2022-05-11T19:47:30.749Z"
   },
   {
    "duration": 4358,
    "start_time": "2022-05-11T19:47:45.550Z"
   },
   {
    "duration": 15,
    "start_time": "2022-05-11T19:47:49.911Z"
   },
   {
    "duration": 98,
    "start_time": "2022-05-11T19:47:49.928Z"
   },
   {
    "duration": 14,
    "start_time": "2022-05-11T19:47:50.029Z"
   },
   {
    "duration": 3789,
    "start_time": "2022-05-11T19:49:27.225Z"
   },
   {
    "duration": 7,
    "start_time": "2022-05-11T19:49:35.045Z"
   },
   {
    "duration": 5,
    "start_time": "2022-05-11T19:49:35.714Z"
   },
   {
    "duration": 6,
    "start_time": "2022-05-11T19:49:36.653Z"
   },
   {
    "duration": 3949,
    "start_time": "2022-05-11T19:49:43.457Z"
   },
   {
    "duration": 17,
    "start_time": "2022-05-11T19:49:47.409Z"
   },
   {
    "duration": 8,
    "start_time": "2022-05-11T19:49:47.428Z"
   },
   {
    "duration": 6,
    "start_time": "2022-05-11T19:49:47.439Z"
   },
   {
    "duration": 4400,
    "start_time": "2022-05-11T19:49:57.746Z"
   },
   {
    "duration": 8,
    "start_time": "2022-05-11T19:50:02.150Z"
   },
   {
    "duration": 15,
    "start_time": "2022-05-11T19:50:02.161Z"
   },
   {
    "duration": 13,
    "start_time": "2022-05-11T19:50:02.180Z"
   },
   {
    "duration": 3999,
    "start_time": "2022-05-11T19:50:08.745Z"
   },
   {
    "duration": 7,
    "start_time": "2022-05-11T19:50:15.561Z"
   },
   {
    "duration": 6,
    "start_time": "2022-05-11T19:50:16.113Z"
   },
   {
    "duration": 6,
    "start_time": "2022-05-11T19:50:17.149Z"
   },
   {
    "duration": 2357,
    "start_time": "2022-05-11T19:50:25.898Z"
   },
   {
    "duration": 6,
    "start_time": "2022-05-11T19:50:28.258Z"
   },
   {
    "duration": 5,
    "start_time": "2022-05-11T19:50:32.945Z"
   },
   {
    "duration": 6,
    "start_time": "2022-05-11T19:50:34.429Z"
   },
   {
    "duration": 4570,
    "start_time": "2022-05-11T19:50:41.801Z"
   },
   {
    "duration": 7,
    "start_time": "2022-05-11T19:50:51.185Z"
   },
   {
    "duration": 6,
    "start_time": "2022-05-11T19:50:51.841Z"
   },
   {
    "duration": 6,
    "start_time": "2022-05-11T19:50:52.625Z"
   },
   {
    "duration": 4060,
    "start_time": "2022-05-11T19:51:00.942Z"
   },
   {
    "duration": 20,
    "start_time": "2022-05-11T19:51:05.006Z"
   },
   {
    "duration": 27,
    "start_time": "2022-05-11T19:51:05.029Z"
   },
   {
    "duration": 5,
    "start_time": "2022-05-11T19:51:10.441Z"
   },
   {
    "duration": 4293,
    "start_time": "2022-05-11T19:51:20.661Z"
   },
   {
    "duration": 6,
    "start_time": "2022-05-11T19:51:24.958Z"
   },
   {
    "duration": 11,
    "start_time": "2022-05-11T19:51:24.967Z"
   },
   {
    "duration": 6,
    "start_time": "2022-05-11T19:51:24.981Z"
   },
   {
    "duration": 4239,
    "start_time": "2022-05-11T19:51:42.605Z"
   },
   {
    "duration": 6,
    "start_time": "2022-05-11T19:51:50.834Z"
   },
   {
    "duration": 6,
    "start_time": "2022-05-11T19:51:51.809Z"
   },
   {
    "duration": 6,
    "start_time": "2022-05-11T19:51:52.845Z"
   },
   {
    "duration": 4453,
    "start_time": "2022-05-11T19:52:01.461Z"
   },
   {
    "duration": 15,
    "start_time": "2022-05-11T19:52:05.933Z"
   },
   {
    "duration": 21,
    "start_time": "2022-05-11T19:52:05.951Z"
   },
   {
    "duration": 22,
    "start_time": "2022-05-11T19:52:05.974Z"
   },
   {
    "duration": 4391,
    "start_time": "2022-05-11T19:52:15.646Z"
   },
   {
    "duration": 6,
    "start_time": "2022-05-11T19:52:20.040Z"
   },
   {
    "duration": 8,
    "start_time": "2022-05-11T19:52:20.048Z"
   },
   {
    "duration": 7,
    "start_time": "2022-05-11T19:52:20.059Z"
   },
   {
    "duration": 4289,
    "start_time": "2022-05-11T19:52:27.718Z"
   },
   {
    "duration": 6,
    "start_time": "2022-05-11T19:52:32.010Z"
   },
   {
    "duration": 7,
    "start_time": "2022-05-11T19:52:32.025Z"
   },
   {
    "duration": 21,
    "start_time": "2022-05-11T19:52:32.035Z"
   },
   {
    "duration": 3774,
    "start_time": "2022-05-11T19:52:54.750Z"
   },
   {
    "duration": 6,
    "start_time": "2022-05-11T19:52:58.527Z"
   },
   {
    "duration": 14,
    "start_time": "2022-05-11T19:52:58.536Z"
   },
   {
    "duration": 14,
    "start_time": "2022-05-11T19:52:58.553Z"
   },
   {
    "duration": 3956,
    "start_time": "2022-05-11T19:53:04.986Z"
   },
   {
    "duration": 6,
    "start_time": "2022-05-11T19:53:08.944Z"
   },
   {
    "duration": 9,
    "start_time": "2022-05-11T19:53:08.952Z"
   },
   {
    "duration": 6,
    "start_time": "2022-05-11T19:53:09.129Z"
   },
   {
    "duration": 4681,
    "start_time": "2022-05-11T19:53:17.032Z"
   },
   {
    "duration": 11,
    "start_time": "2022-05-11T19:53:21.716Z"
   },
   {
    "duration": 12,
    "start_time": "2022-05-11T19:53:21.730Z"
   },
   {
    "duration": 11,
    "start_time": "2022-05-11T19:53:21.745Z"
   },
   {
    "duration": 4866,
    "start_time": "2022-05-11T19:53:31.030Z"
   },
   {
    "duration": 24,
    "start_time": "2022-05-11T19:53:35.900Z"
   },
   {
    "duration": 11,
    "start_time": "2022-05-11T19:53:35.927Z"
   },
   {
    "duration": 13,
    "start_time": "2022-05-11T19:53:35.941Z"
   },
   {
    "duration": 3679,
    "start_time": "2022-05-11T19:53:46.309Z"
   },
   {
    "duration": 7,
    "start_time": "2022-05-11T19:53:49.991Z"
   },
   {
    "duration": 25,
    "start_time": "2022-05-11T19:53:50.000Z"
   },
   {
    "duration": 18,
    "start_time": "2022-05-11T19:53:50.029Z"
   },
   {
    "duration": 3646,
    "start_time": "2022-05-11T19:53:59.773Z"
   },
   {
    "duration": 10,
    "start_time": "2022-05-11T19:54:03.426Z"
   },
   {
    "duration": 6,
    "start_time": "2022-05-11T19:54:03.439Z"
   },
   {
    "duration": 6,
    "start_time": "2022-05-11T19:54:03.450Z"
   },
   {
    "duration": 3324,
    "start_time": "2022-05-11T19:54:26.077Z"
   },
   {
    "duration": 7,
    "start_time": "2022-05-11T19:54:29.404Z"
   },
   {
    "duration": 5,
    "start_time": "2022-05-11T19:54:29.424Z"
   },
   {
    "duration": 6,
    "start_time": "2022-05-11T19:54:32.074Z"
   },
   {
    "duration": 3204,
    "start_time": "2022-05-11T19:54:37.805Z"
   },
   {
    "duration": 16,
    "start_time": "2022-05-11T19:54:41.012Z"
   },
   {
    "duration": 27,
    "start_time": "2022-05-11T19:54:41.030Z"
   },
   {
    "duration": 10,
    "start_time": "2022-05-11T19:54:41.060Z"
   },
   {
    "duration": 3263,
    "start_time": "2022-05-11T19:54:57.142Z"
   },
   {
    "duration": 18,
    "start_time": "2022-05-11T19:55:00.408Z"
   },
   {
    "duration": 9,
    "start_time": "2022-05-11T19:55:00.429Z"
   },
   {
    "duration": 13,
    "start_time": "2022-05-11T19:55:00.441Z"
   },
   {
    "duration": 1517,
    "start_time": "2022-05-11T19:55:07.877Z"
   },
   {
    "duration": 6,
    "start_time": "2022-05-11T19:55:09.397Z"
   },
   {
    "duration": 6,
    "start_time": "2022-05-11T19:55:09.493Z"
   },
   {
    "duration": 9,
    "start_time": "2022-05-11T19:55:13.785Z"
   },
   {
    "duration": 3859,
    "start_time": "2022-05-11T19:55:18.633Z"
   },
   {
    "duration": 8,
    "start_time": "2022-05-11T19:55:22.495Z"
   },
   {
    "duration": 22,
    "start_time": "2022-05-11T19:55:22.505Z"
   },
   {
    "duration": 12,
    "start_time": "2022-05-11T19:55:22.530Z"
   },
   {
    "duration": 3149,
    "start_time": "2022-05-11T19:55:36.466Z"
   },
   {
    "duration": 6,
    "start_time": "2022-05-11T19:55:39.626Z"
   },
   {
    "duration": 11,
    "start_time": "2022-05-11T19:55:39.635Z"
   },
   {
    "duration": 8,
    "start_time": "2022-05-11T19:55:39.649Z"
   },
   {
    "duration": 3003,
    "start_time": "2022-05-11T19:55:49.529Z"
   },
   {
    "duration": 8,
    "start_time": "2022-05-11T19:55:52.535Z"
   },
   {
    "duration": 13,
    "start_time": "2022-05-11T19:55:52.546Z"
   },
   {
    "duration": 15,
    "start_time": "2022-05-11T19:55:52.562Z"
   },
   {
    "duration": 3011,
    "start_time": "2022-05-11T19:56:08.221Z"
   },
   {
    "duration": 6,
    "start_time": "2022-05-11T19:56:11.235Z"
   },
   {
    "duration": 8,
    "start_time": "2022-05-11T19:56:11.244Z"
   },
   {
    "duration": 6,
    "start_time": "2022-05-11T19:56:11.255Z"
   },
   {
    "duration": 2963,
    "start_time": "2022-05-11T19:56:19.514Z"
   },
   {
    "duration": 10,
    "start_time": "2022-05-11T19:56:22.480Z"
   },
   {
    "duration": 13,
    "start_time": "2022-05-11T19:56:22.492Z"
   },
   {
    "duration": 8,
    "start_time": "2022-05-11T19:56:22.525Z"
   },
   {
    "duration": 3170,
    "start_time": "2022-05-11T19:56:28.762Z"
   },
   {
    "duration": 10,
    "start_time": "2022-05-11T19:56:31.936Z"
   },
   {
    "duration": 13,
    "start_time": "2022-05-11T19:56:31.949Z"
   },
   {
    "duration": 25,
    "start_time": "2022-05-11T19:56:31.965Z"
   },
   {
    "duration": 3112,
    "start_time": "2022-05-11T19:56:38.241Z"
   },
   {
    "duration": 6,
    "start_time": "2022-05-11T19:56:41.356Z"
   },
   {
    "duration": 16,
    "start_time": "2022-05-11T19:56:41.365Z"
   },
   {
    "duration": 60,
    "start_time": "2022-05-11T19:56:41.384Z"
   },
   {
    "duration": 3030,
    "start_time": "2022-05-11T19:57:10.910Z"
   },
   {
    "duration": 6,
    "start_time": "2022-05-11T19:57:13.943Z"
   },
   {
    "duration": 11,
    "start_time": "2022-05-11T19:57:13.951Z"
   },
   {
    "duration": 6,
    "start_time": "2022-05-11T19:57:16.725Z"
   },
   {
    "duration": 3301,
    "start_time": "2022-05-11T19:57:21.746Z"
   },
   {
    "duration": 7,
    "start_time": "2022-05-11T19:57:25.049Z"
   },
   {
    "duration": 10,
    "start_time": "2022-05-11T19:57:25.059Z"
   },
   {
    "duration": 8,
    "start_time": "2022-05-11T19:57:25.072Z"
   },
   {
    "duration": 3053,
    "start_time": "2022-05-11T19:57:33.361Z"
   },
   {
    "duration": 7,
    "start_time": "2022-05-11T19:57:36.424Z"
   },
   {
    "duration": 10,
    "start_time": "2022-05-11T19:57:36.434Z"
   },
   {
    "duration": 9,
    "start_time": "2022-05-11T19:57:36.447Z"
   },
   {
    "duration": 23,
    "start_time": "2022-05-11T19:57:54.458Z"
   },
   {
    "duration": 22,
    "start_time": "2022-05-11T19:58:00.601Z"
   },
   {
    "duration": 26,
    "start_time": "2022-05-11T19:58:11.221Z"
   },
   {
    "duration": 9148,
    "start_time": "2022-05-11T19:58:21.001Z"
   },
   {
    "duration": 7,
    "start_time": "2022-05-11T19:58:30.151Z"
   },
   {
    "duration": 31,
    "start_time": "2022-05-11T19:58:30.161Z"
   },
   {
    "duration": 23,
    "start_time": "2022-05-11T19:58:30.195Z"
   },
   {
    "duration": 4981,
    "start_time": "2022-05-11T19:59:27.178Z"
   },
   {
    "duration": 7,
    "start_time": "2022-05-11T19:59:32.161Z"
   },
   {
    "duration": 12,
    "start_time": "2022-05-11T19:59:32.170Z"
   },
   {
    "duration": 41,
    "start_time": "2022-05-11T19:59:32.185Z"
   },
   {
    "duration": 3086,
    "start_time": "2022-05-11T19:59:40.602Z"
   },
   {
    "duration": 6,
    "start_time": "2022-05-11T19:59:43.690Z"
   },
   {
    "duration": 26,
    "start_time": "2022-05-11T19:59:43.699Z"
   },
   {
    "duration": 6,
    "start_time": "2022-05-11T19:59:43.728Z"
   },
   {
    "duration": 6503,
    "start_time": "2022-05-11T19:59:53.662Z"
   },
   {
    "duration": 7,
    "start_time": "2022-05-11T20:00:00.168Z"
   },
   {
    "duration": 33,
    "start_time": "2022-05-11T20:00:00.178Z"
   },
   {
    "duration": 61,
    "start_time": "2022-05-11T20:00:00.214Z"
   },
   {
    "duration": 6298,
    "start_time": "2022-05-11T20:00:09.981Z"
   },
   {
    "duration": 7,
    "start_time": "2022-05-11T20:00:16.282Z"
   },
   {
    "duration": 42,
    "start_time": "2022-05-11T20:00:16.291Z"
   },
   {
    "duration": 26,
    "start_time": "2022-05-11T20:00:16.336Z"
   },
   {
    "duration": 3503,
    "start_time": "2022-05-11T20:00:25.021Z"
   },
   {
    "duration": 6,
    "start_time": "2022-05-11T20:00:28.527Z"
   },
   {
    "duration": 9,
    "start_time": "2022-05-11T20:00:28.536Z"
   },
   {
    "duration": 10,
    "start_time": "2022-05-11T20:00:28.548Z"
   },
   {
    "duration": 4951,
    "start_time": "2022-05-11T20:00:38.261Z"
   },
   {
    "duration": 9,
    "start_time": "2022-05-11T20:00:43.215Z"
   },
   {
    "duration": 8,
    "start_time": "2022-05-11T20:00:43.226Z"
   },
   {
    "duration": 6,
    "start_time": "2022-05-11T20:00:43.238Z"
   },
   {
    "duration": 3755,
    "start_time": "2022-05-11T20:00:56.590Z"
   },
   {
    "duration": 7,
    "start_time": "2022-05-11T20:01:00.348Z"
   },
   {
    "duration": 17,
    "start_time": "2022-05-11T20:01:00.357Z"
   },
   {
    "duration": 16,
    "start_time": "2022-05-11T20:01:00.377Z"
   },
   {
    "duration": 3770,
    "start_time": "2022-05-11T20:01:12.822Z"
   },
   {
    "duration": 1041,
    "start_time": "2022-05-11T20:01:32.430Z"
   },
   {
    "duration": 6,
    "start_time": "2022-05-11T20:01:39.354Z"
   },
   {
    "duration": 4,
    "start_time": "2022-05-11T20:01:39.802Z"
   },
   {
    "duration": 6,
    "start_time": "2022-05-11T20:01:40.162Z"
   },
   {
    "duration": 1095,
    "start_time": "2022-05-11T20:01:47.070Z"
   },
   {
    "duration": 6,
    "start_time": "2022-05-11T20:01:48.168Z"
   },
   {
    "duration": 14,
    "start_time": "2022-05-11T20:01:48.176Z"
   },
   {
    "duration": 34,
    "start_time": "2022-05-11T20:01:48.192Z"
   },
   {
    "duration": 1494,
    "start_time": "2022-05-11T20:02:01.918Z"
   },
   {
    "duration": 11,
    "start_time": "2022-05-11T20:02:03.415Z"
   },
   {
    "duration": 9,
    "start_time": "2022-05-11T20:02:03.429Z"
   },
   {
    "duration": 10,
    "start_time": "2022-05-11T20:02:03.441Z"
   },
   {
    "duration": 1934,
    "start_time": "2022-05-11T20:02:12.285Z"
   },
   {
    "duration": 5,
    "start_time": "2022-05-11T20:02:14.224Z"
   },
   {
    "duration": 10,
    "start_time": "2022-05-11T20:02:14.232Z"
   },
   {
    "duration": 11,
    "start_time": "2022-05-11T20:02:14.245Z"
   },
   {
    "duration": 2225,
    "start_time": "2022-05-11T20:02:22.745Z"
   },
   {
    "duration": 6,
    "start_time": "2022-05-11T20:02:24.973Z"
   },
   {
    "duration": 23,
    "start_time": "2022-05-11T20:02:24.981Z"
   },
   {
    "duration": 19,
    "start_time": "2022-05-11T20:02:25.007Z"
   },
   {
    "duration": 2543,
    "start_time": "2022-05-11T20:02:52.957Z"
   },
   {
    "duration": 6,
    "start_time": "2022-05-11T20:02:55.502Z"
   },
   {
    "duration": 5,
    "start_time": "2022-05-11T20:02:55.525Z"
   },
   {
    "duration": 9,
    "start_time": "2022-05-11T20:02:55.533Z"
   },
   {
    "duration": 3138,
    "start_time": "2022-05-11T20:03:03.886Z"
   },
   {
    "duration": 6,
    "start_time": "2022-05-11T20:03:07.027Z"
   },
   {
    "duration": 8,
    "start_time": "2022-05-11T20:03:07.035Z"
   },
   {
    "duration": 6,
    "start_time": "2022-05-11T20:03:07.046Z"
   },
   {
    "duration": 3869,
    "start_time": "2022-05-11T20:03:14.246Z"
   },
   {
    "duration": 7,
    "start_time": "2022-05-11T20:03:18.126Z"
   },
   {
    "duration": 11,
    "start_time": "2022-05-11T20:03:18.136Z"
   },
   {
    "duration": 8,
    "start_time": "2022-05-11T20:03:18.151Z"
   },
   {
    "duration": 4377,
    "start_time": "2022-05-11T20:03:29.293Z"
   },
   {
    "duration": 8,
    "start_time": "2022-05-11T20:03:33.673Z"
   },
   {
    "duration": 8,
    "start_time": "2022-05-11T20:03:33.684Z"
   },
   {
    "duration": 35,
    "start_time": "2022-05-11T20:03:33.695Z"
   },
   {
    "duration": 4865,
    "start_time": "2022-05-11T20:03:40.101Z"
   },
   {
    "duration": 7,
    "start_time": "2022-05-11T20:03:44.969Z"
   },
   {
    "duration": 14,
    "start_time": "2022-05-11T20:03:44.978Z"
   },
   {
    "duration": 8,
    "start_time": "2022-05-11T20:03:44.995Z"
   },
   {
    "duration": 6826,
    "start_time": "2022-05-11T20:03:57.125Z"
   },
   {
    "duration": 7,
    "start_time": "2022-05-11T20:04:03.953Z"
   },
   {
    "duration": 10,
    "start_time": "2022-05-11T20:04:03.963Z"
   },
   {
    "duration": 17,
    "start_time": "2022-05-11T20:04:03.976Z"
   },
   {
    "duration": 7008,
    "start_time": "2022-05-11T20:04:13.675Z"
   },
   {
    "duration": 6,
    "start_time": "2022-05-11T20:04:20.686Z"
   },
   {
    "duration": 30,
    "start_time": "2022-05-11T20:04:20.694Z"
   },
   {
    "duration": 8,
    "start_time": "2022-05-11T20:04:20.727Z"
   },
   {
    "duration": 2821,
    "start_time": "2022-05-11T20:04:28.669Z"
   },
   {
    "duration": 7,
    "start_time": "2022-05-11T20:04:31.493Z"
   },
   {
    "duration": 40,
    "start_time": "2022-05-11T20:04:31.502Z"
   },
   {
    "duration": 18,
    "start_time": "2022-05-11T20:04:31.546Z"
   },
   {
    "duration": 931,
    "start_time": "2022-05-11T20:05:00.626Z"
   },
   {
    "duration": 902,
    "start_time": "2022-05-11T20:05:10.273Z"
   },
   {
    "duration": 7,
    "start_time": "2022-05-11T20:05:19.205Z"
   },
   {
    "duration": 6,
    "start_time": "2022-05-11T20:05:19.596Z"
   },
   {
    "duration": 6,
    "start_time": "2022-05-11T20:05:19.981Z"
   },
   {
    "duration": 902,
    "start_time": "2022-05-11T20:05:25.369Z"
   },
   {
    "duration": 6,
    "start_time": "2022-05-11T20:05:26.273Z"
   },
   {
    "duration": 5,
    "start_time": "2022-05-11T20:05:26.436Z"
   },
   {
    "duration": 5,
    "start_time": "2022-05-11T20:05:27.589Z"
   },
   {
    "duration": 913,
    "start_time": "2022-05-11T20:05:42.073Z"
   },
   {
    "duration": 6,
    "start_time": "2022-05-11T20:05:42.989Z"
   },
   {
    "duration": 5,
    "start_time": "2022-05-11T20:05:43.065Z"
   },
   {
    "duration": 6,
    "start_time": "2022-05-11T20:05:43.316Z"
   },
   {
    "duration": 922,
    "start_time": "2022-05-11T20:05:58.130Z"
   },
   {
    "duration": 6,
    "start_time": "2022-05-11T20:05:59.055Z"
   },
   {
    "duration": 4,
    "start_time": "2022-05-11T20:06:00.246Z"
   },
   {
    "duration": 5,
    "start_time": "2022-05-11T20:06:01.046Z"
   },
   {
    "duration": 917,
    "start_time": "2022-05-11T20:06:15.629Z"
   },
   {
    "duration": 7,
    "start_time": "2022-05-11T20:06:16.549Z"
   },
   {
    "duration": 5,
    "start_time": "2022-05-11T20:06:22.221Z"
   },
   {
    "duration": 6,
    "start_time": "2022-05-11T20:06:24.125Z"
   },
   {
    "duration": 1160,
    "start_time": "2022-05-11T20:06:29.841Z"
   },
   {
    "duration": 6,
    "start_time": "2022-05-11T20:06:31.004Z"
   },
   {
    "duration": 6,
    "start_time": "2022-05-11T20:06:32.749Z"
   },
   {
    "duration": 6,
    "start_time": "2022-05-11T20:06:34.029Z"
   },
   {
    "duration": 1428,
    "start_time": "2022-05-11T20:06:42.497Z"
   },
   {
    "duration": 2247,
    "start_time": "2022-05-11T20:06:51.593Z"
   },
   {
    "duration": 3181,
    "start_time": "2022-05-11T20:06:56.897Z"
   },
   {
    "duration": 4772,
    "start_time": "2022-05-11T20:07:07.712Z"
   },
   {
    "duration": 6034,
    "start_time": "2022-05-11T20:07:13.153Z"
   },
   {
    "duration": 10186,
    "start_time": "2022-05-11T20:08:33.346Z"
   },
   {
    "duration": 7,
    "start_time": "2022-05-11T20:08:43.534Z"
   },
   {
    "duration": 10,
    "start_time": "2022-05-11T20:08:43.543Z"
   },
   {
    "duration": 8,
    "start_time": "2022-05-11T20:08:43.556Z"
   },
   {
    "duration": 9364,
    "start_time": "2022-05-11T20:08:54.234Z"
   },
   {
    "duration": 7,
    "start_time": "2022-05-11T20:09:03.601Z"
   },
   {
    "duration": 6,
    "start_time": "2022-05-11T20:09:03.625Z"
   },
   {
    "duration": 35,
    "start_time": "2022-05-11T20:09:03.634Z"
   },
   {
    "duration": 9322,
    "start_time": "2022-05-11T20:09:37.455Z"
   },
   {
    "duration": 7,
    "start_time": "2022-05-11T20:09:46.780Z"
   },
   {
    "duration": 18,
    "start_time": "2022-05-11T20:09:46.790Z"
   },
   {
    "duration": 12,
    "start_time": "2022-05-11T20:09:46.825Z"
   },
   {
    "duration": 10504,
    "start_time": "2022-05-11T20:09:54.085Z"
   },
   {
    "duration": 6,
    "start_time": "2022-05-11T20:10:04.592Z"
   },
   {
    "duration": 25,
    "start_time": "2022-05-11T20:10:04.601Z"
   },
   {
    "duration": 7,
    "start_time": "2022-05-11T20:10:04.629Z"
   },
   {
    "duration": 9496,
    "start_time": "2022-05-11T20:10:17.596Z"
   },
   {
    "duration": 7,
    "start_time": "2022-05-11T20:10:27.094Z"
   },
   {
    "duration": 21,
    "start_time": "2022-05-11T20:10:27.103Z"
   },
   {
    "duration": 4,
    "start_time": "2022-05-11T20:10:27.128Z"
   },
   {
    "duration": 9458,
    "start_time": "2022-05-11T20:10:33.077Z"
   },
   {
    "duration": 7,
    "start_time": "2022-05-11T20:10:42.537Z"
   },
   {
    "duration": 13,
    "start_time": "2022-05-11T20:10:42.545Z"
   },
   {
    "duration": 14,
    "start_time": "2022-05-11T20:10:42.561Z"
   },
   {
    "duration": 8898,
    "start_time": "2022-05-11T20:10:49.844Z"
   },
   {
    "duration": 6,
    "start_time": "2022-05-11T20:10:58.745Z"
   },
   {
    "duration": 9,
    "start_time": "2022-05-11T20:10:58.753Z"
   },
   {
    "duration": 8,
    "start_time": "2022-05-11T20:10:58.765Z"
   },
   {
    "duration": 8419,
    "start_time": "2022-05-11T20:11:06.158Z"
   },
   {
    "duration": 8,
    "start_time": "2022-05-11T20:11:14.581Z"
   },
   {
    "duration": 33,
    "start_time": "2022-05-11T20:11:14.592Z"
   },
   {
    "duration": 9,
    "start_time": "2022-05-11T20:11:14.629Z"
   },
   {
    "duration": 8239,
    "start_time": "2022-05-11T20:11:30.941Z"
   },
   {
    "duration": 6,
    "start_time": "2022-05-11T20:11:39.184Z"
   },
   {
    "duration": 36,
    "start_time": "2022-05-11T20:11:39.193Z"
   },
   {
    "duration": 25,
    "start_time": "2022-05-11T20:11:39.232Z"
   },
   {
    "duration": 7753,
    "start_time": "2022-05-11T20:11:53.124Z"
   },
   {
    "duration": 8,
    "start_time": "2022-05-11T20:12:00.881Z"
   },
   {
    "duration": 32,
    "start_time": "2022-05-11T20:12:00.892Z"
   },
   {
    "duration": 11,
    "start_time": "2022-05-11T20:12:00.928Z"
   },
   {
    "duration": 6849,
    "start_time": "2022-05-11T20:12:14.690Z"
   },
   {
    "duration": 6,
    "start_time": "2022-05-11T20:12:21.542Z"
   },
   {
    "duration": 12,
    "start_time": "2022-05-11T20:12:21.551Z"
   },
   {
    "duration": 30,
    "start_time": "2022-05-11T20:12:21.566Z"
   },
   {
    "duration": 6756,
    "start_time": "2022-05-11T20:12:28.796Z"
   },
   {
    "duration": 7,
    "start_time": "2022-05-11T20:12:35.554Z"
   },
   {
    "duration": 7,
    "start_time": "2022-05-11T20:12:35.563Z"
   },
   {
    "duration": 7,
    "start_time": "2022-05-11T20:12:35.573Z"
   },
   {
    "duration": 6900,
    "start_time": "2022-05-11T20:12:58.852Z"
   },
   {
    "duration": 7,
    "start_time": "2022-05-11T20:13:05.755Z"
   },
   {
    "duration": 9,
    "start_time": "2022-05-11T20:13:05.764Z"
   },
   {
    "duration": 8,
    "start_time": "2022-05-11T20:13:05.776Z"
   },
   {
    "duration": 6364,
    "start_time": "2022-05-11T20:13:17.288Z"
   },
   {
    "duration": 9,
    "start_time": "2022-05-11T20:13:23.656Z"
   },
   {
    "duration": 14,
    "start_time": "2022-05-11T20:13:23.667Z"
   },
   {
    "duration": 7,
    "start_time": "2022-05-11T20:13:23.684Z"
   },
   {
    "duration": 6274,
    "start_time": "2022-05-11T20:13:30.744Z"
   },
   {
    "duration": 7,
    "start_time": "2022-05-11T20:13:37.020Z"
   },
   {
    "duration": 15,
    "start_time": "2022-05-11T20:13:37.029Z"
   },
   {
    "duration": 9,
    "start_time": "2022-05-11T20:13:37.047Z"
   },
   {
    "duration": 5655,
    "start_time": "2022-05-11T20:13:47.540Z"
   },
   {
    "duration": 7,
    "start_time": "2022-05-11T20:13:53.198Z"
   },
   {
    "duration": 6,
    "start_time": "2022-05-11T20:13:53.223Z"
   },
   {
    "duration": 9,
    "start_time": "2022-05-11T20:13:53.232Z"
   },
   {
    "duration": 6321,
    "start_time": "2022-05-11T20:14:01.376Z"
   },
   {
    "duration": 8,
    "start_time": "2022-05-11T20:14:07.699Z"
   },
   {
    "duration": 18,
    "start_time": "2022-05-11T20:14:07.709Z"
   },
   {
    "duration": 10,
    "start_time": "2022-05-11T20:14:07.730Z"
   },
   {
    "duration": 5589,
    "start_time": "2022-05-11T20:14:18.136Z"
   },
   {
    "duration": 6,
    "start_time": "2022-05-11T20:14:23.728Z"
   },
   {
    "duration": 8,
    "start_time": "2022-05-11T20:14:23.736Z"
   },
   {
    "duration": 7,
    "start_time": "2022-05-11T20:14:23.747Z"
   },
   {
    "duration": 5368,
    "start_time": "2022-05-11T20:14:29.528Z"
   },
   {
    "duration": 6,
    "start_time": "2022-05-11T20:14:34.898Z"
   },
   {
    "duration": 22,
    "start_time": "2022-05-11T20:14:34.906Z"
   },
   {
    "duration": 8,
    "start_time": "2022-05-11T20:14:34.931Z"
   },
   {
    "duration": 5235,
    "start_time": "2022-05-11T20:14:41.976Z"
   },
   {
    "duration": 7,
    "start_time": "2022-05-11T20:14:47.224Z"
   },
   {
    "duration": 17,
    "start_time": "2022-05-11T20:14:47.233Z"
   },
   {
    "duration": 9,
    "start_time": "2022-05-11T20:14:47.253Z"
   },
   {
    "duration": 5195,
    "start_time": "2022-05-11T20:14:52.917Z"
   },
   {
    "duration": 7,
    "start_time": "2022-05-11T20:14:58.124Z"
   },
   {
    "duration": 7,
    "start_time": "2022-05-11T20:14:58.134Z"
   },
   {
    "duration": 28,
    "start_time": "2022-05-11T20:14:58.144Z"
   },
   {
    "duration": 4375,
    "start_time": "2022-05-11T20:15:24.016Z"
   },
   {
    "duration": 9,
    "start_time": "2022-05-11T20:15:28.394Z"
   },
   {
    "duration": 6,
    "start_time": "2022-05-11T20:15:28.426Z"
   },
   {
    "duration": 7,
    "start_time": "2022-05-11T20:15:28.437Z"
   },
   {
    "duration": 2344,
    "start_time": "2022-05-11T20:15:36.832Z"
   },
   {
    "duration": 9,
    "start_time": "2022-05-11T20:15:39.179Z"
   },
   {
    "duration": 9,
    "start_time": "2022-05-11T20:15:39.191Z"
   },
   {
    "duration": 6,
    "start_time": "2022-05-11T20:15:39.225Z"
   },
   {
    "duration": 2306,
    "start_time": "2022-05-11T20:18:40.508Z"
   },
   {
    "duration": 12,
    "start_time": "2022-05-11T20:18:42.817Z"
   },
   {
    "duration": 20,
    "start_time": "2022-05-11T20:18:42.831Z"
   },
   {
    "duration": 10,
    "start_time": "2022-05-11T20:18:42.854Z"
   },
   {
    "duration": 2518,
    "start_time": "2022-05-11T20:21:38.091Z"
   },
   {
    "duration": 15,
    "start_time": "2022-05-11T20:21:40.612Z"
   },
   {
    "duration": 5,
    "start_time": "2022-05-11T20:21:40.629Z"
   },
   {
    "duration": 11,
    "start_time": "2022-05-11T20:21:40.637Z"
   },
   {
    "duration": 2202,
    "start_time": "2022-05-11T20:21:56.036Z"
   },
   {
    "duration": 7,
    "start_time": "2022-05-11T20:21:58.241Z"
   },
   {
    "duration": 10,
    "start_time": "2022-05-11T20:21:58.251Z"
   },
   {
    "duration": 10,
    "start_time": "2022-05-11T20:21:58.264Z"
   },
   {
    "duration": 10054,
    "start_time": "2022-05-11T20:25:59.277Z"
   },
   {
    "duration": 8,
    "start_time": "2022-05-11T20:26:09.334Z"
   },
   {
    "duration": 10,
    "start_time": "2022-05-11T20:26:09.346Z"
   },
   {
    "duration": 38,
    "start_time": "2022-05-11T20:26:09.358Z"
   },
   {
    "duration": 8984,
    "start_time": "2022-05-11T20:26:30.495Z"
   },
   {
    "duration": 7,
    "start_time": "2022-05-11T20:26:39.481Z"
   },
   {
    "duration": 8,
    "start_time": "2022-05-11T20:26:39.490Z"
   },
   {
    "duration": 27,
    "start_time": "2022-05-11T20:26:39.501Z"
   },
   {
    "duration": 6618,
    "start_time": "2022-05-11T20:26:51.115Z"
   },
   {
    "duration": 7,
    "start_time": "2022-05-11T20:26:57.736Z"
   },
   {
    "duration": 9,
    "start_time": "2022-05-11T20:26:57.745Z"
   },
   {
    "duration": 8,
    "start_time": "2022-05-11T20:26:57.757Z"
   },
   {
    "duration": 2194,
    "start_time": "2022-05-11T20:27:17.291Z"
   },
   {
    "duration": 6,
    "start_time": "2022-05-11T20:27:19.487Z"
   },
   {
    "duration": 5,
    "start_time": "2022-05-11T20:27:19.838Z"
   },
   {
    "duration": 5,
    "start_time": "2022-05-11T20:27:20.951Z"
   },
   {
    "duration": 636,
    "start_time": "2022-05-12T07:42:21.359Z"
   },
   {
    "duration": 5,
    "start_time": "2022-05-12T07:42:22.000Z"
   },
   {
    "duration": 25,
    "start_time": "2022-05-12T07:42:22.008Z"
   },
   {
    "duration": 1089,
    "start_time": "2022-05-12T07:42:22.037Z"
   },
   {
    "duration": 80,
    "start_time": "2022-05-12T07:42:23.129Z"
   },
   {
    "duration": 16,
    "start_time": "2022-05-12T07:42:23.212Z"
   },
   {
    "duration": 5,
    "start_time": "2022-05-12T07:42:23.230Z"
   },
   {
    "duration": 7,
    "start_time": "2022-05-12T07:42:23.238Z"
   },
   {
    "duration": 11,
    "start_time": "2022-05-12T07:42:23.247Z"
   },
   {
    "duration": 35,
    "start_time": "2022-05-12T07:42:23.261Z"
   },
   {
    "duration": 179,
    "start_time": "2022-05-12T07:42:23.300Z"
   },
   {
    "duration": 26,
    "start_time": "2022-05-12T07:42:23.481Z"
   },
   {
    "duration": 47,
    "start_time": "2022-05-12T07:42:23.509Z"
   },
   {
    "duration": 8,
    "start_time": "2022-05-12T07:42:23.558Z"
   },
   {
    "duration": 5,
    "start_time": "2022-05-12T07:42:23.568Z"
   },
   {
    "duration": 26,
    "start_time": "2022-05-12T07:42:23.575Z"
   },
   {
    "duration": 30,
    "start_time": "2022-05-12T07:42:23.604Z"
   },
   {
    "duration": 9,
    "start_time": "2022-05-12T07:42:23.636Z"
   },
   {
    "duration": 7,
    "start_time": "2022-05-12T07:42:23.647Z"
   },
   {
    "duration": 13,
    "start_time": "2022-05-12T07:42:23.656Z"
   },
   {
    "duration": 31,
    "start_time": "2022-05-12T07:42:23.671Z"
   },
   {
    "duration": 26,
    "start_time": "2022-05-12T07:42:23.705Z"
   },
   {
    "duration": 14,
    "start_time": "2022-05-12T07:42:23.733Z"
   },
   {
    "duration": 7,
    "start_time": "2022-05-12T07:42:23.749Z"
   },
   {
    "duration": 733,
    "start_time": "2022-05-12T07:42:23.759Z"
   },
   {
    "duration": 5,
    "start_time": "2022-05-12T07:42:24.503Z"
   },
   {
    "duration": 2402,
    "start_time": "2022-05-12T07:42:24.510Z"
   },
   {
    "duration": 8,
    "start_time": "2022-05-12T07:42:26.923Z"
   },
   {
    "duration": 11,
    "start_time": "2022-05-12T07:42:26.934Z"
   },
   {
    "duration": 8,
    "start_time": "2022-05-12T07:42:26.947Z"
   },
   {
    "duration": 2403,
    "start_time": "2022-05-12T07:49:06.271Z"
   },
   {
    "duration": 2100,
    "start_time": "2022-05-12T07:49:51.619Z"
   },
   {
    "duration": 2065,
    "start_time": "2022-05-12T07:50:14.246Z"
   },
   {
    "duration": 18,
    "start_time": "2022-05-12T07:50:51.823Z"
   },
   {
    "duration": 13,
    "start_time": "2022-05-12T07:50:54.820Z"
   },
   {
    "duration": 9,
    "start_time": "2022-05-12T07:51:16.361Z"
   },
   {
    "duration": 6,
    "start_time": "2022-05-12T07:51:17.011Z"
   },
   {
    "duration": 9,
    "start_time": "2022-05-12T07:51:17.827Z"
   },
   {
    "duration": 178,
    "start_time": "2022-05-12T07:53:42.582Z"
   },
   {
    "duration": 7,
    "start_time": "2022-05-12T07:54:24.991Z"
   },
   {
    "duration": 5,
    "start_time": "2022-05-12T07:56:29.762Z"
   },
   {
    "duration": 683,
    "start_time": "2022-05-12T07:57:05.235Z"
   },
   {
    "duration": 160,
    "start_time": "2022-05-12T08:42:37.531Z"
   },
   {
    "duration": 7,
    "start_time": "2022-05-12T08:42:44.440Z"
   },
   {
    "duration": 23,
    "start_time": "2022-05-12T08:42:46.219Z"
   },
   {
    "duration": 8,
    "start_time": "2022-05-12T08:43:30.814Z"
   },
   {
    "duration": 510,
    "start_time": "2022-05-12T08:43:31.627Z"
   },
   {
    "duration": 7,
    "start_time": "2022-05-12T08:46:23.611Z"
   },
   {
    "duration": 493,
    "start_time": "2022-05-12T08:46:24.950Z"
   },
   {
    "duration": 6,
    "start_time": "2022-05-12T08:47:55.254Z"
   },
   {
    "duration": 5,
    "start_time": "2022-05-12T08:47:55.810Z"
   },
   {
    "duration": 5,
    "start_time": "2022-05-12T08:47:56.331Z"
   },
   {
    "duration": 15,
    "start_time": "2022-05-12T08:49:14.107Z"
   },
   {
    "duration": 495,
    "start_time": "2022-05-12T08:49:15.918Z"
   },
   {
    "duration": 7,
    "start_time": "2022-05-12T08:49:17.886Z"
   },
   {
    "duration": 6,
    "start_time": "2022-05-12T08:49:18.703Z"
   },
   {
    "duration": 6,
    "start_time": "2022-05-12T08:49:19.235Z"
   },
   {
    "duration": 13,
    "start_time": "2022-05-12T08:54:49.995Z"
   },
   {
    "duration": 645,
    "start_time": "2022-05-12T08:54:51.618Z"
   },
   {
    "duration": 7,
    "start_time": "2022-05-12T08:54:59.066Z"
   },
   {
    "duration": 7,
    "start_time": "2022-05-12T08:54:59.690Z"
   },
   {
    "duration": 6,
    "start_time": "2022-05-12T08:55:00.129Z"
   },
   {
    "duration": 8,
    "start_time": "2022-05-12T08:55:39.781Z"
   },
   {
    "duration": 489,
    "start_time": "2022-05-12T08:55:40.210Z"
   },
   {
    "duration": 11,
    "start_time": "2022-05-12T08:56:54.126Z"
   },
   {
    "duration": 732,
    "start_time": "2022-05-12T08:56:55.114Z"
   },
   {
    "duration": 9,
    "start_time": "2022-05-12T08:59:50.663Z"
   },
   {
    "duration": 788,
    "start_time": "2022-05-12T08:59:54.722Z"
   },
   {
    "duration": 10,
    "start_time": "2022-05-12T09:00:26.974Z"
   },
   {
    "duration": 926,
    "start_time": "2022-05-12T09:00:27.589Z"
   },
   {
    "duration": 17,
    "start_time": "2022-05-12T09:03:53.450Z"
   },
   {
    "duration": 614,
    "start_time": "2022-05-12T09:03:56.498Z"
   },
   {
    "duration": 7,
    "start_time": "2022-05-12T09:04:51.742Z"
   },
   {
    "duration": 5,
    "start_time": "2022-05-12T09:04:52.501Z"
   },
   {
    "duration": 13,
    "start_time": "2022-05-12T09:04:53.010Z"
   },
   {
    "duration": 10,
    "start_time": "2022-05-12T09:05:57.991Z"
   },
   {
    "duration": 707,
    "start_time": "2022-05-12T09:05:58.073Z"
   },
   {
    "duration": 9,
    "start_time": "2022-05-12T09:06:13.106Z"
   },
   {
    "duration": 186,
    "start_time": "2022-05-12T09:06:32.370Z"
   },
   {
    "duration": 9,
    "start_time": "2022-05-12T09:06:45.338Z"
   },
   {
    "duration": 5,
    "start_time": "2022-05-12T09:06:45.746Z"
   },
   {
    "duration": 6,
    "start_time": "2022-05-12T09:06:46.097Z"
   },
   {
    "duration": 10,
    "start_time": "2022-05-12T09:06:57.749Z"
   },
   {
    "duration": 689,
    "start_time": "2022-05-12T09:07:00.445Z"
   },
   {
    "duration": 10,
    "start_time": "2022-05-12T09:07:11.226Z"
   },
   {
    "duration": 16,
    "start_time": "2022-05-12T09:07:18.272Z"
   },
   {
    "duration": 765,
    "start_time": "2022-05-12T09:07:21.230Z"
   },
   {
    "duration": 10,
    "start_time": "2022-05-12T09:07:32.785Z"
   },
   {
    "duration": 601,
    "start_time": "2022-05-12T09:07:36.420Z"
   },
   {
    "duration": 13,
    "start_time": "2022-05-12T09:07:42.652Z"
   },
   {
    "duration": 11,
    "start_time": "2022-05-12T09:08:04.681Z"
   },
   {
    "duration": 520,
    "start_time": "2022-05-12T09:08:05.877Z"
   },
   {
    "duration": 189,
    "start_time": "2022-05-12T09:08:19.673Z"
   },
   {
    "duration": 557,
    "start_time": "2022-05-12T09:08:21.678Z"
   },
   {
    "duration": 11,
    "start_time": "2022-05-12T09:08:35.141Z"
   },
   {
    "duration": 592,
    "start_time": "2022-05-12T09:08:36.233Z"
   },
   {
    "duration": 11,
    "start_time": "2022-05-12T09:08:45.137Z"
   },
   {
    "duration": 565,
    "start_time": "2022-05-12T09:08:51.961Z"
   },
   {
    "duration": 17,
    "start_time": "2022-05-12T09:08:55.780Z"
   },
   {
    "duration": 16,
    "start_time": "2022-05-12T09:12:20.787Z"
   },
   {
    "duration": 729,
    "start_time": "2022-05-12T09:12:22.002Z"
   },
   {
    "duration": 17,
    "start_time": "2022-05-12T09:39:47.059Z"
   },
   {
    "duration": 26,
    "start_time": "2022-05-12T09:39:52.067Z"
   },
   {
    "duration": 20,
    "start_time": "2022-05-12T09:40:25.562Z"
   },
   {
    "duration": 14,
    "start_time": "2022-05-12T09:42:45.391Z"
   },
   {
    "duration": 19,
    "start_time": "2022-05-12T09:42:46.146Z"
   },
   {
    "duration": 9,
    "start_time": "2022-05-12T09:42:57.567Z"
   },
   {
    "duration": 18,
    "start_time": "2022-05-12T09:42:58.258Z"
   },
   {
    "duration": 9,
    "start_time": "2022-05-12T09:45:07.514Z"
   },
   {
    "duration": 23,
    "start_time": "2022-05-12T09:45:08.455Z"
   },
   {
    "duration": 16,
    "start_time": "2022-05-12T09:45:52.090Z"
   },
   {
    "duration": 598,
    "start_time": "2022-05-12T09:45:52.822Z"
   },
   {
    "duration": 10,
    "start_time": "2022-05-12T09:46:27.782Z"
   },
   {
    "duration": 586,
    "start_time": "2022-05-12T09:46:28.862Z"
   },
   {
    "duration": 14,
    "start_time": "2022-05-12T09:46:34.022Z"
   },
   {
    "duration": 178,
    "start_time": "2022-05-12T09:46:54.747Z"
   },
   {
    "duration": 590,
    "start_time": "2022-05-12T09:46:55.695Z"
   },
   {
    "duration": 11,
    "start_time": "2022-05-12T09:47:03.230Z"
   },
   {
    "duration": 8,
    "start_time": "2022-05-12T09:48:05.446Z"
   },
   {
    "duration": 15,
    "start_time": "2022-05-12T09:48:08.600Z"
   },
   {
    "duration": 14,
    "start_time": "2022-05-12T09:48:42.505Z"
   },
   {
    "duration": 607,
    "start_time": "2022-05-12T09:48:44.357Z"
   },
   {
    "duration": 9,
    "start_time": "2022-05-12T09:48:48.037Z"
   },
   {
    "duration": 5,
    "start_time": "2022-05-12T09:48:49.449Z"
   },
   {
    "duration": 6,
    "start_time": "2022-05-12T09:48:49.989Z"
   },
   {
    "duration": 11,
    "start_time": "2022-05-12T09:49:49.125Z"
   },
   {
    "duration": 620,
    "start_time": "2022-05-12T09:49:49.637Z"
   },
   {
    "duration": 301,
    "start_time": "2022-05-12T09:50:02.326Z"
   },
   {
    "duration": 606,
    "start_time": "2022-05-12T09:50:04.314Z"
   },
   {
    "duration": 1044,
    "start_time": "2022-05-12T09:50:47.222Z"
   },
   {
    "duration": 0,
    "start_time": "2022-05-12T09:50:48.269Z"
   },
   {
    "duration": 202,
    "start_time": "2022-05-12T09:51:25.725Z"
   },
   {
    "duration": 16,
    "start_time": "2022-05-12T09:51:52.790Z"
   },
   {
    "duration": 789,
    "start_time": "2022-05-12T09:52:04.261Z"
   },
   {
    "duration": 10,
    "start_time": "2022-05-12T09:52:40.926Z"
   },
   {
    "duration": 498,
    "start_time": "2022-05-12T09:52:41.737Z"
   },
   {
    "duration": 10,
    "start_time": "2022-05-12T09:52:58.206Z"
   },
   {
    "duration": 793,
    "start_time": "2022-05-12T09:53:01.073Z"
   },
   {
    "duration": 14,
    "start_time": "2022-05-12T09:53:30.662Z"
   },
   {
    "duration": 825,
    "start_time": "2022-05-12T09:53:31.405Z"
   },
   {
    "duration": 717,
    "start_time": "2022-05-12T09:55:01.429Z"
   },
   {
    "duration": 6,
    "start_time": "2022-05-12T09:55:53.109Z"
   },
   {
    "duration": 8,
    "start_time": "2022-05-12T09:55:53.517Z"
   },
   {
    "duration": 6,
    "start_time": "2022-05-12T09:55:53.849Z"
   },
   {
    "duration": 7,
    "start_time": "2022-05-12T09:57:34.204Z"
   },
   {
    "duration": 279,
    "start_time": "2022-05-12T09:57:35.465Z"
   },
   {
    "duration": 6,
    "start_time": "2022-05-12T09:57:39.957Z"
   },
   {
    "duration": 5,
    "start_time": "2022-05-12T09:57:41.013Z"
   },
   {
    "duration": 5,
    "start_time": "2022-05-12T09:57:42.733Z"
   },
   {
    "duration": 9,
    "start_time": "2022-05-12T09:58:56.165Z"
   },
   {
    "duration": 20,
    "start_time": "2022-05-12T09:58:59.344Z"
   },
   {
    "duration": 8,
    "start_time": "2022-05-12T09:59:17.514Z"
   },
   {
    "duration": 510,
    "start_time": "2022-05-12T09:59:18.184Z"
   },
   {
    "duration": 6,
    "start_time": "2022-05-12T09:59:28.585Z"
   },
   {
    "duration": 5,
    "start_time": "2022-05-12T09:59:32.121Z"
   },
   {
    "duration": 5,
    "start_time": "2022-05-12T09:59:32.621Z"
   },
   {
    "duration": 11,
    "start_time": "2022-05-12T10:03:36.261Z"
   },
   {
    "duration": 519,
    "start_time": "2022-05-12T10:03:37.324Z"
   },
   {
    "duration": 10,
    "start_time": "2022-05-12T10:04:00.778Z"
   },
   {
    "duration": 697,
    "start_time": "2022-05-12T10:04:02.500Z"
   },
   {
    "duration": 12,
    "start_time": "2022-05-12T10:05:15.628Z"
   },
   {
    "duration": 785,
    "start_time": "2022-05-12T10:05:16.356Z"
   },
   {
    "duration": 6,
    "start_time": "2022-05-12T10:05:22.284Z"
   },
   {
    "duration": 5,
    "start_time": "2022-05-12T10:05:22.781Z"
   },
   {
    "duration": 6,
    "start_time": "2022-05-12T10:05:23.153Z"
   },
   {
    "duration": 9,
    "start_time": "2022-05-12T10:05:51.489Z"
   },
   {
    "duration": 638,
    "start_time": "2022-05-12T10:05:52.380Z"
   },
   {
    "duration": 6,
    "start_time": "2022-05-12T10:06:08.605Z"
   },
   {
    "duration": 10,
    "start_time": "2022-05-12T10:06:08.614Z"
   },
   {
    "duration": 7,
    "start_time": "2022-05-12T10:06:08.627Z"
   },
   {
    "duration": 529,
    "start_time": "2022-05-12T12:27:22.567Z"
   },
   {
    "duration": 4,
    "start_time": "2022-05-12T12:27:23.098Z"
   },
   {
    "duration": 14,
    "start_time": "2022-05-12T12:27:23.105Z"
   },
   {
    "duration": 967,
    "start_time": "2022-05-12T12:27:23.122Z"
   },
   {
    "duration": 80,
    "start_time": "2022-05-12T12:27:24.091Z"
   },
   {
    "duration": 15,
    "start_time": "2022-05-12T12:27:24.182Z"
   },
   {
    "duration": 4,
    "start_time": "2022-05-12T12:27:24.199Z"
   },
   {
    "duration": 8,
    "start_time": "2022-05-12T12:27:24.205Z"
   },
   {
    "duration": 7,
    "start_time": "2022-05-12T12:27:24.215Z"
   },
   {
    "duration": 4,
    "start_time": "2022-05-12T12:27:24.226Z"
   },
   {
    "duration": 79,
    "start_time": "2022-05-12T12:27:24.232Z"
   },
   {
    "duration": 17,
    "start_time": "2022-05-12T12:27:24.314Z"
   },
   {
    "duration": 65,
    "start_time": "2022-05-12T12:27:24.333Z"
   },
   {
    "duration": 11,
    "start_time": "2022-05-12T12:27:24.400Z"
   },
   {
    "duration": 7,
    "start_time": "2022-05-12T12:27:24.414Z"
   },
   {
    "duration": 17,
    "start_time": "2022-05-12T12:27:24.423Z"
   },
   {
    "duration": 47,
    "start_time": "2022-05-12T12:27:24.442Z"
   },
   {
    "duration": 12,
    "start_time": "2022-05-12T12:27:24.492Z"
   },
   {
    "duration": 8,
    "start_time": "2022-05-12T12:27:24.506Z"
   },
   {
    "duration": 20,
    "start_time": "2022-05-12T12:27:24.516Z"
   },
   {
    "duration": 9,
    "start_time": "2022-05-12T12:27:24.538Z"
   },
   {
    "duration": 15,
    "start_time": "2022-05-12T12:27:24.549Z"
   },
   {
    "duration": 35,
    "start_time": "2022-05-12T12:27:24.566Z"
   },
   {
    "duration": 7,
    "start_time": "2022-05-12T12:27:24.605Z"
   },
   {
    "duration": 615,
    "start_time": "2022-05-12T12:27:24.615Z"
   },
   {
    "duration": 5,
    "start_time": "2022-05-12T12:27:25.233Z"
   },
   {
    "duration": 3247,
    "start_time": "2022-05-12T12:27:25.240Z"
   },
   {
    "duration": 8,
    "start_time": "2022-05-12T12:27:28.491Z"
   },
   {
    "duration": 13,
    "start_time": "2022-05-12T12:27:28.501Z"
   },
   {
    "duration": 11,
    "start_time": "2022-05-12T12:27:28.517Z"
   },
   {
    "duration": 7,
    "start_time": "2022-05-12T12:33:29.867Z"
   },
   {
    "duration": 5275,
    "start_time": "2022-05-12T12:33:39.799Z"
   },
   {
    "duration": 6,
    "start_time": "2022-05-12T12:34:34.267Z"
   },
   {
    "duration": 5,
    "start_time": "2022-05-12T12:34:34.827Z"
   },
   {
    "duration": 7,
    "start_time": "2022-05-12T12:34:35.270Z"
   },
   {
    "duration": 8,
    "start_time": "2022-05-12T12:36:05.736Z"
   },
   {
    "duration": 6452,
    "start_time": "2022-05-12T12:36:06.563Z"
   },
   {
    "duration": 11,
    "start_time": "2022-05-12T12:54:25.640Z"
   },
   {
    "duration": 6180,
    "start_time": "2022-05-12T12:54:27.420Z"
   },
   {
    "duration": 8,
    "start_time": "2022-05-12T12:55:37.748Z"
   },
   {
    "duration": 4708,
    "start_time": "2022-05-12T12:55:38.792Z"
   },
   {
    "duration": 13,
    "start_time": "2022-05-12T12:56:23.876Z"
   },
   {
    "duration": 5276,
    "start_time": "2022-05-12T12:56:24.428Z"
   },
   {
    "duration": 13,
    "start_time": "2022-05-12T12:57:33.484Z"
   },
   {
    "duration": 4860,
    "start_time": "2022-05-12T12:57:34.512Z"
   },
   {
    "duration": 12,
    "start_time": "2022-05-12T12:58:42.892Z"
   },
   {
    "duration": 4865,
    "start_time": "2022-05-12T12:58:44.509Z"
   },
   {
    "duration": 8,
    "start_time": "2022-05-12T12:58:56.260Z"
   },
   {
    "duration": 4877,
    "start_time": "2022-05-12T12:58:56.616Z"
   },
   {
    "duration": 9,
    "start_time": "2022-05-12T13:00:30.793Z"
   },
   {
    "duration": 4638,
    "start_time": "2022-05-12T13:00:31.177Z"
   },
   {
    "duration": 8,
    "start_time": "2022-05-12T13:01:32.370Z"
   },
   {
    "duration": 4391,
    "start_time": "2022-05-12T13:01:32.485Z"
   },
   {
    "duration": 10,
    "start_time": "2022-05-12T13:08:42.319Z"
   },
   {
    "duration": 6108,
    "start_time": "2022-05-12T13:08:45.243Z"
   },
   {
    "duration": 10,
    "start_time": "2022-05-12T13:21:32.722Z"
   },
   {
    "duration": 6166,
    "start_time": "2022-05-12T13:21:33.823Z"
   },
   {
    "duration": 9,
    "start_time": "2022-05-12T13:22:01.939Z"
   },
   {
    "duration": 5487,
    "start_time": "2022-05-12T13:22:03.335Z"
   },
   {
    "duration": 13,
    "start_time": "2022-05-12T13:23:31.236Z"
   },
   {
    "duration": 6415,
    "start_time": "2022-05-12T13:23:31.749Z"
   },
   {
    "duration": 5117,
    "start_time": "2022-05-12T13:23:50.149Z"
   },
   {
    "duration": 13,
    "start_time": "2022-05-12T13:24:04.696Z"
   },
   {
    "duration": 6458,
    "start_time": "2022-05-12T13:24:08.288Z"
   },
   {
    "duration": 9,
    "start_time": "2022-05-12T13:24:37.907Z"
   },
   {
    "duration": 5097,
    "start_time": "2022-05-12T13:24:38.467Z"
   },
   {
    "duration": 273,
    "start_time": "2022-05-12T13:30:17.706Z"
   },
   {
    "duration": 5213,
    "start_time": "2022-05-12T13:30:19.785Z"
   },
   {
    "duration": 4,
    "start_time": "2022-05-12T13:31:58.109Z"
   },
   {
    "duration": 8,
    "start_time": "2022-05-12T13:32:15.445Z"
   },
   {
    "duration": 6341,
    "start_time": "2022-05-12T13:32:16.361Z"
   },
   {
    "duration": 8,
    "start_time": "2022-05-12T13:32:37.521Z"
   },
   {
    "duration": 6352,
    "start_time": "2022-05-12T13:32:38.505Z"
   },
   {
    "duration": 8,
    "start_time": "2022-05-12T13:35:51.665Z"
   },
   {
    "duration": 4786,
    "start_time": "2022-05-12T13:35:52.416Z"
   },
   {
    "duration": 20,
    "start_time": "2022-05-12T13:45:26.218Z"
   },
   {
    "duration": 1188,
    "start_time": "2022-05-12T13:45:48.656Z"
   },
   {
    "duration": 29,
    "start_time": "2022-05-12T13:46:00.559Z"
   },
   {
    "duration": 1924,
    "start_time": "2022-05-12T13:46:06.931Z"
   },
   {
    "duration": 1201,
    "start_time": "2022-05-12T13:46:18.916Z"
   },
   {
    "duration": 2269,
    "start_time": "2022-05-12T13:46:29.674Z"
   },
   {
    "duration": 3769,
    "start_time": "2022-05-12T13:46:38.978Z"
   },
   {
    "duration": 2993,
    "start_time": "2022-05-12T13:46:52.647Z"
   },
   {
    "duration": 2731,
    "start_time": "2022-05-12T13:47:00.531Z"
   },
   {
    "duration": 2958,
    "start_time": "2022-05-12T13:47:28.162Z"
   },
   {
    "duration": 201,
    "start_time": "2022-05-12T15:14:55.426Z"
   },
   {
    "duration": 16,
    "start_time": "2022-05-12T15:15:08.521Z"
   },
   {
    "duration": 5373,
    "start_time": "2022-05-12T15:15:10.936Z"
   },
   {
    "duration": 17,
    "start_time": "2022-05-12T15:15:54.946Z"
   },
   {
    "duration": 5243,
    "start_time": "2022-05-12T15:15:56.676Z"
   },
   {
    "duration": 1959,
    "start_time": "2022-05-12T15:20:58.250Z"
   },
   {
    "duration": 2569,
    "start_time": "2022-05-12T15:21:14.880Z"
   },
   {
    "duration": 4,
    "start_time": "2022-05-12T15:26:16.252Z"
   },
   {
    "duration": 4,
    "start_time": "2022-05-12T15:28:01.980Z"
   },
   {
    "duration": 4,
    "start_time": "2022-05-12T15:29:16.456Z"
   },
   {
    "duration": 6,
    "start_time": "2022-05-12T15:29:16.463Z"
   },
   {
    "duration": 8,
    "start_time": "2022-05-12T15:29:16.472Z"
   },
   {
    "duration": 15,
    "start_time": "2022-05-12T15:29:16.483Z"
   },
   {
    "duration": 17,
    "start_time": "2022-05-12T15:29:16.501Z"
   },
   {
    "duration": 9,
    "start_time": "2022-05-12T15:29:16.520Z"
   },
   {
    "duration": 11,
    "start_time": "2022-05-12T15:29:16.532Z"
   },
   {
    "duration": 11,
    "start_time": "2022-05-12T15:29:16.546Z"
   },
   {
    "duration": 9,
    "start_time": "2022-05-12T15:29:16.560Z"
   },
   {
    "duration": 5,
    "start_time": "2022-05-12T15:29:16.590Z"
   },
   {
    "duration": 20,
    "start_time": "2022-05-12T15:29:16.597Z"
   },
   {
    "duration": 7,
    "start_time": "2022-05-12T15:29:16.620Z"
   },
   {
    "duration": 1244,
    "start_time": "2022-05-12T15:29:16.630Z"
   },
   {
    "duration": 22,
    "start_time": "2022-05-12T15:29:17.881Z"
   },
   {
    "duration": 93,
    "start_time": "2022-05-12T15:29:17.910Z"
   },
   {
    "duration": 12,
    "start_time": "2022-05-12T15:29:18.005Z"
   },
   {
    "duration": 5,
    "start_time": "2022-05-12T15:29:18.020Z"
   },
   {
    "duration": 16,
    "start_time": "2022-05-12T15:29:18.028Z"
   },
   {
    "duration": 5,
    "start_time": "2022-05-12T15:29:18.047Z"
   },
   {
    "duration": 45,
    "start_time": "2022-05-12T15:29:18.054Z"
   },
   {
    "duration": 9,
    "start_time": "2022-05-12T15:29:18.102Z"
   },
   {
    "duration": 23,
    "start_time": "2022-05-12T15:29:18.113Z"
   },
   {
    "duration": 13,
    "start_time": "2022-05-12T15:29:18.138Z"
   },
   {
    "duration": 27,
    "start_time": "2022-05-12T15:29:18.156Z"
   },
   {
    "duration": 21,
    "start_time": "2022-05-12T15:29:18.188Z"
   },
   {
    "duration": 6,
    "start_time": "2022-05-12T15:29:18.212Z"
   },
   {
    "duration": 12,
    "start_time": "2022-05-12T15:29:18.221Z"
   },
   {
    "duration": 14158,
    "start_time": "2022-05-12T15:29:40.840Z"
   },
   {
    "duration": 20,
    "start_time": "2022-05-12T15:34:36.387Z"
   },
   {
    "duration": 9106,
    "start_time": "2022-05-12T15:34:38.643Z"
   },
   {
    "duration": 26,
    "start_time": "2022-05-12T15:41:06.783Z"
   },
   {
    "duration": 11082,
    "start_time": "2022-05-12T15:41:09.503Z"
   },
   {
    "duration": 26,
    "start_time": "2022-05-12T16:24:01.391Z"
   },
   {
    "duration": 11028,
    "start_time": "2022-05-12T16:24:05.337Z"
   },
   {
    "duration": 6,
    "start_time": "2022-05-12T16:24:28.393Z"
   },
   {
    "duration": 6,
    "start_time": "2022-05-12T16:24:29.198Z"
   },
   {
    "duration": 7,
    "start_time": "2022-05-12T16:24:29.936Z"
   },
   {
    "duration": 513053,
    "start_time": "2022-05-12T16:24:34.180Z"
   },
   {
    "duration": 14,
    "start_time": "2022-05-12T16:36:04.823Z"
   },
   {
    "duration": 7,
    "start_time": "2022-05-12T16:36:06.111Z"
   },
   {
    "duration": 14,
    "start_time": "2022-05-12T16:36:06.603Z"
   },
   {
    "duration": 29,
    "start_time": "2022-05-12T16:39:07.608Z"
   },
   {
    "duration": 11418,
    "start_time": "2022-05-12T16:39:10.129Z"
   },
   {
    "duration": 4,
    "start_time": "2022-05-12T16:41:12.614Z"
   },
   {
    "duration": 9,
    "start_time": "2022-05-12T16:41:12.621Z"
   },
   {
    "duration": 11,
    "start_time": "2022-05-12T16:41:12.632Z"
   },
   {
    "duration": 11,
    "start_time": "2022-05-12T16:41:12.646Z"
   },
   {
    "duration": 8,
    "start_time": "2022-05-12T16:41:12.659Z"
   },
   {
    "duration": 40,
    "start_time": "2022-05-12T16:41:12.669Z"
   },
   {
    "duration": 14,
    "start_time": "2022-05-12T16:41:12.711Z"
   },
   {
    "duration": 10,
    "start_time": "2022-05-12T16:41:12.728Z"
   },
   {
    "duration": 9,
    "start_time": "2022-05-12T16:41:12.741Z"
   },
   {
    "duration": 21,
    "start_time": "2022-05-12T16:41:12.755Z"
   },
   {
    "duration": 41,
    "start_time": "2022-05-12T16:41:12.779Z"
   },
   {
    "duration": 9,
    "start_time": "2022-05-12T16:41:12.822Z"
   },
   {
    "duration": 1317,
    "start_time": "2022-05-12T16:41:12.833Z"
   },
   {
    "duration": 38,
    "start_time": "2022-05-12T16:41:14.153Z"
   },
   {
    "duration": 64,
    "start_time": "2022-05-12T16:41:14.195Z"
   },
   {
    "duration": 9,
    "start_time": "2022-05-12T16:41:14.261Z"
   },
   {
    "duration": 13,
    "start_time": "2022-05-12T16:41:14.273Z"
   },
   {
    "duration": 56,
    "start_time": "2022-05-12T16:41:14.289Z"
   },
   {
    "duration": 11,
    "start_time": "2022-05-12T16:41:14.348Z"
   },
   {
    "duration": 11,
    "start_time": "2022-05-12T16:41:14.363Z"
   },
   {
    "duration": 7,
    "start_time": "2022-05-12T16:41:14.377Z"
   },
   {
    "duration": 45,
    "start_time": "2022-05-12T16:41:14.387Z"
   },
   {
    "duration": 10,
    "start_time": "2022-05-12T16:41:14.434Z"
   },
   {
    "duration": 10,
    "start_time": "2022-05-12T16:41:14.447Z"
   },
   {
    "duration": 17,
    "start_time": "2022-05-12T16:41:14.459Z"
   },
   {
    "duration": 18,
    "start_time": "2022-05-12T16:41:14.479Z"
   },
   {
    "duration": 36,
    "start_time": "2022-05-12T16:41:14.504Z"
   },
   {
    "duration": 9984,
    "start_time": "2022-05-12T16:41:20.241Z"
   },
   {
    "duration": 3,
    "start_time": "2022-05-12T17:10:09.750Z"
   },
   {
    "duration": 6,
    "start_time": "2022-05-12T17:10:09.756Z"
   },
   {
    "duration": 7,
    "start_time": "2022-05-12T17:10:09.764Z"
   },
   {
    "duration": 10,
    "start_time": "2022-05-12T17:10:09.775Z"
   },
   {
    "duration": 6,
    "start_time": "2022-05-12T17:10:09.788Z"
   },
   {
    "duration": 11,
    "start_time": "2022-05-12T17:10:09.796Z"
   },
   {
    "duration": 23,
    "start_time": "2022-05-12T17:10:09.811Z"
   },
   {
    "duration": 7,
    "start_time": "2022-05-12T17:10:09.838Z"
   },
   {
    "duration": 5,
    "start_time": "2022-05-12T17:10:09.849Z"
   },
   {
    "duration": 32,
    "start_time": "2022-05-12T17:10:09.856Z"
   },
   {
    "duration": 11,
    "start_time": "2022-05-12T17:10:09.890Z"
   },
   {
    "duration": 11,
    "start_time": "2022-05-12T17:10:09.904Z"
   },
   {
    "duration": 1891,
    "start_time": "2022-05-12T17:10:09.918Z"
   },
   {
    "duration": 24,
    "start_time": "2022-05-12T17:10:11.812Z"
   },
   {
    "duration": 48,
    "start_time": "2022-05-12T17:10:11.838Z"
   },
   {
    "duration": 16,
    "start_time": "2022-05-12T17:10:11.888Z"
   },
   {
    "duration": 12,
    "start_time": "2022-05-12T17:10:11.907Z"
   },
   {
    "duration": 22,
    "start_time": "2022-05-12T17:10:11.922Z"
   },
   {
    "duration": 5,
    "start_time": "2022-05-12T17:10:11.947Z"
   },
   {
    "duration": 41,
    "start_time": "2022-05-12T17:10:11.954Z"
   },
   {
    "duration": 18,
    "start_time": "2022-05-12T17:10:12.000Z"
   },
   {
    "duration": 23,
    "start_time": "2022-05-12T17:10:12.021Z"
   },
   {
    "duration": 12,
    "start_time": "2022-05-12T17:10:12.047Z"
   },
   {
    "duration": 34,
    "start_time": "2022-05-12T17:10:12.062Z"
   },
   {
    "duration": 25,
    "start_time": "2022-05-12T17:10:12.099Z"
   },
   {
    "duration": 15,
    "start_time": "2022-05-12T17:10:12.127Z"
   },
   {
    "duration": 42,
    "start_time": "2022-05-12T17:10:12.145Z"
   },
   {
    "duration": 5,
    "start_time": "2022-05-12T17:16:00.647Z"
   },
   {
    "duration": 13,
    "start_time": "2022-05-12T17:16:00.655Z"
   },
   {
    "duration": 19,
    "start_time": "2022-05-12T17:16:00.671Z"
   },
   {
    "duration": 32,
    "start_time": "2022-05-12T17:16:00.694Z"
   },
   {
    "duration": 21,
    "start_time": "2022-05-12T17:16:00.729Z"
   },
   {
    "duration": 17,
    "start_time": "2022-05-12T17:16:00.753Z"
   },
   {
    "duration": 35,
    "start_time": "2022-05-12T17:16:00.773Z"
   },
   {
    "duration": 10,
    "start_time": "2022-05-12T17:16:00.811Z"
   },
   {
    "duration": 15,
    "start_time": "2022-05-12T17:16:00.824Z"
   },
   {
    "duration": 19,
    "start_time": "2022-05-12T17:16:00.845Z"
   },
   {
    "duration": 42,
    "start_time": "2022-05-12T17:16:00.867Z"
   },
   {
    "duration": 11,
    "start_time": "2022-05-12T17:16:00.911Z"
   },
   {
    "duration": 1271,
    "start_time": "2022-05-12T17:16:00.925Z"
   },
   {
    "duration": 17,
    "start_time": "2022-05-12T17:16:02.199Z"
   },
   {
    "duration": 79,
    "start_time": "2022-05-12T17:16:02.219Z"
   },
   {
    "duration": 13,
    "start_time": "2022-05-12T17:16:02.301Z"
   },
   {
    "duration": 15,
    "start_time": "2022-05-12T17:16:02.317Z"
   },
   {
    "duration": 20,
    "start_time": "2022-05-12T17:16:02.335Z"
   },
   {
    "duration": 32,
    "start_time": "2022-05-12T17:16:02.358Z"
   },
   {
    "duration": 51,
    "start_time": "2022-05-12T17:16:02.392Z"
   },
   {
    "duration": 10,
    "start_time": "2022-05-12T17:16:02.446Z"
   },
   {
    "duration": 29,
    "start_time": "2022-05-12T17:16:02.460Z"
   },
   {
    "duration": 29,
    "start_time": "2022-05-12T17:16:02.491Z"
   },
   {
    "duration": 9,
    "start_time": "2022-05-12T17:16:02.525Z"
   },
   {
    "duration": 24,
    "start_time": "2022-05-12T17:16:02.537Z"
   },
   {
    "duration": 11,
    "start_time": "2022-05-12T17:16:02.563Z"
   },
   {
    "duration": 29,
    "start_time": "2022-05-12T17:16:02.591Z"
   },
   {
    "duration": 10922,
    "start_time": "2022-05-12T17:16:02.622Z"
   },
   {
    "duration": 9,
    "start_time": "2022-05-12T17:16:13.547Z"
   },
   {
    "duration": 29,
    "start_time": "2022-05-12T17:16:13.558Z"
   },
   {
    "duration": 35,
    "start_time": "2022-05-12T17:16:13.590Z"
   },
   {
    "duration": 4,
    "start_time": "2022-05-12T17:16:41.431Z"
   },
   {
    "duration": 10,
    "start_time": "2022-05-12T17:16:41.439Z"
   },
   {
    "duration": 7,
    "start_time": "2022-05-12T17:16:41.452Z"
   },
   {
    "duration": 8,
    "start_time": "2022-05-12T17:16:41.461Z"
   },
   {
    "duration": 19,
    "start_time": "2022-05-12T17:16:41.472Z"
   },
   {
    "duration": 25,
    "start_time": "2022-05-12T17:16:41.494Z"
   },
   {
    "duration": 6,
    "start_time": "2022-05-12T17:16:41.522Z"
   },
   {
    "duration": 8,
    "start_time": "2022-05-12T17:16:41.530Z"
   },
   {
    "duration": 6,
    "start_time": "2022-05-12T17:16:41.541Z"
   },
   {
    "duration": 7,
    "start_time": "2022-05-12T17:16:41.551Z"
   },
   {
    "duration": 8,
    "start_time": "2022-05-12T17:16:41.562Z"
   },
   {
    "duration": 6,
    "start_time": "2022-05-12T17:16:41.573Z"
   },
   {
    "duration": 1286,
    "start_time": "2022-05-12T17:16:45.867Z"
   },
   {
    "duration": 1825,
    "start_time": "2022-05-12T17:20:12.189Z"
   },
   {
    "duration": 4,
    "start_time": "2022-05-12T17:21:56.664Z"
   },
   {
    "duration": 31,
    "start_time": "2022-05-12T17:21:58.663Z"
   },
   {
    "duration": 4,
    "start_time": "2022-05-12T17:22:18.335Z"
   },
   {
    "duration": 40,
    "start_time": "2022-05-12T17:22:19.660Z"
   },
   {
    "duration": 4,
    "start_time": "2022-05-12T17:22:34.624Z"
   },
   {
    "duration": 36,
    "start_time": "2022-05-12T17:22:36.112Z"
   },
   {
    "duration": 4,
    "start_time": "2022-05-12T17:22:41.207Z"
   },
   {
    "duration": 28,
    "start_time": "2022-05-12T17:22:43.243Z"
   },
   {
    "duration": 4,
    "start_time": "2022-05-12T17:22:55.523Z"
   },
   {
    "duration": 54,
    "start_time": "2022-05-12T17:22:57.063Z"
   },
   {
    "duration": 4,
    "start_time": "2022-05-12T17:23:06.804Z"
   },
   {
    "duration": 40,
    "start_time": "2022-05-12T17:23:08.389Z"
   },
   {
    "duration": 4,
    "start_time": "2022-05-12T17:23:29.783Z"
   },
   {
    "duration": 26,
    "start_time": "2022-05-12T17:23:29.790Z"
   },
   {
    "duration": 5,
    "start_time": "2022-05-12T17:23:29.819Z"
   },
   {
    "duration": 6,
    "start_time": "2022-05-12T17:23:29.829Z"
   },
   {
    "duration": 9,
    "start_time": "2022-05-12T17:23:29.838Z"
   },
   {
    "duration": 39,
    "start_time": "2022-05-12T17:23:29.850Z"
   },
   {
    "duration": 13,
    "start_time": "2022-05-12T17:23:29.892Z"
   },
   {
    "duration": 12,
    "start_time": "2022-05-12T17:23:29.908Z"
   },
   {
    "duration": 5,
    "start_time": "2022-05-12T17:23:29.926Z"
   },
   {
    "duration": 6,
    "start_time": "2022-05-12T17:23:29.934Z"
   },
   {
    "duration": 7,
    "start_time": "2022-05-12T17:23:29.942Z"
   },
   {
    "duration": 7,
    "start_time": "2022-05-12T17:23:29.952Z"
   },
   {
    "duration": 68,
    "start_time": "2022-05-12T17:23:29.962Z"
   },
   {
    "duration": 19,
    "start_time": "2022-05-12T17:23:30.034Z"
   },
   {
    "duration": 68,
    "start_time": "2022-05-12T17:23:30.055Z"
   },
   {
    "duration": 10,
    "start_time": "2022-05-12T17:23:30.126Z"
   },
   {
    "duration": 6,
    "start_time": "2022-05-12T17:23:30.139Z"
   },
   {
    "duration": 48,
    "start_time": "2022-05-12T17:23:30.148Z"
   },
   {
    "duration": 15,
    "start_time": "2022-05-12T17:23:30.199Z"
   },
   {
    "duration": 32,
    "start_time": "2022-05-12T17:23:30.216Z"
   },
   {
    "duration": 24,
    "start_time": "2022-05-12T17:23:30.250Z"
   },
   {
    "duration": 43,
    "start_time": "2022-05-12T17:23:30.277Z"
   },
   {
    "duration": 32,
    "start_time": "2022-05-12T17:23:30.323Z"
   },
   {
    "duration": 17,
    "start_time": "2022-05-12T17:23:30.362Z"
   },
   {
    "duration": 41,
    "start_time": "2022-05-12T17:23:30.384Z"
   },
   {
    "duration": 26,
    "start_time": "2022-05-12T17:23:30.428Z"
   },
   {
    "duration": 52,
    "start_time": "2022-05-12T17:23:30.456Z"
   },
   {
    "duration": 9530,
    "start_time": "2022-05-12T17:23:30.510Z"
   },
   {
    "duration": 7,
    "start_time": "2022-05-12T17:23:40.042Z"
   },
   {
    "duration": 33,
    "start_time": "2022-05-12T17:23:40.052Z"
   },
   {
    "duration": 16,
    "start_time": "2022-05-12T17:23:40.087Z"
   },
   {
    "duration": 943601,
    "start_time": "2022-05-12T17:32:46.903Z"
   },
   {
    "duration": 14,
    "start_time": "2022-05-12T17:49:00.105Z"
   },
   {
    "duration": 9,
    "start_time": "2022-05-12T17:49:00.810Z"
   },
   {
    "duration": 6,
    "start_time": "2022-05-12T17:49:01.507Z"
   },
   {
    "duration": 1904450,
    "start_time": "2022-05-12T17:53:33.257Z"
   },
   {
    "duration": 219360,
    "start_time": "2022-05-12T18:29:24.509Z"
   },
   {
    "duration": 21,
    "start_time": "2022-05-12T18:33:03.883Z"
   },
   {
    "duration": 7,
    "start_time": "2022-05-12T18:33:03.906Z"
   },
   {
    "duration": 10,
    "start_time": "2022-05-12T18:33:03.915Z"
   },
   {
    "duration": 460245,
    "start_time": "2022-05-12T18:36:19.073Z"
   },
   {
    "duration": 19,
    "start_time": "2022-05-12T18:43:59.322Z"
   },
   {
    "duration": 6,
    "start_time": "2022-05-12T18:43:59.344Z"
   },
   {
    "duration": 36,
    "start_time": "2022-05-12T18:43:59.352Z"
   },
   {
    "duration": 41590,
    "start_time": "2022-05-12T18:50:52.928Z"
   },
   {
    "duration": 9,
    "start_time": "2022-05-12T18:53:31.283Z"
   },
   {
    "duration": 6,
    "start_time": "2022-05-12T18:53:31.725Z"
   },
   {
    "duration": 5,
    "start_time": "2022-05-12T18:53:32.151Z"
   },
   {
    "duration": 127717,
    "start_time": "2022-05-12T18:54:15.223Z"
   },
   {
    "duration": 9,
    "start_time": "2022-05-12T18:56:22.943Z"
   },
   {
    "duration": 30,
    "start_time": "2022-05-12T18:56:22.955Z"
   },
   {
    "duration": 12,
    "start_time": "2022-05-12T18:56:22.989Z"
   },
   {
    "duration": 23062,
    "start_time": "2022-05-12T19:02:41.254Z"
   },
   {
    "duration": 7,
    "start_time": "2022-05-12T19:03:04.318Z"
   },
   {
    "duration": 8,
    "start_time": "2022-05-12T19:03:04.328Z"
   },
   {
    "duration": 42,
    "start_time": "2022-05-12T19:03:04.340Z"
   },
   {
    "duration": 10566,
    "start_time": "2022-05-12T19:03:36.237Z"
   },
   {
    "duration": 227623,
    "start_time": "2022-05-12T19:03:55.077Z"
   },
   {
    "duration": 11,
    "start_time": "2022-05-12T19:08:34.316Z"
   },
   {
    "duration": 5,
    "start_time": "2022-05-12T19:08:34.728Z"
   },
   {
    "duration": 7,
    "start_time": "2022-05-12T19:08:35.108Z"
   },
   {
    "duration": 161133,
    "start_time": "2022-05-12T19:09:46.688Z"
   },
   {
    "duration": 13,
    "start_time": "2022-05-12T19:12:27.824Z"
   },
   {
    "duration": 6,
    "start_time": "2022-05-12T19:12:27.839Z"
   },
   {
    "duration": 36,
    "start_time": "2022-05-12T19:12:27.848Z"
   },
   {
    "duration": 36472,
    "start_time": "2022-05-12T19:23:30.567Z"
   },
   {
    "duration": 7,
    "start_time": "2022-05-12T19:24:07.042Z"
   },
   {
    "duration": 30,
    "start_time": "2022-05-12T19:24:07.052Z"
   },
   {
    "duration": 12,
    "start_time": "2022-05-12T19:24:07.085Z"
   },
   {
    "duration": 22,
    "start_time": "2022-05-12T19:27:48.020Z"
   },
   {
    "duration": 44723,
    "start_time": "2022-05-12T19:29:39.130Z"
   },
   {
    "duration": 30,
    "start_time": "2022-05-12T19:30:23.856Z"
   },
   {
    "duration": 8,
    "start_time": "2022-05-12T19:30:23.889Z"
   },
   {
    "duration": 9,
    "start_time": "2022-05-12T19:30:23.901Z"
   },
   {
    "duration": 552,
    "start_time": "2022-05-13T08:36:51.603Z"
   },
   {
    "duration": 4,
    "start_time": "2022-05-13T08:36:52.158Z"
   },
   {
    "duration": 12,
    "start_time": "2022-05-13T08:36:52.164Z"
   },
   {
    "duration": 1005,
    "start_time": "2022-05-13T08:36:52.179Z"
   },
   {
    "duration": 88,
    "start_time": "2022-05-13T08:36:53.189Z"
   },
   {
    "duration": 4,
    "start_time": "2022-05-13T08:36:53.279Z"
   },
   {
    "duration": 18,
    "start_time": "2022-05-13T08:36:53.285Z"
   },
   {
    "duration": 4,
    "start_time": "2022-05-13T08:36:53.305Z"
   },
   {
    "duration": 5,
    "start_time": "2022-05-13T08:36:53.312Z"
   },
   {
    "duration": 33,
    "start_time": "2022-05-13T08:36:53.319Z"
   },
   {
    "duration": 635,
    "start_time": "2022-05-13T08:36:53.354Z"
   },
   {
    "duration": 4,
    "start_time": "2022-05-13T08:36:53.992Z"
   },
   {
    "duration": 78,
    "start_time": "2022-05-13T08:36:53.998Z"
   },
   {
    "duration": 17,
    "start_time": "2022-05-13T08:36:54.081Z"
   },
   {
    "duration": 57,
    "start_time": "2022-05-13T08:36:54.101Z"
   },
   {
    "duration": 8,
    "start_time": "2022-05-13T08:36:54.160Z"
   },
   {
    "duration": 12,
    "start_time": "2022-05-13T08:36:54.170Z"
   },
   {
    "duration": 34,
    "start_time": "2022-05-13T08:36:54.184Z"
   },
   {
    "duration": 25,
    "start_time": "2022-05-13T08:36:54.221Z"
   },
   {
    "duration": 17,
    "start_time": "2022-05-13T08:36:54.248Z"
   },
   {
    "duration": 26,
    "start_time": "2022-05-13T08:36:54.267Z"
   },
   {
    "duration": 27,
    "start_time": "2022-05-13T08:36:54.296Z"
   },
   {
    "duration": 22,
    "start_time": "2022-05-13T08:36:54.326Z"
   },
   {
    "duration": 26,
    "start_time": "2022-05-13T08:36:54.350Z"
   },
   {
    "duration": 22,
    "start_time": "2022-05-13T08:36:54.378Z"
   },
   {
    "duration": 18,
    "start_time": "2022-05-13T08:36:54.402Z"
   },
   {
    "duration": 43,
    "start_time": "2022-05-13T08:36:54.423Z"
   },
   {
    "duration": 12419,
    "start_time": "2022-05-13T08:36:54.469Z"
   },
   {
    "duration": 7,
    "start_time": "2022-05-13T08:37:06.892Z"
   },
   {
    "duration": 36,
    "start_time": "2022-05-13T08:37:06.901Z"
   },
   {
    "duration": 48,
    "start_time": "2022-05-13T08:37:06.939Z"
   },
   {
    "duration": 35818,
    "start_time": "2022-05-13T08:37:55.074Z"
   },
   {
    "duration": 10,
    "start_time": "2022-05-13T08:38:30.895Z"
   },
   {
    "duration": 13,
    "start_time": "2022-05-13T08:38:30.907Z"
   },
   {
    "duration": 31,
    "start_time": "2022-05-13T08:38:30.923Z"
   },
   {
    "duration": 28,
    "start_time": "2022-05-13T09:22:35.495Z"
   },
   {
    "duration": 9662,
    "start_time": "2022-05-13T09:22:39.016Z"
   },
   {
    "duration": 27,
    "start_time": "2022-05-13T09:36:59.667Z"
   },
   {
    "duration": 18646,
    "start_time": "2022-05-13T09:37:05.018Z"
   },
   {
    "duration": 8,
    "start_time": "2022-05-13T09:38:23.338Z"
   },
   {
    "duration": 6,
    "start_time": "2022-05-13T09:38:23.782Z"
   },
   {
    "duration": 7,
    "start_time": "2022-05-13T09:38:24.126Z"
   },
   {
    "duration": 3,
    "start_time": "2022-05-13T09:40:46.334Z"
   },
   {
    "duration": 7,
    "start_time": "2022-05-13T09:40:46.340Z"
   },
   {
    "duration": 5,
    "start_time": "2022-05-13T09:40:46.349Z"
   },
   {
    "duration": 7,
    "start_time": "2022-05-13T09:40:46.356Z"
   },
   {
    "duration": 8,
    "start_time": "2022-05-13T09:40:46.366Z"
   },
   {
    "duration": 6,
    "start_time": "2022-05-13T09:40:46.376Z"
   },
   {
    "duration": 11,
    "start_time": "2022-05-13T09:40:46.384Z"
   },
   {
    "duration": 8,
    "start_time": "2022-05-13T09:40:46.398Z"
   },
   {
    "duration": 8,
    "start_time": "2022-05-13T09:40:46.409Z"
   },
   {
    "duration": 33,
    "start_time": "2022-05-13T09:40:46.420Z"
   },
   {
    "duration": 7,
    "start_time": "2022-05-13T09:40:46.457Z"
   },
   {
    "duration": 6,
    "start_time": "2022-05-13T09:40:46.466Z"
   },
   {
    "duration": 38,
    "start_time": "2022-05-13T09:40:46.474Z"
   },
   {
    "duration": 39,
    "start_time": "2022-05-13T09:40:46.514Z"
   },
   {
    "duration": 33,
    "start_time": "2022-05-13T09:40:46.556Z"
   },
   {
    "duration": 9,
    "start_time": "2022-05-13T09:40:46.592Z"
   },
   {
    "duration": 7,
    "start_time": "2022-05-13T09:40:46.603Z"
   },
   {
    "duration": 48,
    "start_time": "2022-05-13T09:40:46.613Z"
   },
   {
    "duration": 7,
    "start_time": "2022-05-13T09:40:46.663Z"
   },
   {
    "duration": 9,
    "start_time": "2022-05-13T09:40:46.672Z"
   },
   {
    "duration": 9,
    "start_time": "2022-05-13T09:40:46.683Z"
   },
   {
    "duration": 14,
    "start_time": "2022-05-13T09:40:46.694Z"
   },
   {
    "duration": 43,
    "start_time": "2022-05-13T09:40:46.710Z"
   },
   {
    "duration": 9,
    "start_time": "2022-05-13T09:40:46.756Z"
   },
   {
    "duration": 16,
    "start_time": "2022-05-13T09:40:46.767Z"
   },
   {
    "duration": 9,
    "start_time": "2022-05-13T09:40:46.785Z"
   },
   {
    "duration": 59,
    "start_time": "2022-05-13T09:40:46.796Z"
   },
   {
    "duration": 16285,
    "start_time": "2022-05-13T09:40:46.858Z"
   },
   {
    "duration": 10,
    "start_time": "2022-05-13T09:41:03.153Z"
   },
   {
    "duration": 23,
    "start_time": "2022-05-13T09:41:03.166Z"
   },
   {
    "duration": 27,
    "start_time": "2022-05-13T09:43:28.874Z"
   },
   {
    "duration": 13638,
    "start_time": "2022-05-13T09:43:31.134Z"
   },
   {
    "duration": 27,
    "start_time": "2022-05-13T09:46:43.986Z"
   },
   {
    "duration": 5477,
    "start_time": "2022-05-13T09:46:46.482Z"
   },
   {
    "duration": 153,
    "start_time": "2022-05-13T09:47:29.766Z"
   },
   {
    "duration": 26,
    "start_time": "2022-05-13T09:47:37.564Z"
   },
   {
    "duration": 13411,
    "start_time": "2022-05-13T09:47:41.230Z"
   },
   {
    "duration": 4,
    "start_time": "2022-05-13T09:52:25.128Z"
   },
   {
    "duration": 10,
    "start_time": "2022-05-13T09:52:25.135Z"
   },
   {
    "duration": 36,
    "start_time": "2022-05-13T09:52:25.148Z"
   },
   {
    "duration": 9,
    "start_time": "2022-05-13T09:52:25.188Z"
   },
   {
    "duration": 11,
    "start_time": "2022-05-13T09:52:25.199Z"
   },
   {
    "duration": 8,
    "start_time": "2022-05-13T09:52:25.212Z"
   },
   {
    "duration": 12,
    "start_time": "2022-05-13T09:52:25.223Z"
   },
   {
    "duration": 10,
    "start_time": "2022-05-13T09:52:25.238Z"
   },
   {
    "duration": 16,
    "start_time": "2022-05-13T09:52:25.252Z"
   },
   {
    "duration": 14,
    "start_time": "2022-05-13T09:52:25.272Z"
   },
   {
    "duration": 8,
    "start_time": "2022-05-13T09:52:25.290Z"
   },
   {
    "duration": 8,
    "start_time": "2022-05-13T09:52:25.301Z"
   },
   {
    "duration": 58,
    "start_time": "2022-05-13T09:52:25.311Z"
   },
   {
    "duration": 23,
    "start_time": "2022-05-13T09:52:25.371Z"
   },
   {
    "duration": 56,
    "start_time": "2022-05-13T09:52:25.397Z"
   },
   {
    "duration": 22,
    "start_time": "2022-05-13T09:52:25.457Z"
   },
   {
    "duration": 9,
    "start_time": "2022-05-13T09:52:25.484Z"
   },
   {
    "duration": 17,
    "start_time": "2022-05-13T09:52:25.496Z"
   },
   {
    "duration": 8,
    "start_time": "2022-05-13T09:52:25.516Z"
   },
   {
    "duration": 29,
    "start_time": "2022-05-13T09:52:25.527Z"
   },
   {
    "duration": 9,
    "start_time": "2022-05-13T09:52:25.559Z"
   },
   {
    "duration": 37,
    "start_time": "2022-05-13T09:52:25.570Z"
   },
   {
    "duration": 27,
    "start_time": "2022-05-13T09:52:25.609Z"
   },
   {
    "duration": 16,
    "start_time": "2022-05-13T09:52:25.643Z"
   },
   {
    "duration": 26,
    "start_time": "2022-05-13T09:52:25.661Z"
   },
   {
    "duration": 12,
    "start_time": "2022-05-13T09:52:25.690Z"
   },
   {
    "duration": 52,
    "start_time": "2022-05-13T09:52:25.705Z"
   },
   {
    "duration": 14800,
    "start_time": "2022-05-13T09:52:25.759Z"
   },
   {
    "duration": 124,
    "start_time": "2022-05-13T09:58:59.534Z"
   },
   {
    "duration": 15606,
    "start_time": "2022-05-13T09:59:04.423Z"
   },
   {
    "duration": 43,
    "start_time": "2022-05-13T09:59:41.547Z"
   },
   {
    "duration": 17801,
    "start_time": "2022-05-13T09:59:43.261Z"
   },
   {
    "duration": 36766,
    "start_time": "2022-05-13T10:00:46.366Z"
   },
   {
    "duration": 9,
    "start_time": "2022-05-13T10:01:30.822Z"
   },
   {
    "duration": 5,
    "start_time": "2022-05-13T10:01:31.279Z"
   },
   {
    "duration": 5,
    "start_time": "2022-05-13T10:01:31.764Z"
   },
   {
    "duration": 22,
    "start_time": "2022-05-13T10:02:16.192Z"
   },
   {
    "duration": 13739,
    "start_time": "2022-05-13T10:02:19.903Z"
   },
   {
    "duration": 27,
    "start_time": "2022-05-13T10:03:19.899Z"
   },
   {
    "duration": 14181,
    "start_time": "2022-05-13T10:04:03.270Z"
   },
   {
    "duration": 27,
    "start_time": "2022-05-13T10:05:48.014Z"
   },
   {
    "duration": 24,
    "start_time": "2022-05-13T10:05:51.566Z"
   },
   {
    "duration": 37,
    "start_time": "2022-05-13T10:06:25.053Z"
   },
   {
    "duration": 265,
    "start_time": "2022-05-13T10:06:27.891Z"
   },
   {
    "duration": 26,
    "start_time": "2022-05-13T10:06:45.526Z"
   },
   {
    "duration": 12208,
    "start_time": "2022-05-13T10:06:46.826Z"
   },
   {
    "duration": 27,
    "start_time": "2022-05-13T10:08:57.027Z"
   },
   {
    "duration": 13105,
    "start_time": "2022-05-13T10:09:11.075Z"
   },
   {
    "duration": 4,
    "start_time": "2022-05-13T10:18:04.509Z"
   },
   {
    "duration": 18,
    "start_time": "2022-05-13T10:18:04.516Z"
   },
   {
    "duration": 10,
    "start_time": "2022-05-13T10:18:04.538Z"
   },
   {
    "duration": 13,
    "start_time": "2022-05-13T10:18:04.550Z"
   },
   {
    "duration": 10,
    "start_time": "2022-05-13T10:18:04.566Z"
   },
   {
    "duration": 15,
    "start_time": "2022-05-13T10:18:04.578Z"
   },
   {
    "duration": 8,
    "start_time": "2022-05-13T10:18:04.596Z"
   },
   {
    "duration": 8,
    "start_time": "2022-05-13T10:18:04.606Z"
   },
   {
    "duration": 21,
    "start_time": "2022-05-13T10:18:04.616Z"
   },
   {
    "duration": 8,
    "start_time": "2022-05-13T10:18:04.639Z"
   },
   {
    "duration": 8,
    "start_time": "2022-05-13T10:18:04.652Z"
   },
   {
    "duration": 16,
    "start_time": "2022-05-13T10:18:04.662Z"
   },
   {
    "duration": 30,
    "start_time": "2022-05-13T10:18:04.681Z"
   },
   {
    "duration": 16,
    "start_time": "2022-05-13T10:18:04.714Z"
   },
   {
    "duration": 42,
    "start_time": "2022-05-13T10:18:04.732Z"
   },
   {
    "duration": 9,
    "start_time": "2022-05-13T10:18:04.776Z"
   },
   {
    "duration": 10,
    "start_time": "2022-05-13T10:18:04.787Z"
   },
   {
    "duration": 18,
    "start_time": "2022-05-13T10:18:04.799Z"
   },
   {
    "duration": 35,
    "start_time": "2022-05-13T10:18:04.819Z"
   },
   {
    "duration": 11,
    "start_time": "2022-05-13T10:18:04.856Z"
   },
   {
    "duration": 8,
    "start_time": "2022-05-13T10:18:04.869Z"
   },
   {
    "duration": 14,
    "start_time": "2022-05-13T10:18:04.879Z"
   },
   {
    "duration": 8,
    "start_time": "2022-05-13T10:18:04.895Z"
   },
   {
    "duration": 7,
    "start_time": "2022-05-13T10:18:04.905Z"
   },
   {
    "duration": 13,
    "start_time": "2022-05-13T10:18:04.952Z"
   },
   {
    "duration": 8,
    "start_time": "2022-05-13T10:18:04.967Z"
   },
   {
    "duration": 27,
    "start_time": "2022-05-13T10:18:04.978Z"
   },
   {
    "duration": 12882,
    "start_time": "2022-05-13T10:18:05.007Z"
   },
   {
    "duration": 27,
    "start_time": "2022-05-13T10:21:02.876Z"
   },
   {
    "duration": 8900,
    "start_time": "2022-05-13T10:21:05.034Z"
   },
   {
    "duration": 7,
    "start_time": "2022-05-13T10:22:17.843Z"
   },
   {
    "duration": 5,
    "start_time": "2022-05-13T10:22:18.315Z"
   },
   {
    "duration": 6,
    "start_time": "2022-05-13T10:22:19.199Z"
   },
   {
    "duration": 30,
    "start_time": "2022-05-13T11:50:39.493Z"
   },
   {
    "duration": 8964,
    "start_time": "2022-05-13T11:50:53.453Z"
   },
   {
    "duration": 9080,
    "start_time": "2022-05-13T11:55:15.772Z"
   },
   {
    "duration": 7,
    "start_time": "2022-05-13T11:56:30.584Z"
   },
   {
    "duration": 5,
    "start_time": "2022-05-13T11:56:31.036Z"
   },
   {
    "duration": 6,
    "start_time": "2022-05-13T11:56:31.376Z"
   },
   {
    "duration": 51,
    "start_time": "2022-05-13T12:14:46.372Z"
   },
   {
    "duration": 8794,
    "start_time": "2022-05-13T12:14:49.116Z"
   },
   {
    "duration": 6,
    "start_time": "2022-05-13T12:14:59.747Z"
   },
   {
    "duration": 5,
    "start_time": "2022-05-13T12:15:00.483Z"
   },
   {
    "duration": 6,
    "start_time": "2022-05-13T12:15:01.007Z"
   },
   {
    "duration": 43958,
    "start_time": "2022-05-13T12:15:07.468Z"
   },
   {
    "duration": 25,
    "start_time": "2022-05-13T12:15:51.429Z"
   },
   {
    "duration": 5,
    "start_time": "2022-05-13T12:15:51.457Z"
   },
   {
    "duration": 33,
    "start_time": "2022-05-13T12:15:51.465Z"
   },
   {
    "duration": 16,
    "start_time": "2022-05-13T12:42:05.011Z"
   },
   {
    "duration": 127,
    "start_time": "2022-05-13T12:42:29.531Z"
   },
   {
    "duration": 3080,
    "start_time": "2022-05-13T12:43:00.050Z"
   },
   {
    "duration": 38,
    "start_time": "2022-05-13T12:54:32.372Z"
   },
   {
    "duration": 2881,
    "start_time": "2022-05-13T12:54:40.310Z"
   },
   {
    "duration": 48,
    "start_time": "2022-05-13T12:56:22.416Z"
   },
   {
    "duration": 17,
    "start_time": "2022-05-13T12:56:39.835Z"
   },
   {
    "duration": 34,
    "start_time": "2022-05-13T12:58:12.407Z"
   },
   {
    "duration": 32,
    "start_time": "2022-05-13T12:58:28.167Z"
   },
   {
    "duration": 4,
    "start_time": "2022-05-13T12:58:32.848Z"
   },
   {
    "duration": 6,
    "start_time": "2022-05-13T12:58:32.856Z"
   },
   {
    "duration": 9,
    "start_time": "2022-05-13T12:58:32.865Z"
   },
   {
    "duration": 10,
    "start_time": "2022-05-13T12:58:32.878Z"
   },
   {
    "duration": 13,
    "start_time": "2022-05-13T12:58:32.890Z"
   },
   {
    "duration": 45,
    "start_time": "2022-05-13T12:58:32.906Z"
   },
   {
    "duration": 4,
    "start_time": "2022-05-13T12:58:32.957Z"
   },
   {
    "duration": 9,
    "start_time": "2022-05-13T12:58:32.964Z"
   },
   {
    "duration": 4,
    "start_time": "2022-05-13T12:58:32.978Z"
   },
   {
    "duration": 8,
    "start_time": "2022-05-13T12:58:32.986Z"
   },
   {
    "duration": 11,
    "start_time": "2022-05-13T12:58:32.996Z"
   },
   {
    "duration": 7,
    "start_time": "2022-05-13T12:58:33.010Z"
   },
   {
    "duration": 62,
    "start_time": "2022-05-13T12:58:33.020Z"
   },
   {
    "duration": 23,
    "start_time": "2022-05-13T12:58:33.086Z"
   },
   {
    "duration": 61,
    "start_time": "2022-05-13T12:58:33.112Z"
   },
   {
    "duration": 9,
    "start_time": "2022-05-13T12:58:33.176Z"
   },
   {
    "duration": 6,
    "start_time": "2022-05-13T12:58:33.188Z"
   },
   {
    "duration": 26,
    "start_time": "2022-05-13T12:58:33.197Z"
   },
   {
    "duration": 4,
    "start_time": "2022-05-13T12:58:33.253Z"
   },
   {
    "duration": 12,
    "start_time": "2022-05-13T12:58:33.259Z"
   },
   {
    "duration": 14,
    "start_time": "2022-05-13T12:58:33.274Z"
   },
   {
    "duration": 18,
    "start_time": "2022-05-13T12:58:33.291Z"
   },
   {
    "duration": 41,
    "start_time": "2022-05-13T12:58:33.312Z"
   },
   {
    "duration": 11,
    "start_time": "2022-05-13T12:58:33.359Z"
   },
   {
    "duration": 16,
    "start_time": "2022-05-13T12:58:33.373Z"
   },
   {
    "duration": 13,
    "start_time": "2022-05-13T12:58:33.392Z"
   },
   {
    "duration": 78,
    "start_time": "2022-05-13T12:58:33.409Z"
   },
   {
    "duration": 11487,
    "start_time": "2022-05-13T12:58:33.490Z"
   },
   {
    "duration": 8,
    "start_time": "2022-05-13T12:58:44.980Z"
   },
   {
    "duration": 10,
    "start_time": "2022-05-13T12:58:44.991Z"
   },
   {
    "duration": 19,
    "start_time": "2022-05-13T12:58:45.003Z"
   },
   {
    "duration": 47203,
    "start_time": "2022-05-13T12:58:45.025Z"
   },
   {
    "duration": 25,
    "start_time": "2022-05-13T12:59:32.231Z"
   },
   {
    "duration": 10,
    "start_time": "2022-05-13T12:59:32.259Z"
   },
   {
    "duration": 8,
    "start_time": "2022-05-13T12:59:32.272Z"
   },
   {
    "duration": 41,
    "start_time": "2022-05-13T12:59:51.388Z"
   },
   {
    "duration": 37,
    "start_time": "2022-05-13T13:03:28.378Z"
   },
   {
    "duration": 132,
    "start_time": "2022-05-13T13:03:36.150Z"
   },
   {
    "duration": 63,
    "start_time": "2022-05-13T13:04:55.991Z"
   },
   {
    "duration": 171,
    "start_time": "2022-05-13T13:05:00.207Z"
   },
   {
    "duration": 1847,
    "start_time": "2022-05-13T13:05:15.343Z"
   },
   {
    "duration": 63,
    "start_time": "2022-05-13T13:07:29.672Z"
   },
   {
    "duration": 24,
    "start_time": "2022-05-13T13:07:34.035Z"
   },
   {
    "duration": 201,
    "start_time": "2022-05-13T13:08:26.327Z"
   },
   {
    "duration": 35,
    "start_time": "2022-05-13T13:08:36.290Z"
   },
   {
    "duration": 32,
    "start_time": "2022-05-13T13:08:42.082Z"
   },
   {
    "duration": 37,
    "start_time": "2022-05-13T13:15:44.410Z"
   },
   {
    "duration": 37,
    "start_time": "2022-05-13T13:16:04.709Z"
   },
   {
    "duration": 0,
    "start_time": "2022-05-13T13:16:48.859Z"
   },
   {
    "duration": 40,
    "start_time": "2022-05-13T13:17:13.297Z"
   },
   {
    "duration": 18,
    "start_time": "2022-05-13T13:20:23.365Z"
   },
   {
    "duration": 35,
    "start_time": "2022-05-13T13:21:52.937Z"
   },
   {
    "duration": 39,
    "start_time": "2022-05-13T13:21:57.101Z"
   },
   {
    "duration": 42,
    "start_time": "2022-05-13T13:22:08.293Z"
   },
   {
    "duration": 2952,
    "start_time": "2022-05-13T13:23:05.192Z"
   },
   {
    "duration": 37167,
    "start_time": "2022-05-13T13:23:55.085Z"
   },
   {
    "duration": 30,
    "start_time": "2022-05-13T13:24:42.645Z"
   },
   {
    "duration": 78,
    "start_time": "2022-05-13T13:33:13.841Z"
   },
   {
    "duration": 90,
    "start_time": "2022-05-13T13:33:48.004Z"
   },
   {
    "duration": 94,
    "start_time": "2022-05-13T13:48:56.203Z"
   },
   {
    "duration": 171,
    "start_time": "2022-05-13T13:51:06.667Z"
   },
   {
    "duration": 30,
    "start_time": "2022-05-13T13:51:13.910Z"
   },
   {
    "duration": 1205,
    "start_time": "2022-05-13T13:51:20.456Z"
   },
   {
    "duration": 87,
    "start_time": "2022-05-13T13:54:07.867Z"
   },
   {
    "duration": 92,
    "start_time": "2022-05-13T13:54:34.191Z"
   },
   {
    "duration": 56,
    "start_time": "2022-05-13T13:55:19.107Z"
   },
   {
    "duration": 7,
    "start_time": "2022-05-13T13:56:17.078Z"
   },
   {
    "duration": 6,
    "start_time": "2022-05-13T13:56:27.531Z"
   },
   {
    "duration": 13,
    "start_time": "2022-05-13T13:57:43.787Z"
   },
   {
    "duration": 60,
    "start_time": "2022-05-13T13:57:59.645Z"
   },
   {
    "duration": 48,
    "start_time": "2022-05-13T13:58:48.378Z"
   },
   {
    "duration": 72,
    "start_time": "2022-05-13T14:00:43.234Z"
   },
   {
    "duration": 111,
    "start_time": "2022-05-13T14:01:16.603Z"
   },
   {
    "duration": 65,
    "start_time": "2022-05-13T14:01:24.854Z"
   },
   {
    "duration": 6,
    "start_time": "2022-05-13T14:01:35.559Z"
   },
   {
    "duration": 62,
    "start_time": "2022-05-13T14:02:57.350Z"
   },
   {
    "duration": 44,
    "start_time": "2022-05-13T14:04:21.742Z"
   },
   {
    "duration": 93,
    "start_time": "2022-05-13T14:04:42.133Z"
   },
   {
    "duration": 74,
    "start_time": "2022-05-13T14:04:48.845Z"
   },
   {
    "duration": 87,
    "start_time": "2022-05-13T14:05:00.190Z"
   },
   {
    "duration": 100,
    "start_time": "2022-05-13T14:05:05.750Z"
   },
   {
    "duration": 64,
    "start_time": "2022-05-13T14:05:09.409Z"
   },
   {
    "duration": 78,
    "start_time": "2022-05-13T14:05:13.933Z"
   },
   {
    "duration": 89,
    "start_time": "2022-05-13T14:05:17.865Z"
   },
   {
    "duration": 96,
    "start_time": "2022-05-13T14:05:22.117Z"
   },
   {
    "duration": 77,
    "start_time": "2022-05-13T14:05:25.335Z"
   },
   {
    "duration": 64,
    "start_time": "2022-05-13T14:05:28.566Z"
   },
   {
    "duration": 64,
    "start_time": "2022-05-13T14:05:31.854Z"
   },
   {
    "duration": 77,
    "start_time": "2022-05-13T14:08:25.726Z"
   },
   {
    "duration": 87,
    "start_time": "2022-05-13T14:08:33.929Z"
   },
   {
    "duration": 58,
    "start_time": "2022-05-13T14:08:44.801Z"
   },
   {
    "duration": 88,
    "start_time": "2022-05-13T14:09:44.208Z"
   },
   {
    "duration": 84,
    "start_time": "2022-05-13T14:09:52.793Z"
   },
   {
    "duration": 6,
    "start_time": "2022-05-13T14:11:46.763Z"
   },
   {
    "duration": 15,
    "start_time": "2022-05-13T14:11:46.772Z"
   },
   {
    "duration": 6,
    "start_time": "2022-05-13T14:11:46.889Z"
   },
   {
    "duration": 19,
    "start_time": "2022-05-13T14:12:26.870Z"
   },
   {
    "duration": 15,
    "start_time": "2022-05-13T14:12:46.302Z"
   },
   {
    "duration": 62,
    "start_time": "2022-05-13T14:13:09.863Z"
   },
   {
    "duration": 66,
    "start_time": "2022-05-13T14:13:26.109Z"
   },
   {
    "duration": 293,
    "start_time": "2022-05-13T14:14:01.330Z"
   },
   {
    "duration": 182,
    "start_time": "2022-05-13T14:14:16.894Z"
   },
   {
    "duration": 44,
    "start_time": "2022-05-13T14:14:27.094Z"
   },
   {
    "duration": 183,
    "start_time": "2022-05-13T14:14:42.142Z"
   },
   {
    "duration": 179,
    "start_time": "2022-05-13T14:14:52.174Z"
   },
   {
    "duration": 44,
    "start_time": "2022-05-13T14:15:20.910Z"
   },
   {
    "duration": 18,
    "start_time": "2022-05-13T14:15:58.090Z"
   },
   {
    "duration": 49,
    "start_time": "2022-05-13T14:16:19.956Z"
   },
   {
    "duration": 56,
    "start_time": "2022-05-13T14:16:29.326Z"
   },
   {
    "duration": 806,
    "start_time": "2022-05-13T14:16:39.782Z"
   },
   {
    "duration": 1277,
    "start_time": "2022-05-13T14:16:50.954Z"
   },
   {
    "duration": 7,
    "start_time": "2022-05-13T14:17:54.926Z"
   },
   {
    "duration": 6,
    "start_time": "2022-05-13T14:17:55.329Z"
   },
   {
    "duration": 5,
    "start_time": "2022-05-13T14:17:55.926Z"
   },
   {
    "duration": 766,
    "start_time": "2022-05-13T14:18:10.826Z"
   },
   {
    "duration": 7,
    "start_time": "2022-05-13T14:18:14.065Z"
   },
   {
    "duration": 6,
    "start_time": "2022-05-13T14:18:14.421Z"
   },
   {
    "duration": 7,
    "start_time": "2022-05-13T14:18:14.918Z"
   },
   {
    "duration": 36,
    "start_time": "2022-05-13T14:18:39.409Z"
   },
   {
    "duration": 36976,
    "start_time": "2022-05-13T14:18:48.227Z"
   },
   {
    "duration": 39,
    "start_time": "2022-05-13T14:25:01.915Z"
   },
   {
    "duration": 39849,
    "start_time": "2022-05-13T14:25:07.594Z"
   },
   {
    "duration": 37,
    "start_time": "2022-05-13T14:29:08.097Z"
   },
   {
    "duration": 18271,
    "start_time": "2022-05-13T14:29:30.492Z"
   },
   {
    "duration": 7962,
    "start_time": "2022-05-13T14:31:39.352Z"
   },
   {
    "duration": 59,
    "start_time": "2022-05-13T14:38:15.511Z"
   },
   {
    "duration": 31,
    "start_time": "2022-05-13T14:38:32.940Z"
   },
   {
    "duration": 7329,
    "start_time": "2022-05-13T14:38:56.322Z"
   },
   {
    "duration": 5122,
    "start_time": "2022-05-13T14:42:02.138Z"
   },
   {
    "duration": 5676,
    "start_time": "2022-05-13T14:42:37.834Z"
   },
   {
    "duration": 10183,
    "start_time": "2022-05-13T14:42:54.053Z"
   },
   {
    "duration": 421,
    "start_time": "2022-05-13T16:51:46.880Z"
   },
   {
    "duration": 3,
    "start_time": "2022-05-13T16:51:47.303Z"
   },
   {
    "duration": 5,
    "start_time": "2022-05-13T16:51:47.308Z"
   },
   {
    "duration": 755,
    "start_time": "2022-05-13T16:51:47.315Z"
   },
   {
    "duration": 53,
    "start_time": "2022-05-13T16:51:48.072Z"
   },
   {
    "duration": 2,
    "start_time": "2022-05-13T16:51:48.127Z"
   },
   {
    "duration": 16,
    "start_time": "2022-05-13T16:51:48.131Z"
   },
   {
    "duration": 3,
    "start_time": "2022-05-13T16:51:48.149Z"
   },
   {
    "duration": 8,
    "start_time": "2022-05-13T16:51:48.154Z"
   },
   {
    "duration": 14,
    "start_time": "2022-05-13T16:51:48.165Z"
   },
   {
    "duration": 469,
    "start_time": "2022-05-13T16:51:48.180Z"
   },
   {
    "duration": 2,
    "start_time": "2022-05-13T16:51:48.651Z"
   },
   {
    "duration": 37,
    "start_time": "2022-05-13T16:51:48.655Z"
   },
   {
    "duration": 11,
    "start_time": "2022-05-13T16:51:48.694Z"
   },
   {
    "duration": 26,
    "start_time": "2022-05-13T16:51:48.707Z"
   },
   {
    "duration": 6,
    "start_time": "2022-05-13T16:51:48.736Z"
   },
   {
    "duration": 5,
    "start_time": "2022-05-13T16:51:48.744Z"
   },
   {
    "duration": 15,
    "start_time": "2022-05-13T16:51:48.751Z"
   },
   {
    "duration": 6,
    "start_time": "2022-05-13T16:51:48.768Z"
   },
   {
    "duration": 6,
    "start_time": "2022-05-13T16:51:48.800Z"
   },
   {
    "duration": 7,
    "start_time": "2022-05-13T16:51:48.807Z"
   },
   {
    "duration": 11,
    "start_time": "2022-05-13T16:51:48.816Z"
   },
   {
    "duration": 10,
    "start_time": "2022-05-13T16:51:48.828Z"
   },
   {
    "duration": 7,
    "start_time": "2022-05-13T16:51:48.840Z"
   },
   {
    "duration": 11,
    "start_time": "2022-05-13T16:51:48.848Z"
   },
   {
    "duration": 6,
    "start_time": "2022-05-13T16:51:48.861Z"
   },
   {
    "duration": 24,
    "start_time": "2022-05-13T16:51:48.900Z"
   },
   {
    "duration": 5213,
    "start_time": "2022-05-13T16:51:48.928Z"
   },
   {
    "duration": 5,
    "start_time": "2022-05-13T16:51:54.142Z"
   },
   {
    "duration": 8,
    "start_time": "2022-05-13T16:51:54.149Z"
   },
   {
    "duration": 12,
    "start_time": "2022-05-13T16:51:54.159Z"
   },
   {
    "duration": 27255,
    "start_time": "2022-05-13T16:51:54.172Z"
   },
   {
    "duration": 7,
    "start_time": "2022-05-13T16:52:21.429Z"
   },
   {
    "duration": 7,
    "start_time": "2022-05-13T16:52:21.438Z"
   },
   {
    "duration": 5,
    "start_time": "2022-05-13T16:52:21.447Z"
   },
   {
    "duration": 3878,
    "start_time": "2022-05-13T16:52:21.454Z"
   },
   {
    "duration": 15,
    "start_time": "2022-05-13T16:52:25.334Z"
   },
   {
    "duration": 19,
    "start_time": "2022-05-13T16:53:49.147Z"
   },
   {
    "duration": 19,
    "start_time": "2022-05-13T17:00:31.340Z"
   },
   {
    "duration": 3,
    "start_time": "2022-05-13T17:23:17.637Z"
   },
   {
    "duration": 5,
    "start_time": "2022-05-13T17:23:17.643Z"
   },
   {
    "duration": 5,
    "start_time": "2022-05-13T17:23:17.650Z"
   },
   {
    "duration": 7,
    "start_time": "2022-05-13T17:23:17.657Z"
   },
   {
    "duration": 6,
    "start_time": "2022-05-13T17:23:17.665Z"
   },
   {
    "duration": 9,
    "start_time": "2022-05-13T17:23:17.672Z"
   },
   {
    "duration": 13,
    "start_time": "2022-05-13T17:23:17.682Z"
   },
   {
    "duration": 5,
    "start_time": "2022-05-13T17:23:17.697Z"
   },
   {
    "duration": 12,
    "start_time": "2022-05-13T17:23:17.705Z"
   },
   {
    "duration": 5,
    "start_time": "2022-05-13T17:23:17.719Z"
   },
   {
    "duration": 6,
    "start_time": "2022-05-13T17:23:17.725Z"
   },
   {
    "duration": 5,
    "start_time": "2022-05-13T17:23:17.733Z"
   },
   {
    "duration": 40,
    "start_time": "2022-05-13T17:23:17.739Z"
   },
   {
    "duration": 9,
    "start_time": "2022-05-13T17:23:17.781Z"
   },
   {
    "duration": 25,
    "start_time": "2022-05-13T17:23:17.792Z"
   },
   {
    "duration": 6,
    "start_time": "2022-05-13T17:23:17.819Z"
   },
   {
    "duration": 4,
    "start_time": "2022-05-13T17:23:17.827Z"
   },
   {
    "duration": 17,
    "start_time": "2022-05-13T17:23:17.833Z"
   },
   {
    "duration": 5,
    "start_time": "2022-05-13T17:23:17.852Z"
   },
   {
    "duration": 12,
    "start_time": "2022-05-13T17:23:17.859Z"
   },
   {
    "duration": 31,
    "start_time": "2022-05-13T17:23:17.874Z"
   },
   {
    "duration": 15,
    "start_time": "2022-05-13T17:23:17.908Z"
   },
   {
    "duration": 8,
    "start_time": "2022-05-13T17:23:17.925Z"
   },
   {
    "duration": 6,
    "start_time": "2022-05-13T17:23:17.937Z"
   },
   {
    "duration": 10,
    "start_time": "2022-05-13T17:23:17.944Z"
   },
   {
    "duration": 7,
    "start_time": "2022-05-13T17:23:17.956Z"
   },
   {
    "duration": 47,
    "start_time": "2022-05-13T17:23:17.965Z"
   },
   {
    "duration": 5656,
    "start_time": "2022-05-13T17:23:18.014Z"
   },
   {
    "duration": 5,
    "start_time": "2022-05-13T17:23:23.672Z"
   },
   {
    "duration": 9,
    "start_time": "2022-05-13T17:23:23.678Z"
   },
   {
    "duration": 7,
    "start_time": "2022-05-13T17:23:23.689Z"
   },
   {
    "duration": 33721,
    "start_time": "2022-05-13T17:23:23.697Z"
   },
   {
    "duration": 7,
    "start_time": "2022-05-13T17:23:57.420Z"
   },
   {
    "duration": 7,
    "start_time": "2022-05-13T17:23:57.428Z"
   },
   {
    "duration": 7,
    "start_time": "2022-05-13T17:23:57.437Z"
   },
   {
    "duration": 4204,
    "start_time": "2022-05-13T17:24:26.553Z"
   },
   {
    "duration": 124,
    "start_time": "2022-05-13T17:25:14.961Z"
   },
   {
    "duration": 18,
    "start_time": "2022-05-13T17:25:37.446Z"
   },
   {
    "duration": 18,
    "start_time": "2022-05-13T17:25:55.861Z"
   },
   {
    "duration": 24,
    "start_time": "2022-05-13T17:26:06.602Z"
   },
   {
    "duration": 29,
    "start_time": "2022-05-13T17:26:28.117Z"
   },
   {
    "duration": 30,
    "start_time": "2022-05-13T17:26:48.922Z"
   },
   {
    "duration": 30,
    "start_time": "2022-05-13T17:27:39.030Z"
   },
   {
    "duration": 20,
    "start_time": "2022-05-13T17:27:49.341Z"
   },
   {
    "duration": 34,
    "start_time": "2022-05-13T17:27:59.525Z"
   },
   {
    "duration": 39,
    "start_time": "2022-05-13T17:28:10.497Z"
   },
   {
    "duration": 40,
    "start_time": "2022-05-13T17:29:03.681Z"
   },
   {
    "duration": 40,
    "start_time": "2022-05-13T17:29:10.921Z"
   },
   {
    "duration": 35,
    "start_time": "2022-05-13T17:29:21.650Z"
   },
   {
    "duration": 5,
    "start_time": "2022-05-13T17:31:30.857Z"
   },
   {
    "duration": 4,
    "start_time": "2022-05-13T17:31:31.257Z"
   },
   {
    "duration": 4,
    "start_time": "2022-05-13T17:31:33.057Z"
   },
   {
    "duration": 24,
    "start_time": "2022-05-13T17:32:19.814Z"
   },
   {
    "duration": 19,
    "start_time": "2022-05-13T17:33:01.862Z"
   },
   {
    "duration": 18,
    "start_time": "2022-05-13T17:50:29.556Z"
   },
   {
    "duration": 19,
    "start_time": "2022-05-13T17:50:38.724Z"
   },
   {
    "duration": 18,
    "start_time": "2022-05-13T17:50:47.167Z"
   },
   {
    "duration": 18,
    "start_time": "2022-05-13T17:50:52.063Z"
   },
   {
    "duration": 20,
    "start_time": "2022-05-13T17:51:04.921Z"
   },
   {
    "duration": 20,
    "start_time": "2022-05-13T17:51:16.732Z"
   },
   {
    "duration": 28,
    "start_time": "2022-05-13T17:59:59.147Z"
   },
   {
    "duration": 26,
    "start_time": "2022-05-13T18:00:03.659Z"
   },
   {
    "duration": 23,
    "start_time": "2022-05-13T18:00:09.117Z"
   },
   {
    "duration": 24,
    "start_time": "2022-05-13T18:01:02.783Z"
   },
   {
    "duration": 26,
    "start_time": "2022-05-13T18:01:08.243Z"
   },
   {
    "duration": 11,
    "start_time": "2022-05-13T18:07:05.171Z"
   },
   {
    "duration": 25,
    "start_time": "2022-05-13T18:07:20.017Z"
   },
   {
    "duration": 23,
    "start_time": "2022-05-13T18:07:27.850Z"
   },
   {
    "duration": 25,
    "start_time": "2022-05-13T18:07:38.778Z"
   },
   {
    "duration": 37,
    "start_time": "2022-05-13T18:10:44.826Z"
   },
   {
    "duration": 40,
    "start_time": "2022-05-13T18:10:55.391Z"
   },
   {
    "duration": 24,
    "start_time": "2022-05-13T18:11:10.234Z"
   },
   {
    "duration": 19,
    "start_time": "2022-05-13T18:14:12.022Z"
   },
   {
    "duration": 18,
    "start_time": "2022-05-13T18:14:30.070Z"
   },
   {
    "duration": 16,
    "start_time": "2022-05-13T18:14:42.318Z"
   },
   {
    "duration": 17,
    "start_time": "2022-05-13T18:14:46.150Z"
   },
   {
    "duration": 17,
    "start_time": "2022-05-13T18:14:49.822Z"
   },
   {
    "duration": 17,
    "start_time": "2022-05-13T18:14:52.127Z"
   },
   {
    "duration": 17,
    "start_time": "2022-05-13T18:14:55.274Z"
   },
   {
    "duration": 17,
    "start_time": "2022-05-13T18:14:59.950Z"
   },
   {
    "duration": 16,
    "start_time": "2022-05-13T18:15:03.517Z"
   },
   {
    "duration": 16,
    "start_time": "2022-05-13T18:15:05.622Z"
   },
   {
    "duration": 19,
    "start_time": "2022-05-13T18:15:09.486Z"
   },
   {
    "duration": 24,
    "start_time": "2022-05-13T18:15:11.998Z"
   },
   {
    "duration": 22,
    "start_time": "2022-05-13T18:15:15.614Z"
   },
   {
    "duration": 17,
    "start_time": "2022-05-13T18:15:18.330Z"
   },
   {
    "duration": 28,
    "start_time": "2022-05-13T18:15:20.586Z"
   },
   {
    "duration": 23,
    "start_time": "2022-05-13T18:15:33.726Z"
   },
   {
    "duration": 21,
    "start_time": "2022-05-13T18:15:37.042Z"
   },
   {
    "duration": 19,
    "start_time": "2022-05-13T18:15:38.745Z"
   },
   {
    "duration": 20,
    "start_time": "2022-05-13T18:15:40.961Z"
   },
   {
    "duration": 19,
    "start_time": "2022-05-13T18:15:44.074Z"
   },
   {
    "duration": 28,
    "start_time": "2022-05-13T18:15:47.202Z"
   },
   {
    "duration": 32,
    "start_time": "2022-05-13T18:15:50.717Z"
   },
   {
    "duration": 32,
    "start_time": "2022-05-13T18:15:56.562Z"
   },
   {
    "duration": 33,
    "start_time": "2022-05-13T18:16:05.233Z"
   },
   {
    "duration": 31,
    "start_time": "2022-05-13T18:16:10.019Z"
   },
   {
    "duration": 31,
    "start_time": "2022-05-13T18:16:12.610Z"
   },
   {
    "duration": 20,
    "start_time": "2022-05-13T18:16:16.833Z"
   },
   {
    "duration": 23,
    "start_time": "2022-05-13T18:16:20.818Z"
   },
   {
    "duration": 12,
    "start_time": "2022-05-13T18:17:20.434Z"
   },
   {
    "duration": 23,
    "start_time": "2022-05-13T18:20:02.973Z"
   },
   {
    "duration": 23,
    "start_time": "2022-05-13T18:20:10.889Z"
   },
   {
    "duration": 23,
    "start_time": "2022-05-13T18:20:46.749Z"
   },
   {
    "duration": 4513,
    "start_time": "2022-05-13T18:48:10.156Z"
   },
   {
    "duration": 7264,
    "start_time": "2022-05-13T18:49:58.063Z"
   },
   {
    "duration": 5767,
    "start_time": "2022-05-13T18:50:29.075Z"
   },
   {
    "duration": 4716,
    "start_time": "2022-05-13T19:00:11.127Z"
   },
   {
    "duration": 32,
    "start_time": "2022-05-13T19:01:22.366Z"
   },
   {
    "duration": 4500,
    "start_time": "2022-05-13T19:01:52.893Z"
   },
   {
    "duration": 502,
    "start_time": "2022-05-14T08:32:23.283Z"
   },
   {
    "duration": 6,
    "start_time": "2022-05-14T08:32:23.788Z"
   },
   {
    "duration": 13,
    "start_time": "2022-05-14T08:32:23.795Z"
   },
   {
    "duration": 982,
    "start_time": "2022-05-14T08:32:23.810Z"
   },
   {
    "duration": 76,
    "start_time": "2022-05-14T08:32:24.794Z"
   },
   {
    "duration": 4,
    "start_time": "2022-05-14T08:32:24.872Z"
   },
   {
    "duration": 27,
    "start_time": "2022-05-14T08:32:24.878Z"
   },
   {
    "duration": 3,
    "start_time": "2022-05-14T08:32:24.907Z"
   },
   {
    "duration": 13,
    "start_time": "2022-05-14T08:32:24.912Z"
   },
   {
    "duration": 6,
    "start_time": "2022-05-14T08:32:24.929Z"
   },
   {
    "duration": 609,
    "start_time": "2022-05-14T08:32:24.937Z"
   },
   {
    "duration": 3,
    "start_time": "2022-05-14T08:32:25.549Z"
   },
   {
    "duration": 49,
    "start_time": "2022-05-14T08:32:25.554Z"
   },
   {
    "duration": 17,
    "start_time": "2022-05-14T08:32:25.605Z"
   },
   {
    "duration": 31,
    "start_time": "2022-05-14T08:32:25.624Z"
   },
   {
    "duration": 37,
    "start_time": "2022-05-14T08:32:25.657Z"
   },
   {
    "duration": 5,
    "start_time": "2022-05-14T08:32:25.696Z"
   },
   {
    "duration": 23,
    "start_time": "2022-05-14T08:32:25.703Z"
   },
   {
    "duration": 22,
    "start_time": "2022-05-14T08:32:25.728Z"
   },
   {
    "duration": 26,
    "start_time": "2022-05-14T08:32:25.752Z"
   },
   {
    "duration": 26,
    "start_time": "2022-05-14T08:32:25.780Z"
   },
   {
    "duration": 24,
    "start_time": "2022-05-14T08:32:25.808Z"
   },
   {
    "duration": 25,
    "start_time": "2022-05-14T08:32:25.834Z"
   },
   {
    "duration": 22,
    "start_time": "2022-05-14T08:32:25.861Z"
   },
   {
    "duration": 28,
    "start_time": "2022-05-14T08:32:25.885Z"
   },
   {
    "duration": 21,
    "start_time": "2022-05-14T08:32:25.915Z"
   },
   {
    "duration": 35,
    "start_time": "2022-05-14T08:32:25.938Z"
   },
   {
    "duration": 8350,
    "start_time": "2022-05-14T08:32:32.407Z"
   },
   {
    "duration": 8,
    "start_time": "2022-05-14T08:33:33.713Z"
   },
   {
    "duration": 6,
    "start_time": "2022-05-14T08:33:34.518Z"
   },
   {
    "duration": 6,
    "start_time": "2022-05-14T08:33:35.390Z"
   },
   {
    "duration": 33,
    "start_time": "2022-05-14T08:34:47.387Z"
   },
   {
    "duration": 8546,
    "start_time": "2022-05-14T08:34:49.858Z"
   },
   {
    "duration": 36,
    "start_time": "2022-05-14T08:35:46.597Z"
   },
   {
    "duration": 8663,
    "start_time": "2022-05-14T08:35:48.426Z"
   },
   {
    "duration": 6,
    "start_time": "2022-05-14T08:35:57.094Z"
   },
   {
    "duration": 7,
    "start_time": "2022-05-14T08:35:57.103Z"
   },
   {
    "duration": 8,
    "start_time": "2022-05-14T08:35:57.113Z"
   },
   {
    "duration": 40492,
    "start_time": "2022-05-14T08:36:40.119Z"
   },
   {
    "duration": 8,
    "start_time": "2022-05-14T08:37:20.613Z"
   },
   {
    "duration": 8,
    "start_time": "2022-05-14T08:37:20.623Z"
   },
   {
    "duration": 8,
    "start_time": "2022-05-14T08:37:20.634Z"
   },
   {
    "duration": 6815,
    "start_time": "2022-05-14T08:41:32.082Z"
   },
   {
    "duration": 35,
    "start_time": "2022-05-14T08:42:12.900Z"
   },
   {
    "duration": 6231,
    "start_time": "2022-05-14T08:42:22.994Z"
   },
   {
    "duration": 3,
    "start_time": "2022-05-14T08:45:24.478Z"
   },
   {
    "duration": 35,
    "start_time": "2022-05-14T08:48:08.770Z"
   },
   {
    "duration": 6473,
    "start_time": "2022-05-14T08:48:38.193Z"
   },
   {
    "duration": 6210,
    "start_time": "2022-05-14T08:52:29.424Z"
   },
   {
    "duration": 34,
    "start_time": "2022-05-14T08:58:55.116Z"
   },
   {
    "duration": 8517,
    "start_time": "2022-05-14T08:58:58.861Z"
   },
   {
    "duration": 41866,
    "start_time": "2022-05-14T08:59:14.173Z"
   },
   {
    "duration": 6190,
    "start_time": "2022-05-14T09:00:10.209Z"
   },
   {
    "duration": 36,
    "start_time": "2022-05-14T09:04:35.302Z"
   },
   {
    "duration": 6161,
    "start_time": "2022-05-14T09:04:42.409Z"
   },
   {
    "duration": 35,
    "start_time": "2022-05-14T09:09:26.644Z"
   },
   {
    "duration": 7473,
    "start_time": "2022-05-14T09:09:31.193Z"
   },
   {
    "duration": 11,
    "start_time": "2022-05-14T09:10:28.784Z"
   },
   {
    "duration": 6,
    "start_time": "2022-05-14T09:10:44.664Z"
   },
   {
    "duration": 4,
    "start_time": "2022-05-14T09:10:49.744Z"
   },
   {
    "duration": 6,
    "start_time": "2022-05-14T09:10:50.796Z"
   },
   {
    "duration": 36,
    "start_time": "2022-05-14T09:13:39.011Z"
   },
   {
    "duration": 1842,
    "start_time": "2022-05-14T09:13:58.055Z"
   },
   {
    "duration": 463,
    "start_time": "2022-05-14T09:14:56.431Z"
   },
   {
    "duration": 35,
    "start_time": "2022-05-14T09:15:44.757Z"
   },
   {
    "duration": 475,
    "start_time": "2022-05-14T09:15:49.124Z"
   },
   {
    "duration": 36,
    "start_time": "2022-05-14T09:16:06.214Z"
   },
   {
    "duration": 538,
    "start_time": "2022-05-14T09:16:16.739Z"
   },
   {
    "duration": 60,
    "start_time": "2022-05-14T09:31:24.739Z"
   },
   {
    "duration": 927,
    "start_time": "2022-05-14T09:31:28.691Z"
   },
   {
    "duration": 34,
    "start_time": "2022-05-14T09:37:19.177Z"
   },
   {
    "duration": 573,
    "start_time": "2022-05-14T09:37:25.090Z"
   },
   {
    "duration": 37,
    "start_time": "2022-05-14T09:40:48.537Z"
   },
   {
    "duration": 538,
    "start_time": "2022-05-14T09:40:52.085Z"
   },
   {
    "duration": 4,
    "start_time": "2022-05-14T10:39:46.582Z"
   },
   {
    "duration": 770,
    "start_time": "2022-05-14T10:39:48.226Z"
   },
   {
    "duration": 4,
    "start_time": "2022-05-14T10:40:26.005Z"
   },
   {
    "duration": 532,
    "start_time": "2022-05-14T10:40:26.760Z"
   },
   {
    "duration": 40,
    "start_time": "2022-05-14T10:54:32.504Z"
   },
   {
    "duration": 926,
    "start_time": "2022-05-14T10:54:36.915Z"
   },
   {
    "duration": 36,
    "start_time": "2022-05-14T11:01:30.944Z"
   },
   {
    "duration": 2858,
    "start_time": "2022-05-14T11:01:37.155Z"
   },
   {
    "duration": 43,
    "start_time": "2022-05-14T11:04:24.566Z"
   },
   {
    "duration": 3203,
    "start_time": "2022-05-14T11:04:29.643Z"
   },
   {
    "duration": 36,
    "start_time": "2022-05-14T11:09:20.072Z"
   },
   {
    "duration": 3503,
    "start_time": "2022-05-14T11:09:24.659Z"
   },
   {
    "duration": 49,
    "start_time": "2022-05-14T11:09:50.143Z"
   },
   {
    "duration": 3578,
    "start_time": "2022-05-14T11:09:55.782Z"
   },
   {
    "duration": 61,
    "start_time": "2022-05-14T11:11:14.137Z"
   },
   {
    "duration": 879,
    "start_time": "2022-05-14T11:11:20.614Z"
   },
   {
    "duration": 39,
    "start_time": "2022-05-14T11:12:25.721Z"
   },
   {
    "duration": 951,
    "start_time": "2022-05-14T11:12:28.754Z"
   },
   {
    "duration": 52,
    "start_time": "2022-05-14T11:21:06.259Z"
   },
   {
    "duration": 790,
    "start_time": "2022-05-14T11:21:10.645Z"
   },
   {
    "duration": 41,
    "start_time": "2022-05-14T11:22:07.830Z"
   },
   {
    "duration": 553,
    "start_time": "2022-05-14T11:22:11.317Z"
   },
   {
    "duration": 6,
    "start_time": "2022-05-14T11:28:36.182Z"
   },
   {
    "duration": 4,
    "start_time": "2022-05-14T11:28:36.750Z"
   },
   {
    "duration": 5,
    "start_time": "2022-05-14T11:28:37.701Z"
   },
   {
    "duration": 39,
    "start_time": "2022-05-14T12:13:55.179Z"
   },
   {
    "duration": 547,
    "start_time": "2022-05-14T12:13:59.893Z"
   },
   {
    "duration": 38,
    "start_time": "2022-05-14T12:21:42.656Z"
   },
   {
    "duration": 577,
    "start_time": "2022-05-14T12:21:53.566Z"
   },
   {
    "duration": 9106,
    "start_time": "2022-05-14T12:28:20.110Z"
   },
   {
    "duration": 7,
    "start_time": "2022-05-14T12:28:33.249Z"
   },
   {
    "duration": 5,
    "start_time": "2022-05-14T12:28:34.012Z"
   },
   {
    "duration": 6,
    "start_time": "2022-05-14T12:28:34.414Z"
   },
   {
    "duration": 43142,
    "start_time": "2022-05-14T12:28:36.682Z"
   },
   {
    "duration": 8,
    "start_time": "2022-05-14T12:29:19.827Z"
   },
   {
    "duration": 7,
    "start_time": "2022-05-14T12:29:19.837Z"
   },
   {
    "duration": 7,
    "start_time": "2022-05-14T12:29:19.848Z"
   },
   {
    "duration": 11,
    "start_time": "2022-05-14T12:29:38.442Z"
   },
   {
    "duration": 6,
    "start_time": "2022-05-14T12:29:38.986Z"
   },
   {
    "duration": 7,
    "start_time": "2022-05-14T12:29:39.501Z"
   },
   {
    "duration": 5,
    "start_time": "2022-05-14T12:29:44.226Z"
   },
   {
    "duration": 530,
    "start_time": "2022-05-14T12:29:46.046Z"
   },
   {
    "duration": 1747,
    "start_time": "2022-05-14T12:48:48.735Z"
   },
   {
    "duration": 37,
    "start_time": "2022-05-14T12:51:58.067Z"
   },
   {
    "duration": 4,
    "start_time": "2022-05-14T14:37:05.046Z"
   },
   {
    "duration": 2033,
    "start_time": "2022-05-14T14:37:06.469Z"
   },
   {
    "duration": 3,
    "start_time": "2022-05-14T14:38:34.334Z"
   },
   {
    "duration": 2549,
    "start_time": "2022-05-14T14:38:34.774Z"
   },
   {
    "duration": 4,
    "start_time": "2022-05-14T14:40:17.405Z"
   },
   {
    "duration": 1836,
    "start_time": "2022-05-14T14:40:18.177Z"
   },
   {
    "duration": 4,
    "start_time": "2022-05-14T14:41:58.723Z"
   },
   {
    "duration": 1812,
    "start_time": "2022-05-14T14:41:59.466Z"
   },
   {
    "duration": 6,
    "start_time": "2022-05-14T14:45:14.999Z"
   },
   {
    "duration": 1897,
    "start_time": "2022-05-14T14:45:15.823Z"
   },
   {
    "duration": 4,
    "start_time": "2022-05-14T14:45:36.742Z"
   },
   {
    "duration": 6283,
    "start_time": "2022-05-14T14:45:38.079Z"
   },
   {
    "duration": 7,
    "start_time": "2022-05-14T14:46:05.334Z"
   },
   {
    "duration": 5,
    "start_time": "2022-05-14T14:46:05.818Z"
   },
   {
    "duration": 5,
    "start_time": "2022-05-14T14:46:06.150Z"
   },
   {
    "duration": 4731,
    "start_time": "2022-05-14T14:46:27.162Z"
   },
   {
    "duration": 6,
    "start_time": "2022-05-14T14:46:37.667Z"
   },
   {
    "duration": 5,
    "start_time": "2022-05-14T14:46:41.338Z"
   },
   {
    "duration": 6,
    "start_time": "2022-05-14T14:46:41.967Z"
   },
   {
    "duration": 3217,
    "start_time": "2022-05-14T14:47:55.403Z"
   },
   {
    "duration": 352,
    "start_time": "2022-05-14T14:48:34.618Z"
   },
   {
    "duration": 165,
    "start_time": "2022-05-14T14:50:20.010Z"
   },
   {
    "duration": 942,
    "start_time": "2022-05-14T14:50:34.270Z"
   },
   {
    "duration": 6,
    "start_time": "2022-05-14T14:50:45.605Z"
   },
   {
    "duration": 4,
    "start_time": "2022-05-14T14:50:46.118Z"
   },
   {
    "duration": 5,
    "start_time": "2022-05-14T14:50:46.597Z"
   },
   {
    "duration": 1636,
    "start_time": "2022-05-14T14:51:54.633Z"
   },
   {
    "duration": 931,
    "start_time": "2022-05-14T14:52:18.898Z"
   },
   {
    "duration": 760,
    "start_time": "2022-05-14T14:52:55.269Z"
   },
   {
    "duration": 728,
    "start_time": "2022-05-14T14:53:05.753Z"
   },
   {
    "duration": 6,
    "start_time": "2022-05-14T14:53:09.714Z"
   },
   {
    "duration": 5,
    "start_time": "2022-05-14T14:53:10.157Z"
   },
   {
    "duration": 6,
    "start_time": "2022-05-14T14:53:10.533Z"
   },
   {
    "duration": 4,
    "start_time": "2022-05-14T14:53:57.034Z"
   },
   {
    "duration": 747,
    "start_time": "2022-05-14T14:53:57.949Z"
   },
   {
    "duration": 700,
    "start_time": "2022-05-14T14:54:24.108Z"
   },
   {
    "duration": 1036,
    "start_time": "2022-05-14T14:54:43.210Z"
   },
   {
    "duration": 6,
    "start_time": "2022-05-14T14:55:35.129Z"
   },
   {
    "duration": 5,
    "start_time": "2022-05-14T14:55:35.429Z"
   },
   {
    "duration": 5,
    "start_time": "2022-05-14T14:55:35.725Z"
   },
   {
    "duration": 1598,
    "start_time": "2022-05-14T14:55:45.597Z"
   },
   {
    "duration": 6,
    "start_time": "2022-05-14T14:55:52.137Z"
   },
   {
    "duration": 5,
    "start_time": "2022-05-14T14:55:52.585Z"
   },
   {
    "duration": 5,
    "start_time": "2022-05-14T14:55:52.997Z"
   },
   {
    "duration": 1610,
    "start_time": "2022-05-14T14:56:14.873Z"
   },
   {
    "duration": 1668,
    "start_time": "2022-05-14T14:56:58.113Z"
   },
   {
    "duration": 4,
    "start_time": "2022-05-14T14:58:00.036Z"
   },
   {
    "duration": 11,
    "start_time": "2022-05-14T14:58:00.042Z"
   },
   {
    "duration": 10,
    "start_time": "2022-05-14T14:58:00.055Z"
   },
   {
    "duration": 10,
    "start_time": "2022-05-14T14:58:00.067Z"
   },
   {
    "duration": 6,
    "start_time": "2022-05-14T14:58:00.079Z"
   },
   {
    "duration": 7,
    "start_time": "2022-05-14T14:58:00.087Z"
   },
   {
    "duration": 5,
    "start_time": "2022-05-14T14:58:00.096Z"
   },
   {
    "duration": 7,
    "start_time": "2022-05-14T14:58:00.104Z"
   },
   {
    "duration": 8,
    "start_time": "2022-05-14T14:58:00.113Z"
   },
   {
    "duration": 11,
    "start_time": "2022-05-14T14:58:00.123Z"
   },
   {
    "duration": 4,
    "start_time": "2022-05-14T14:58:00.138Z"
   },
   {
    "duration": 11,
    "start_time": "2022-05-14T14:58:00.144Z"
   },
   {
    "duration": 6,
    "start_time": "2022-05-14T14:58:00.157Z"
   },
   {
    "duration": 42,
    "start_time": "2022-05-14T14:58:00.194Z"
   },
   {
    "duration": 15,
    "start_time": "2022-05-14T14:58:00.238Z"
   },
   {
    "duration": 43,
    "start_time": "2022-05-14T14:58:00.255Z"
   },
   {
    "duration": 8,
    "start_time": "2022-05-14T14:58:00.300Z"
   },
   {
    "duration": 16,
    "start_time": "2022-05-14T14:58:00.310Z"
   },
   {
    "duration": 17,
    "start_time": "2022-05-14T14:58:00.328Z"
   },
   {
    "duration": 12,
    "start_time": "2022-05-14T14:58:00.347Z"
   },
   {
    "duration": 17,
    "start_time": "2022-05-14T14:58:00.361Z"
   },
   {
    "duration": 21,
    "start_time": "2022-05-14T14:58:00.380Z"
   },
   {
    "duration": 21,
    "start_time": "2022-05-14T14:58:00.403Z"
   },
   {
    "duration": 11,
    "start_time": "2022-05-14T14:58:00.426Z"
   },
   {
    "duration": 16,
    "start_time": "2022-05-14T14:58:00.439Z"
   },
   {
    "duration": 24,
    "start_time": "2022-05-14T14:58:00.457Z"
   },
   {
    "duration": 17,
    "start_time": "2022-05-14T14:58:00.483Z"
   },
   {
    "duration": 39,
    "start_time": "2022-05-14T14:58:00.502Z"
   },
   {
    "duration": 8658,
    "start_time": "2022-05-14T14:58:00.545Z"
   },
   {
    "duration": 7,
    "start_time": "2022-05-14T14:58:09.205Z"
   },
   {
    "duration": 8,
    "start_time": "2022-05-14T14:58:09.214Z"
   },
   {
    "duration": 10,
    "start_time": "2022-05-14T14:58:09.224Z"
   },
   {
    "duration": 40658,
    "start_time": "2022-05-14T14:58:09.237Z"
   },
   {
    "duration": 9,
    "start_time": "2022-05-14T14:58:49.898Z"
   },
   {
    "duration": 6,
    "start_time": "2022-05-14T14:58:49.910Z"
   },
   {
    "duration": 6,
    "start_time": "2022-05-14T14:58:49.918Z"
   },
   {
    "duration": 5,
    "start_time": "2022-05-14T14:58:49.927Z"
   },
   {
    "duration": 1712,
    "start_time": "2022-05-14T14:58:55.544Z"
   },
   {
    "duration": 1338,
    "start_time": "2022-05-14T14:59:20.468Z"
   },
   {
    "duration": 2429,
    "start_time": "2022-05-14T14:59:28.476Z"
   },
   {
    "duration": 2301,
    "start_time": "2022-05-14T14:59:50.712Z"
   },
   {
    "duration": 2698,
    "start_time": "2022-05-14T15:00:03.896Z"
   },
   {
    "duration": 1176,
    "start_time": "2022-05-14T15:01:01.696Z"
   },
   {
    "duration": 1069,
    "start_time": "2022-05-14T15:01:17.808Z"
   },
   {
    "duration": 1101,
    "start_time": "2022-05-14T15:01:25.064Z"
   },
   {
    "duration": 1076,
    "start_time": "2022-05-14T15:01:29.492Z"
   },
   {
    "duration": 6,
    "start_time": "2022-05-14T15:01:52.904Z"
   },
   {
    "duration": 6,
    "start_time": "2022-05-14T15:01:53.171Z"
   },
   {
    "duration": 6,
    "start_time": "2022-05-14T15:01:54.172Z"
   },
   {
    "duration": 2648,
    "start_time": "2022-05-14T15:02:30.844Z"
   },
   {
    "duration": 450,
    "start_time": "2022-05-14T16:31:50.645Z"
   },
   {
    "duration": 1441,
    "start_time": "2022-05-14T16:32:11.421Z"
   },
   {
    "duration": 1186,
    "start_time": "2022-05-14T16:36:18.424Z"
   },
   {
    "duration": 1154,
    "start_time": "2022-05-14T16:36:24.696Z"
   },
   {
    "duration": 1369,
    "start_time": "2022-05-14T16:36:44.460Z"
   },
   {
    "duration": 2586,
    "start_time": "2022-05-14T16:38:53.060Z"
   },
   {
    "duration": 1176,
    "start_time": "2022-05-14T16:39:06.427Z"
   },
   {
    "duration": 1493,
    "start_time": "2022-05-14T16:39:31.528Z"
   },
   {
    "duration": 6,
    "start_time": "2022-05-14T16:40:10.532Z"
   },
   {
    "duration": 5,
    "start_time": "2022-05-14T16:40:10.888Z"
   },
   {
    "duration": 4,
    "start_time": "2022-05-14T16:40:11.277Z"
   },
   {
    "duration": 8,
    "start_time": "2022-05-14T16:40:12.252Z"
   },
   {
    "duration": 5,
    "start_time": "2022-05-14T16:40:12.556Z"
   },
   {
    "duration": 8,
    "start_time": "2022-05-14T16:40:12.947Z"
   },
   {
    "duration": 6,
    "start_time": "2022-05-14T16:40:14.332Z"
   },
   {
    "duration": 5,
    "start_time": "2022-05-14T16:40:14.716Z"
   },
   {
    "duration": 6,
    "start_time": "2022-05-14T16:40:15.068Z"
   },
   {
    "duration": 6,
    "start_time": "2022-05-14T16:40:15.960Z"
   },
   {
    "duration": 5,
    "start_time": "2022-05-14T16:40:16.288Z"
   },
   {
    "duration": 6,
    "start_time": "2022-05-14T16:40:17.106Z"
   },
   {
    "duration": 37,
    "start_time": "2022-05-14T17:38:52.436Z"
   },
   {
    "duration": 8768,
    "start_time": "2022-05-14T17:38:58.831Z"
   },
   {
    "duration": 133771,
    "start_time": "2022-05-14T17:39:18.784Z"
   },
   {
    "duration": 10394,
    "start_time": "2022-05-14T17:42:45.307Z"
   },
   {
    "duration": 6,
    "start_time": "2022-05-14T17:45:06.919Z"
   },
   {
    "duration": 5,
    "start_time": "2022-05-14T17:45:07.403Z"
   },
   {
    "duration": 5,
    "start_time": "2022-05-14T17:45:08.195Z"
   },
   {
    "duration": 9,
    "start_time": "2022-05-14T17:45:13.975Z"
   },
   {
    "duration": 5,
    "start_time": "2022-05-14T17:45:14.323Z"
   },
   {
    "duration": 5,
    "start_time": "2022-05-14T17:45:14.699Z"
   },
   {
    "duration": 1342,
    "start_time": "2022-05-14T17:47:06.656Z"
   },
   {
    "duration": 1053,
    "start_time": "2022-05-14T17:47:23.192Z"
   },
   {
    "duration": 2767,
    "start_time": "2022-05-14T17:48:01.279Z"
   },
   {
    "duration": 35,
    "start_time": "2022-05-14T17:49:57.155Z"
   },
   {
    "duration": 3,
    "start_time": "2022-05-14T17:55:48.443Z"
   },
   {
    "duration": 6,
    "start_time": "2022-05-14T17:55:48.449Z"
   },
   {
    "duration": 5,
    "start_time": "2022-05-14T17:55:48.457Z"
   },
   {
    "duration": 8,
    "start_time": "2022-05-14T17:55:48.465Z"
   },
   {
    "duration": 6,
    "start_time": "2022-05-14T17:55:48.475Z"
   },
   {
    "duration": 5,
    "start_time": "2022-05-14T17:55:48.483Z"
   },
   {
    "duration": 7,
    "start_time": "2022-05-14T17:55:48.491Z"
   },
   {
    "duration": 5,
    "start_time": "2022-05-14T17:55:48.500Z"
   },
   {
    "duration": 3,
    "start_time": "2022-05-14T17:55:48.510Z"
   },
   {
    "duration": 5,
    "start_time": "2022-05-14T17:55:48.516Z"
   },
   {
    "duration": 9,
    "start_time": "2022-05-14T17:55:48.523Z"
   },
   {
    "duration": 6,
    "start_time": "2022-05-14T17:55:48.534Z"
   },
   {
    "duration": 8,
    "start_time": "2022-05-14T17:55:48.542Z"
   },
   {
    "duration": 71,
    "start_time": "2022-05-14T17:55:48.552Z"
   },
   {
    "duration": 14,
    "start_time": "2022-05-14T17:55:48.625Z"
   },
   {
    "duration": 32,
    "start_time": "2022-05-14T17:55:48.641Z"
   },
   {
    "duration": 26,
    "start_time": "2022-05-14T17:55:48.675Z"
   },
   {
    "duration": 5,
    "start_time": "2022-05-14T17:55:48.703Z"
   },
   {
    "duration": 14,
    "start_time": "2022-05-14T17:55:48.710Z"
   },
   {
    "duration": 6,
    "start_time": "2022-05-14T17:55:48.726Z"
   },
   {
    "duration": 9,
    "start_time": "2022-05-14T17:55:48.734Z"
   },
   {
    "duration": 6,
    "start_time": "2022-05-14T17:55:48.745Z"
   },
   {
    "duration": 12,
    "start_time": "2022-05-14T17:55:48.793Z"
   },
   {
    "duration": 7,
    "start_time": "2022-05-14T17:55:48.809Z"
   },
   {
    "duration": 6,
    "start_time": "2022-05-14T17:55:48.818Z"
   },
   {
    "duration": 12,
    "start_time": "2022-05-14T17:55:48.826Z"
   },
   {
    "duration": 9,
    "start_time": "2022-05-14T17:55:48.840Z"
   },
   {
    "duration": 72,
    "start_time": "2022-05-14T17:55:48.851Z"
   },
   {
    "duration": 9951,
    "start_time": "2022-05-14T17:55:48.926Z"
   },
   {
    "duration": 40015,
    "start_time": "2022-05-14T17:55:58.879Z"
   },
   {
    "duration": 3,
    "start_time": "2022-05-14T17:56:38.896Z"
   },
   {
    "duration": 2692,
    "start_time": "2022-05-14T17:56:38.901Z"
   },
   {
    "duration": 1065,
    "start_time": "2022-05-14T17:56:41.596Z"
   },
   {
    "duration": 1381,
    "start_time": "2022-05-14T17:56:42.664Z"
   },
   {
    "duration": 7,
    "start_time": "2022-05-14T18:07:17.977Z"
   },
   {
    "duration": 6,
    "start_time": "2022-05-14T18:07:18.453Z"
   },
   {
    "duration": 6,
    "start_time": "2022-05-14T18:07:18.821Z"
   },
   {
    "duration": 10,
    "start_time": "2022-05-14T18:07:21.334Z"
   },
   {
    "duration": 6,
    "start_time": "2022-05-14T18:07:21.645Z"
   },
   {
    "duration": 6,
    "start_time": "2022-05-14T18:07:21.905Z"
   },
   {
    "duration": 6,
    "start_time": "2022-05-14T18:07:23.318Z"
   },
   {
    "duration": 5,
    "start_time": "2022-05-14T18:07:23.550Z"
   },
   {
    "duration": 5,
    "start_time": "2022-05-14T18:07:23.722Z"
   },
   {
    "duration": 5,
    "start_time": "2022-05-14T18:12:07.034Z"
   },
   {
    "duration": 14025,
    "start_time": "2022-05-14T18:19:22.858Z"
   },
   {
    "duration": 9,
    "start_time": "2022-05-14T18:19:37.238Z"
   },
   {
    "duration": 6,
    "start_time": "2022-05-14T18:19:37.250Z"
   },
   {
    "duration": 6,
    "start_time": "2022-05-14T18:19:37.673Z"
   },
   {
    "duration": 10905,
    "start_time": "2022-05-14T18:19:43.489Z"
   },
   {
    "duration": 9,
    "start_time": "2022-05-14T18:21:51.002Z"
   },
   {
    "duration": 6,
    "start_time": "2022-05-14T18:21:51.451Z"
   },
   {
    "duration": 6,
    "start_time": "2022-05-14T18:21:51.825Z"
   },
   {
    "duration": 7,
    "start_time": "2022-05-14T18:25:25.717Z"
   },
   {
    "duration": 5,
    "start_time": "2022-05-14T18:25:26.125Z"
   },
   {
    "duration": 5,
    "start_time": "2022-05-14T18:25:26.669Z"
   },
   {
    "duration": 10,
    "start_time": "2022-05-14T18:28:47.656Z"
   },
   {
    "duration": 5,
    "start_time": "2022-05-14T18:28:48.033Z"
   },
   {
    "duration": 5,
    "start_time": "2022-05-14T18:28:48.329Z"
   },
   {
    "duration": 6,
    "start_time": "2022-05-14T18:42:39.703Z"
   },
   {
    "duration": 8,
    "start_time": "2022-05-14T18:42:40.471Z"
   },
   {
    "duration": 5,
    "start_time": "2022-05-14T18:42:41.191Z"
   },
   {
    "duration": 421,
    "start_time": "2022-05-15T07:30:54.337Z"
   },
   {
    "duration": 3,
    "start_time": "2022-05-15T07:30:54.760Z"
   },
   {
    "duration": 7,
    "start_time": "2022-05-15T07:30:54.764Z"
   },
   {
    "duration": 694,
    "start_time": "2022-05-15T07:30:54.774Z"
   },
   {
    "duration": 60,
    "start_time": "2022-05-15T07:30:55.470Z"
   },
   {
    "duration": 2,
    "start_time": "2022-05-15T07:30:55.533Z"
   },
   {
    "duration": 14,
    "start_time": "2022-05-15T07:30:55.537Z"
   },
   {
    "duration": 3,
    "start_time": "2022-05-15T07:30:55.553Z"
   },
   {
    "duration": 6,
    "start_time": "2022-05-15T07:30:55.557Z"
   },
   {
    "duration": 5,
    "start_time": "2022-05-15T07:30:55.566Z"
   },
   {
    "duration": 478,
    "start_time": "2022-05-15T07:30:55.572Z"
   },
   {
    "duration": 3,
    "start_time": "2022-05-15T07:30:56.052Z"
   },
   {
    "duration": 16,
    "start_time": "2022-05-15T07:30:56.057Z"
   },
   {
    "duration": 44,
    "start_time": "2022-05-15T07:30:56.075Z"
   },
   {
    "duration": 15,
    "start_time": "2022-05-15T07:30:56.121Z"
   },
   {
    "duration": 30,
    "start_time": "2022-05-15T07:30:56.138Z"
   },
   {
    "duration": 8,
    "start_time": "2022-05-15T07:30:56.170Z"
   },
   {
    "duration": 7,
    "start_time": "2022-05-15T07:30:56.180Z"
   },
   {
    "duration": 15,
    "start_time": "2022-05-15T07:30:56.188Z"
   },
   {
    "duration": 30,
    "start_time": "2022-05-15T07:30:56.204Z"
   },
   {
    "duration": 5,
    "start_time": "2022-05-15T07:30:56.236Z"
   },
   {
    "duration": 9,
    "start_time": "2022-05-15T07:30:56.243Z"
   },
   {
    "duration": 14,
    "start_time": "2022-05-15T07:30:56.254Z"
   },
   {
    "duration": 10,
    "start_time": "2022-05-15T07:30:56.270Z"
   },
   {
    "duration": 7,
    "start_time": "2022-05-15T07:30:56.282Z"
   },
   {
    "duration": 12,
    "start_time": "2022-05-15T07:30:56.290Z"
   },
   {
    "duration": 35,
    "start_time": "2022-05-15T07:30:56.304Z"
   },
   {
    "duration": 28,
    "start_time": "2022-05-15T07:30:56.345Z"
   },
   {
    "duration": 7687,
    "start_time": "2022-05-15T07:30:56.375Z"
   },
   {
    "duration": 32290,
    "start_time": "2022-05-15T07:31:04.063Z"
   },
   {
    "duration": 3,
    "start_time": "2022-05-15T07:31:36.355Z"
   },
   {
    "duration": 2262,
    "start_time": "2022-05-15T07:31:36.359Z"
   },
   {
    "duration": 899,
    "start_time": "2022-05-15T07:31:38.622Z"
   },
   {
    "duration": 972,
    "start_time": "2022-05-15T07:31:39.524Z"
   },
   {
    "duration": 6,
    "start_time": "2022-05-15T07:31:40.498Z"
   },
   {
    "duration": 39,
    "start_time": "2022-05-15T07:31:40.506Z"
   },
   {
    "duration": 24,
    "start_time": "2022-05-15T07:31:40.546Z"
   },
   {
    "duration": 23,
    "start_time": "2022-05-15T07:31:40.572Z"
   },
   {
    "duration": 31,
    "start_time": "2022-05-15T07:31:40.597Z"
   },
   {
    "duration": 26,
    "start_time": "2022-05-15T07:31:40.630Z"
   },
   {
    "duration": 27,
    "start_time": "2022-05-15T07:31:40.658Z"
   },
   {
    "duration": 23,
    "start_time": "2022-05-15T07:31:40.687Z"
   },
   {
    "duration": 38,
    "start_time": "2022-05-15T07:31:40.712Z"
   },
   {
    "duration": 3,
    "start_time": "2022-05-15T08:49:09.260Z"
   },
   {
    "duration": 10,
    "start_time": "2022-05-15T08:53:39.116Z"
   },
   {
    "duration": 12,
    "start_time": "2022-05-15T08:55:22.733Z"
   },
   {
    "duration": 10,
    "start_time": "2022-05-15T08:56:28.963Z"
   },
   {
    "duration": 3,
    "start_time": "2022-05-15T09:00:23.114Z"
   },
   {
    "duration": 183,
    "start_time": "2022-05-15T09:05:43.542Z"
   },
   {
    "duration": 3,
    "start_time": "2022-05-15T09:12:00.561Z"
   },
   {
    "duration": 134,
    "start_time": "2022-05-15T09:23:31.442Z"
   },
   {
    "duration": 11,
    "start_time": "2022-05-15T09:23:40.044Z"
   },
   {
    "duration": 3,
    "start_time": "2022-05-15T09:23:55.768Z"
   },
   {
    "duration": 5,
    "start_time": "2022-05-15T09:23:59.500Z"
   },
   {
    "duration": 3,
    "start_time": "2022-05-15T09:24:02.480Z"
   },
   {
    "duration": 162,
    "start_time": "2022-05-15T09:24:03.700Z"
   },
   {
    "duration": 230,
    "start_time": "2022-05-15T09:25:26.864Z"
   },
   {
    "duration": 9,
    "start_time": "2022-05-15T09:25:57.154Z"
   },
   {
    "duration": 5,
    "start_time": "2022-05-15T09:26:31.976Z"
   },
   {
    "duration": 3,
    "start_time": "2022-05-15T09:26:43.928Z"
   },
   {
    "duration": 167,
    "start_time": "2022-05-15T09:26:48.236Z"
   },
   {
    "duration": 5,
    "start_time": "2022-05-15T09:31:44.914Z"
   },
   {
    "duration": 3,
    "start_time": "2022-05-15T09:31:46.022Z"
   },
   {
    "duration": 162,
    "start_time": "2022-05-15T09:31:47.178Z"
   },
   {
    "duration": 12,
    "start_time": "2022-05-15T09:36:25.629Z"
   },
   {
    "duration": 14,
    "start_time": "2022-05-15T09:37:34.447Z"
   },
   {
    "duration": 6,
    "start_time": "2022-05-15T09:37:44.980Z"
   },
   {
    "duration": 3,
    "start_time": "2022-05-15T09:38:33.511Z"
   },
   {
    "duration": 166,
    "start_time": "2022-05-15T09:38:36.084Z"
   },
   {
    "duration": 5,
    "start_time": "2022-05-15T09:39:55.588Z"
   },
   {
    "duration": 3,
    "start_time": "2022-05-15T09:39:56.039Z"
   },
   {
    "duration": 150,
    "start_time": "2022-05-15T09:39:57.107Z"
   },
   {
    "duration": 6,
    "start_time": "2022-05-15T09:40:06.071Z"
   },
   {
    "duration": 2,
    "start_time": "2022-05-15T09:40:06.315Z"
   },
   {
    "duration": 160,
    "start_time": "2022-05-15T09:40:06.731Z"
   },
   {
    "duration": 6,
    "start_time": "2022-05-15T09:40:54.747Z"
   },
   {
    "duration": 3,
    "start_time": "2022-05-15T09:40:54.970Z"
   },
   {
    "duration": 181,
    "start_time": "2022-05-15T09:40:56.558Z"
   },
   {
    "duration": 5,
    "start_time": "2022-05-15T09:44:26.244Z"
   },
   {
    "duration": 3,
    "start_time": "2022-05-15T09:44:33.591Z"
   },
   {
    "duration": 165,
    "start_time": "2022-05-15T09:44:34.074Z"
   },
   {
    "duration": 166,
    "start_time": "2022-05-15T09:44:36.867Z"
   },
   {
    "duration": 159,
    "start_time": "2022-05-15T09:44:37.994Z"
   },
   {
    "duration": 6,
    "start_time": "2022-05-15T09:50:17.587Z"
   },
   {
    "duration": 3,
    "start_time": "2022-05-15T09:50:18.351Z"
   },
   {
    "duration": 165,
    "start_time": "2022-05-15T09:50:18.867Z"
   },
   {
    "duration": 10,
    "start_time": "2022-05-15T09:59:30.722Z"
   },
   {
    "duration": 10,
    "start_time": "2022-05-15T10:00:00.140Z"
   },
   {
    "duration": 9,
    "start_time": "2022-05-15T10:01:15.422Z"
   },
   {
    "duration": 11,
    "start_time": "2022-05-15T10:01:41.121Z"
   },
   {
    "duration": 10,
    "start_time": "2022-05-15T10:02:17.581Z"
   },
   {
    "duration": 10,
    "start_time": "2022-05-15T10:11:07.860Z"
   },
   {
    "duration": 10,
    "start_time": "2022-05-15T10:11:42.710Z"
   },
   {
    "duration": 5,
    "start_time": "2022-05-15T10:14:10.981Z"
   },
   {
    "duration": 3,
    "start_time": "2022-05-15T10:14:22.085Z"
   },
   {
    "duration": 3,
    "start_time": "2022-05-15T10:14:27.813Z"
   },
   {
    "duration": 3,
    "start_time": "2022-05-15T10:14:29.481Z"
   },
   {
    "duration": 267,
    "start_time": "2022-05-15T10:15:03.066Z"
   },
   {
    "duration": 166,
    "start_time": "2022-05-15T10:15:26.054Z"
   },
   {
    "duration": 7,
    "start_time": "2022-05-15T11:20:42.428Z"
   },
   {
    "duration": 6,
    "start_time": "2022-05-15T11:20:52.643Z"
   },
   {
    "duration": 139,
    "start_time": "2022-05-15T11:20:53.648Z"
   },
   {
    "duration": 3,
    "start_time": "2022-05-15T11:31:36.727Z"
   },
   {
    "duration": 3,
    "start_time": "2022-05-15T11:33:21.251Z"
   },
   {
    "duration": 6,
    "start_time": "2022-05-15T11:34:56.499Z"
   },
   {
    "duration": 6,
    "start_time": "2022-05-15T11:37:34.250Z"
   },
   {
    "duration": 10,
    "start_time": "2022-05-15T11:37:34.259Z"
   },
   {
    "duration": 9,
    "start_time": "2022-05-15T11:37:34.271Z"
   },
   {
    "duration": 9,
    "start_time": "2022-05-15T11:37:36.775Z"
   },
   {
    "duration": 4,
    "start_time": "2022-05-15T11:37:37.343Z"
   },
   {
    "duration": 5,
    "start_time": "2022-05-15T11:37:37.675Z"
   },
   {
    "duration": 5,
    "start_time": "2022-05-15T11:38:22.882Z"
   },
   {
    "duration": 3,
    "start_time": "2022-05-15T11:38:23.299Z"
   },
   {
    "duration": 4,
    "start_time": "2022-05-15T11:38:23.586Z"
   },
   {
    "duration": 6,
    "start_time": "2022-05-15T11:41:12.405Z"
   },
   {
    "duration": 161,
    "start_time": "2022-05-15T11:41:12.850Z"
   },
   {
    "duration": 3,
    "start_time": "2022-05-15T11:46:26.286Z"
   },
   {
    "duration": 4,
    "start_time": "2022-05-15T11:47:24.078Z"
   },
   {
    "duration": 168,
    "start_time": "2022-05-15T11:47:25.806Z"
   },
   {
    "duration": 7,
    "start_time": "2022-05-15T11:48:23.786Z"
   },
   {
    "duration": 4,
    "start_time": "2022-05-15T11:50:21.502Z"
   },
   {
    "duration": 5,
    "start_time": "2022-05-15T11:51:03.147Z"
   },
   {
    "duration": 148,
    "start_time": "2022-05-15T11:51:05.275Z"
   },
   {
    "duration": 16,
    "start_time": "2022-05-15T11:53:24.551Z"
   },
   {
    "duration": 7,
    "start_time": "2022-05-15T11:54:38.103Z"
   },
   {
    "duration": 9,
    "start_time": "2022-05-15T11:55:26.851Z"
   },
   {
    "duration": 7,
    "start_time": "2022-05-15T12:01:15.231Z"
   },
   {
    "duration": 7,
    "start_time": "2022-05-15T12:01:22.187Z"
   },
   {
    "duration": 9,
    "start_time": "2022-05-15T12:02:43.803Z"
   },
   {
    "duration": 10,
    "start_time": "2022-05-15T12:10:50.710Z"
   },
   {
    "duration": 8,
    "start_time": "2022-05-15T12:11:10.790Z"
   },
   {
    "duration": 146,
    "start_time": "2022-05-15T13:20:10.123Z"
   },
   {
    "duration": 8,
    "start_time": "2022-05-15T13:20:12.623Z"
   },
   {
    "duration": 4,
    "start_time": "2022-05-15T13:20:14.876Z"
   },
   {
    "duration": 146,
    "start_time": "2022-05-15T13:20:15.711Z"
   },
   {
    "duration": 142,
    "start_time": "2022-05-15T13:20:17.899Z"
   },
   {
    "duration": 6,
    "start_time": "2022-05-15T13:20:20.128Z"
   },
   {
    "duration": 27,
    "start_time": "2022-05-15T15:11:16.878Z"
   },
   {
    "duration": 2381,
    "start_time": "2022-05-15T15:11:35.017Z"
   },
   {
    "duration": 1036,
    "start_time": "2022-05-15T15:13:06.290Z"
   },
   {
    "duration": 1009,
    "start_time": "2022-05-15T15:13:25.293Z"
   },
   {
    "duration": 3,
    "start_time": "2022-05-15T15:16:49.141Z"
   },
   {
    "duration": 6,
    "start_time": "2022-05-15T15:16:50.417Z"
   },
   {
    "duration": 3,
    "start_time": "2022-05-15T15:16:51.805Z"
   },
   {
    "duration": 6,
    "start_time": "2022-05-15T15:16:53.080Z"
   },
   {
    "duration": 254,
    "start_time": "2022-05-15T15:16:54.385Z"
   },
   {
    "duration": 3,
    "start_time": "2022-05-15T15:16:58.673Z"
   },
   {
    "duration": 5,
    "start_time": "2022-05-15T15:16:58.973Z"
   },
   {
    "duration": 4,
    "start_time": "2022-05-15T15:16:59.312Z"
   },
   {
    "duration": 5,
    "start_time": "2022-05-15T15:16:59.697Z"
   },
   {
    "duration": 164,
    "start_time": "2022-05-15T15:17:00.017Z"
   },
   {
    "duration": 8,
    "start_time": "2022-05-15T15:17:20.241Z"
   },
   {
    "duration": 10,
    "start_time": "2022-05-15T15:45:40.186Z"
   },
   {
    "duration": 165,
    "start_time": "2022-05-15T15:49:18.886Z"
   },
   {
    "duration": 10,
    "start_time": "2022-05-15T15:49:25.494Z"
   },
   {
    "duration": 12,
    "start_time": "2022-05-15T15:49:31.014Z"
   },
   {
    "duration": 10,
    "start_time": "2022-05-15T15:51:11.693Z"
   },
   {
    "duration": 1444,
    "start_time": "2022-05-15T15:52:40.581Z"
   },
   {
    "duration": 4890,
    "start_time": "2022-05-15T15:53:19.674Z"
   },
   {
    "duration": 53,
    "start_time": "2022-05-15T15:54:36.935Z"
   },
   {
    "duration": 9,
    "start_time": "2022-05-15T15:55:01.431Z"
   },
   {
    "duration": 1162,
    "start_time": "2022-05-15T15:55:13.206Z"
   },
   {
    "duration": 8,
    "start_time": "2022-05-15T15:56:15.938Z"
   },
   {
    "duration": 1121,
    "start_time": "2022-05-15T15:56:19.894Z"
   },
   {
    "duration": 9,
    "start_time": "2022-05-15T15:57:36.610Z"
   }
  ],
  "kernelspec": {
   "display_name": "Python 3 (ipykernel)",
   "language": "python",
   "name": "python3"
  },
  "language_info": {
   "codemirror_mode": {
    "name": "ipython",
    "version": 3
   },
   "file_extension": ".py",
   "mimetype": "text/x-python",
   "name": "python",
   "nbconvert_exporter": "python",
   "pygments_lexer": "ipython3",
   "version": "3.10.4"
  },
  "latex_envs": {
   "LaTeX_envs_menu_present": true,
   "autoclose": false,
   "autocomplete": true,
   "bibliofile": "biblio.bib",
   "cite_by": "apalike",
   "current_citInitial": 1,
   "eqLabelWithNumbers": true,
   "eqNumInitial": 1,
   "hotkeys": {
    "equation": "Ctrl-E",
    "itemize": "Ctrl-I"
   },
   "labels_anchors": false,
   "latex_user_defs": false,
   "report_style_numbering": false,
   "user_envs_cfg": false
  },
  "nbTranslate": {
   "displayLangs": [
    "*"
   ],
   "hotkey": "alt-t",
   "langInMainMenu": true,
   "sourceLang": "en",
   "targetLang": "fr",
   "useGoogleTranslate": true
  },
  "toc": {
   "base_numbering": 1,
   "nav_menu": {},
   "number_sections": true,
   "sideBar": true,
   "skip_h1_title": true,
   "title_cell": "Содержание",
   "title_sidebar": "Contents",
   "toc_cell": true,
   "toc_position": {
    "height": "calc(100% - 180px)",
    "left": "10px",
    "top": "150px",
    "width": "366.391px"
   },
   "toc_section_display": true,
   "toc_window_display": true
  }
 },
 "nbformat": 4,
 "nbformat_minor": 2
}
